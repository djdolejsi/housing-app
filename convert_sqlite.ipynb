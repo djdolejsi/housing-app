{
 "cells": [
  {
   "cell_type": "code",
   "execution_count": 1,
   "id": "0cb5ddca",
   "metadata": {},
   "outputs": [],
   "source": [
    "#Import dependencies\n",
    "from sqlalchemy import create_engine\n",
    "from sqlalchemy.ext.declarative import declarative_base\n",
    "from sqlalchemy import text\n",
    "from sqlalchemy import Column, Integer, String, Float , Boolean\n",
    "import pandas as pd"
   ]
  },
  {
   "cell_type": "code",
   "execution_count": 2,
   "id": "25251a42",
   "metadata": {},
   "outputs": [],
   "source": [
    "engine = create_engine(\"sqlite:///Resources/housing_data.sqlite\")\n",
    "conn = engine.connect()"
   ]
  },
  {
   "cell_type": "code",
   "execution_count": 3,
   "id": "f0faddd4",
   "metadata": {},
   "outputs": [],
   "source": [
    "# Insert buying data\n",
    "data = pd.read_csv('./Resources/allen_buy.csv')\n",
    "try:\n",
    "    data.to_sql('allen_buy', engine)\n",
    "except(ValueError):\n",
    "    print(\"This is in the table already\")"
   ]
  },
  {
   "cell_type": "code",
   "execution_count": 4,
   "id": "da252f2b",
   "metadata": {},
   "outputs": [],
   "source": [
    "data = pd.read_csv('./Resources/dallas_buy.csv')\n",
    "try:\n",
    "    data.to_sql('dallas_buy', engine)\n",
    "except(ValueError):\n",
    "    print(\"This is in the table already\")"
   ]
  },
  {
   "cell_type": "code",
   "execution_count": 6,
   "id": "58d603a1",
   "metadata": {},
   "outputs": [],
   "source": [
    "data = pd.read_csv('./Resources/frisco_buy.csv')\n",
    "try:\n",
    "    data.to_sql('frisco_buy', engine)\n",
    "except(ValueError):\n",
    "    print(\"This is in the table already\")"
   ]
  },
  {
   "cell_type": "code",
   "execution_count": 7,
   "id": "43dbe296",
   "metadata": {},
   "outputs": [],
   "source": [
    "data = pd.read_csv('./Resources/garland_buy.csv')\n",
    "try:\n",
    "    data.to_sql('garland_buy', engine)\n",
    "except(ValueError):\n",
    "    print(\"This is in the table already\")"
   ]
  },
  {
   "cell_type": "code",
   "execution_count": 8,
   "id": "796d9fbb",
   "metadata": {},
   "outputs": [],
   "source": [
    "data = pd.read_csv('./Resources/plano_buy.csv')\n",
    "try:\n",
    "    data.to_sql('plano_buy', engine)\n",
    "except(ValueError):\n",
    "    print(\"This is in the table already\")"
   ]
  },
  {
   "cell_type": "code",
   "execution_count": 9,
   "id": "1ce7df2a",
   "metadata": {},
   "outputs": [],
   "source": [
    "data = pd.read_csv('./Resources/richardson_buy.csv')\n",
    "try:\n",
    "    data.to_sql('richardson_buy', engine)\n",
    "except(ValueError):\n",
    "    print(\"This is in the table already\")"
   ]
  },
  {
   "cell_type": "code",
   "execution_count": 10,
   "id": "b2487b2d",
   "metadata": {},
   "outputs": [],
   "source": [
    "# Insert rent data\n",
    "data = pd.read_csv('./Resources/allen_rent.csv')\n",
    "try:\n",
    "    data.to_sql('allen_rent', engine)\n",
    "except(ValueError):\n",
    "    print(\"This is in the table already\")"
   ]
  },
  {
   "cell_type": "code",
   "execution_count": 11,
   "id": "1583947a",
   "metadata": {},
   "outputs": [],
   "source": [
    "data = pd.read_csv('./Resources/dallas_rent.csv')\n",
    "try:\n",
    "    data.to_sql('dallas_rent', engine)\n",
    "except(ValueError):\n",
    "    print(\"This is in the table already\")"
   ]
  },
  {
   "cell_type": "code",
   "execution_count": 12,
   "id": "db5ed283",
   "metadata": {},
   "outputs": [],
   "source": [
    "data = pd.read_csv('./Resources/frisco_rent.csv')\n",
    "try:\n",
    "    data.to_sql('frisco_rent', engine)\n",
    "except(ValueError):\n",
    "    print(\"This is in the table already\")"
   ]
  },
  {
   "cell_type": "code",
   "execution_count": 13,
   "id": "4d56d447",
   "metadata": {},
   "outputs": [],
   "source": [
    "data = pd.read_csv('./Resources/garland_rent.csv')\n",
    "try:\n",
    "    data.to_sql('garland_rent', engine)\n",
    "except(ValueError):\n",
    "    print(\"This is in the table already\")"
   ]
  },
  {
   "cell_type": "code",
   "execution_count": 14,
   "id": "89ab0920",
   "metadata": {},
   "outputs": [],
   "source": [
    "data = pd.read_csv('./Resources/plano_rent.csv')\n",
    "try:\n",
    "    data.to_sql('plano_rent', engine)\n",
    "except(ValueError):\n",
    "    print(\"This is in the table already\")"
   ]
  },
  {
   "cell_type": "code",
   "execution_count": 15,
   "id": "aa5941c3",
   "metadata": {},
   "outputs": [],
   "source": [
    "data = pd.read_csv('./Resources/richardson_rent.csv')\n",
    "try:\n",
    "    data.to_sql('richardson_rent', engine)\n",
    "except(ValueError):\n",
    "    print(\"This is in the table already\")"
   ]
  },
  {
   "cell_type": "code",
   "execution_count": null,
   "id": "1954d2b6",
   "metadata": {},
   "outputs": [],
   "source": []
  }
 ],
 "metadata": {
  "kernelspec": {
   "display_name": "Python 3 (ipykernel)",
   "language": "python",
   "name": "python3"
  },
  "language_info": {
   "codemirror_mode": {
    "name": "ipython",
    "version": 3
   },
   "file_extension": ".py",
   "mimetype": "text/x-python",
   "name": "python",
   "nbconvert_exporter": "python",
   "pygments_lexer": "ipython3",
   "version": "3.9.12"
  }
 },
 "nbformat": 4,
 "nbformat_minor": 5
}
