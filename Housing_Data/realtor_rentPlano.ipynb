{
 "cells": [
  {
   "cell_type": "code",
   "execution_count": 1,
   "id": "88af4014",
   "metadata": {},
   "outputs": [],
   "source": [
    "from splinter import Browser\n",
    "from bs4 import BeautifulSoup\n",
    "from webdriver_manager.chrome import ChromeDriverManager\n",
    "import os \n",
    "import time "
   ]
  },
  {
   "cell_type": "code",
   "execution_count": 2,
   "id": "087f5093",
   "metadata": {},
   "outputs": [],
   "source": [
    "executable_path = {'executable_path': ChromeDriverManager().install()}\n",
    "browser = Browser('chrome', **executable_path, headless=False)"
   ]
  },
  {
   "cell_type": "code",
   "execution_count": 3,
   "id": "eb469637",
   "metadata": {},
   "outputs": [],
   "source": [
    "url = 'https://www.realtor.com/apartments/Plano_TX'\n",
    "\n",
    "browser.visit(url)"
   ]
  },
  {
   "cell_type": "code",
   "execution_count": 4,
   "id": "82fc2bb3",
   "metadata": {},
   "outputs": [],
   "source": [
    "html = browser.html\n",
    "soup = BeautifulSoup(html, 'html.parser')"
   ]
  },
  {
   "cell_type": "code",
   "execution_count": 5,
   "id": "2409c005",
   "metadata": {},
   "outputs": [],
   "source": [
    "property_cards = soup.find_all('div', class_='CardContent__StyledCardContent-rui__sc-7ptz1z-0 echMdB card-content')"
   ]
  },
  {
   "cell_type": "code",
   "execution_count": 6,
   "id": "3e76aafe",
   "metadata": {},
   "outputs": [],
   "source": [
    "addresses = []\n",
    "list_prices = []\n",
    "property_types = []\n",
    "bedrooms = []\n",
    "baths = []\n",
    "for card in property_cards: \n",
    "  \n",
    "        address = card.find('div', class_='content-col-left')\n",
    "        addresses.append(address.text)\n",
    "\n",
    "        prop_type = card.find('div', class_='styles__StyledStatusBadge-rui__hewb9n-0 eiNeel')\n",
    "        property_types.append(prop_type.text)\n",
    "    \n",
    "        beds = card.find('li', class_='styles__StyledPropertyBedMeta-rui__jbdr1y-0 gUHOjr')\n",
    "        bedrooms.append(beds.text)\n",
    "        try: \n",
    "            bath = card.find('li', class_='styles__StyledPropertyBathMeta-rui__sc-6egb6z-0 dqxXcq')\n",
    "            baths.append(bath.text)\n",
    "    \n",
    "            price = card.find('div', class_='Price__Component-rui__x3geed-0 ibnFqH card-price')\n",
    "            list_prices.append(price.text)\n",
    "        except AttributeError as e:\n",
    "            print('Not available')"
   ]
  },
  {
   "cell_type": "code",
   "execution_count": 7,
   "id": "4b457063",
   "metadata": {},
   "outputs": [
    {
     "name": "stdout",
     "output_type": "stream",
     "text": [
      "['1421 Alberti AvePlano, TX 75075', '3357 Canyon Valley TrlPlano, TX 75023', '1520 Preston RdPlano, TX 75093', '3700 Mapleshade Ln Unit 41351785Plano, TX 75075', '3700 Mapleshade Ln Unit 11351947Plano, TX 75075', '960 Overdowns DrPlano, TX 75023', '3205 Broken Bow WayPlano, TX 75093', '1112 Kit LnPlano, TX 75023', '1017 Clinton DrPlano, TX 75075', '4033 Aladdin DrPlano, TX 75093', '3505 Cotillion DrPlano, TX 75074', '7612 Jerome DrPlano, TX 75025', '925 Middle Cove DrPlano, TX 75023', '4523 Hawkhurst DrPlano, TX 75024', '6725 Grant LnPlano, TX 75024', '3105 Verbena DrPlano, TX 75075', '904 20th StPlano, TX 75074', '3101 Canterbury DrPlano, TX 75075', '5765 Bozeman Dr # 4-1107Plano, TX 75024', '5765 Bozeman Dr # 5-8311Plano, TX 75024', '5765 Bozeman Dr # 3-3408Plano, TX 75024', '5765 Bozeman Dr # 5-8195Plano, TX 75024', '5765 Bozeman Dr # 2-06105Plano, TX 75024', '1920 Liverpool DrPlano, TX 75025', '801 Legacy 37638 Dr Unit 2026Plano, TX 75023', '3700 Mapleshade Ln Unit 11171787Plano, TX 75075', '2425 Premier DrPlano, TX 75075', '6300 Roundrock TrlPlano, TX 75023', '7101 Chase Oaks 234519 Blvd Unit 527Plano, TX 75025', '3700 Mapleshade 45537 Ln Unit 3063Plano, TX 75075', '801 Legacy 37640 Dr Unit 2124Plano, TX 75023', '7101 Chase Oaks 822954 Blvd Unit 525Plano, TX 75025', '1100 Meredith LnPlano, TX 75093', '3700 Mapleshade 45535 Ln Unit 2106Plano, TX 75075', '6100 Ohio DrPlano, TX 75024', '9300 Coit RdPlano, TX 75025', '2501 Ohio DrPlano, TX 75093', '3700 Mapleshade Ln Unit 31233125Plano, TX 75075', '3640 Mapleshade LnPlano, TX 75075', '6300 Windcrest DrPlano, TX 75024', '3700 Mapleshade Ln Unit 21231784Plano, TX 75075', '5741 Martin RdPlano, TX 75024']\n"
     ]
    }
   ],
   "source": [
    "#len(addresses)\n",
    "print(addresses)"
   ]
  },
  {
   "cell_type": "code",
   "execution_count": 8,
   "id": "2f2f754c",
   "metadata": {},
   "outputs": [
    {
     "name": "stdout",
     "output_type": "stream",
     "text": [
      "['$2,700', '$2,570', 'Contact For Price', '$1,915', '$1,705', '$2,250', '$6,500', '$2,350', '$2,450', '$2,585', '$2,390', '$2,250', '$2,100', '$2,995', '$2,900', '$2,200', '$2,150', '$2,250', '$1,363', '$1,302', '$1,328', '$1,383', '$1,433', '$2,800', '$1,715', '$1,917', '$873 - $1,043', '$1,520 - $2,290', '$1,834', '$1,905', '$1,919', '$1,967', '$1,534 - $2,587', '$1,905', '$1,338 - $2,109', '$1,481 - $2,641', '$1,310 - $2,295', '$1,698', '$1,885 - $2,663', '$1,750 - $3,300', '$1,698', '$1,250 - $1,865']\n"
     ]
    }
   ],
   "source": [
    "#len(list_prices)\n",
    "print(list_prices)"
   ]
  },
  {
   "cell_type": "code",
   "execution_count": 9,
   "id": "173976f1",
   "metadata": {},
   "outputs": [
    {
     "name": "stdout",
     "output_type": "stream",
     "text": [
      "['For Rent - House', 'For Rent - House', 'For Rent - Apartment', 'For Rent - Apartment', 'For Rent - Apartment', 'For Rent - House', 'For Rent - House', 'For Rent - House', 'For Rent - House', 'For Rent - House', 'For Rent - House', 'For Rent - House', 'For Rent - House', 'For Rent - House', 'For Rent - House', 'For Rent - House', 'For Rent - House', 'For Rent - House', 'For Rent - Apartment', 'For Rent - Apartment', 'For Rent - Apartment', 'For Rent - Apartment', 'For Rent - Apartment', 'For Rent - House', 'For Rent - Apartment', 'For Rent - Apartment', 'For Rent - Apartment', 'For Rent - Apartment', 'For Rent - Apartment', 'For Rent - Apartment', 'For Rent - Apartment', 'For Rent - Apartment', 'For Rent - Apartment', 'For Rent - Apartment', 'For Rent - Apartment', 'For Rent - Apartment', 'For Rent - Apartment', 'For Rent - Apartment', 'For Rent - Apartment', 'For Rent - Apartment', 'For Rent - Apartment', 'For Rent - Apartment']\n"
     ]
    }
   ],
   "source": [
    "#len(property_types)\n",
    "print(property_types)"
   ]
  },
  {
   "cell_type": "code",
   "execution_count": 10,
   "id": "09451633",
   "metadata": {},
   "outputs": [
    {
     "name": "stdout",
     "output_type": "stream",
     "text": [
      "['2bed', '3bed', '1 - 2bed', 'Studio', 'Studio', '3bed', '4bed', '3bed', '3bed', '3bed', '4bed', '3bed', '3bed', '4bed', '4bed', '3bed', '3bed', '4bed', 'Studio', 'Studio', 'Studio', 'Studio', 'Studio', '3bed', '1bed', '1bed', '1 - 2bed', '1 - 2bed', '1bed', '1bed', '1bed', '1bed', '1 - 3bed', '1bed', '1 - 2bed', '1 - 2bed', '1 - 2bed', 'Studio', '1 - 2bed', '1 - 3bed', 'Studio', 'Studio - 2bed']\n"
     ]
    }
   ],
   "source": [
    "#len(bedrooms)\n",
    "print(bedrooms)"
   ]
  },
  {
   "cell_type": "code",
   "execution_count": 11,
   "id": "1d7f8abb",
   "metadata": {},
   "outputs": [
    {
     "name": "stdout",
     "output_type": "stream",
     "text": [
      "['2.5bath', '3bath', '1 - 2bath', '1bath', '1bath', '2bath', '4.5+bath', '2bath', '2.5bath', '2bath', '2bath', '2bath', '2bath', '3.5bath', '3.5bath', '2bath', '2bath', '3bath', '1bath', '1bath', '1bath', '1bath', '1bath', '2bath', '1bath', '1bath', '1bath', '1 - 2.5bath', '1bath', '1bath', '1bath', '1bath', '1 - 2bath', '1bath', '1 - 2bath', '1 - 2.5bath', '1 - 2bath', '1bath', '1 - 2bath', '1 - 2bath', '1bath', '1 - 2bath']\n"
     ]
    }
   ],
   "source": [
    "#len(baths)\n",
    "print(baths)"
   ]
  },
  {
   "cell_type": "code",
   "execution_count": null,
   "id": "e6b2c57c",
   "metadata": {},
   "outputs": [],
   "source": []
  }
 ],
 "metadata": {
  "kernelspec": {
   "display_name": "Python 3 (ipykernel)",
   "language": "python",
   "name": "python3"
  },
  "language_info": {
   "codemirror_mode": {
    "name": "ipython",
    "version": 3
   },
   "file_extension": ".py",
   "mimetype": "text/x-python",
   "name": "python",
   "nbconvert_exporter": "python",
   "pygments_lexer": "ipython3",
   "version": "3.9.12"
  }
 },
 "nbformat": 4,
 "nbformat_minor": 5
}
