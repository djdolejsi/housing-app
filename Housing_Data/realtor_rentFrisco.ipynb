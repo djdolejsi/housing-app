{
 "cells": [
  {
   "cell_type": "code",
   "execution_count": 1,
   "id": "88af4014",
   "metadata": {},
   "outputs": [],
   "source": [
    "from splinter import Browser\n",
    "from bs4 import BeautifulSoup\n",
    "from webdriver_manager.chrome import ChromeDriverManager\n",
    "import os \n",
    "import time "
   ]
  },
  {
   "cell_type": "code",
   "execution_count": 2,
   "id": "087f5093",
   "metadata": {},
   "outputs": [],
   "source": [
    "executable_path = {'executable_path': ChromeDriverManager().install()}\n",
    "browser = Browser('chrome', **executable_path, headless=False)"
   ]
  },
  {
   "cell_type": "code",
   "execution_count": 3,
   "id": "eb469637",
   "metadata": {},
   "outputs": [],
   "source": [
    "url = 'https://www.realtor.com/apartments/Frisco_TX'\n",
    "\n",
    "browser.visit(url)"
   ]
  },
  {
   "cell_type": "code",
   "execution_count": 4,
   "id": "82fc2bb3",
   "metadata": {},
   "outputs": [],
   "source": [
    "html = browser.html\n",
    "soup = BeautifulSoup(html, 'html.parser')"
   ]
  },
  {
   "cell_type": "code",
   "execution_count": 5,
   "id": "2409c005",
   "metadata": {},
   "outputs": [],
   "source": [
    "property_cards = soup.find_all('div', class_='CardContent__StyledCardContent-rui__sc-7ptz1z-0 echMdB card-content')"
   ]
  },
  {
   "cell_type": "code",
   "execution_count": 6,
   "id": "3e76aafe",
   "metadata": {},
   "outputs": [],
   "source": [
    "addresses = []\n",
    "list_prices = []\n",
    "property_types = []\n",
    "bedrooms = []\n",
    "baths = []\n",
    "for card in property_cards: \n",
    "  \n",
    "        address = card.find('div', class_='content-col-left')\n",
    "        addresses.append(address.text)\n",
    "\n",
    "        prop_type = card.find('div', class_='styles__StyledStatusBadge-rui__hewb9n-0 eiNeel')\n",
    "        property_types.append(prop_type.text)\n",
    "    \n",
    "        beds = card.find('li', class_='styles__StyledPropertyBedMeta-rui__jbdr1y-0 gUHOjr')\n",
    "        bedrooms.append(beds.text)\n",
    "        try: \n",
    "            bath = card.find('li', class_='styles__StyledPropertyBathMeta-rui__sc-6egb6z-0 dqxXcq')\n",
    "            baths.append(bath.text)\n",
    "    \n",
    "            price = card.find('div', class_='Price__Component-rui__x3geed-0 ibnFqH card-price')\n",
    "            list_prices.append(price.text)\n",
    "        except AttributeError as e:\n",
    "            print('Not available')"
   ]
  },
  {
   "cell_type": "code",
   "execution_count": 7,
   "id": "4b457063",
   "metadata": {},
   "outputs": [
    {
     "name": "stdout",
     "output_type": "stream",
     "text": [
      "['5544 Hidden Creek LnFrisco, TX 75036', '1037 Shadybrook LnFrisco, TX 75033', '6303 Frisco Square BlvdFrisco, TX 75034', '7255 Texas Rangers DrFrisco, TX 75034', '7777 Adelaide StFrisco, TX 75034', '9678 Belgrade DrFrisco, TX 75035', '4004 Tunstall DrFrisco, TX 75036', '12524 Concho DrFrisco, TX 75033', '5016 Promise Land DrFrisco, TX 75035', '11910 Melrose LnFrisco, TX 75035', '15796 Gardenia RdFrisco, TX 75033', '10611 Camelot DrFrisco, TX 75035', '2229 Goliad CirFrisco, TX 75033', '10604 Camelot DrFrisco, TX 75035', '2409 Maidenhair RdFrisco, TX 75033', '11408 Sadie StFrisco, TX 75036', '12038 Big Springs DrFrisco, TX 75035', '10536 Coach House LnFrisco, TX 75035', '12717 Seagull WayFrisco, TX 75036', '12120 Knots LnFrisco, TX 75036', '7845 Whirlwind DrFrisco, TX 75036', '14712 Huffman LnFrisco, TX 75035', '5985 Cheyenne WayFrisco, TX 75034', '12423 Hawk Creek DrFrisco, TX 75033', '9355 John W Elliott DrFrisco, TX 75033', '9400 Wade BlvdFrisco, TX 75035', '4140 Legendary DrFrisco, TX 75034', '4545 Mission AveFrisco, TX 75034', '15950 Paramount WayFrisco, TX 75033', '3200 Rifle Gap RdFrisco, TX 75034', '1801 McCord 181570 Way Unit 1115Frisco, TX 75033', '15439 Carnoustie LnFrisco, TX 75035', '5050 FM 423Frisco, TX 75036', '6300 Farm to Market Rd # 423Frisco, TX 75036', '11700 Lebanon RdFrisco, TX 75035', '3033 Ohio DrFrisco, TX 75035', '3700 Legacy DrFrisco, TX 75034', '4800 Printers WayFrisco, TX 75033', '7275 Hickory StFrisco, TX 75034', '9425 Rolater RdFrisco, TX 75035', '6000 Eldorado PkwyFrisco, TX 75033', '6805 Lebanon RdFrisco, TX 75034']\n"
     ]
    }
   ],
   "source": [
    "#len(addresses)\n",
    "print(addresses)"
   ]
  },
  {
   "cell_type": "code",
   "execution_count": 8,
   "id": "2f2f754c",
   "metadata": {},
   "outputs": [
    {
     "name": "stdout",
     "output_type": "stream",
     "text": [
      "['$2,750', '$3,765', '$1,620 - $2,410', '$1,495 - $3,974', '$1,395 - $3,400', '$2,195', '$2,300', '$2,650', '$2,650', '$2,995', '$4,800', '$2,650', '$3,025', '$2,650', '$6,000', '$3,100', '$3,500', '$2,595', '$2,195', '$2,800', '$2,795', '$4,799', '$3,295', '$2,995', '$1,275 - $3,020', '$1,505 - $2,475', '$2,091 - $2,217', '$1,411 - $4,765', '$1,457 - $3,340', '$1,313 - $3,663', '$1,810', '$3,600', '$1,327 - $2,539', '$1,364 - $2,793', '$1,472 - $2,458', '$1,506 - $2,173', '$1,447 - $2,795', '$1,250 - $2,550', '$1,709', '$1,330 - $2,670', '$1,285 - $2,589', '$1,413 - $2,483']\n"
     ]
    }
   ],
   "source": [
    "#len(list_prices)\n",
    "print(list_prices)"
   ]
  },
  {
   "cell_type": "code",
   "execution_count": 9,
   "id": "173976f1",
   "metadata": {},
   "outputs": [
    {
     "name": "stdout",
     "output_type": "stream",
     "text": [
      "['For Rent - House', 'For Rent - House', 'For Rent - Apartment', 'For Rent - Apartment', 'For Rent - Apartment', 'For Rent - House', 'For Rent - House', 'For Rent - House', 'For Rent - House', 'For Rent - House', 'For Rent - House', 'For Rent - House', 'For Rent - House', 'For Rent - House', 'For Rent - House', 'For Rent - House', 'For Rent - House', 'For Rent - House', 'For Rent - House', 'For Rent - House', 'For Rent - House', 'For Rent - House', 'For Rent - House', 'For Rent - House', 'For Rent - Apartment', 'For Rent - Apartment', 'For Rent - Apartment', 'For Rent - Apartment', 'For Rent - Apartment', 'For Rent - Apartment', 'For Rent - Apartment', 'For Rent - House', 'For Rent - Apartment', 'For Rent - Apartment', 'For Rent - Apartment', 'For Rent - Apartment', 'For Rent - Apartment', 'For Rent - Apartment', 'For Rent - Apartment', 'For Rent - Apartment', 'For Rent - Apartment', 'For Rent - Apartment']\n"
     ]
    }
   ],
   "source": [
    "#len(property_types)\n",
    "print(property_types)"
   ]
  },
  {
   "cell_type": "code",
   "execution_count": 10,
   "id": "09451633",
   "metadata": {},
   "outputs": [
    {
     "name": "stdout",
     "output_type": "stream",
     "text": [
      "['3bed', '4bed', 'Studio - 2bed', 'Studio - 3bed', 'Studio - 3bed', '3bed', '3bed', '3bed', '3bed', '3bed', '4bed', '4bed', '4bed', '3bed', '5bed', '4bed', '4bed', '4bed', '4bed', '4bed', '3bed', '5bed', '5bed', '4bed', 'Studio - 3bed', '1 - 3bed', '1 - 2bed', 'Studio - 3bed', '1 - 3bed', 'Studio - 3bed', '1bed', '4bed', '1 - 3bed', '1 - 3bed', '1 - 3bed', '1 - 2bed', '1 - 3bed', '1 - 3bed', '2bed', '1 - 3bed', '1 - 3bed', '1 - 3bed']\n"
     ]
    }
   ],
   "source": [
    "#len(bedrooms)\n",
    "print(bedrooms)"
   ]
  },
  {
   "cell_type": "code",
   "execution_count": 11,
   "id": "1d7f8abb",
   "metadata": {},
   "outputs": [
    {
     "name": "stdout",
     "output_type": "stream",
     "text": [
      "['2bath', '3.5bath', '1 - 2bath', '1 - 3bath', '1 - 3bath', '2bath', '2bath', '2bath', '2bath', '2bath', '4.5bath', '2.5bath', '2.5bath', '2bath', '5bath', '3bath', '3.5bath', '2bath', '2bath', '3bath', '2bath', '4bath', '2.5bath', '3bath', '1 - 2bath', '1 - 2bath', '1 - 2bath', '1 - 3bath', '1 - 3bath', '1 - 2bath', '1bath', '4bath', '1 - 2bath', '1 - 3bath', '1 - 2bath', '1 - 2bath', '1 - 2.5bath', '1 - 2bath', '2bath', '1 - 2bath', '1 - 2bath', '1 - 2bath']\n"
     ]
    }
   ],
   "source": [
    "#len(baths)\n",
    "print(baths)"
   ]
  },
  {
   "cell_type": "code",
   "execution_count": null,
   "id": "e6b2c57c",
   "metadata": {},
   "outputs": [],
   "source": []
  }
 ],
 "metadata": {
  "kernelspec": {
   "display_name": "Python 3 (ipykernel)",
   "language": "python",
   "name": "python3"
  },
  "language_info": {
   "codemirror_mode": {
    "name": "ipython",
    "version": 3
   },
   "file_extension": ".py",
   "mimetype": "text/x-python",
   "name": "python",
   "nbconvert_exporter": "python",
   "pygments_lexer": "ipython3",
   "version": "3.9.12"
  }
 },
 "nbformat": 4,
 "nbformat_minor": 5
}
