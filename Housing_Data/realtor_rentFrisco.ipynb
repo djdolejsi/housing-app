{
 "cells": [
  {
   "cell_type": "code",
   "execution_count": 1,
   "id": "88af4014",
   "metadata": {},
   "outputs": [],
   "source": [
    "from splinter import Browser\n",
    "from bs4 import BeautifulSoup\n",
    "from webdriver_manager.chrome import ChromeDriverManager\n",
    "import os \n",
    "import time\n",
    "import pandas as pd"
   ]
  },
  {
   "cell_type": "code",
   "execution_count": 2,
   "id": "087f5093",
   "metadata": {},
   "outputs": [],
   "source": [
    "executable_path = {'executable_path': ChromeDriverManager().install()}\n",
    "browser = Browser('chrome', **executable_path, headless=False)"
   ]
  },
  {
   "cell_type": "code",
   "execution_count": 3,
   "id": "eb469637",
   "metadata": {},
   "outputs": [],
   "source": [
    "url = 'https://www.realtor.com/apartments/Frisco_TX'\n",
    "\n",
    "browser.visit(url)"
   ]
  },
  {
   "cell_type": "code",
   "execution_count": 4,
   "id": "82fc2bb3",
   "metadata": {},
   "outputs": [],
   "source": [
    "html = browser.html\n",
    "soup = BeautifulSoup(html, 'html.parser')"
   ]
  },
  {
   "cell_type": "code",
   "execution_count": 5,
   "id": "2409c005",
   "metadata": {},
   "outputs": [],
   "source": [
    "property_cards = soup.find_all('div', class_='CardContent__StyledCardContent-rui__sc-7ptz1z-0 echMdB card-content')"
   ]
  },
  {
   "cell_type": "code",
   "execution_count": 6,
   "id": "3e76aafe",
   "metadata": {},
   "outputs": [],
   "source": [
    "street_addresses = []\n",
    "city_zips = []\n",
    "list_prices = []\n",
    "property_types = []\n",
    "bedrooms = []\n",
    "baths = []\n",
    "for card in property_cards: \n",
    "  \n",
    "        street_address = card.find('div', attrs={'data-testid':'card-address-1','class':'truncate-line'})\n",
    "        street_addresses.append(street_address.text)\n",
    "        \n",
    "        city_zip = card.find('div', attrs={'data-testid':'card-address-2','class':'truncate-line'})\n",
    "        city_zips.append(city_zip.text)\n",
    "\n",
    "        prop_type = card.find('div', class_='styles__StyledStatusBadge-rui__hewb9n-0 eiNeel')\n",
    "        property_types.append(prop_type.text)\n",
    "    \n",
    "        beds = card.find('li', class_='styles__StyledPropertyBedMeta-rui__jbdr1y-0 gUHOjr')\n",
    "        bedrooms.append(beds.text)\n",
    "        try: \n",
    "            bath = card.find('li', class_='styles__StyledPropertyBathMeta-rui__sc-6egb6z-0 dqxXcq')\n",
    "            baths.append(bath.text)\n",
    "    \n",
    "            price = card.find('div', class_='Price__Component-rui__x3geed-0 ibnFqH card-price')\n",
    "            list_prices.append(price.text)\n",
    "        except AttributeError as e:\n",
    "                print('Not available')"
   ]
  },
  {
   "cell_type": "code",
   "execution_count": 7,
   "id": "4b457063",
   "metadata": {},
   "outputs": [
    {
     "name": "stdout",
     "output_type": "stream",
     "text": [
      "['10301 Concord Dr', '5544 Hidden Creek Ln', '3200 Rifle Gap Rd', '9355 John W Elliott Dr', '9400 Wade Blvd', 'Frisco Sq Unit 12242', '1037 Shadybrook Ln', '9678 Belgrade Dr', '4004 Tunstall Dr', '9476 Mirror Fountain Cir', '12524 Concho Dr', '5016 Promise Land Dr', '11910 Melrose Ln', '10611 Camelot Dr', '10604 Camelot Dr', '584 Meandering Ln', '2229 Goliad Cir', '2409 Maidenhair Rd', '11408 Sadie St', '10536 Coach House Ln', '12717 Seagull Way', '12120 Knots Ln', '7845 Whirlwind Dr', '5985 Cheyenne Way', '4545 Mission Ave', '5050 FM 423', '15950 Paramount Way', '1801 McCord 181570 Way Unit 1115', '15439 Carnoustie Ln', '4255 Cotton Gin Rd', '6000 Eldorado Pkwy', '6805 Lebanon Rd', '3198 Parkwood Blvd', '7549 Stonebrook Pkwy', '6303 Frisco Square Blvd', '7275 Hickory St', '12050 Research Rd', '8568 Warren Pkwy', '6633 John Hickman Pkwy', '1750 FM 423', '11900 Research Rd', '7777 Adelaide St']\n"
     ]
    }
   ],
   "source": [
    "print(street_addresses)"
   ]
  },
  {
   "cell_type": "code",
   "execution_count": 8,
   "id": "e807eec7",
   "metadata": {},
   "outputs": [
    {
     "name": "stdout",
     "output_type": "stream",
     "text": [
      "['Frisco, TX 75035', 'Frisco, TX 75036', 'Frisco, TX 75034', 'Frisco, TX 75033', 'Frisco, TX 75035', 'Frisco, TX 75034', 'Frisco, TX 75033', 'Frisco, TX 75035', 'Frisco, TX 75036', 'Frisco, TX 75033', 'Frisco, TX 75033', 'Frisco, TX 75035', 'Frisco, TX 75035', 'Frisco, TX 75035', 'Frisco, TX 75035', 'Frisco, TX 75033', 'Frisco, TX 75033', 'Frisco, TX 75033', 'Frisco, TX 75036', 'Frisco, TX 75035', 'Frisco, TX 75036', 'Frisco, TX 75036', 'Frisco, TX 75036', 'Frisco, TX 75034', 'Frisco, TX 75034', 'Frisco, TX 75036', 'Frisco, TX 75033', 'Frisco, TX 75033', 'Frisco, TX 75035', 'Frisco, TX 75034', 'Frisco, TX 75033', 'Frisco, TX 75034', 'Frisco, TX 75034', 'Frisco, TX 75034', 'Frisco, TX 75034', 'Frisco, TX 75034', 'Frisco, TX 75033', 'Frisco, TX 75034', 'Frisco, TX 75034', 'Frisco, TX 75033', 'Frisco, TX 75033', 'Frisco, TX 75034']\n"
     ]
    }
   ],
   "source": [
    "print(city_zips)"
   ]
  },
  {
   "cell_type": "code",
   "execution_count": 9,
   "id": "2f2f754c",
   "metadata": {},
   "outputs": [
    {
     "name": "stdout",
     "output_type": "stream",
     "text": [
      "['$2,345', '$2,750', '$1,273 - $3,673', '$1,285 - $2,970', '$1,505 - $2,475', '$1,900', '$3,765', '$2,195', '$2,300', '$2,600', '$2,650', '$2,650', '$2,995', '$2,650', '$2,395', '$4,500', '$3,025', '$6,000', '$3,100', '$2,595', '$2,195', '$2,800', '$2,795', '$3,295', '$1,411 - $4,765', '$1,352 - $2,539', '$1,457 - $3,340', '$1,810', '$3,600', '$1,435 - $4,290', '$1,246 - $2,589', '$1,428 - $2,453', '$1,266 - $2,175', '$1,309 - $2,009', '$1,616 - $2,410', '$1,714', '$1,330 - $3,244', '$1,385 - $2,378', '$1,664 - $3,664', '$1,281 - $2,947', '$1,241 - $3,299', '$1,320 - $3,365']\n"
     ]
    }
   ],
   "source": [
    "print(list_prices)"
   ]
  },
  {
   "cell_type": "code",
   "execution_count": 10,
   "id": "173976f1",
   "metadata": {},
   "outputs": [
    {
     "name": "stdout",
     "output_type": "stream",
     "text": [
      "['For Rent - House', 'For Rent - House', 'For Rent - Other', 'For Rent - Apartment', 'For Rent - Apartment', 'For Rent - Condo', 'For Rent - House', 'For Rent - House', 'For Rent - House', 'For Rent - House', 'For Rent - House', 'For Rent - House', 'For Rent - House', 'For Rent - House', 'For Rent - House', 'For Rent - House', 'For Rent - House', 'For Rent - House', 'For Rent - House', 'For Rent - House', 'For Rent - House', 'For Rent - House', 'For Rent - House', 'For Rent - House', 'For Rent - Apartment', 'For Rent - Other', 'For Rent - Apartment', 'For Rent - Apartment', 'For Rent - House', 'For Rent - Other', 'For Rent - Other', 'For Rent - Other', 'For Rent - Other', 'For Rent - Other', 'For Rent - Apartment', 'For Rent - Other', 'For Rent - Other', 'For Rent - Other', 'For Rent - Other', 'For Rent - Other', 'For Rent - Other', 'For Rent - Other']\n"
     ]
    }
   ],
   "source": [
    "print(property_types)"
   ]
  },
  {
   "cell_type": "code",
   "execution_count": 11,
   "id": "09451633",
   "metadata": {},
   "outputs": [
    {
     "name": "stdout",
     "output_type": "stream",
     "text": [
      "['3bed', '3bed', 'Studio - 3bed', 'Studio - 3bed', '1 - 3bed', '2bed', '4bed', '3bed', '3bed', '3bed', '3bed', '3bed', '3bed', '4bed', '3bed', '4bed', '4bed', '5bed', '4bed', '4bed', '4bed', '4bed', '3bed', '5bed', 'Studio - 3bed', '1 - 3bed', '1 - 3bed', '1bed', '4bed', 'Studio - 4bed', '1 - 3bed', '1 - 3bed', '1 - 2bed', '1 - 3bed', 'Studio - 2bed', '2bed', '1 - 3bed', '1 - 3bed', 'Studio - 3bed', '1 - 4bed', '1 - 3bed', 'Studio - 3bed']\n"
     ]
    }
   ],
   "source": [
    "print(bedrooms)"
   ]
  },
  {
   "cell_type": "code",
   "execution_count": 12,
   "id": "1d7f8abb",
   "metadata": {},
   "outputs": [
    {
     "name": "stdout",
     "output_type": "stream",
     "text": [
      "['2.5bath', '2bath', '1 - 2bath', '1 - 2bath', '1 - 2bath', '2bath', '3.5bath', '2bath', '2bath', '2bath', '2bath', '2bath', '2bath', '2.5bath', '2bath', '4bath', '2.5bath', '5bath', '3bath', '2bath', '2bath', '3bath', '2bath', '2.5bath', '1 - 3bath', '1 - 2bath', '1 - 3bath', '1bath', '4bath', '1 - 4.5bath', '1 - 2bath', '1 - 2bath', '1 - 2bath', '1 - 2bath', '1 - 2bath', '2bath', '1 - 2bath', '1 - 2bath', '1 - 3bath', '1 - 4bath', '1 - 2bath', '1 - 3bath']\n"
     ]
    }
   ],
   "source": [
    "print(baths)"
   ]
  },
  {
   "cell_type": "code",
   "execution_count": 13,
   "id": "e6b2c57c",
   "metadata": {},
   "outputs": [],
   "source": [
    "Frisco_rent = pd.DataFrame({\n",
    "    \"Street Address\": street_addresses,\n",
    "    \"CSZ\": city_zips,\n",
    "    \"Price\": list_prices,\n",
    "    \"Property Type\": property_types,\n",
    "    \"Number of Bedrooms\": bedrooms,\n",
    "    \"Number of Bathrooms\": baths\n",
    "})"
   ]
  },
  {
   "cell_type": "code",
   "execution_count": null,
   "id": "41dbf2e1",
   "metadata": {},
   "outputs": [],
   "source": [
    "Frisco_rent.to_csv(r')"
   ]
  }
 ],
 "metadata": {
  "kernelspec": {
   "display_name": "Python 3 (ipykernel)",
   "language": "python",
   "name": "python3"
  },
  "language_info": {
   "codemirror_mode": {
    "name": "ipython",
    "version": 3
   },
   "file_extension": ".py",
   "mimetype": "text/x-python",
   "name": "python",
   "nbconvert_exporter": "python",
   "pygments_lexer": "ipython3",
   "version": "3.9.12"
  }
 },
 "nbformat": 4,
 "nbformat_minor": 5
}
