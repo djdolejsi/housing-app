{
 "cells": [
  {
   "cell_type": "code",
   "execution_count": 1,
   "id": "01eb5cd2",
   "metadata": {},
   "outputs": [],
   "source": [
    "from splinter import Browser\n",
    "from bs4 import BeautifulSoup\n",
    "from webdriver_manager.chrome import ChromeDriverManager\n",
    "import pandas as pd"
   ]
  },
  {
   "cell_type": "code",
   "execution_count": 2,
   "id": "5372defd",
   "metadata": {},
   "outputs": [],
   "source": [
    "# Setup splinter\n",
    "executable_path = {'executable_path': ChromeDriverManager().install()}\n",
    "browser = Browser('chrome', **executable_path, headless=False)"
   ]
  },
  {
   "cell_type": "code",
   "execution_count": 3,
   "id": "0d94c02d",
   "metadata": {},
   "outputs": [],
   "source": [
    "html = browser.html\n",
    "soup = BeautifulSoup(html, 'html.parser')"
   ]
  },
  {
   "cell_type": "code",
   "execution_count": 4,
   "id": "0a0a7930",
   "metadata": {},
   "outputs": [],
   "source": [
    "# Stack Overflow URL to scrape\n",
    "dallas_url = 'https://www.mydallashomefinder.com/listing?utm_campaign=SNDTX%3A%20Dallas%20County%20-%20Zip%20Codes&utm_medium=cpc&pageSize=24&pageNum=2&utm_term=homes%20sale%2075220%20Dallas%20Texas&page=1&msclkid=9653aafd9dd215d71837c9942c264c70&utm_source=bing&utm_content=75220&key=Dallas%2C%20TX&keywordType=city&purchaseType-For-Sale-Rent=1&zoom=12'\n",
    "# Retrieve page with the requests module\n",
    "browser.visit(dallas_url)"
   ]
  },
  {
   "cell_type": "code",
   "execution_count": 5,
   "id": "0d9a4a42",
   "metadata": {
    "scrolled": true
   },
   "outputs": [],
   "source": [
    "for x in range (2):\n",
    "    #x = 1\n",
    "    html = browser.html\n",
    "    soup = BeautifulSoup(html, 'html.parser')\n",
    "    location  = soup.find_all('p', class_='house-address')\n",
    "    cost = soup.find_all('p', class_='house-price')\n",
    "    #list names \n",
    "    addresses = []\n",
    "    price = []\n",
    "    #append lists\n",
    "    for i, y in zip(location, cost):\n",
    "        addresses.append(i.text)\n",
    "        price.append(y.text)\n",
    "\n",
    "            #print('next page')\n",
    "    \n",
    "    #browser.links.find_by_partial_text(\" 2 \").click()"
   ]
  },
  {
   "cell_type": "code",
   "execution_count": 6,
   "id": "df2c90f8",
   "metadata": {},
   "outputs": [
    {
     "name": "stdout",
     "output_type": "stream",
     "text": [
      "['9815 Airline Road, Dallas, TX 75230', '3527 Schuster Drive, Dallas, TX 75212', '3505 Turtle Creek Boulevard #10B, Dallas, TX 75219', '4215 Skillman Street, Dallas, TX 75206', '9243 Marilyn Place, Dallas, TX 75227', '4040 Shady Hollow Lane, Dallas, TX 75233', '6003 Belgrade Avenue, Dallas, TX 75227', '2472 Thatcher Drive, Dallas, TX 75206', '4808 Mexico Court, Dallas, TX 75236', '5615 Preston Fairways Drive, Dallas, TX 75252', '11480 Audelia Road #348, Dallas, TX 75243', '9704 Vista Oaks Drive, Dallas, TX 75243', '1460 Glencliff Drive, Dallas, TX 75217', '1519 Cedar Hill Avenue, Dallas, TX 75208', '3050 Sundial Drive, Dallas, TX 75229', '4046 Odessa Street, Dallas, TX 75212', '4042 Odessa Street, Dallas, TX 75212', '5546 Goodwin Avenue, Dallas, TX 75206', '2614 Ghent Street, Dallas, TX 75215', '6042 Lakehurst Avenue, Dallas, TX 75230', '6323 Vickery Boulevard, Dallas, TX 75214', '5007 Junius Street, Dallas, TX 75214', '17905 Carrollwood Drive, Dallas, TX 75252', '2235 Lovedale Avenue #103, Dallas, TX 75235']\n"
     ]
    }
   ],
   "source": [
    "print(addresses)"
   ]
  },
  {
   "cell_type": "code",
   "execution_count": 7,
   "id": "e5af5eb7",
   "metadata": {},
   "outputs": [
    {
     "name": "stdout",
     "output_type": "stream",
     "text": [
      "3527 Schuster Drive, Dallas, TX 75212\n"
     ]
    }
   ],
   "source": [
    "print(addresses.pop(1))"
   ]
  },
  {
   "cell_type": "code",
   "execution_count": 8,
   "id": "dc0f0d37",
   "metadata": {},
   "outputs": [
    {
     "name": "stdout",
     "output_type": "stream",
     "text": [
      "['9815 Airline Road, Dallas, TX 75230', '3505 Turtle Creek Boulevard #10B, Dallas, TX 75219', '4215 Skillman Street, Dallas, TX 75206', '9243 Marilyn Place, Dallas, TX 75227', '4040 Shady Hollow Lane, Dallas, TX 75233', '6003 Belgrade Avenue, Dallas, TX 75227', '2472 Thatcher Drive, Dallas, TX 75206', '4808 Mexico Court, Dallas, TX 75236', '5615 Preston Fairways Drive, Dallas, TX 75252', '11480 Audelia Road #348, Dallas, TX 75243', '9704 Vista Oaks Drive, Dallas, TX 75243', '1460 Glencliff Drive, Dallas, TX 75217', '1519 Cedar Hill Avenue, Dallas, TX 75208', '3050 Sundial Drive, Dallas, TX 75229', '4046 Odessa Street, Dallas, TX 75212', '4042 Odessa Street, Dallas, TX 75212', '5546 Goodwin Avenue, Dallas, TX 75206', '2614 Ghent Street, Dallas, TX 75215', '6042 Lakehurst Avenue, Dallas, TX 75230', '6323 Vickery Boulevard, Dallas, TX 75214', '5007 Junius Street, Dallas, TX 75214', '17905 Carrollwood Drive, Dallas, TX 75252', '2235 Lovedale Avenue #103, Dallas, TX 75235']\n"
     ]
    }
   ],
   "source": [
    "print(addresses)"
   ]
  },
  {
   "cell_type": "code",
   "execution_count": 9,
   "id": "b24ca436",
   "metadata": {},
   "outputs": [
    {
     "name": "stdout",
     "output_type": "stream",
     "text": [
      "['\\n                $630,000\\n            ', '\\n                $95,000\\n            ', '\\n                $2,595,000\\n            ', '\\n                $585,000\\n            ', '\\n                $250,000\\n            ', '\\n                $350,000\\n            ', '\\n                $245,000\\n            ', '\\n                $599,000\\n            ', '\\n                $290,000\\n            ', '\\n                $745,000\\n            ', '\\n                $119,000\\n            ', '\\n                $775,000\\n            ', '\\n                $249,900\\n            ', '\\n                $2,495,000\\n            ', '\\n                $490,000\\n            ', '\\n                $239,900\\n            ', '\\n                $349,900\\n            ', '\\n                $899,000\\n            ', '\\n                $309,900\\n            ', '\\n                $3,200,000\\n            ', '\\n                $870,000\\n            ', '\\n                $889,000\\n            ', '\\n                $700,000\\n            ', '\\n                $439,000\\n            ']\n"
     ]
    }
   ],
   "source": [
    "print(price)"
   ]
  },
  {
   "cell_type": "code",
   "execution_count": 10,
   "id": "0983d657",
   "metadata": {},
   "outputs": [
    {
     "name": "stdout",
     "output_type": "stream",
     "text": [
      "\n",
      "                $95,000\n",
      "            \n"
     ]
    }
   ],
   "source": [
    "print(price.pop(1))"
   ]
  },
  {
   "cell_type": "code",
   "execution_count": 11,
   "id": "7dc067e3",
   "metadata": {},
   "outputs": [
    {
     "name": "stdout",
     "output_type": "stream",
     "text": [
      "['\\n                $630,000\\n            ', '\\n                $2,595,000\\n            ', '\\n                $585,000\\n            ', '\\n                $250,000\\n            ', '\\n                $350,000\\n            ', '\\n                $245,000\\n            ', '\\n                $599,000\\n            ', '\\n                $290,000\\n            ', '\\n                $745,000\\n            ', '\\n                $119,000\\n            ', '\\n                $775,000\\n            ', '\\n                $249,900\\n            ', '\\n                $2,495,000\\n            ', '\\n                $490,000\\n            ', '\\n                $239,900\\n            ', '\\n                $349,900\\n            ', '\\n                $899,000\\n            ', '\\n                $309,900\\n            ', '\\n                $3,200,000\\n            ', '\\n                $870,000\\n            ', '\\n                $889,000\\n            ', '\\n                $700,000\\n            ', '\\n                $439,000\\n            ']\n"
     ]
    }
   ],
   "source": [
    "print(price)"
   ]
  },
  {
   "cell_type": "code",
   "execution_count": 12,
   "id": "c0fc71d5",
   "metadata": {},
   "outputs": [],
   "source": [
    "bbsq = soup.find_all('span', class_='vertical-line')\n",
    "bed_bath_sq = []\n",
    "for x in bbsq:\n",
    "    bed_bath_sq.append(x.text)"
   ]
  },
  {
   "cell_type": "code",
   "execution_count": 13,
   "id": "172f6d4e",
   "metadata": {},
   "outputs": [
    {
     "name": "stdout",
     "output_type": "stream",
     "text": [
      "['4 Beds', '4 Baths', '3,832 SqFt', '0.35 Acres', '3 Beds', '5 Baths', '3,439 SqFt', '3 Beds', '2 Baths', '1,458 SqFt', '2 Beds', '1 Bath', '1,056 SqFt', '6 Beds', '3 Baths', '2,286 SqFt', '2 Beds', '2 Baths', '1,284 SqFt', '3 Beds', '4 Baths', '2,015 SqFt', '3 Beds', '2 Baths', '1,494 SqFt', '3 Beds', '3 Baths', '2,724 SqFt', '1 Bed', '1 Bath', '730 SqFt', '4 Beds', '3 Baths', '3,221 SqFt', '4 Beds', '2 Baths', '1,799 SqFt', '4 Beds', '5 Baths', '4,277 SqFt', '3 Beds', '2 Baths', '1,656 SqFt', '2 Beds', '1 Bath', '732 SqFt', '3 Beds', '2 Baths', '1,700 SqFt', '3 Beds', '3 Baths', '2,400 SqFt', '4 Beds', '3 Baths', '1,724 SqFt', '5 Beds', '7 Baths', '6,628 SqFt', '2 Beds', '3 Baths', '1,962 SqFt', '3 Beds', '3 Baths', '2,480 SqFt', '4 Beds', '3 Baths', '2,590 SqFt', '3 Beds', '3 Baths', '1,878 SqFt']\n"
     ]
    }
   ],
   "source": [
    "print(bed_bath_sq)"
   ]
  },
  {
   "cell_type": "code",
   "execution_count": 14,
   "id": "d775aea9",
   "metadata": {},
   "outputs": [
    {
     "name": "stdout",
     "output_type": "stream",
     "text": [
      "0.35 Acres\n"
     ]
    }
   ],
   "source": [
    "print(bed_bath_sq.pop(3))"
   ]
  },
  {
   "cell_type": "code",
   "execution_count": 15,
   "id": "81289851",
   "metadata": {},
   "outputs": [
    {
     "name": "stdout",
     "output_type": "stream",
     "text": [
      "['4 Beds', '4 Baths', '3,832 SqFt', '3 Beds', '5 Baths', '3,439 SqFt', '3 Beds', '2 Baths', '1,458 SqFt', '2 Beds', '1 Bath', '1,056 SqFt', '6 Beds', '3 Baths', '2,286 SqFt', '2 Beds', '2 Baths', '1,284 SqFt', '3 Beds', '4 Baths', '2,015 SqFt', '3 Beds', '2 Baths', '1,494 SqFt', '3 Beds', '3 Baths', '2,724 SqFt', '1 Bed', '1 Bath', '730 SqFt', '4 Beds', '3 Baths', '3,221 SqFt', '4 Beds', '2 Baths', '1,799 SqFt', '4 Beds', '5 Baths', '4,277 SqFt', '3 Beds', '2 Baths', '1,656 SqFt', '2 Beds', '1 Bath', '732 SqFt', '3 Beds', '2 Baths', '1,700 SqFt', '3 Beds', '3 Baths', '2,400 SqFt', '4 Beds', '3 Baths', '1,724 SqFt', '5 Beds', '7 Baths', '6,628 SqFt', '2 Beds', '3 Baths', '1,962 SqFt', '3 Beds', '3 Baths', '2,480 SqFt', '4 Beds', '3 Baths', '2,590 SqFt', '3 Beds', '3 Baths', '1,878 SqFt']\n"
     ]
    }
   ],
   "source": [
    "print(bed_bath_sq)"
   ]
  },
  {
   "cell_type": "code",
   "execution_count": 16,
   "id": "6f0dd0ef",
   "metadata": {},
   "outputs": [
    {
     "name": "stdout",
     "output_type": "stream",
     "text": [
      "[['4 Beds'], ['4 Baths'], ['3', '832 SqFt'], ['3 Beds'], ['5 Baths'], ['3', '439 SqFt'], ['3 Beds'], ['2 Baths'], ['1', '458 SqFt'], ['2 Beds'], ['1 Bath'], ['1', '056 SqFt'], ['6 Beds'], ['3 Baths'], ['2', '286 SqFt'], ['2 Beds'], ['2 Baths'], ['1', '284 SqFt'], ['3 Beds'], ['4 Baths'], ['2', '015 SqFt'], ['3 Beds'], ['2 Baths'], ['1', '494 SqFt'], ['3 Beds'], ['3 Baths'], ['2', '724 SqFt'], ['1 Bed'], ['1 Bath'], ['730 SqFt'], ['4 Beds'], ['3 Baths'], ['3', '221 SqFt'], ['4 Beds'], ['2 Baths'], ['1', '799 SqFt'], ['4 Beds'], ['5 Baths'], ['4', '277 SqFt'], ['3 Beds'], ['2 Baths'], ['1', '656 SqFt'], ['2 Beds'], ['1 Bath'], ['732 SqFt'], ['3 Beds'], ['2 Baths'], ['1', '700 SqFt'], ['3 Beds'], ['3 Baths'], ['2', '400 SqFt'], ['4 Beds'], ['3 Baths'], ['1', '724 SqFt'], ['5 Beds'], ['7 Baths'], ['6', '628 SqFt'], ['2 Beds'], ['3 Baths'], ['1', '962 SqFt'], ['3 Beds'], ['3 Baths'], ['2', '480 SqFt'], ['4 Beds'], ['3 Baths'], ['2', '590 SqFt'], ['3 Beds'], ['3 Baths'], ['1', '878 SqFt']]\n"
     ]
    }
   ],
   "source": [
    "bbsq_results = [item.split(',', 3) for item in bed_bath_sq]\n",
    "print(bbsq_results)"
   ]
  },
  {
   "cell_type": "code",
   "execution_count": 17,
   "id": "78c58d5f",
   "metadata": {},
   "outputs": [],
   "source": [
    "sub = bbsq_results[::3] "
   ]
  },
  {
   "cell_type": "code",
   "execution_count": 18,
   "id": "56649acd",
   "metadata": {},
   "outputs": [
    {
     "name": "stdout",
     "output_type": "stream",
     "text": [
      "[['4 Beds'], ['3 Beds'], ['3 Beds'], ['2 Beds'], ['6 Beds'], ['2 Beds'], ['3 Beds'], ['3 Beds'], ['3 Beds'], ['1 Bed'], ['4 Beds'], ['4 Beds'], ['4 Beds'], ['3 Beds'], ['2 Beds'], ['3 Beds'], ['3 Beds'], ['4 Beds'], ['5 Beds'], ['2 Beds'], ['3 Beds'], ['4 Beds'], ['3 Beds']]\n"
     ]
    }
   ],
   "source": [
    "print(sub)"
   ]
  },
  {
   "cell_type": "code",
   "execution_count": 19,
   "id": "e96f702a",
   "metadata": {},
   "outputs": [],
   "source": [
    "beds = []\n",
    "for x in sub:\n",
    "    beds.append(x)"
   ]
  },
  {
   "cell_type": "code",
   "execution_count": 20,
   "id": "b1a55654",
   "metadata": {},
   "outputs": [
    {
     "name": "stdout",
     "output_type": "stream",
     "text": [
      "[['4 Beds'], ['3 Beds'], ['3 Beds'], ['2 Beds'], ['6 Beds'], ['2 Beds'], ['3 Beds'], ['3 Beds'], ['3 Beds'], ['1 Bed'], ['4 Beds'], ['4 Beds'], ['4 Beds'], ['3 Beds'], ['2 Beds'], ['3 Beds'], ['3 Beds'], ['4 Beds'], ['5 Beds'], ['2 Beds'], ['3 Beds'], ['4 Beds'], ['3 Beds']]\n"
     ]
    }
   ],
   "source": [
    "print(beds)"
   ]
  },
  {
   "cell_type": "code",
   "execution_count": 21,
   "id": "59c2c281",
   "metadata": {},
   "outputs": [
    {
     "name": "stdout",
     "output_type": "stream",
     "text": [
      "[['4 Baths'], ['5 Baths'], ['2 Baths'], ['1 Bath'], ['3 Baths'], ['2 Baths'], ['4 Baths'], ['2 Baths'], ['3 Baths'], ['1 Bath'], ['3 Baths'], ['2 Baths'], ['5 Baths'], ['2 Baths'], ['1 Bath'], ['2 Baths'], ['3 Baths'], ['3 Baths'], ['7 Baths'], ['3 Baths'], ['3 Baths'], ['3 Baths'], ['3 Baths']]\n"
     ]
    }
   ],
   "source": [
    "sub1 = bbsq_results[1::3]\n",
    "print(sub1)"
   ]
  },
  {
   "cell_type": "code",
   "execution_count": 22,
   "id": "452b3cf6",
   "metadata": {},
   "outputs": [],
   "source": [
    "baths = []\n",
    "for y in sub1:\n",
    "    baths.append(y)"
   ]
  },
  {
   "cell_type": "code",
   "execution_count": 23,
   "id": "478af6b9",
   "metadata": {},
   "outputs": [
    {
     "name": "stdout",
     "output_type": "stream",
     "text": [
      "[['4 Baths'], ['5 Baths'], ['2 Baths'], ['1 Bath'], ['3 Baths'], ['2 Baths'], ['4 Baths'], ['2 Baths'], ['3 Baths'], ['1 Bath'], ['3 Baths'], ['2 Baths'], ['5 Baths'], ['2 Baths'], ['1 Bath'], ['2 Baths'], ['3 Baths'], ['3 Baths'], ['7 Baths'], ['3 Baths'], ['3 Baths'], ['3 Baths'], ['3 Baths']]\n"
     ]
    }
   ],
   "source": [
    "print(baths)"
   ]
  },
  {
   "cell_type": "code",
   "execution_count": 24,
   "id": "6df844c6",
   "metadata": {},
   "outputs": [
    {
     "name": "stdout",
     "output_type": "stream",
     "text": [
      "[['3', '832 SqFt'], ['3', '439 SqFt'], ['1', '458 SqFt'], ['1', '056 SqFt'], ['2', '286 SqFt'], ['1', '284 SqFt'], ['2', '015 SqFt'], ['1', '494 SqFt'], ['2', '724 SqFt'], ['730 SqFt'], ['3', '221 SqFt'], ['1', '799 SqFt'], ['4', '277 SqFt'], ['1', '656 SqFt'], ['732 SqFt'], ['1', '700 SqFt'], ['2', '400 SqFt'], ['1', '724 SqFt'], ['6', '628 SqFt'], ['1', '962 SqFt'], ['2', '480 SqFt'], ['2', '590 SqFt'], ['1', '878 SqFt']]\n"
     ]
    }
   ],
   "source": [
    "sub2 = bbsq_results[2::3]\n",
    "print(sub2)"
   ]
  },
  {
   "cell_type": "code",
   "execution_count": 25,
   "id": "b703ee1d",
   "metadata": {},
   "outputs": [],
   "source": [
    "sqft = []\n",
    "for z in sub2:\n",
    "    sqft.append(z)"
   ]
  },
  {
   "cell_type": "code",
   "execution_count": 26,
   "id": "89fb9205",
   "metadata": {},
   "outputs": [],
   "source": [
    "dallas_buy = pd.DataFrame({\n",
    "    \"Address\": addresses,\n",
    "    \"Price\": price,\n",
    "    \"Number of Bedrooms\": beds,\n",
    "    \"Number of Bathrooms\": baths,\n",
    "    \"Square Feet\": sqft\n",
    "})"
   ]
  },
  {
   "cell_type": "code",
   "execution_count": 28,
   "id": "39fc372e",
   "metadata": {},
   "outputs": [
    {
     "name": "stdout",
     "output_type": "stream",
     "text": [
      "                                              Address  \\\n",
      "0                 9815 Airline Road, Dallas, TX 75230   \n",
      "1   3505 Turtle Creek Boulevard #10B, Dallas, TX 7...   \n",
      "2              4215 Skillman Street, Dallas, TX 75206   \n",
      "3                9243 Marilyn Place, Dallas, TX 75227   \n",
      "4            4040 Shady Hollow Lane, Dallas, TX 75233   \n",
      "5              6003 Belgrade Avenue, Dallas, TX 75227   \n",
      "6               2472 Thatcher Drive, Dallas, TX 75206   \n",
      "7                 4808 Mexico Court, Dallas, TX 75236   \n",
      "8       5615 Preston Fairways Drive, Dallas, TX 75252   \n",
      "9           11480 Audelia Road #348, Dallas, TX 75243   \n",
      "10            9704 Vista Oaks Drive, Dallas, TX 75243   \n",
      "11             1460 Glencliff Drive, Dallas, TX 75217   \n",
      "12           1519 Cedar Hill Avenue, Dallas, TX 75208   \n",
      "13               3050 Sundial Drive, Dallas, TX 75229   \n",
      "14               4046 Odessa Street, Dallas, TX 75212   \n",
      "15               4042 Odessa Street, Dallas, TX 75212   \n",
      "16              5546 Goodwin Avenue, Dallas, TX 75206   \n",
      "17                2614 Ghent Street, Dallas, TX 75215   \n",
      "18            6042 Lakehurst Avenue, Dallas, TX 75230   \n",
      "19           6323 Vickery Boulevard, Dallas, TX 75214   \n",
      "20               5007 Junius Street, Dallas, TX 75214   \n",
      "21          17905 Carrollwood Drive, Dallas, TX 75252   \n",
      "22        2235 Lovedale Avenue #103, Dallas, TX 75235   \n",
      "\n",
      "                                         Price Number of Bedrooms  \\\n",
      "0     \\n                $630,000\\n                       [4 Beds]   \n",
      "1   \\n                $2,595,000\\n                       [3 Beds]   \n",
      "2     \\n                $585,000\\n                       [3 Beds]   \n",
      "3     \\n                $250,000\\n                       [2 Beds]   \n",
      "4     \\n                $350,000\\n                       [6 Beds]   \n",
      "5     \\n                $245,000\\n                       [2 Beds]   \n",
      "6     \\n                $599,000\\n                       [3 Beds]   \n",
      "7     \\n                $290,000\\n                       [3 Beds]   \n",
      "8     \\n                $745,000\\n                       [3 Beds]   \n",
      "9     \\n                $119,000\\n                        [1 Bed]   \n",
      "10    \\n                $775,000\\n                       [4 Beds]   \n",
      "11    \\n                $249,900\\n                       [4 Beds]   \n",
      "12  \\n                $2,495,000\\n                       [4 Beds]   \n",
      "13    \\n                $490,000\\n                       [3 Beds]   \n",
      "14    \\n                $239,900\\n                       [2 Beds]   \n",
      "15    \\n                $349,900\\n                       [3 Beds]   \n",
      "16    \\n                $899,000\\n                       [3 Beds]   \n",
      "17    \\n                $309,900\\n                       [4 Beds]   \n",
      "18  \\n                $3,200,000\\n                       [5 Beds]   \n",
      "19    \\n                $870,000\\n                       [2 Beds]   \n",
      "20    \\n                $889,000\\n                       [3 Beds]   \n",
      "21    \\n                $700,000\\n                       [4 Beds]   \n",
      "22    \\n                $439,000\\n                       [3 Beds]   \n",
      "\n",
      "   Number of Bathrooms    Square Feet  \n",
      "0            [4 Baths]  [3, 832 SqFt]  \n",
      "1            [5 Baths]  [3, 439 SqFt]  \n",
      "2            [2 Baths]  [1, 458 SqFt]  \n",
      "3             [1 Bath]  [1, 056 SqFt]  \n",
      "4            [3 Baths]  [2, 286 SqFt]  \n",
      "5            [2 Baths]  [1, 284 SqFt]  \n",
      "6            [4 Baths]  [2, 015 SqFt]  \n",
      "7            [2 Baths]  [1, 494 SqFt]  \n",
      "8            [3 Baths]  [2, 724 SqFt]  \n",
      "9             [1 Bath]     [730 SqFt]  \n",
      "10           [3 Baths]  [3, 221 SqFt]  \n",
      "11           [2 Baths]  [1, 799 SqFt]  \n",
      "12           [5 Baths]  [4, 277 SqFt]  \n",
      "13           [2 Baths]  [1, 656 SqFt]  \n",
      "14            [1 Bath]     [732 SqFt]  \n",
      "15           [2 Baths]  [1, 700 SqFt]  \n",
      "16           [3 Baths]  [2, 400 SqFt]  \n",
      "17           [3 Baths]  [1, 724 SqFt]  \n",
      "18           [7 Baths]  [6, 628 SqFt]  \n",
      "19           [3 Baths]  [1, 962 SqFt]  \n",
      "20           [3 Baths]  [2, 480 SqFt]  \n",
      "21           [3 Baths]  [2, 590 SqFt]  \n",
      "22           [3 Baths]  [1, 878 SqFt]  \n"
     ]
    }
   ],
   "source": [
    "print(dallas_buy)"
   ]
  },
  {
   "cell_type": "code",
   "execution_count": 29,
   "id": "1802b2d8",
   "metadata": {},
   "outputs": [],
   "source": [
    "dallas_buy.to_csv(r'../Resources/dallas_buy.csv', index = False)"
   ]
  },
  {
   "cell_type": "code",
   "execution_count": null,
   "id": "b61347f5",
   "metadata": {},
   "outputs": [],
   "source": []
  }
 ],
 "metadata": {
  "kernelspec": {
   "display_name": "Python 3 (ipykernel)",
   "language": "python",
   "name": "python3"
  },
  "language_info": {
   "codemirror_mode": {
    "name": "ipython",
    "version": 3
   },
   "file_extension": ".py",
   "mimetype": "text/x-python",
   "name": "python",
   "nbconvert_exporter": "python",
   "pygments_lexer": "ipython3",
   "version": "3.9.12"
  }
 },
 "nbformat": 4,
 "nbformat_minor": 5
}
