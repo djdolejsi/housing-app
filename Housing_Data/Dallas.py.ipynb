{
 "cells": [
  {
   "cell_type": "code",
   "execution_count": 1,
   "id": "01eb5cd2",
   "metadata": {},
   "outputs": [],
   "source": [
    "from splinter import Browser\n",
    "from bs4 import BeautifulSoup\n",
    "from webdriver_manager.chrome import ChromeDriverManager"
   ]
  },
  {
   "cell_type": "code",
   "execution_count": 2,
   "id": "5372defd",
   "metadata": {},
   "outputs": [],
   "source": [
    "# Setup splinter\n",
    "executable_path = {'executable_path': ChromeDriverManager().install()}\n",
    "browser = Browser('chrome', **executable_path, headless=False)"
   ]
  },
  {
   "cell_type": "code",
   "execution_count": 3,
   "id": "0d94c02d",
   "metadata": {},
   "outputs": [],
   "source": [
    "html = browser.html\n",
    "soup = BeautifulSoup(html, 'html.parser')"
   ]
  },
  {
   "cell_type": "code",
   "execution_count": 4,
   "id": "0a0a7930",
   "metadata": {},
   "outputs": [],
   "source": [
    "# Stack Overflow URL to scrape\n",
    "dallas_url = 'https://www.mydallashomefinder.com/listing?utm_campaign=SNDTX%3A%20Dallas%20County%20-%20Zip%20Codes&utm_medium=cpc&pageSize=24&pageNum=2&utm_term=homes%20sale%2075220%20Dallas%20Texas&page=1&msclkid=9653aafd9dd215d71837c9942c264c70&utm_source=bing&utm_content=75220&key=Dallas%2C%20TX&keywordType=city&purchaseType-For-Sale-Rent=1&zoom=12'\n",
    "# Retrieve page with the requests module\n",
    "browser.visit(dallas_url)"
   ]
  },
  {
   "cell_type": "code",
   "execution_count": 5,
   "id": "0d9a4a42",
   "metadata": {
    "scrolled": true
   },
   "outputs": [],
   "source": [
    "for x in range (2):\n",
    "    #x = 1\n",
    "    html = browser.html\n",
    "    soup = BeautifulSoup(html, 'html.parser')\n",
    "    location  = soup.find_all('p', class_='house-address')\n",
    "    cost = soup.find_all('p', class_='house-price')\n",
    "    #list names \n",
    "    addresses = []\n",
    "    price = []\n",
    "    #append lists\n",
    "    for i, y in zip(location, cost):\n",
    "        addresses.append(i.text)\n",
    "        price.append(y.text)\n",
    "\n",
    "            #print('next page')\n",
    "    \n",
    "    #browser.links.find_by_partial_text(\" 2 \").click()"
   ]
  },
  {
   "cell_type": "code",
   "execution_count": 6,
   "id": "df2c90f8",
   "metadata": {},
   "outputs": [
    {
     "name": "stdout",
     "output_type": "stream",
     "text": [
      "[<p class=\"house-address\">9815 Airline Road, Dallas, TX 75230</p>, <p class=\"house-address\">3527 Schuster Drive, Dallas, TX 75212</p>, <p class=\"house-address\">2614 Ghent Street, Dallas, TX 75215</p>, <p class=\"house-address\">5007 Junius Street, Dallas, TX 75214</p>, <p class=\"house-address\">17905 Carrollwood Drive, Dallas, TX 75252</p>, <p class=\"house-address\">2235 Lovedale Avenue #103, Dallas, TX 75235</p>, <p class=\"house-address\">6612 Lange Circle, Dallas, TX 75214</p>, <p class=\"house-address\">3708 Jubilee Trail, Dallas, TX 75229</p>, <p class=\"house-address\">2779 Beechmont Drive, Dallas, TX 75228</p>, <p class=\"house-address\">10102 Ashglen Circle, Dallas, TX 75238</p>, <p class=\"house-address\">584 S Pearl Expressway, Dallas, TX 75201</p>, <p class=\"house-address\">2411 N Hall Street #39, Dallas, TX 75204</p>, <p class=\"house-address\">2461 Club Manor Drive, Dallas, TX 75237</p>, <p class=\"house-address\">6254 Emeraldwood Place, Dallas, TX 75254</p>, <p class=\"house-address\">6516 Dartbrook Drive, Dallas, TX 75254</p>, <p class=\"house-address\">6433 Wofford Avenue, Dallas, TX 75227</p>, <p class=\"house-address\">10469 Silverock Drive, Dallas, TX 75218</p>, <p class=\"house-address\">18112 Hollow Oak Court, Dallas, TX 75287</p>, <p class=\"house-address\">10540 Somerton Drive, Dallas, TX 75229</p>, <p class=\"house-address\">245 Leda Drive, Dallas, TX 75218</p>, <p class=\"house-address\">7818 Scotia Drive, Dallas, TX 75248</p>, <p class=\"house-address\">5727 Orchid Lane, Dallas, TX 75230</p>, <p class=\"house-address\">8428 Ridge Creek Drive, Dallas, TX 75249</p>, <p class=\"house-address\">6742 E Mockingbird Lane, Dallas, TX 75214</p>]\n"
     ]
    }
   ],
   "source": [
    "print(location)"
   ]
  },
  {
   "cell_type": "code",
   "execution_count": null,
   "id": "c0fc71d5",
   "metadata": {},
   "outputs": [],
   "source": []
  }
 ],
 "metadata": {
  "kernelspec": {
   "display_name": "Python 3 (ipykernel)",
   "language": "python",
   "name": "python3"
  },
  "language_info": {
   "codemirror_mode": {
    "name": "ipython",
    "version": 3
   },
   "file_extension": ".py",
   "mimetype": "text/x-python",
   "name": "python",
   "nbconvert_exporter": "python",
   "pygments_lexer": "ipython3",
   "version": "3.9.12"
  }
 },
 "nbformat": 4,
 "nbformat_minor": 5
}
