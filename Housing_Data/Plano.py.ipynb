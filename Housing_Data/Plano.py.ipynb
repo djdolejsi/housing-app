{
 "cells": [
  {
   "cell_type": "code",
   "execution_count": 1,
   "id": "83fe6178",
   "metadata": {},
   "outputs": [],
   "source": [
    "from splinter import Browser\n",
    "from bs4 import BeautifulSoup\n",
    "from webdriver_manager.chrome import ChromeDriverManager"
   ]
  },
  {
   "cell_type": "code",
   "execution_count": 2,
   "id": "80cba3ae",
   "metadata": {},
   "outputs": [],
   "source": [
    "# Setup splinter\n",
    "executable_path = {'executable_path': ChromeDriverManager().install()}\n",
    "browser = Browser('chrome', **executable_path, headless=False)"
   ]
  },
  {
   "cell_type": "code",
   "execution_count": 3,
   "id": "56577cc1",
   "metadata": {},
   "outputs": [],
   "source": [
    "html = browser.html\n",
    "soup = BeautifulSoup(html, 'html.parser')"
   ]
  },
  {
   "cell_type": "code",
   "execution_count": 4,
   "id": "87378aee",
   "metadata": {},
   "outputs": [],
   "source": [
    "# Stack Overflow URL to scrape\n",
    "plano_url = 'https://www.mydallashomefinder.com/listing?utm_campaign=SNDTX%3A%20Dallas%20County%20-%20Zip%20Codes&utm_medium=cpc&pageSize=24&zoom=11&pageNum=2&utm_term=homes%20sale%2075220%20Dallas%20Texas&page=1&msclkid=9653aafd9dd215d71837c9942c264c70&utm_source=bing&utm_content=75220&key=Plano%2C%20TX&keywordType=city&purchaseType-For-Sale-Rent=1'\n",
    "# Retrieve page with the requests module\n",
    "browser.visit(plano_url)"
   ]
  },
  {
   "cell_type": "code",
   "execution_count": 5,
   "id": "0f3b7cec",
   "metadata": {},
   "outputs": [],
   "source": [
    "for x in range (2):\n",
    "    #x = 1\n",
    "    html = browser.html\n",
    "    soup = BeautifulSoup(html, 'html.parser')\n",
    "    location  = soup.find_all('p', class_='house-address')\n",
    "    cost = soup.find_all('p', class_='house-price')\n",
    "    #list names \n",
    "    addresses = []\n",
    "    price = []\n",
    "    #append lists\n",
    "    for i, y in zip(location, cost):\n",
    "        addresses.append(i.text)\n",
    "        price.append(y.text)"
   ]
  },
  {
   "cell_type": "code",
   "execution_count": 6,
   "id": "2fb0aa53",
   "metadata": {},
   "outputs": [
    {
     "name": "stdout",
     "output_type": "stream",
     "text": [
      "[<p class=\"house-address\">920 Ledgemont Drive, Plano, TX 75025</p>, <p class=\"house-address\">4509 Lancelot Drive, Plano, TX 75024</p>, <p class=\"house-address\">3042 Montego Place, Plano, TX 75023</p>, <p class=\"house-address\">1912 Jasmine Lane, Plano, TX 75074</p>, <p class=\"house-address\">2160 Fawnwood Drive, Plano, TX 75093</p>, <p class=\"house-address\">2213 Vickers Drive, Plano, TX 75075</p>, <p class=\"house-address\">4608 Glenrose Way, Plano, TX 75093</p>, <p class=\"house-address\">3416 Snidow Drive, Plano, TX 75025</p>, <p class=\"house-address\">1705 14th Place, Plano, TX 75074</p>, <p class=\"house-address\">1217 Gannon Drive, Plano, TX 75025</p>, <p class=\"house-address\">6508 Elkhurst Drive, Plano, TX 75023</p>, <p class=\"house-address\">3513 Twin Lakes Way, Plano, TX 75093</p>, <p class=\"house-address\">2625 Webster Court, Plano, TX 75075</p>, <p class=\"house-address\">3544 Mason Drive, Plano, TX 75025</p>, <p class=\"house-address\">5108 Arrowhead Lane, Plano, TX 75093</p>, <p class=\"house-address\">4733 Wickersham Drive, Plano, TX 75093</p>, <p class=\"house-address\">4549 Charlemagne Drive, Plano, TX 75093</p>, <p class=\"house-address\">3603 Therondunn Court, Plano, TX 75023</p>, <p class=\"house-address\">4009 Aladdin Drive, Plano, TX 75093</p>, <p class=\"house-address\">3304 Westminster Drive, Plano, TX 75074</p>, <p class=\"house-address\">3520 Snidow Drive, Plano, TX 75025</p>, <p class=\"house-address\">1708 Gunnison Drive, Plano, TX 75025</p>, <p class=\"house-address\">3512 Mason Drive, Plano, TX 75025</p>, <p class=\"house-address\">2620 Winfield Drive, Plano, TX 75023</p>]\n"
     ]
    }
   ],
   "source": [
    "print(location)"
   ]
  },
  {
   "cell_type": "code",
   "execution_count": null,
   "id": "ad167af1",
   "metadata": {},
   "outputs": [],
   "source": []
  }
 ],
 "metadata": {
  "kernelspec": {
   "display_name": "Python 3 (ipykernel)",
   "language": "python",
   "name": "python3"
  },
  "language_info": {
   "codemirror_mode": {
    "name": "ipython",
    "version": 3
   },
   "file_extension": ".py",
   "mimetype": "text/x-python",
   "name": "python",
   "nbconvert_exporter": "python",
   "pygments_lexer": "ipython3",
   "version": "3.9.12"
  }
 },
 "nbformat": 4,
 "nbformat_minor": 5
}
