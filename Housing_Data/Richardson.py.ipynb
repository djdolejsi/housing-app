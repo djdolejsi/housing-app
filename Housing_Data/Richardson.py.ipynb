{
 "cells": [
  {
   "cell_type": "code",
   "execution_count": 1,
   "id": "792e0206",
   "metadata": {},
   "outputs": [],
   "source": [
    "from splinter import Browser\n",
    "from bs4 import BeautifulSoup\n",
    "from webdriver_manager.chrome import ChromeDriverManager\n",
    "import pandas as pd"
   ]
  },
  {
   "cell_type": "code",
   "execution_count": 2,
   "id": "4cd34d1d",
   "metadata": {},
   "outputs": [],
   "source": [
    "# Setup splinter\n",
    "executable_path = {'executable_path': ChromeDriverManager().install()}\n",
    "browser = Browser('chrome', **executable_path, headless=False)"
   ]
  },
  {
   "cell_type": "code",
   "execution_count": 3,
   "id": "5a65800a",
   "metadata": {},
   "outputs": [],
   "source": [
    "html = browser.html\n",
    "soup = BeautifulSoup(html, 'html.parser')"
   ]
  },
  {
   "cell_type": "code",
   "execution_count": 4,
   "id": "ed196d5f",
   "metadata": {},
   "outputs": [],
   "source": [
    "# Stack Overflow URL to scrape\n",
    "rich_url = 'https://www.mydallashomefinder.com/listing?utm_campaign=SNDTX%3A%20Dallas%20County%20-%20Zip%20Codes&utm_medium=cpc&pageSize=24&zoom=12&pageNum=2&utm_term=homes%20sale%2075220%20Dallas%20Texas&page=1&msclkid=9653aafd9dd215d71837c9942c264c70&utm_source=bing&utm_content=75220&key=Richardson%2C%20TX&keywordType=city&purchaseType-For-Sale-Rent=1'\n",
    "# Retrieve page with the requests module\n",
    "browser.visit(rich_url)"
   ]
  },
  {
   "cell_type": "code",
   "execution_count": 5,
   "id": "1ef73ef3",
   "metadata": {},
   "outputs": [],
   "source": [
    "for x in range (2):\n",
    "    #x = 1\n",
    "    html = browser.html\n",
    "    soup = BeautifulSoup(html, 'html.parser')\n",
    "    location  = soup.find_all('p', class_='house-address')\n",
    "    cost = soup.find_all('p', class_='house-price')\n",
    "    #list names \n",
    "    addresses = []\n",
    "    price = []\n",
    "    #append lists\n",
    "    for i, y in zip(location, cost):\n",
    "        addresses.append(i.text)\n",
    "        price.append(y.text)"
   ]
  },
  {
   "cell_type": "code",
   "execution_count": 6,
   "id": "658fed54",
   "metadata": {},
   "outputs": [
    {
     "name": "stdout",
     "output_type": "stream",
     "text": [
      "['336 Melrose Drive #4B, Richardson, TX 75080', '1222 Delmont Drive, Richardson, TX 75080', '904 Pinecrest Drive, Richardson, TX 75080', '716 Newberry Drive, Richardson, TX 75080', '207 Dublin Drive, Richardson, TX 75080', '3911 Chainhurst Drive, Richardson, TX 75082', '411 Valley Glen Drive, Richardson, TX 75080', '1103 Edith Circle, Richardson, TX 75080', '632 Lockwood Drive, Richardson, TX 75080', '1605 Baltimore Drive, Richardson, TX 75081', '3305 Iris Court, Richardson, TX 75082', '1309 Cherokee Drive, Richardson, TX 75080', '523 Westwood Drive, Richardson, TX 75080', '1703 Baylor Drive, Richardson, TX 75081', '413 Bedford Drive, Richardson, TX 75080', '721 Laguna Drive, Richardson, TX 75080', '2105 Mistletoe Lane, Richardson, TX 75081', '3501 Newhaven Drive, Richardson, TX 75082', '627 Matthew Place, Richardson, TX 75081', '637 Harvest Glen Drive, Richardson, TX 75081', '824 Downing Drive, Richardson, TX 75080', '1814 Duke Drive, Richardson, TX 75081', '2411 Acacia Street, Richardson, TX 75082', '11 Walnut Creek Place, Richardson, TX 75080']\n"
     ]
    }
   ],
   "source": [
    "print(addresses)"
   ]
  },
  {
   "cell_type": "code",
   "execution_count": 7,
   "id": "b1c0f190",
   "metadata": {},
   "outputs": [],
   "source": [
    "bbsq = soup.find_all('span', class_='vertical-line')\n",
    "bed_bath_sq = []\n",
    "for x in bbsq:\n",
    "    bed_bath_sq.append(x.text)"
   ]
  },
  {
   "cell_type": "code",
   "execution_count": 8,
   "id": "1d346508",
   "metadata": {},
   "outputs": [
    {
     "name": "stdout",
     "output_type": "stream",
     "text": [
      "['2 Beds', '3 Beds', '4 Beds', '3 Beds', '3 Beds', '4 Beds', '3 Beds', '5 Beds', '3 Beds', '4 Beds', '4 Beds', '4 Beds', '3 Beds', '4 Beds', '3 Beds', '4 Beds', '4 Beds', '4 Beds', '2 Beds', '5 Beds', '3 Beds', '3 Beds', '3 Beds', '4 Beds']\n"
     ]
    }
   ],
   "source": [
    "sub = bed_bath_sq[::3]\n",
    "print(sub)"
   ]
  },
  {
   "cell_type": "code",
   "execution_count": 9,
   "id": "bce2bdc5",
   "metadata": {},
   "outputs": [],
   "source": [
    "beds = []\n",
    "for x in sub:\n",
    "    beds.append(x)"
   ]
  },
  {
   "cell_type": "code",
   "execution_count": 10,
   "id": "c8be4147",
   "metadata": {},
   "outputs": [
    {
     "name": "stdout",
     "output_type": "stream",
     "text": [
      "['2 Baths', '2 Baths', '2 Baths', '2 Baths', '2 Baths', '4 Baths', '2 Baths', '3 Baths', '2 Baths', '3 Baths', '3 Baths', '3 Baths', '2 Baths', '3 Baths', '3 Baths', '4 Baths', '3 Baths', '4 Baths', '3 Baths', '3 Baths', '2 Baths', '2 Baths', '3 Baths', '4 Baths']\n"
     ]
    }
   ],
   "source": [
    "sub1 = bed_bath_sq[1::3]\n",
    "print(sub1)"
   ]
  },
  {
   "cell_type": "code",
   "execution_count": 11,
   "id": "945b89f9",
   "metadata": {},
   "outputs": [],
   "source": [
    "baths = []\n",
    "for y in sub1:\n",
    "    baths.append(y)"
   ]
  },
  {
   "cell_type": "code",
   "execution_count": 12,
   "id": "6d3f2d61",
   "metadata": {},
   "outputs": [
    {
     "name": "stdout",
     "output_type": "stream",
     "text": [
      "['1,071 SqFt', '1,231 SqFt', '2,188 SqFt', '1,798 SqFt', '1,331 SqFt', '2,962 SqFt', '1,542 SqFt', '2,742 SqFt', '1,600 SqFt', '2,040 SqFt', '2,480 SqFt', '2,017 SqFt', '1,302 SqFt', '1,828 SqFt', '1,840 SqFt', '2,758 SqFt', '2,158 SqFt', '3,332 SqFt', '1,301 SqFt', '2,919 SqFt', '1,644 SqFt', '1,800 SqFt', '2,402 SqFt', '2,643 SqFt']\n"
     ]
    }
   ],
   "source": [
    "sub2 = bed_bath_sq[2::3]\n",
    "print(sub2)"
   ]
  },
  {
   "cell_type": "code",
   "execution_count": 13,
   "id": "80b0429a",
   "metadata": {},
   "outputs": [],
   "source": [
    "sqft = []\n",
    "for z in sub2:\n",
    "    sqft.append(z)"
   ]
  },
  {
   "cell_type": "code",
   "execution_count": 14,
   "id": "4f2979fa",
   "metadata": {},
   "outputs": [],
   "source": [
    "richardson_buy = pd.DataFrame({\n",
    "    \"Address\": addresses,\n",
    "    \"Price\": price,\n",
    "    \"Number of Bedrooms\": beds,\n",
    "    \"Number of Bathrooms\": baths,\n",
    "    \"Square Feet\": sqft\n",
    "})"
   ]
  },
  {
   "cell_type": "code",
   "execution_count": 15,
   "id": "d8ffc6be",
   "metadata": {},
   "outputs": [],
   "source": [
    "richardson_buy.to_csv(r'../Resources/richardson_buy.csv', index = False)"
   ]
  },
  {
   "cell_type": "code",
   "execution_count": null,
   "id": "f1433800",
   "metadata": {},
   "outputs": [],
   "source": []
  }
 ],
 "metadata": {
  "kernelspec": {
   "display_name": "Python 3 (ipykernel)",
   "language": "python",
   "name": "python3"
  },
  "language_info": {
   "codemirror_mode": {
    "name": "ipython",
    "version": 3
   },
   "file_extension": ".py",
   "mimetype": "text/x-python",
   "name": "python",
   "nbconvert_exporter": "python",
   "pygments_lexer": "ipython3",
   "version": "3.9.12"
  }
 },
 "nbformat": 4,
 "nbformat_minor": 5
}
