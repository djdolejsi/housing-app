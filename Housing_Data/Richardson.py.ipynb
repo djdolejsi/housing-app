{
 "cells": [
  {
   "cell_type": "code",
   "execution_count": 8,
   "id": "792e0206",
   "metadata": {},
   "outputs": [],
   "source": [
    "from splinter import Browser\n",
    "from bs4 import BeautifulSoup\n",
    "from webdriver_manager.chrome import ChromeDriverManager"
   ]
  },
  {
   "cell_type": "code",
   "execution_count": 9,
   "id": "4cd34d1d",
   "metadata": {},
   "outputs": [],
   "source": [
    "# Setup splinter\n",
    "executable_path = {'executable_path': ChromeDriverManager().install()}\n",
    "browser = Browser('chrome', **executable_path, headless=False)"
   ]
  },
  {
   "cell_type": "code",
   "execution_count": 10,
   "id": "5a65800a",
   "metadata": {},
   "outputs": [],
   "source": [
    "html = browser.html\n",
    "soup = BeautifulSoup(html, 'html.parser')"
   ]
  },
  {
   "cell_type": "code",
   "execution_count": 11,
   "id": "ed196d5f",
   "metadata": {},
   "outputs": [],
   "source": [
    "# Stack Overflow URL to scrape\n",
    "rich_url = 'https://www.mydallashomefinder.com/listing?utm_campaign=SNDTX%3A%20Dallas%20County%20-%20Zip%20Codes&utm_medium=cpc&pageSize=24&zoom=12&pageNum=2&utm_term=homes%20sale%2075220%20Dallas%20Texas&page=1&msclkid=9653aafd9dd215d71837c9942c264c70&utm_source=bing&utm_content=75220&key=Richardson%2C%20TX&keywordType=city&purchaseType-For-Sale-Rent=1'\n",
    "# Retrieve page with the requests module\n",
    "browser.visit(rich_url)"
   ]
  },
  {
   "cell_type": "code",
   "execution_count": 12,
   "id": "1ef73ef3",
   "metadata": {},
   "outputs": [],
   "source": [
    "for x in range (2):\n",
    "    #x = 1\n",
    "    html = browser.html\n",
    "    soup = BeautifulSoup(html, 'html.parser')\n",
    "    location  = soup.find_all('p', class_='house-address')\n",
    "    cost = soup.find_all('p', class_='house-price')\n",
    "    #list names \n",
    "    addresses = []\n",
    "    price = []\n",
    "    #append lists\n",
    "    for i, y in zip(location, cost):\n",
    "        addresses.append(i.text)\n",
    "        price.append(y.text)"
   ]
  },
  {
   "cell_type": "code",
   "execution_count": 13,
   "id": "1bd7b9a5",
   "metadata": {},
   "outputs": [
    {
     "data": {
      "text/plain": [
       "24"
      ]
     },
     "execution_count": 13,
     "metadata": {},
     "output_type": "execute_result"
    }
   ],
   "source": [
    "len(location)"
   ]
  },
  {
   "cell_type": "code",
   "execution_count": 7,
   "id": "658fed54",
   "metadata": {},
   "outputs": [
    {
     "name": "stdout",
     "output_type": "stream",
     "text": [
      "[<p class=\"house-address\">336 Melrose Drive #4B, Richardson, TX 75080</p>, <p class=\"house-address\">207 Dublin Drive, Richardson, TX 75080</p>, <p class=\"house-address\">632 Lockwood Drive, Richardson, TX 75080</p>, <p class=\"house-address\">3305 Iris Court, Richardson, TX 75082</p>, <p class=\"house-address\">1309 Cherokee Drive, Richardson, TX 75080</p>, <p class=\"house-address\">413 Bedford Drive, Richardson, TX 75080</p>, <p class=\"house-address\">627 Matthew Place, Richardson, TX 75081</p>, <p class=\"house-address\">637 Harvest Glen Drive, Richardson, TX 75081</p>, <p class=\"house-address\">1814 Duke Drive, Richardson, TX 75081</p>, <p class=\"house-address\">412 Provincetown Lane, Richardson, TX 75080</p>, <p class=\"house-address\">1502 Flintwood Drive, Richardson, TX 75081</p>, <p class=\"house-address\">823 Brentwood Lane, Richardson, TX 75080</p>, <p class=\"house-address\">632 Tiffany Trail, Richardson, TX 75081</p>, <p class=\"house-address\">2606 Foxcreek Drive, Richardson, TX 75082</p>, <p class=\"house-address\">712 N Plano Road, Richardson, TX 75081</p>, <p class=\"house-address\">406 Worcester Way, Richardson, TX 75080</p>, <p class=\"house-address\">3911 Chainhurst Drive, Richardson, TX 75082</p>, <p class=\"house-address\">3414 Red Moon Way, Richardson, TX 75082</p>, <p class=\"house-address\">813 Lotus Drive, Richardson, TX 75081</p>, <p class=\"house-address\">828 Northlake Drive, Richardson, TX 75080</p>, <p class=\"house-address\">268 Queen Victoria Court, Richardson, TX 75081</p>, <p class=\"house-address\">3524 Christopher Lane, Richardson, TX 75082</p>, <p class=\"house-address\">309 Forest Grove Drive, Richardson, TX 75080</p>, <p class=\"house-address\">903 Sandalwood Avenue, Richardson, TX 75080</p>]\n"
     ]
    }
   ],
   "source": [
    "print(location)"
   ]
  },
  {
   "cell_type": "code",
   "execution_count": null,
   "id": "b1c0f190",
   "metadata": {},
   "outputs": [],
   "source": []
  }
 ],
 "metadata": {
  "kernelspec": {
   "display_name": "Python 3 (ipykernel)",
   "language": "python",
   "name": "python3"
  },
  "language_info": {
   "codemirror_mode": {
    "name": "ipython",
    "version": 3
   },
   "file_extension": ".py",
   "mimetype": "text/x-python",
   "name": "python",
   "nbconvert_exporter": "python",
   "pygments_lexer": "ipython3",
   "version": "3.9.12"
  }
 },
 "nbformat": 4,
 "nbformat_minor": 5
}
