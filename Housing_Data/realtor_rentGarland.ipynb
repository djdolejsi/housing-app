{
 "cells": [
  {
   "cell_type": "code",
   "execution_count": 1,
   "id": "88af4014",
   "metadata": {},
   "outputs": [],
   "source": [
    "from splinter import Browser\n",
    "from bs4 import BeautifulSoup\n",
    "from webdriver_manager.chrome import ChromeDriverManager\n",
    "import os \n",
    "import time "
   ]
  },
  {
   "cell_type": "code",
   "execution_count": 2,
   "id": "087f5093",
   "metadata": {},
   "outputs": [],
   "source": [
    "executable_path = {'executable_path': ChromeDriverManager().install()}\n",
    "browser = Browser('chrome', **executable_path, headless=False)"
   ]
  },
  {
   "cell_type": "code",
   "execution_count": 3,
   "id": "eb469637",
   "metadata": {},
   "outputs": [],
   "source": [
    "url = 'https://www.realtor.com/apartments/Garland_TX'\n",
    "\n",
    "browser.visit(url)"
   ]
  },
  {
   "cell_type": "code",
   "execution_count": 4,
   "id": "82fc2bb3",
   "metadata": {},
   "outputs": [],
   "source": [
    "html = browser.html\n",
    "soup = BeautifulSoup(html, 'html.parser')"
   ]
  },
  {
   "cell_type": "code",
   "execution_count": 5,
   "id": "2409c005",
   "metadata": {},
   "outputs": [],
   "source": [
    "property_cards = soup.find_all('div', class_='CardContent__StyledCardContent-rui__sc-7ptz1z-0 echMdB card-content')"
   ]
  },
  {
   "cell_type": "code",
   "execution_count": 6,
   "id": "3e76aafe",
   "metadata": {},
   "outputs": [],
   "source": [
    "addresses = []\n",
    "list_prices = []\n",
    "property_types = []\n",
    "bedrooms = []\n",
    "baths = []\n",
    "for card in property_cards: \n",
    "  \n",
    "        address = card.find('div', class_='content-col-left')\n",
    "        addresses.append(address.text)\n",
    "\n",
    "        prop_type = card.find('div', class_='styles__StyledStatusBadge-rui__hewb9n-0 eiNeel')\n",
    "        property_types.append(prop_type.text)\n",
    "    \n",
    "        beds = card.find('li', class_='styles__StyledPropertyBedMeta-rui__jbdr1y-0 gUHOjr')\n",
    "        bedrooms.append(beds.text)\n",
    "        try: \n",
    "            bath = card.find('li', class_='styles__StyledPropertyBathMeta-rui__sc-6egb6z-0 dqxXcq')\n",
    "            baths.append(bath.text)\n",
    "    \n",
    "            price = card.find('div', class_='Price__Component-rui__x3geed-0 ibnFqH card-price')\n",
    "            list_prices.append(price.text)\n",
    "        except AttributeError as e:\n",
    "            print('Not available')"
   ]
  },
  {
   "cell_type": "code",
   "execution_count": 7,
   "id": "4b457063",
   "metadata": {},
   "outputs": [
    {
     "name": "stdout",
     "output_type": "stream",
     "text": [
      "['5722 Marvin Loving DrGarland, TX 75043', '2806 Poplar TrlGarland, TX 75042', '1759 W Campbell RdGarland, TX 75044', '2735 N Garland AveGarland, TX 75040', '1233 Castle DrGarland, TX 75040', '2201 Woodglen DrGarland, TX 75040', '5710 Galaxie RdGarland, TX 75044', '2026 Lamont DrGarland, TX 75040', '2609 Strother DrGarland, TX 75044', '4705 Cliffwood DrGarland, TX 75043', '7017 Jack Franzen DrGarland, TX 75043', '5322 Brookport DrGarland, TX 75043', '4622 Candlestick DrGarland, TX 75043', '116 Kings RowGarland, TX 75043', '406 San Maria DrGarland, TX 75043', '3009 Larkspur CtGarland, TX 75040', '2414 Highdale DrGarland, TX 75041', '2379 Apollo Rd # 1123Garland, TX 75044', '6421 Briar Knoll DrGarland, TX 75043', '914 Eden Crest DrGarland, TX 75042', '1425 Curtis DrGarland, TX 75040', '717 Middle Glen DrGarland, TX 75043', '3941 Queens CtGarland, TX 75043', '1333 Meadowbrook DrGarland, TX 75040', '3232 N Garland AveGarland, TX 75040', '2701 Lookout DrGarland, TX 75044', '6202 Duck Creek DrGarland, TX 75043', '305 River Fern AveGarland, TX 75040', '4501 N Garland AveGarland, TX 75040', '782 Gatewood DrGarland, TX 75043', '3401 Bobtown RdGarland, TX 75043', '4901 Peninsula WayGarland, TX 75043', '1051 E Centerville RdGarland, TX 75041', '3754 W Buckingham RdGarland, TX 75042', '1675 W Campbell RdGarland, TX 75044', '1702-1802 Edgefield DrGarland, TX 75040', '202 N Beltline RdGarland, TX 75040', '3100 W Walnut StGarland, TX 75042', '801 LA Prada DrGarland, TX 75043', '351 N 5th StGarland, TX 75040', '6337 Duck Creek DrGarland, TX 75043', '4301 W Walnut StGarland, TX 75042']\n"
     ]
    }
   ],
   "source": [
    "#len(addresses)\n",
    "print(addresses)"
   ]
  },
  {
   "cell_type": "code",
   "execution_count": 8,
   "id": "2f2f754c",
   "metadata": {},
   "outputs": [
    {
     "name": "stdout",
     "output_type": "stream",
     "text": [
      "['$1,200', '$1,720', '$1,547 - $3,263', '$1,943 - $1,958', '$970 - $1,300', '$2,505', '$2,000', '$1,500', '$2,200', '$1,795', '$1,980', '$2,120', '$2,175', '$1,500', '$1,795', '$2,350', '$2,415', '$1,617', '$2,100', '$2,400', '$1,700', '$2,230', '$1,700', '$1,550', '$1,340 - $1,975', '$1,515 - $1,762', '$1,377 - $1,845', '$1,210 - $2,070', '$1,279 - $2,502', '$1,355 - $1,630', '$1,322 - $1,940', '$1,384 - $2,077', '$975 - $2,025', '$880 - $1,300', '$1,549 - $2,199', '$600 - $1,000', '$1,085 - $1,302', '$812 - $1,094', '$1,095 - $1,525', '$1,250 - $1,981', '$975 - $1,620', '$765 - $1,250']\n"
     ]
    }
   ],
   "source": [
    "#len(list_prices)\n",
    "print(list_prices)"
   ]
  },
  {
   "cell_type": "code",
   "execution_count": 9,
   "id": "173976f1",
   "metadata": {},
   "outputs": [
    {
     "name": "stdout",
     "output_type": "stream",
     "text": [
      "['For Rent - House', 'For Rent - House', 'For Rent - Apartment', 'For Rent - Apartment', 'For Rent - Apartment', 'For Rent - House', 'For Rent - House', 'For Rent - House', 'For Rent - House', 'For Rent - House', 'For Rent - House', 'For Rent - House', 'For Rent - House', 'For Rent - House', 'For Rent - House', 'For Rent - House', 'For Rent - House', 'For Rent - Apartment', 'For Rent - House', 'For Rent - House', 'For Rent - House', 'For Rent - House', 'For Rent - House', 'For Rent - House', 'For Rent - Apartment', 'For Rent - Apartment', 'For Rent - Apartment', 'For Rent - Apartment', 'For Rent - Apartment', 'For Rent - Apartment', 'For Rent - Apartment', 'For Rent - Apartment', 'For Rent - Apartment', 'For Rent - Apartment', 'For Rent - Apartment', 'For Rent - Apartment', 'For Rent - Apartment', 'For Rent - Apartment', 'For Rent - Apartment', 'For Rent - Apartment', 'For Rent - Apartment', 'For Rent - Apartment']\n"
     ]
    }
   ],
   "source": [
    "#len(property_types)\n",
    "print(property_types)"
   ]
  },
  {
   "cell_type": "code",
   "execution_count": 10,
   "id": "09451633",
   "metadata": {},
   "outputs": [
    {
     "name": "stdout",
     "output_type": "stream",
     "text": [
      "['1bed', '2bed', '1 - 3bed', '2bed', '1 - 2bed', '3bed', '3bed', '3bed', '3bed', '3bed', '3bed', '3bed', '3bed', '3bed', '3bed', '3bed', '4bed', 'Studio', '3bed', '4bed', '2bed', '4bed', '2bed', '2bed', '1 - 2bed', '1 - 2bed', '1 - 3bed', 'Studio - 3bed', '1 - 3bed', '1 - 3bed', '1 - 2bed', '1 - 3bed', '1 - 3bed', '1 - 2bed', '1 - 3bed', 'Studio - 2bed', '1 - 2bed', 'Studio - 1bed', 'Studio - 2bed', 'Studio - 2bed', 'Studio - 3bed', 'Studio - 2bed']\n"
     ]
    }
   ],
   "source": [
    "#len(bedrooms)\n",
    "print(bedrooms)"
   ]
  },
  {
   "cell_type": "code",
   "execution_count": 11,
   "id": "1d7f8abb",
   "metadata": {},
   "outputs": [
    {
     "name": "stdout",
     "output_type": "stream",
     "text": [
      "['1bath', '1bath', '1 - 3.5bath', '2 - 2.5bath', '1 - 1.5bath', '2bath', '2bath', '1.5bath', '2bath', '2bath', '2bath', '2bath', '2bath', '2bath', '2bath', '2.5bath', '2.5bath', '1bath', '2bath', '2bath', '1.5bath', '2.5bath', '2bath', '1bath', '1 - 2bath', '1 - 2bath', '1 - 2bath', '1 - 2bath', '1 - 2bath', '1 - 2bath', '1 - 2bath', '1 - 2bath', '1 - 2bath', '1 - 2bath', '1 - 2bath', '1 - 2bath', '1 - 2bath', '1bath', '1 - 2bath', '1 - 2bath', '1 - 2bath', '1bath']\n"
     ]
    }
   ],
   "source": [
    "#len(baths)\n",
    "print(baths)"
   ]
  },
  {
   "cell_type": "code",
   "execution_count": null,
   "id": "e6b2c57c",
   "metadata": {},
   "outputs": [],
   "source": []
  }
 ],
 "metadata": {
  "kernelspec": {
   "display_name": "Python 3 (ipykernel)",
   "language": "python",
   "name": "python3"
  },
  "language_info": {
   "codemirror_mode": {
    "name": "ipython",
    "version": 3
   },
   "file_extension": ".py",
   "mimetype": "text/x-python",
   "name": "python",
   "nbconvert_exporter": "python",
   "pygments_lexer": "ipython3",
   "version": "3.9.12"
  }
 },
 "nbformat": 4,
 "nbformat_minor": 5
}
