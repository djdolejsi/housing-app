{
 "cells": [
  {
   "cell_type": "code",
   "execution_count": 1,
   "id": "01eb5cd2",
   "metadata": {},
   "outputs": [],
   "source": [
    "from splinter import Browser\n",
    "from bs4 import BeautifulSoup\n",
    "from webdriver_manager.chrome import ChromeDriverManager\n",
    "import pandas as pd"
   ]
  },
  {
   "cell_type": "code",
   "execution_count": 2,
   "id": "5372defd",
   "metadata": {},
   "outputs": [],
   "source": [
    "# Setup splinter\n",
    "executable_path = {'executable_path': ChromeDriverManager().install()}\n",
    "browser = Browser('chrome', **executable_path, headless=False)"
   ]
  },
  {
   "cell_type": "code",
   "execution_count": 3,
   "id": "0d94c02d",
   "metadata": {},
   "outputs": [],
   "source": [
    "html = browser.html\n",
    "soup = BeautifulSoup(html, 'html.parser')"
   ]
  },
  {
   "cell_type": "code",
   "execution_count": 4,
   "id": "0a0a7930",
   "metadata": {},
   "outputs": [],
   "source": [
    "# Stack Overflow URL to scrape\n",
    "allen_url = 'https://www.mydallashomefinder.com/listing?utm_campaign=SNDTX%3A%20Dallas%20County%20-%20Zip%20Codes&utm_medium=cpc&pageSize=24&zoom=12&pageNum=2&utm_term=homes%20sale%2075220%20Dallas%20Texas&page=1&msclkid=9653aafd9dd215d71837c9942c264c70&utm_source=bing&utm_content=75220&key=Allen%2C%20TX&keywordType=city&purchaseType-For-Sale-Rent=1'\n",
    "# Retrieve page with the requests module\n",
    "browser.visit(allen_url)"
   ]
  },
  {
   "cell_type": "code",
   "execution_count": 5,
   "id": "0d9a4a42",
   "metadata": {
    "scrolled": true
   },
   "outputs": [],
   "source": [
    "for x in range (2):\n",
    "    #x = 1\n",
    "    html = browser.html\n",
    "    soup = BeautifulSoup(html, 'html.parser')\n",
    "    location  = soup.find_all('p', class_='house-address')\n",
    "    cost = soup.find_all('p', class_='house-price')\n",
    "    #bbsq = soup.find_all('span', class_='vertical-line')\n",
    "    #list names \n",
    "    addresses = []\n",
    "    price = []\n",
    "    #bbsq = []\n",
    "    #append lists\n",
    "    for i, y in zip(location, cost):\n",
    "        addresses.append(i.text)\n",
    "        price.append(y.text)\n",
    "        #bbsq.append(x.text)\n",
    "\n",
    "            #print('next page')\n",
    "    \n",
    "    #browser.links.find_by_partial_text(\" 2 \").click()"
   ]
  },
  {
   "cell_type": "code",
   "execution_count": 6,
   "id": "df2c90f8",
   "metadata": {},
   "outputs": [
    {
     "name": "stdout",
     "output_type": "stream",
     "text": [
      "['1056 Enchanted Rock Drive, Allen, TX 75013', '1421 Greenwich Drive, Allen, TX 75013', '1045 Bandelier Drive, Allen, TX 75013', '1613 Ponderosa Drive, Allen, TX 75002', '1027 Lucy Lane, Allen, TX 75013', '2014 Barley Place Drive, Allen, TX 75013', '602 Huntington Lane, Allen, TX 75002', '728 Fawn Valley Drive, Allen, TX 75002', '315 Phoebe Drive, Allen, TX 75013', '522 Willow Oak Street, Allen, TX 75002', '1109 High Meadow Drive, Allen, TX 75002', '1704 Pebble Run Drive, Allen, TX 75002', '1807 Olympia Drive, Allen, TX 75002', '1507 Winterbrook Court, Allen, TX 75002', '1433 Glendover Drive, Allen, TX 75013', '900 Kingsbury Court, Allen, TX 75013', '1105 Ferndale Drive, Allen, TX 75013', '716 Roaming Road Drive, Allen, TX 75002', '1322 Crestview Drive, Allen, TX 75002', '1816 San Leanna Drive, Allen, TX 75013', '1001 Roaring Springs Drive, Allen, TX 75002', '609 White Oak Street, Allen, TX 75002', '1010 Burnet Drive, Allen, TX 75002', '1905 Rising Star Drive, Allen, TX 75013']\n"
     ]
    }
   ],
   "source": [
    "print(addresses)"
   ]
  },
  {
   "cell_type": "code",
   "execution_count": 8,
   "id": "397592b2",
   "metadata": {},
   "outputs": [
    {
     "name": "stdout",
     "output_type": "stream",
     "text": [
      "['\\n                $575,000\\n            ', '\\n                $525,000\\n            ', '\\n                $918,000\\n            ', '\\n                $685,000\\n            ', '\\n                $450,000\\n            ', '\\n                $815,000\\n            ', '\\n                $469,500\\n            ', '\\n                $450,000\\n            ', '\\n                $419,000\\n            ', '\\n                $315,000\\n            ', '\\n                $369,500\\n            ', '\\n                $629,000\\n            ', '\\n                $599,999\\n            ', '\\n                $799,900\\n            ', '\\n                $525,000\\n            ', '\\n                $989,900\\n            ', '\\n                $619,000\\n            ', '\\n                $365,000\\n            ', '\\n                $343,000\\n            ', '\\n                $740,000\\n            ', '\\n                $332,000\\n            ', '\\n                $400,000\\n            ', '\\n                $779,999\\n            ', '\\n                $799,000\\n            ']\n"
     ]
    }
   ],
   "source": [
    "print(price)"
   ]
  },
  {
   "cell_type": "code",
   "execution_count": 9,
   "id": "c0fc71d5",
   "metadata": {},
   "outputs": [],
   "source": [
    "bbsq = soup.find_all('span', class_='vertical-line')\n",
    "bed_bath_sq = []\n",
    "for x in bbsq:\n",
    "    bed_bath_sq.append(x.text)"
   ]
  },
  {
   "cell_type": "code",
   "execution_count": 10,
   "id": "45740229",
   "metadata": {},
   "outputs": [
    {
     "name": "stdout",
     "output_type": "stream",
     "text": [
      "['4 Beds', '3 Baths', '2,434 SqFt', '4 Beds', '2 Baths', '2,299 SqFt', '5 Beds', '4 Baths', '4,162 SqFt', '4 Beds', '4 Baths', '3,105 SqFt', '3 Beds', '3 Baths', '1,955 SqFt', '4 Beds', '4 Baths', '3,583 SqFt', '4 Beds', '2 Baths', '1,940 SqFt', '4 Beds', '3 Baths', '2,612 SqFt', '3 Beds', '3 Baths', '1,753 SqFt', '3 Beds', '2 Baths', '1,512 SqFt', '3 Beds', '2 Baths', '1,404 SqFt', '4 Beds', '3 Baths', '2,929 SqFt', '5 Beds', '3 Baths', '3,761 SqFt', '5 Beds', '4 Baths', '4,070 SqFt', '4 Beds', '3 Baths', '2,499 SqFt', '5 Beds', '5 Baths', '4,438 SqFt', '4 Beds', '4 Baths', '2,457 SqFt', '3 Beds', '2 Baths', '1,430 SqFt', '3 Beds', '2 Baths', '1,404 SqFt', '4 Beds', '5 Baths', '3,785 SqFt', '4 Beds', '2 Baths', '1,439 SqFt', '4 Beds', '3 Baths', '2,163 SqFt', '5 Beds', '5 Baths', '3,764 SqFt', '4 Beds', '4 Baths', '4,124 SqFt']\n"
     ]
    }
   ],
   "source": [
    "print(bed_bath_sq)"
   ]
  },
  {
   "cell_type": "code",
   "execution_count": 14,
   "id": "a179a62b",
   "metadata": {},
   "outputs": [
    {
     "name": "stdout",
     "output_type": "stream",
     "text": [
      "[['4 Beds'], ['3 Baths'], ['2', '434 SqFt'], ['4 Beds'], ['2 Baths'], ['2', '299 SqFt'], ['5 Beds'], ['4 Baths'], ['4', '162 SqFt'], ['4 Beds'], ['4 Baths'], ['3', '105 SqFt'], ['3 Beds'], ['3 Baths'], ['1', '955 SqFt'], ['4 Beds'], ['4 Baths'], ['3', '583 SqFt'], ['4 Beds'], ['2 Baths'], ['1', '940 SqFt'], ['4 Beds'], ['3 Baths'], ['2', '612 SqFt'], ['3 Beds'], ['3 Baths'], ['1', '753 SqFt'], ['3 Beds'], ['2 Baths'], ['1', '512 SqFt'], ['3 Beds'], ['2 Baths'], ['1', '404 SqFt'], ['4 Beds'], ['3 Baths'], ['2', '929 SqFt'], ['5 Beds'], ['3 Baths'], ['3', '761 SqFt'], ['5 Beds'], ['4 Baths'], ['4', '070 SqFt'], ['4 Beds'], ['3 Baths'], ['2', '499 SqFt'], ['5 Beds'], ['5 Baths'], ['4', '438 SqFt'], ['4 Beds'], ['4 Baths'], ['2', '457 SqFt'], ['3 Beds'], ['2 Baths'], ['1', '430 SqFt'], ['3 Beds'], ['2 Baths'], ['1', '404 SqFt'], ['4 Beds'], ['5 Baths'], ['3', '785 SqFt'], ['4 Beds'], ['2 Baths'], ['1', '439 SqFt'], ['4 Beds'], ['3 Baths'], ['2', '163 SqFt'], ['5 Beds'], ['5 Baths'], ['3', '764 SqFt'], ['4 Beds'], ['4 Baths'], ['4', '124 SqFt']]\n"
     ]
    }
   ],
   "source": [
    "bbsq_results = [item.split(',', 3) for item in bed_bath_sq]\n",
    "print(bbsq_results)"
   ]
  },
  {
   "cell_type": "code",
   "execution_count": 34,
   "id": "6c32e23e",
   "metadata": {},
   "outputs": [],
   "source": [
    "sub = bbsq_results[::3]   "
   ]
  },
  {
   "cell_type": "code",
   "execution_count": 35,
   "id": "e75e0663",
   "metadata": {},
   "outputs": [
    {
     "name": "stdout",
     "output_type": "stream",
     "text": [
      "[['4 Beds'], ['4 Beds'], ['5 Beds'], ['4 Beds'], ['3 Beds'], ['4 Beds'], ['4 Beds'], ['4 Beds'], ['3 Beds'], ['3 Beds'], ['3 Beds'], ['4 Beds'], ['5 Beds'], ['5 Beds'], ['4 Beds'], ['5 Beds'], ['4 Beds'], ['3 Beds'], ['3 Beds'], ['4 Beds'], ['4 Beds'], ['4 Beds'], ['5 Beds'], ['4 Beds']]\n"
     ]
    }
   ],
   "source": [
    "print(sub)"
   ]
  },
  {
   "cell_type": "code",
   "execution_count": 36,
   "id": "4c773a8c",
   "metadata": {},
   "outputs": [],
   "source": [
    "beds = []\n",
    "for x in sub:\n",
    "    beds.append(x)"
   ]
  },
  {
   "cell_type": "code",
   "execution_count": 37,
   "id": "d8337a0a",
   "metadata": {},
   "outputs": [
    {
     "name": "stdout",
     "output_type": "stream",
     "text": [
      "[['4 Beds'], ['4 Beds'], ['5 Beds'], ['4 Beds'], ['3 Beds'], ['4 Beds'], ['4 Beds'], ['4 Beds'], ['3 Beds'], ['3 Beds'], ['3 Beds'], ['4 Beds'], ['5 Beds'], ['5 Beds'], ['4 Beds'], ['5 Beds'], ['4 Beds'], ['3 Beds'], ['3 Beds'], ['4 Beds'], ['4 Beds'], ['4 Beds'], ['5 Beds'], ['4 Beds']]\n"
     ]
    }
   ],
   "source": [
    "print (beds)"
   ]
  },
  {
   "cell_type": "code",
   "execution_count": 40,
   "id": "b4907788",
   "metadata": {},
   "outputs": [
    {
     "name": "stdout",
     "output_type": "stream",
     "text": [
      "[['3 Baths'], ['2 Baths'], ['4 Baths'], ['4 Baths'], ['3 Baths'], ['4 Baths'], ['2 Baths'], ['3 Baths'], ['3 Baths'], ['2 Baths'], ['2 Baths'], ['3 Baths'], ['3 Baths'], ['4 Baths'], ['3 Baths'], ['5 Baths'], ['4 Baths'], ['2 Baths'], ['2 Baths'], ['5 Baths'], ['2 Baths'], ['3 Baths'], ['5 Baths'], ['4 Baths']]\n"
     ]
    }
   ],
   "source": [
    "sub1 = bbsq_results[1::3]\n",
    "print(sub1)"
   ]
  },
  {
   "cell_type": "code",
   "execution_count": 41,
   "id": "9031c2fe",
   "metadata": {},
   "outputs": [],
   "source": [
    "baths = []\n",
    "for y in sub1:\n",
    "    baths.append(y)"
   ]
  },
  {
   "cell_type": "code",
   "execution_count": 42,
   "id": "02f72c4d",
   "metadata": {},
   "outputs": [
    {
     "name": "stdout",
     "output_type": "stream",
     "text": [
      "[['3 Baths'], ['2 Baths'], ['4 Baths'], ['4 Baths'], ['3 Baths'], ['4 Baths'], ['2 Baths'], ['3 Baths'], ['3 Baths'], ['2 Baths'], ['2 Baths'], ['3 Baths'], ['3 Baths'], ['4 Baths'], ['3 Baths'], ['5 Baths'], ['4 Baths'], ['2 Baths'], ['2 Baths'], ['5 Baths'], ['2 Baths'], ['3 Baths'], ['5 Baths'], ['4 Baths']]\n"
     ]
    }
   ],
   "source": [
    "print(baths)"
   ]
  },
  {
   "cell_type": "code",
   "execution_count": 43,
   "id": "61ebcd26",
   "metadata": {},
   "outputs": [
    {
     "name": "stdout",
     "output_type": "stream",
     "text": [
      "[['2', '434 SqFt'], ['2', '299 SqFt'], ['4', '162 SqFt'], ['3', '105 SqFt'], ['1', '955 SqFt'], ['3', '583 SqFt'], ['1', '940 SqFt'], ['2', '612 SqFt'], ['1', '753 SqFt'], ['1', '512 SqFt'], ['1', '404 SqFt'], ['2', '929 SqFt'], ['3', '761 SqFt'], ['4', '070 SqFt'], ['2', '499 SqFt'], ['4', '438 SqFt'], ['2', '457 SqFt'], ['1', '430 SqFt'], ['1', '404 SqFt'], ['3', '785 SqFt'], ['1', '439 SqFt'], ['2', '163 SqFt'], ['3', '764 SqFt'], ['4', '124 SqFt']]\n"
     ]
    }
   ],
   "source": [
    "sub2 = bbsq_results[2::3]\n",
    "print(sub2)"
   ]
  },
  {
   "cell_type": "code",
   "execution_count": 44,
   "id": "623aad78",
   "metadata": {},
   "outputs": [],
   "source": [
    "sqft = []\n",
    "for z in sub2:\n",
    "    sqft.append(z)"
   ]
  },
  {
   "cell_type": "code",
   "execution_count": 45,
   "id": "f69992a0",
   "metadata": {},
   "outputs": [],
   "source": [
    "allen_buy = pd.DataFrame({\n",
    "    \"Address\": addresses,\n",
    "    \"Price\": price,\n",
    "    \"Number of Bedrooms\": beds,\n",
    "    \"Number of Bathrooms\": baths,\n",
    "    \"Square Feet\": sqft\n",
    "})"
   ]
  },
  {
   "cell_type": "code",
   "execution_count": 46,
   "id": "c2e6b8f4",
   "metadata": {},
   "outputs": [
    {
     "name": "stdout",
     "output_type": "stream",
     "text": [
      "                                        Address  \\\n",
      "0    1056 Enchanted Rock Drive, Allen, TX 75013   \n",
      "1         1421 Greenwich Drive, Allen, TX 75013   \n",
      "2         1045 Bandelier Drive, Allen, TX 75013   \n",
      "3         1613 Ponderosa Drive, Allen, TX 75002   \n",
      "4               1027 Lucy Lane, Allen, TX 75013   \n",
      "5      2014 Barley Place Drive, Allen, TX 75013   \n",
      "6          602 Huntington Lane, Allen, TX 75002   \n",
      "7        728 Fawn Valley Drive, Allen, TX 75002   \n",
      "8             315 Phoebe Drive, Allen, TX 75013   \n",
      "9        522 Willow Oak Street, Allen, TX 75002   \n",
      "10      1109 High Meadow Drive, Allen, TX 75002   \n",
      "11       1704 Pebble Run Drive, Allen, TX 75002   \n",
      "12          1807 Olympia Drive, Allen, TX 75002   \n",
      "13      1507 Winterbrook Court, Allen, TX 75002   \n",
      "14        1433 Glendover Drive, Allen, TX 75013   \n",
      "15         900 Kingsbury Court, Allen, TX 75013   \n",
      "16         1105 Ferndale Drive, Allen, TX 75013   \n",
      "17      716 Roaming Road Drive, Allen, TX 75002   \n",
      "18        1322 Crestview Drive, Allen, TX 75002   \n",
      "19       1816 San Leanna Drive, Allen, TX 75013   \n",
      "20  1001 Roaring Springs Drive, Allen, TX 75002   \n",
      "21        609 White Oak Street, Allen, TX 75002   \n",
      "22           1010 Burnet Drive, Allen, TX 75002   \n",
      "23      1905 Rising Star Drive, Allen, TX 75013   \n",
      "\n",
      "                                       Price Number of Bedrooms  \\\n",
      "0   \\n                $575,000\\n                       [4 Beds]   \n",
      "1   \\n                $525,000\\n                       [4 Beds]   \n",
      "2   \\n                $918,000\\n                       [5 Beds]   \n",
      "3   \\n                $685,000\\n                       [4 Beds]   \n",
      "4   \\n                $450,000\\n                       [3 Beds]   \n",
      "5   \\n                $815,000\\n                       [4 Beds]   \n",
      "6   \\n                $469,500\\n                       [4 Beds]   \n",
      "7   \\n                $450,000\\n                       [4 Beds]   \n",
      "8   \\n                $419,000\\n                       [3 Beds]   \n",
      "9   \\n                $315,000\\n                       [3 Beds]   \n",
      "10  \\n                $369,500\\n                       [3 Beds]   \n",
      "11  \\n                $629,000\\n                       [4 Beds]   \n",
      "12  \\n                $599,999\\n                       [5 Beds]   \n",
      "13  \\n                $799,900\\n                       [5 Beds]   \n",
      "14  \\n                $525,000\\n                       [4 Beds]   \n",
      "15  \\n                $989,900\\n                       [5 Beds]   \n",
      "16  \\n                $619,000\\n                       [4 Beds]   \n",
      "17  \\n                $365,000\\n                       [3 Beds]   \n",
      "18  \\n                $343,000\\n                       [3 Beds]   \n",
      "19  \\n                $740,000\\n                       [4 Beds]   \n",
      "20  \\n                $332,000\\n                       [4 Beds]   \n",
      "21  \\n                $400,000\\n                       [4 Beds]   \n",
      "22  \\n                $779,999\\n                       [5 Beds]   \n",
      "23  \\n                $799,000\\n                       [4 Beds]   \n",
      "\n",
      "   Number of Bathrooms    Square Feet  \n",
      "0            [3 Baths]  [2, 434 SqFt]  \n",
      "1            [2 Baths]  [2, 299 SqFt]  \n",
      "2            [4 Baths]  [4, 162 SqFt]  \n",
      "3            [4 Baths]  [3, 105 SqFt]  \n",
      "4            [3 Baths]  [1, 955 SqFt]  \n",
      "5            [4 Baths]  [3, 583 SqFt]  \n",
      "6            [2 Baths]  [1, 940 SqFt]  \n",
      "7            [3 Baths]  [2, 612 SqFt]  \n",
      "8            [3 Baths]  [1, 753 SqFt]  \n",
      "9            [2 Baths]  [1, 512 SqFt]  \n",
      "10           [2 Baths]  [1, 404 SqFt]  \n",
      "11           [3 Baths]  [2, 929 SqFt]  \n",
      "12           [3 Baths]  [3, 761 SqFt]  \n",
      "13           [4 Baths]  [4, 070 SqFt]  \n",
      "14           [3 Baths]  [2, 499 SqFt]  \n",
      "15           [5 Baths]  [4, 438 SqFt]  \n",
      "16           [4 Baths]  [2, 457 SqFt]  \n",
      "17           [2 Baths]  [1, 430 SqFt]  \n",
      "18           [2 Baths]  [1, 404 SqFt]  \n",
      "19           [5 Baths]  [3, 785 SqFt]  \n",
      "20           [2 Baths]  [1, 439 SqFt]  \n",
      "21           [3 Baths]  [2, 163 SqFt]  \n",
      "22           [5 Baths]  [3, 764 SqFt]  \n",
      "23           [4 Baths]  [4, 124 SqFt]  \n"
     ]
    }
   ],
   "source": [
    "print(allen_buy)"
   ]
  },
  {
   "cell_type": "code",
   "execution_count": 47,
   "id": "0c19142e",
   "metadata": {},
   "outputs": [],
   "source": [
    "allen_buy.to_csv(r'../Resources/allen_buy.csv', index = False)"
   ]
  },
  {
   "cell_type": "code",
   "execution_count": null,
   "id": "a2bf2fdc",
   "metadata": {},
   "outputs": [],
   "source": []
  }
 ],
 "metadata": {
  "kernelspec": {
   "display_name": "Python 3 (ipykernel)",
   "language": "python",
   "name": "python3"
  },
  "language_info": {
   "codemirror_mode": {
    "name": "ipython",
    "version": 3
   },
   "file_extension": ".py",
   "mimetype": "text/x-python",
   "name": "python",
   "nbconvert_exporter": "python",
   "pygments_lexer": "ipython3",
   "version": "3.9.12"
  }
 },
 "nbformat": 4,
 "nbformat_minor": 5
}
