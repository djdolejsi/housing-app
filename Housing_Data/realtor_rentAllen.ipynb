{
 "cells": [
  {
   "cell_type": "code",
   "execution_count": 14,
   "id": "88af4014",
   "metadata": {},
   "outputs": [],
   "source": [
    "from splinter import Browser\n",
    "from bs4 import BeautifulSoup\n",
    "from webdriver_manager.chrome import ChromeDriverManager\n",
    "import os \n",
    "import time \n",
    "import pandas as pd"
   ]
  },
  {
   "cell_type": "code",
   "execution_count": 15,
   "id": "087f5093",
   "metadata": {},
   "outputs": [],
   "source": [
    "executable_path = {'executable_path': ChromeDriverManager().install()}\n",
    "browser = Browser('chrome', **executable_path, headless=False)"
   ]
  },
  {
   "cell_type": "code",
   "execution_count": 16,
   "id": "eb469637",
   "metadata": {},
   "outputs": [],
   "source": [
    "url = 'https://www.realtor.com/apartments/Allen_TX'\n",
    "\n",
    "browser.visit(url)"
   ]
  },
  {
   "cell_type": "code",
   "execution_count": 17,
   "id": "82fc2bb3",
   "metadata": {},
   "outputs": [],
   "source": [
    "html = browser.html\n",
    "soup = BeautifulSoup(html, 'html.parser')"
   ]
  },
  {
   "cell_type": "code",
   "execution_count": 18,
   "id": "2409c005",
   "metadata": {},
   "outputs": [],
   "source": [
    "property_cards = soup.find_all('div', class_='CardContent__StyledCardContent-rui__sc-7ptz1z-0 echMdB card-content')"
   ]
  },
  {
   "cell_type": "code",
   "execution_count": 19,
   "id": "3e76aafe",
   "metadata": {},
   "outputs": [],
   "source": [
    "street_addresses = []\n",
    "city_zips = []\n",
    "list_prices = []\n",
    "property_types = []\n",
    "bedrooms = []\n",
    "baths = []\n",
    "for card in property_cards: \n",
    "  \n",
    "        street_address = card.find('div', attrs={'data-testid':'card-address-1','class':'truncate-line'})\n",
    "        street_addresses.append(street_address.text)\n",
    "        \n",
    "        city_zip = card.find('div', attrs={'data-testid':'card-address-2','class':'truncate-line'})\n",
    "        city_zips.append(city_zip.text)\n",
    "\n",
    "        prop_type = card.find('div', class_='styles__StyledStatusBadge-rui__hewb9n-0 eiNeel')\n",
    "        property_types.append(prop_type.text)\n",
    "    \n",
    "        beds = card.find('li', class_='styles__StyledPropertyBedMeta-rui__jbdr1y-0 gUHOjr')\n",
    "        bedrooms.append(beds.text)\n",
    "        try: \n",
    "            bath = card.find('li', class_='styles__StyledPropertyBathMeta-rui__sc-6egb6z-0 dqxXcq')\n",
    "            baths.append(bath.text)\n",
    "    \n",
    "            price = card.find('div', class_='Price__Component-rui__x3geed-0 ibnFqH card-price')\n",
    "            list_prices.append(price.text)\n",
    "        except AttributeError as e:\n",
    "                print('Not available')"
   ]
  },
  {
   "cell_type": "code",
   "execution_count": 20,
   "id": "4b457063",
   "metadata": {},
   "outputs": [
    {
     "name": "stdout",
     "output_type": "stream",
     "text": [
      "['1527 Teresa Ann Ln', '808 Leading Ln', '205 Benton Dr', '325 S Jupiter Rd Apt 327', '729 Junction Dr', '947 Park Ridge Dr', '208 S Malone Rd', '922 Thistle Cir', '1018 Dickens Ln', '603 Creekside Ln', '440 Fox Trl', '28 Brewster Ct', '1824 Summer Glen Ct', '1534 Broadmoor Dr', '1015 Draycot Ct', '708 Rolling Ridge Dr', '1238 Wiltshire Dr', '801 Melinda Dr', '1178 Landon Ln', '1717 Terrell Dr', '1090 W Exchange Pkwy # C210', '1090 W Exchange Pkwy # C212', '1090 W Exchange Pkwy # C310', '1090 W Exchange Pkwy # H308', '315 N Greenville Ave', '1400 Andrews Pkwy', '1712 Paytyn Dr', '301 S Jupiter Rd', '301 N Greenville Ave', '1420 W McDermott Dr', '930 Ridgeview Dr', '1090 W Exchange Pkwy', '1845 Chelsea Blvd', '935 Garden Park Dr', '1500 S Jupiter Rd', '860 Junction Dr', '1160 Montgomery Blvd', '659 Junction Dr', '1300 N Custer Rd', '1280 Montgomery Blvd', '705 Bray Central Dr', '1175 Montgomery Blvd']\n"
     ]
    }
   ],
   "source": [
    "print(street_addresses)"
   ]
  },
  {
   "cell_type": "code",
   "execution_count": 21,
   "id": "05aeaf2e",
   "metadata": {},
   "outputs": [
    {
     "name": "stdout",
     "output_type": "stream",
     "text": [
      "['Allen, TX 75013', 'Allen, TX 75002', 'Allen, TX 75013', 'Allen, TX 75002', 'Allen, TX 75013', 'Allen, TX 75013', 'Allen, TX 75002', 'Allen, TX 75002', 'Allen, TX 75002', 'Allen, TX 75002', 'Allen, TX 75002', 'Allen, TX 75002', 'Allen, TX 75002', 'Allen, TX 75002', 'Allen, TX 75002', 'Allen, TX 75002', 'Allen, TX 75013', 'Allen, TX 75002', 'Allen, TX 75013', 'Allen, TX 75002', 'Allen, TX 75013', 'Allen, TX 75013', 'Allen, TX 75013', 'Allen, TX 75013', 'Allen, TX 75002', 'Allen, TX 75002', 'Allen, TX 75013', 'Allen, TX 75002', 'Allen, TX 75002', 'Allen, TX 75013', 'Allen, TX 75013', 'Allen, TX 75013', 'Allen, TX 75013', 'Allen, TX 75013', 'Allen, TX 75002', 'Allen, TX 75013', 'Allen, TX 75013', 'Allen, TX 75013', 'Allen, TX 75013', 'Allen, TX 75013', 'Allen, TX 75013', 'Allen, TX 75013']\n"
     ]
    }
   ],
   "source": [
    "print(city_zips)"
   ]
  },
  {
   "cell_type": "code",
   "execution_count": 22,
   "id": "2f2f754c",
   "metadata": {},
   "outputs": [
    {
     "name": "stdout",
     "output_type": "stream",
     "text": [
      "['$2,800', '$2,050', '$1,393 - $2,307', '$1,469 - $1,974', '$1,539 - $2,842', '$3,400', '$2,125', '$2,705', '$3,145', '$2,550', '$2,975', '$2,300', '$2,400', '$2,650', '$2,200', '$2,335', '$2,600', '$3,500', '$2,500', '$2,820', '$1,465', '$1,465', '$1,465', '$1,380', '$1,196 - $1,820', '$1,523 - $2,575', '$2,950', '$1,395 - $2,320', '$1,400 - $1,665', '$1,228 - $2,079', '$1,230 - $2,972', '$1,240 - $1,885', '$1,285 - $2,100', '$1,475 - $3,030', '$1,379 - $1,624', '$1,315 - $2,408', '$1,408 - $3,282', '$1,405 - $2,330', '$1,275 - $2,353', '$1,505 - $3,455', '$1,628 - $2,259', '$1,425 - $2,768']\n"
     ]
    }
   ],
   "source": [
    "print(list_prices)"
   ]
  },
  {
   "cell_type": "code",
   "execution_count": 23,
   "id": "173976f1",
   "metadata": {},
   "outputs": [
    {
     "name": "stdout",
     "output_type": "stream",
     "text": [
      "['For Rent - House', 'For Rent - House', 'For Rent - Other', 'For Rent - Other', 'For Rent - Apartment', 'For Rent - House', 'For Rent - House', 'For Rent - House', 'For Rent - House', 'For Rent - House', 'For Rent - House', 'For Rent - House', 'For Rent - House', 'For Rent - House', 'For Rent - House', 'For Rent - House', 'For Rent - Townhome', 'For Rent - House', 'For Rent - Townhome', 'For Rent - Townhome', 'For Rent - Apartment', 'For Rent - Apartment', 'For Rent - Apartment', 'For Rent - Apartment', 'For Rent - Other', 'For Rent - Other', 'For Rent - House', 'For Rent - Apartment', 'For Rent - Apartment', 'For Rent - Apartment', 'For Rent - Apartment', 'For Rent - Apartment', 'For Rent - Apartment', 'For Rent - Apartment', 'For Rent - Apartment', 'For Rent - Apartment', 'For Rent - Apartment', 'For Rent - Apartment', 'For Rent - Apartment', 'For Rent - Apartment', 'For Rent - Apartment', 'For Rent - Apartment']\n"
     ]
    }
   ],
   "source": [
    "print(property_types)"
   ]
  },
  {
   "cell_type": "code",
   "execution_count": 24,
   "id": "09451633",
   "metadata": {},
   "outputs": [
    {
     "name": "stdout",
     "output_type": "stream",
     "text": [
      "['3bed', '3bed', '1 - 3bed', '1 - 3bed', '1 - 3bed', '3bed', '3bed', '4bed', '4bed', '4bed', '4bed', '3bed', '3bed', '4bed', '4bed', '3bed', '3bed', '5bed', '3bed', '4bed', '1bed', '1bed', '1bed', '1bed', '1 - 2bed', '1 - 3bed', '3bed', '1 - 3bed', '1 - 2bed', '1 - 3bed', '1 - 2bed', '1 - 2bed', '1 - 2bed', '1 - 3bed', '2bed', '1 - 2bed', '1 - 3bed', '1 - 3bed', '1 - 3bed', '1 - 3bed', '1 - 3bed', '1 - 3bed']\n"
     ]
    }
   ],
   "source": [
    "print(bedrooms)"
   ]
  },
  {
   "cell_type": "code",
   "execution_count": 25,
   "id": "1d7f8abb",
   "metadata": {},
   "outputs": [
    {
     "name": "stdout",
     "output_type": "stream",
     "text": [
      "['2.5bath', '2bath', '1 - 2bath', '1 - 2bath', '1 - 2bath', '2.5bath', '2bath', '2.5bath', '2.5bath', '2bath', '2bath', '2.5bath', '2bath', '2.5bath', '2bath', '2bath', '2.5bath', '3.5bath', '2bath', '2.5bath', '1bath', '1bath', '1bath', '1bath', '1 - 2bath', '1 - 2bath', '2.5 - 4bath', '1 - 2bath', '1 - 2bath', '1 - 2bath', '1 - 2bath', '1 - 2bath', '1 - 2bath', '1 - 2bath', '1 - 2bath', '1 - 2bath', '1 - 3bath', '1 - 2bath', '1 - 2bath', '1 - 2.5bath', '1 - 2bath', '1 - 2bath']\n"
     ]
    }
   ],
   "source": [
    "print(baths)"
   ]
  },
  {
   "cell_type": "code",
   "execution_count": 26,
   "id": "e6b2c57c",
   "metadata": {},
   "outputs": [],
   "source": [
    "Allen_rent = pd.DataFrame({\n",
    "    \"Street Address\": street_addresses,\n",
    "    \"CSZ\": city_zips,\n",
    "    \"Price\": list_prices,\n",
    "    \"Property Type\": property_types,\n",
    "    \"Number of Bedrooms\": bedrooms,\n",
    "    \"Number of Bathrooms\": baths\n",
    "})\n"
   ]
  },
  {
   "cell_type": "code",
   "execution_count": 28,
   "id": "066089f9",
   "metadata": {},
   "outputs": [
    {
     "data": {
      "text/plain": [
       "42"
      ]
     },
     "execution_count": 28,
     "metadata": {},
     "output_type": "execute_result"
    }
   ],
   "source": [
    "len(Allen_rent)"
   ]
  },
  {
   "cell_type": "code",
   "execution_count": 29,
   "id": "e79520e2",
   "metadata": {},
   "outputs": [],
   "source": [
    "Allen_rent.to_csv(r'../Resources/allen_rent.csv', index = False)"
   ]
  },
  {
   "cell_type": "code",
   "execution_count": null,
   "id": "7b1bfcb0",
   "metadata": {},
   "outputs": [],
   "source": []
  }
 ],
 "metadata": {
  "kernelspec": {
   "display_name": "Python 3 (ipykernel)",
   "language": "python",
   "name": "python3"
  },
  "language_info": {
   "codemirror_mode": {
    "name": "ipython",
    "version": 3
   },
   "file_extension": ".py",
   "mimetype": "text/x-python",
   "name": "python",
   "nbconvert_exporter": "python",
   "pygments_lexer": "ipython3",
   "version": "3.9.12"
  }
 },
 "nbformat": 4,
 "nbformat_minor": 5
}
