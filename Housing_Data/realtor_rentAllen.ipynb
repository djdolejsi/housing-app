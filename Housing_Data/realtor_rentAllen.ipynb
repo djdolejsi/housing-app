{
 "cells": [
  {
   "cell_type": "code",
   "execution_count": 1,
   "id": "88af4014",
   "metadata": {},
   "outputs": [],
   "source": [
    "from splinter import Browser\n",
    "from bs4 import BeautifulSoup\n",
    "from webdriver_manager.chrome import ChromeDriverManager\n",
    "import os \n",
    "import time "
   ]
  },
  {
   "cell_type": "code",
   "execution_count": 2,
   "id": "087f5093",
   "metadata": {},
   "outputs": [],
   "source": [
    "executable_path = {'executable_path': ChromeDriverManager().install()}\n",
    "browser = Browser('chrome', **executable_path, headless=False)"
   ]
  },
  {
   "cell_type": "code",
   "execution_count": 4,
   "id": "eb469637",
   "metadata": {},
   "outputs": [],
   "source": [
    "url = 'https://www.realtor.com/apartments/Allen_TX'\n",
    "\n",
    "browser.visit(url)"
   ]
  },
  {
   "cell_type": "code",
   "execution_count": 5,
   "id": "82fc2bb3",
   "metadata": {},
   "outputs": [],
   "source": [
    "html = browser.html\n",
    "soup = BeautifulSoup(html, 'html.parser')"
   ]
  },
  {
   "cell_type": "code",
   "execution_count": 6,
   "id": "2409c005",
   "metadata": {},
   "outputs": [],
   "source": [
    "property_cards = soup.find_all('div', class_='CardContent__StyledCardContent-rui__sc-7ptz1z-0 echMdB card-content')"
   ]
  },
  {
   "cell_type": "code",
   "execution_count": 7,
   "id": "3e76aafe",
   "metadata": {},
   "outputs": [],
   "source": [
    "addresses = []\n",
    "list_prices = []\n",
    "property_types = []\n",
    "bedrooms = []\n",
    "baths = []\n",
    "for card in property_cards: \n",
    "  \n",
    "        address = card.find('div', class_='content-col-left')\n",
    "        addresses.append(address.text)\n",
    "\n",
    "        prop_type = card.find('div', class_='styles__StyledStatusBadge-rui__hewb9n-0 eiNeel')\n",
    "        property_types.append(prop_type.text)\n",
    "    \n",
    "        beds = card.find('li', class_='styles__StyledPropertyBedMeta-rui__jbdr1y-0 gUHOjr')\n",
    "        bedrooms.append(beds.text)\n",
    "        try: \n",
    "            bath = card.find('li', class_='styles__StyledPropertyBathMeta-rui__sc-6egb6z-0 dqxXcq')\n",
    "            baths.append(bath.text)\n",
    "    \n",
    "            price = card.find('div', class_='Price__Component-rui__x3geed-0 ibnFqH card-price')\n",
    "            list_prices.append(price.text)\n",
    "        except AttributeError as e:\n",
    "            print('Not available')"
   ]
  },
  {
   "cell_type": "code",
   "execution_count": 10,
   "id": "4b457063",
   "metadata": {},
   "outputs": [
    {
     "name": "stdout",
     "output_type": "stream",
     "text": [
      "['808 Leading LnAllen, TX 75002', '947 Park Ridge DrAllen, TX 75013', '205 Benton DrAllen, TX 75013', '729 Junction DrAllen, TX 75013', '1712 Paytyn DrAllen, TX 75013', '1534 Broadmoor DrAllen, TX 75002', '1322 Lamar LnAllen, TX 75002', '208 S Malone RdAllen, TX 75002', '922 Thistle CirAllen, TX 75002', '1018 Dickens LnAllen, TX 75002', '603 Creekside LnAllen, TX 75002', '440 Fox TrlAllen, TX 75002', '708 Rolling Ridge DrAllen, TX 75002', '801 Melinda DrAllen, TX 75002', '1178 Landon LnAllen, TX 75013', '1717 Terrell DrAllen, TX 75002', '1090 W Exchange Pkwy # C212Allen, TX 75013', '1090 W Exchange Pkwy # C210Allen, TX 75013', '1090 W Exchange Pkwy # C310Allen, TX 75013', '1090 W Exchange Pkwy # F312Allen, TX 75013', '1090 W Exchange Pkwy # H308Allen, TX 75013', '1090 W Exchange Pkwy # F308Allen, TX 75013', '1090 W Exchange Pkwy # Q112Allen, TX 75013', '1090 W Exchange Pkwy # C306Allen, TX 75013', '301 S Jupiter RdAllen, TX 75002', '301 N Greenville AveAllen, TX 75002', '325 S Jupiter Rd Apt 327Allen, TX 75002', '315 N Greenville AveAllen, TX 75002', '1400 Andrews PkwyAllen, TX 75002', '930 Ridgeview DrAllen, TX 75013', '1420 W McDermott DrAllen, TX 75013', '1090 W Exchange PkwyAllen, TX 75013', '1845 Chelsea BlvdAllen, TX 75013', '1500 S Jupiter RdAllen, TX 75002', '935 Garden Park DrAllen, TX 75013', '659 Junction DrAllen, TX 75013', '1160 Montgomery BlvdAllen, TX 75013', '860 Junction DrAllen, TX 75013', '1280 Montgomery BlvdAllen, TX 75013', '705 Bray Central DrAllen, TX 75013', '1300 N Custer RdAllen, TX 75013', '1175 Montgomery BlvdAllen, TX 75013']\n"
     ]
    }
   ],
   "source": [
    "#len(addresses)\n",
    "print(addresses)"
   ]
  },
  {
   "cell_type": "code",
   "execution_count": 12,
   "id": "2f2f754c",
   "metadata": {},
   "outputs": [
    {
     "name": "stdout",
     "output_type": "stream",
     "text": [
      "['$2,050', '$3,400', '$1,346 - $2,620', '$1,553 - $2,825', '$2,950', '$2,650', '$2,395', '$2,125', '$2,705', '$3,170', '$2,550', '$2,975', '$2,335', '$3,500', '$2,500', '$2,820', '$1,465', '$1,465', '$1,465', '$1,380', '$1,380', '$1,265', '$1,265', '$1,265', '$1,395 - $2,380', '$1,400 - $1,665', '$1,499 - $1,979', '$1,191 - $1,820', '$1,524 - $2,544', '$1,230 - $2,972', '$1,259 - $2,029', '$1,240 - $1,885', '$1,310 - $2,230', '$1,350 - $1,499', '$1,475 - $3,110', '$1,395 - $2,330', '$1,363 - $3,276', '$1,266 - $2,415', '$1,505 - $3,455', '$1,564 - $2,196', '$1,296 - $2,458', '$1,477 - $2,768']\n"
     ]
    }
   ],
   "source": [
    "#len(list_prices)\n",
    "print(list_prices)"
   ]
  },
  {
   "cell_type": "code",
   "execution_count": 14,
   "id": "173976f1",
   "metadata": {},
   "outputs": [
    {
     "name": "stdout",
     "output_type": "stream",
     "text": [
      "['For Rent - House', 'For Rent - House', 'For Rent - Apartment', 'For Rent - Apartment', 'For Rent - House', 'For Rent - House', 'For Rent - House', 'For Rent - House', 'For Rent - House', 'For Rent - House', 'For Rent - House', 'For Rent - House', 'For Rent - House', 'For Rent - House', 'For Rent - Townhome', 'For Rent - Townhome', 'For Rent - Apartment', 'For Rent - Apartment', 'For Rent - Apartment', 'For Rent - Apartment', 'For Rent - Apartment', 'For Rent - Apartment', 'For Rent - Apartment', 'For Rent - Apartment', 'For Rent - Apartment', 'For Rent - Apartment', 'For Rent - Apartment', 'For Rent - Apartment', 'For Rent - Apartment', 'For Rent - Apartment', 'For Rent - Apartment', 'For Rent - Apartment', 'For Rent - Apartment', 'For Rent - Apartment', 'For Rent - Apartment', 'For Rent - Apartment', 'For Rent - Apartment', 'For Rent - Apartment', 'For Rent - Apartment', 'For Rent - Apartment', 'For Rent - Apartment', 'For Rent - Apartment']\n"
     ]
    }
   ],
   "source": [
    "#len(property_types)\n",
    "print(property_types)"
   ]
  },
  {
   "cell_type": "code",
   "execution_count": 16,
   "id": "09451633",
   "metadata": {},
   "outputs": [
    {
     "name": "stdout",
     "output_type": "stream",
     "text": [
      "['3bed', '3bed', '1 - 3bed', '1 - 3bed', '3bed', '4bed', '4bed', '3bed', '4bed', '4bed', '4bed', '4bed', '3bed', '5bed', '3bed', '4bed', '1bed', '1bed', '1bed', '1bed', '1bed', '1bed', '1bed', '1bed', '1 - 3bed', '1 - 2bed', '1 - 3bed', '1 - 2bed', '1 - 3bed', '1 - 2bed', '1 - 3bed', '1 - 2bed', '1 - 2bed', '2bed', '1 - 3bed', '1 - 3bed', '1 - 3bed', '1 - 2bed', '1 - 3bed', '1 - 3bed', '1 - 3bed', '1 - 3bed']\n"
     ]
    }
   ],
   "source": [
    "#len(bedrooms)\n",
    "print(bedrooms)"
   ]
  },
  {
   "cell_type": "code",
   "execution_count": 17,
   "id": "1d7f8abb",
   "metadata": {},
   "outputs": [
    {
     "name": "stdout",
     "output_type": "stream",
     "text": [
      "['2bath', '2.5bath', '1 - 2bath', '1 - 2bath', '2.5 - 4bath', '2.5bath', '2.5bath', '2bath', '2.5bath', '2.5bath', '2bath', '2bath', '2bath', '3.5bath', '2bath', '2.5bath', '1bath', '1bath', '1bath', '1bath', '1bath', '1bath', '1bath', '1bath', '1 - 2bath', '1 - 2bath', '1 - 2bath', '1 - 2bath', '1 - 2bath', '1 - 2bath', '1 - 2bath', '1 - 2bath', '1 - 2bath', '1 - 2bath', '1 - 2bath', '1 - 2bath', '1 - 3bath', '1 - 2bath', '1 - 2.5bath', '1 - 2bath', '1 - 2bath', '1 - 2bath']\n"
     ]
    }
   ],
   "source": [
    "#len(baths)\n",
    "print(baths)"
   ]
  },
  {
   "cell_type": "code",
   "execution_count": null,
   "id": "e6b2c57c",
   "metadata": {},
   "outputs": [],
   "source": []
  }
 ],
 "metadata": {
  "kernelspec": {
   "display_name": "Python 3 (ipykernel)",
   "language": "python",
   "name": "python3"
  },
  "language_info": {
   "codemirror_mode": {
    "name": "ipython",
    "version": 3
   },
   "file_extension": ".py",
   "mimetype": "text/x-python",
   "name": "python",
   "nbconvert_exporter": "python",
   "pygments_lexer": "ipython3",
   "version": "3.9.12"
  }
 },
 "nbformat": 4,
 "nbformat_minor": 5
}
