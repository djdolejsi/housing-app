{
 "cells": [
  {
   "cell_type": "code",
   "execution_count": 1,
   "id": "88af4014",
   "metadata": {},
   "outputs": [],
   "source": [
    "from splinter import Browser\n",
    "from bs4 import BeautifulSoup\n",
    "from webdriver_manager.chrome import ChromeDriverManager\n",
    "import os \n",
    "import time "
   ]
  },
  {
   "cell_type": "code",
   "execution_count": 2,
   "id": "087f5093",
   "metadata": {},
   "outputs": [],
   "source": [
    "executable_path = {'executable_path': ChromeDriverManager().install()}\n",
    "browser = Browser('chrome', **executable_path, headless=False)"
   ]
  },
  {
   "cell_type": "code",
   "execution_count": 3,
   "id": "eb469637",
   "metadata": {},
   "outputs": [],
   "source": [
    "url = 'https://www.realtor.com/apartments/Richardson_TX'\n",
    "\n",
    "browser.visit(url)"
   ]
  },
  {
   "cell_type": "code",
   "execution_count": 4,
   "id": "82fc2bb3",
   "metadata": {},
   "outputs": [],
   "source": [
    "html = browser.html\n",
    "soup = BeautifulSoup(html, 'html.parser')"
   ]
  },
  {
   "cell_type": "code",
   "execution_count": 5,
   "id": "2409c005",
   "metadata": {},
   "outputs": [],
   "source": [
    "property_cards = soup.find_all('div', class_='CardContent__StyledCardContent-rui__sc-7ptz1z-0 echMdB card-content')"
   ]
  },
  {
   "cell_type": "code",
   "execution_count": 6,
   "id": "3e76aafe",
   "metadata": {},
   "outputs": [],
   "source": [
    "addresses = []\n",
    "list_prices = []\n",
    "property_types = []\n",
    "bedrooms = []\n",
    "baths = []\n",
    "for card in property_cards: \n",
    "  \n",
    "        address = card.find('div', class_='content-col-left')\n",
    "        addresses.append(address.text)\n",
    "\n",
    "        prop_type = card.find('div', class_='styles__StyledStatusBadge-rui__hewb9n-0 eiNeel')\n",
    "        property_types.append(prop_type.text)\n",
    "    \n",
    "        beds = card.find('li', class_='styles__StyledPropertyBedMeta-rui__jbdr1y-0 gUHOjr')\n",
    "        bedrooms.append(beds.text)\n",
    "        try: \n",
    "            bath = card.find('li', class_='styles__StyledPropertyBathMeta-rui__sc-6egb6z-0 dqxXcq')\n",
    "            baths.append(bath.text)\n",
    "    \n",
    "            price = card.find('div', class_='Price__Component-rui__x3geed-0 ibnFqH card-price')\n",
    "            list_prices.append(price.text)\n",
    "        except AttributeError as e:\n",
    "            print('Not available')"
   ]
  },
  {
   "cell_type": "code",
   "execution_count": 7,
   "id": "4b457063",
   "metadata": {},
   "outputs": [
    {
     "name": "stdout",
     "output_type": "stream",
     "text": [
      "['891 Dublin Dr Apt ARichardson, TX 75080', '823 Saint Paul CtRichardson, TX 75080', '110 W Cityline Dr Unit 10411798Richardson, TX 75082', '110 W Cityline 195857 Dr Unit 3041Richardson, TX 75082', '110 W Cityline 316406 Dr Unit 5014Richardson, TX 75082', '6 Briarcrest CtRichardson, TX 75081', '2507 Valley FrgRichardson, TX 75080', '10000 S Sherman StRichardson, TX 75081', '415 Jolee StRichardson, TX 75080', '411 E Polk St Apt 4Richardson, TX 75081', '744 Brick Row Dr Apt 2362Richardson, TX 75081', '744 Brick Row Dr # 1455Richardson, TX 75081', '744 Brick Row Dr # 1325Richardson, TX 75081', '744 Brick Row Dr Apt 2463Richardson, TX 75081', '744 Brick Row Dr # 1230Richardson, TX 75081', '744 Brick Row Dr Apt 2232Richardson, TX 75081', '333 Melrose Dr Apt 27DRichardson, TX 75080', '901 E Campbell RdRichardson, TX 75081', '411 E Polk St Apt 2Richardson, TX 75081', '914 S Waterview DrRichardson, TX 75080', '418 Fairview DrRichardson, TX 75081', '5802 Edinburg DrRichardson, TX 75082', '2043 Fairmeadow DrRichardson, TX 75080', '333 Melrose Dr Apt 22BRichardson, TX 75080', '2525 Empire DrRichardson, TX 75080', '110 W Cityline 507064 Dr Unit 5030Richardson, TX 75082', '1050 Galatyn PkwyRichardson, TX 75082', '613 Clearwood DrRichardson, TX 75081', '1125 E Renner RdRichardson, TX 75082', '939 Allegheny CtRichardson, TX 75080', '1330 W Spring Valley RdRichardson, TX 75080', '535 E Buckingham RdRichardson, TX 75081', '411 Buckingham 658872 Rd Unit 415Richardson, TX 75081', '411 Buckingham 515577 Rd Unit 716Richardson, TX 75081', '3521 Wilshire WayRichardson, TX 75082', '951 Abrams RdRichardson, TX 75081', '1520 Richardson DrRichardson, TX 75080', '110 W Cityline 46959 Dr Unit 3066Richardson, TX 75082', '2220 N Glenville AveRichardson, TX 75082', '601 W Renner RdRichardson, TX 75080', '925 S Waterview DrRichardson, TX 75080', '2301 Performance DrRichardson, TX 75082']\n"
     ]
    }
   ],
   "source": [
    "#len(addresses)\n",
    "print(addresses)"
   ]
  },
  {
   "cell_type": "code",
   "execution_count": 8,
   "id": "2f2f754c",
   "metadata": {},
   "outputs": [
    {
     "name": "stdout",
     "output_type": "stream",
     "text": [
      "['$1,650', '$2,400', '$1,869', '$1,797', '$1,906', '$2,500', '$2,650', '$845', '$1,800', '$1,100', '$1,310', '$1,345', '$1,355', '$1,380', '$1,390', '$1,310', '$1,700', '$1,800', '$1,250', '$2,600', '$2,699', '$2,800', '$3,000', '$2,000', '$1,341 - $2,080', '$1,995', '$1,468 - $3,221', '$1,190', '$1,477 - $2,816', '$1,365 - $2,065', '$1,460 - $1,920', '$1,298 - $1,798', '$1,895', '$1,950', '$1,614 - $3,824', '$1,499 - $2,416', '$1,519 - $2,473', '$1,830', '$1,625 - $2,450', '$1,235 - $1,395', '$850 - $1,699', '$1,437 - $2,463']\n"
     ]
    }
   ],
   "source": [
    "#len(list_prices)\n",
    "print(list_prices)"
   ]
  },
  {
   "cell_type": "code",
   "execution_count": 9,
   "id": "173976f1",
   "metadata": {},
   "outputs": [
    {
     "name": "stdout",
     "output_type": "stream",
     "text": [
      "['For Rent - House', 'For Rent - House', 'For Rent - Apartment', 'For Rent - Apartment', 'For Rent - Apartment', 'For Rent - House', 'For Rent - House', 'For Rent - Other', 'For Rent - House', 'For Rent - Condo', 'For Rent - Apartment', 'For Rent - Apartment', 'For Rent - Apartment', 'For Rent - Apartment', 'For Rent - Apartment', 'For Rent - Apartment', 'For Rent - House', 'For Rent - Apartment', 'For Rent - Condo', 'For Rent - House', 'For Rent - House', 'For Rent - House', 'For Rent - House', 'For Rent - Condo', 'For Rent - Apartment', 'For Rent - Apartment', 'For Rent - Apartment', 'For Rent - Apartment', 'For Rent - Apartment', 'For Rent - Apartment', 'For Rent - Apartment', 'For Rent - Apartment', 'For Rent - Apartment', 'For Rent - Apartment', 'For Rent - Apartment', 'For Rent - Apartment', 'For Rent - Apartment', 'For Rent - Apartment', 'For Rent - Apartment', 'For Rent - Apartment', 'For Rent - Apartment', 'For Rent - Apartment']\n"
     ]
    }
   ],
   "source": [
    "#len(property_types)\n",
    "print(property_types)"
   ]
  },
  {
   "cell_type": "code",
   "execution_count": 10,
   "id": "09451633",
   "metadata": {},
   "outputs": [
    {
     "name": "stdout",
     "output_type": "stream",
     "text": [
      "['1bed', '3bed', 'Studio', 'Studio', 'Studio', '3bed', '4bed', '1bed', '3bed', '1bed', 'Studio', 'Studio', 'Studio', 'Studio', 'Studio', 'Studio', '2bed', 'Studio', '2bed', '3bed', '3bed', '4bed', '3bed', '2bed', 'Studio - 3bed', 'Studio', '1 - 3bed', '1bed', '1 - 2bed', '1 - 3bed', '2 - 3bed', '1 - 2bed', '1bed', '1bed', '1 - 3bed', '1 - 3bed', '1 - 3bed', 'Studio', '1 - 3bed', '1 - 2bed', 'Studio - 3bed', '1 - 3bed']\n"
     ]
    }
   ],
   "source": [
    "#len(bedrooms)\n",
    "print(bedrooms)"
   ]
  },
  {
   "cell_type": "code",
   "execution_count": 11,
   "id": "1d7f8abb",
   "metadata": {},
   "outputs": [
    {
     "name": "stdout",
     "output_type": "stream",
     "text": [
      "['1.5bath', '2bath', '1bath', '1bath', '1bath', '2.5bath', '3bath', '1bath', '1bath', '1bath', '1bath', '1bath', '1bath', '1bath', '1bath', '1bath', '1.5bath', '1bath', '1bath', '2bath', '2bath', '2bath', '2bath', '2bath', '1 - 2bath', '1bath', '1 - 2bath', '1bath', '1 - 4bath', '1 - 2bath', '1 - 2.5bath', '1 - 2bath', '1bath', '1bath', '1 - 3bath', '1 - 2bath', '1 - 2bath', '1bath', '1 - 2bath', '1 - 2bath', '1 - 2bath', '1 - 2.5bath']\n"
     ]
    }
   ],
   "source": [
    "#len(baths)\n",
    "print(baths)"
   ]
  },
  {
   "cell_type": "code",
   "execution_count": null,
   "id": "e6b2c57c",
   "metadata": {},
   "outputs": [],
   "source": []
  }
 ],
 "metadata": {
  "kernelspec": {
   "display_name": "Python 3 (ipykernel)",
   "language": "python",
   "name": "python3"
  },
  "language_info": {
   "codemirror_mode": {
    "name": "ipython",
    "version": 3
   },
   "file_extension": ".py",
   "mimetype": "text/x-python",
   "name": "python",
   "nbconvert_exporter": "python",
   "pygments_lexer": "ipython3",
   "version": "3.9.12"
  }
 },
 "nbformat": 4,
 "nbformat_minor": 5
}
