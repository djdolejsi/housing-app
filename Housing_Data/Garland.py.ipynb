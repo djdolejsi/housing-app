{
 "cells": [
  {
   "cell_type": "code",
   "execution_count": 1,
   "id": "31e9b218",
   "metadata": {},
   "outputs": [],
   "source": [
    "from splinter import Browser\n",
    "from bs4 import BeautifulSoup\n",
    "from webdriver_manager.chrome import ChromeDriverManager\n",
    "from geopy.geocoders import Nominatim\n",
    "geolocator = Nominatim(user_agent=\"garlandbuy app\")\n",
    "import pandas as pd"
   ]
  },
  {
   "cell_type": "code",
   "execution_count": 2,
   "id": "33bb065c",
   "metadata": {},
   "outputs": [],
   "source": [
    "# Setup splinter\n",
    "executable_path = {'executable_path': ChromeDriverManager().install()}\n",
    "browser = Browser('chrome', **executable_path, headless=False)"
   ]
  },
  {
   "cell_type": "code",
   "execution_count": 9,
   "id": "df2aed15",
   "metadata": {},
   "outputs": [],
   "source": [
    "html = browser.html\n",
    "soup = BeautifulSoup(html, 'html.parser')"
   ]
  },
  {
   "cell_type": "code",
   "execution_count": 10,
   "id": "c94a30f9",
   "metadata": {},
   "outputs": [],
   "source": [
    "# Stack Overflow URL to scrape\n",
    "gar_url = 'https://www.mydallashomefinder.com/listing?utm_campaign=SNDTX%3A%20Dallas%20County%20-%20Zip%20Codes&utm_medium=cpc&pageSize=24&zoom=12&pageNum=2&utm_term=homes%20sale%2075220%20Dallas%20Texas&page=1&msclkid=9653aafd9dd215d71837c9942c264c70&utm_source=bing&utm_content=75220&key=Garland%2C%20TX&keywordType=city&purchaseType-For-Sale-Rent=1'\n",
    "# Retrieve page with the requests module\n",
    "browser.visit(gar_url)"
   ]
  },
  {
   "cell_type": "code",
   "execution_count": 11,
   "id": "09737b41",
   "metadata": {},
   "outputs": [],
   "source": [
    "for x in range (2):\n",
    "    #x = 1\n",
    "    html = browser.html\n",
    "    soup = BeautifulSoup(html, 'html.parser')\n",
    "    location  = soup.find_all('p', class_='house-address')\n",
    "    cost = soup.find_all('p', class_='house-price')\n",
    "    #list names \n",
    "    addresses = []\n",
    "    price = []\n",
    "    #append lists\n",
    "    for i, y in zip(location, cost):\n",
    "        addresses.append(i.text)\n",
    "        price.append(y.text)"
   ]
  },
  {
   "cell_type": "code",
   "execution_count": 12,
   "id": "0cd93943",
   "metadata": {},
   "outputs": [
    {
     "name": "stdout",
     "output_type": "stream",
     "text": [
      "['1726 Novel Circle, Garland, TX 75040', '1905 Ridgecrest Drive, Garland, TX 75042', '317 Camilla Lane, Garland, TX 75040', '2113 Lansdowne Drive, Garland, TX 75040', '1909 Wyndemere Lane, Garland, TX 75042', '338 Myrtle Beach Drive, Garland, TX 75040', '4015 Norwich Drive, Garland, TX 75043', '3510 University Drive, Garland, TX 75043', '1857 Mcclary Street, Garland, TX 75040', '3017 Club Country Drive, Garland, TX 75043', '3410 Morning Star Lane, Garland, TX 75043', '314 Ridgegate Drive, Garland, TX 75040', '1918 Toler Trail, Garland, TX 75043', '3930 Classic Drive, Garland, TX 75042', '1809 Angelina Drive, Garland, TX 75040', '3437 Castle Rock Lane, Garland, TX 75044', '301 Quintana Drive, Garland, TX 75043', '3025 Waterfront Circle, Garland, TX 75042', '1234 Goldenrod Drive, Garland, TX 75043', '2014 Valley Creek Drive, Garland, TX 75040', '2914 Branch Oaks Drive, Garland, TX 75043', '1513 Danbury Drive, Garland, TX 75040', '1426 Deepwood Drive, Garland, TX 75040', '437 Brookview Drive, Garland, TX 75043']\n"
     ]
    }
   ],
   "source": [
    "print(addresses)"
   ]
  },
  {
   "cell_type": "code",
   "execution_count": 13,
   "id": "4d1c2dea",
   "metadata": {},
   "outputs": [
    {
     "name": "stdout",
     "output_type": "stream",
     "text": [
      "['\\n                $269,900\\n            ', '\\n                $274,990\\n            ', '\\n                $330,000\\n            ', '\\n                $449,800\\n            ', '\\n                $235,000\\n            ', '\\n                $698,848\\n            ', '\\n                $529,000\\n            ', '\\n                $390,000\\n            ', '\\n                $599,000\\n            ', '\\n                $385,000\\n            ', '\\n                $395,000\\n            ', '\\n                $382,000\\n            ', '\\n                $459,000\\n            ', '\\n                $271,000\\n            ', '\\n                $266,000\\n            ', '\\n                $353,000\\n            ', '\\n                $321,000\\n            ', '\\n                $307,000\\n            ', '\\n                $326,000\\n            ', '\\n                $335,000\\n            ', '\\n                $310,000\\n            ', '\\n                $399,000\\n            ', '\\n                $276,000\\n            ', '\\n                $408,000\\n            ']\n"
     ]
    }
   ],
   "source": [
    "print(price)"
   ]
  },
  {
   "cell_type": "code",
   "execution_count": 14,
   "id": "343a8856",
   "metadata": {},
   "outputs": [],
   "source": [
    "bbsq = soup.find_all('span', class_='vertical-line')\n",
    "bed_bath_sq = []\n",
    "for x in bbsq:\n",
    "    bed_bath_sq.append(x.text)"
   ]
  },
  {
   "cell_type": "code",
   "execution_count": 15,
   "id": "b67a14c4",
   "metadata": {},
   "outputs": [
    {
     "name": "stdout",
     "output_type": "stream",
     "text": [
      "['3 Beds', '3 Beds', '3 Beds', '3 Beds', '2 Beds', '3 Beds', '5 Beds', '4 Beds', '4 Beds', '3 Beds', '3 Beds', '3 Beds', '4 Beds', '3 Beds', '3 Beds', '4 Beds', '3 Beds', '3 Beds', '3 Beds', '3 Beds', '3 Beds', '5 Beds', '3 Beds', '4 Beds']\n"
     ]
    }
   ],
   "source": [
    "sub = bed_bath_sq[::3]\n",
    "print(sub)"
   ]
  },
  {
   "cell_type": "code",
   "execution_count": 16,
   "id": "5b18f44f",
   "metadata": {},
   "outputs": [],
   "source": [
    "beds = []\n",
    "for x in sub:\n",
    "    beds.append(x)"
   ]
  },
  {
   "cell_type": "code",
   "execution_count": 17,
   "id": "66b64307",
   "metadata": {},
   "outputs": [
    {
     "name": "stdout",
     "output_type": "stream",
     "text": [
      "['2 Baths', '2 Baths', '2 Baths', '3 Baths', '2 Baths', '3 Baths', '4 Baths', '3 Baths', '4 Baths', '3 Baths', '3 Baths', '2 Baths', '3 Baths', '2 Baths', '2 Baths', '3 Baths', '2 Baths', '2 Baths', '2 Baths', '2 Baths', '2 Baths', '3 Baths', '2 Baths', '2 Baths']\n"
     ]
    }
   ],
   "source": [
    "sub1 = bed_bath_sq[1::3]\n",
    "print(sub1)"
   ]
  },
  {
   "cell_type": "code",
   "execution_count": 18,
   "id": "fd1c13e6",
   "metadata": {},
   "outputs": [],
   "source": [
    "baths = []\n",
    "for y in sub1:\n",
    "    baths.append(y)"
   ]
  },
  {
   "cell_type": "code",
   "execution_count": 19,
   "id": "6ee1e461",
   "metadata": {},
   "outputs": [
    {
     "name": "stdout",
     "output_type": "stream",
     "text": [
      "['1,306 SqFt', '1,471 SqFt', '1,740 SqFt', '1,719 SqFt', '1,290 SqFt', '2,477 SqFt', '3,381 SqFt', '2,566 SqFt', '3,507 SqFt', '2,085 SqFt', '2,073 SqFt', '1,636 SqFt', '2,831 SqFt', '1,353 SqFt', '1,308 SqFt', '2,220 SqFt', '1,696 SqFt', '1,659 SqFt', '1,795 SqFt', '1,640 SqFt', '2,049 SqFt', '2,958 SqFt', '1,579 SqFt', '1,691 SqFt']\n"
     ]
    }
   ],
   "source": [
    "sub2 = bed_bath_sq[2::3]\n",
    "print(sub2)"
   ]
  },
  {
   "cell_type": "code",
   "execution_count": 20,
   "id": "88dba3a7",
   "metadata": {},
   "outputs": [],
   "source": [
    "sqft = []\n",
    "for z in sub2:\n",
    "    sqft.append(z)"
   ]
  },
  {
   "cell_type": "code",
   "execution_count": 21,
   "id": "35936693",
   "metadata": {},
   "outputs": [],
   "source": [
    "garland_buy = pd.DataFrame({\n",
    "    \"Address\": addresses,\n",
    "    \"Price\": price,\n",
    "    \"Number of Bedrooms\": beds,\n",
    "    \"Number of Bathrooms\": baths,\n",
    "    \"Square Feet\": sqft\n",
    "})"
   ]
  },
  {
   "cell_type": "code",
   "execution_count": 23,
   "id": "bc5d58fa",
   "metadata": {},
   "outputs": [],
   "source": [
    "garland_buy[\"loc\"] = garland_buy[\"Address\"].apply(geolocator.geocode)\n",
    "garland_buy[\"point\"]= garland_buy[\"loc\"].apply(lambda loc: tuple(loc.point) if loc else None)"
   ]
  },
  {
   "cell_type": "code",
   "execution_count": 24,
   "id": "99ca788f",
   "metadata": {},
   "outputs": [
    {
     "name": "stdout",
     "output_type": "stream",
     "text": [
      "                                       Address  \\\n",
      "0         1726 Novel Circle, Garland, TX 75040   \n",
      "1     1905 Ridgecrest Drive, Garland, TX 75042   \n",
      "2          317 Camilla Lane, Garland, TX 75040   \n",
      "3      2113 Lansdowne Drive, Garland, TX 75040   \n",
      "4       1909 Wyndemere Lane, Garland, TX 75042   \n",
      "5    338 Myrtle Beach Drive, Garland, TX 75040   \n",
      "6        4015 Norwich Drive, Garland, TX 75043   \n",
      "7     3510 University Drive, Garland, TX 75043   \n",
      "8       1857 Mcclary Street, Garland, TX 75040   \n",
      "9   3017 Club Country Drive, Garland, TX 75043   \n",
      "10   3410 Morning Star Lane, Garland, TX 75043   \n",
      "11      314 Ridgegate Drive, Garland, TX 75040   \n",
      "12         1918 Toler Trail, Garland, TX 75043   \n",
      "13       3930 Classic Drive, Garland, TX 75042   \n",
      "14      1809 Angelina Drive, Garland, TX 75040   \n",
      "15    3437 Castle Rock Lane, Garland, TX 75044   \n",
      "16       301 Quintana Drive, Garland, TX 75043   \n",
      "17   3025 Waterfront Circle, Garland, TX 75042   \n",
      "18     1234 Goldenrod Drive, Garland, TX 75043   \n",
      "19  2014 Valley Creek Drive, Garland, TX 75040   \n",
      "20   2914 Branch Oaks Drive, Garland, TX 75043   \n",
      "21       1513 Danbury Drive, Garland, TX 75040   \n",
      "22      1426 Deepwood Drive, Garland, TX 75040   \n",
      "23      437 Brookview Drive, Garland, TX 75043   \n",
      "\n",
      "                                       Price Number of Bedrooms  \\\n",
      "0   \\n                $269,900\\n                         3 Beds   \n",
      "1   \\n                $274,990\\n                         3 Beds   \n",
      "2   \\n                $330,000\\n                         3 Beds   \n",
      "3   \\n                $449,800\\n                         3 Beds   \n",
      "4   \\n                $235,000\\n                         2 Beds   \n",
      "5   \\n                $698,848\\n                         3 Beds   \n",
      "6   \\n                $529,000\\n                         5 Beds   \n",
      "7   \\n                $390,000\\n                         4 Beds   \n",
      "8   \\n                $599,000\\n                         4 Beds   \n",
      "9   \\n                $385,000\\n                         3 Beds   \n",
      "10  \\n                $395,000\\n                         3 Beds   \n",
      "11  \\n                $382,000\\n                         3 Beds   \n",
      "12  \\n                $459,000\\n                         4 Beds   \n",
      "13  \\n                $271,000\\n                         3 Beds   \n",
      "14  \\n                $266,000\\n                         3 Beds   \n",
      "15  \\n                $353,000\\n                         4 Beds   \n",
      "16  \\n                $321,000\\n                         3 Beds   \n",
      "17  \\n                $307,000\\n                         3 Beds   \n",
      "18  \\n                $326,000\\n                         3 Beds   \n",
      "19  \\n                $335,000\\n                         3 Beds   \n",
      "20  \\n                $310,000\\n                         3 Beds   \n",
      "21  \\n                $399,000\\n                         5 Beds   \n",
      "22  \\n                $276,000\\n                         3 Beds   \n",
      "23  \\n                $408,000\\n                         4 Beds   \n",
      "\n",
      "   Number of Bathrooms Square Feet  \\\n",
      "0              2 Baths  1,306 SqFt   \n",
      "1              2 Baths  1,471 SqFt   \n",
      "2              2 Baths  1,740 SqFt   \n",
      "3              3 Baths  1,719 SqFt   \n",
      "4              2 Baths  1,290 SqFt   \n",
      "5              3 Baths  2,477 SqFt   \n",
      "6              4 Baths  3,381 SqFt   \n",
      "7              3 Baths  2,566 SqFt   \n",
      "8              4 Baths  3,507 SqFt   \n",
      "9              3 Baths  2,085 SqFt   \n",
      "10             3 Baths  2,073 SqFt   \n",
      "11             2 Baths  1,636 SqFt   \n",
      "12             3 Baths  2,831 SqFt   \n",
      "13             2 Baths  1,353 SqFt   \n",
      "14             2 Baths  1,308 SqFt   \n",
      "15             3 Baths  2,220 SqFt   \n",
      "16             2 Baths  1,696 SqFt   \n",
      "17             2 Baths  1,659 SqFt   \n",
      "18             2 Baths  1,795 SqFt   \n",
      "19             2 Baths  1,640 SqFt   \n",
      "20             2 Baths  2,049 SqFt   \n",
      "21             3 Baths  2,958 SqFt   \n",
      "22             2 Baths  1,579 SqFt   \n",
      "23             2 Baths  1,691 SqFt   \n",
      "\n",
      "                                                  loc  \\\n",
      "0   (1726, Novel Circle, Garland, Dallas County, T...   \n",
      "1   (1905, Ridgecrest Drive, Garland, Dallas Count...   \n",
      "2   (317, Camilla Lane, Garland, Dallas County, Te...   \n",
      "3   (2113, Lansdowne Drive, Garland, Dallas County...   \n",
      "4   (1909, Wyndemere Lane, Garland, Dallas County,...   \n",
      "5   (Myrtle Beach Drive, Garland, Dallas County, T...   \n",
      "6   (4015, Norwich Drive, Lakeview, Garland, Dalla...   \n",
      "7   (3510, University Drive, Centerville, Garland,...   \n",
      "8   (1857, McClary Street, Enclave of Emerald Fore...   \n",
      "9   (3017, Club Country Drive, Centerville, Garlan...   \n",
      "10  (3410, Morning Star Lane, Garland, Dallas Coun...   \n",
      "11  (314, Ridgegate Drive, Garland, Dallas County,...   \n",
      "12  (1918, Toler Trail, Garland, Dallas County, Te...   \n",
      "13  (3930, Classic Drive, Garland, Dallas County, ...   \n",
      "14  (1809, Angelina Drive, Garland, Dallas County,...   \n",
      "15  (3437, Castle Rock Lane, Garland, Dallas Count...   \n",
      "16  (301, Quintana Drive, Garland, Dallas County, ...   \n",
      "17  (3025, Waterfront Circle, Garland, Dallas Coun...   \n",
      "18  (1234, Goldenrod Drive, Rose Hill, Garland, Da...   \n",
      "19  (2014, Valley Creek Drive, Garland, Dallas Cou...   \n",
      "20  (2914, Branch Oaks Drive, Garland, Dallas Coun...   \n",
      "21  (1513, Danbury Drive, Garland, Dallas County, ...   \n",
      "22  (1426, Deepwood Drive, Garland, Dallas County,...   \n",
      "23  (437, Brookview Drive, Garland, Dallas County,...   \n",
      "\n",
      "                                            point  \n",
      "0    (32.89460531210896, -96.60922357646307, 0.0)  \n",
      "1    (32.89609567976692, -96.65794247026184, 0.0)  \n",
      "2    (32.92845198811124, -96.63346451658686, 0.0)  \n",
      "3    (32.93319368060262, -96.64193070409874, 0.0)  \n",
      "4    (32.92990185022387, -96.69859588204082, 0.0)  \n",
      "5                  (32.9132212, -96.6128393, 0.0)  \n",
      "6    (32.86236768613185, -96.56898748165213, 0.0)  \n",
      "7      (32.87197779262966, -96.623528732696, 0.0)  \n",
      "8   (32.967151910868026, -96.60495359615959, 0.0)  \n",
      "9   (32.879692166666665, -96.61560366666667, 0.0)  \n",
      "10    (32.87717316547754, -96.5947547142929, 0.0)  \n",
      "11   (32.94373956540245, -96.63176557351434, 0.0)  \n",
      "12   (32.87384893907766, -96.60212168935485, 0.0)  \n",
      "13  (32.915478769230766, -96.69018153846153, 0.0)  \n",
      "14   (32.92571447719815, -96.60194519929784, 0.0)  \n",
      "15  (32.965272211081455, -96.68064035408125, 0.0)  \n",
      "16                   (32.856957, -96.625347, 0.0)  \n",
      "17  (32.931035818965626, -96.67460405821251, 0.0)  \n",
      "18  (32.857947200000005, -96.58715714285715, 0.0)  \n",
      "19   (32.94209312657689, -96.60303480689099, 0.0)  \n",
      "20  (32.840938632313815, -96.58480303984375, 0.0)  \n",
      "21  (32.899443209062554, -96.61760186455626, 0.0)  \n",
      "22   (32.92772264213044, -96.61296486531188, 0.0)  \n",
      "23   (32.86158819221328, -96.63444841639722, 0.0)  \n"
     ]
    }
   ],
   "source": [
    "print(garland_buy)"
   ]
  },
  {
   "cell_type": "code",
   "execution_count": 25,
   "id": "5115c273",
   "metadata": {},
   "outputs": [],
   "source": [
    "garland_buy.to_csv(r'../Resources/garland_buy.csv', index = False)"
   ]
  },
  {
   "cell_type": "code",
   "execution_count": null,
   "id": "e6148ae8",
   "metadata": {},
   "outputs": [],
   "source": []
  }
 ],
 "metadata": {
  "kernelspec": {
   "display_name": "Python 3 (ipykernel)",
   "language": "python",
   "name": "python3"
  },
  "language_info": {
   "codemirror_mode": {
    "name": "ipython",
    "version": 3
   },
   "file_extension": ".py",
   "mimetype": "text/x-python",
   "name": "python",
   "nbconvert_exporter": "python",
   "pygments_lexer": "ipython3",
   "version": "3.9.12"
  }
 },
 "nbformat": 4,
 "nbformat_minor": 5
}
