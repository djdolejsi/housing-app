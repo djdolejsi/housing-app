{
 "cells": [
  {
   "cell_type": "code",
   "execution_count": 8,
   "id": "31e9b218",
   "metadata": {},
   "outputs": [],
   "source": [
    "from splinter import Browser\n",
    "from bs4 import BeautifulSoup\n",
    "from webdriver_manager.chrome import ChromeDriverManager"
   ]
  },
  {
   "cell_type": "code",
   "execution_count": 9,
   "id": "33bb065c",
   "metadata": {},
   "outputs": [],
   "source": [
    "# Setup splinter\n",
    "executable_path = {'executable_path': ChromeDriverManager().install()}\n",
    "browser = Browser('chrome', **executable_path, headless=False)"
   ]
  },
  {
   "cell_type": "code",
   "execution_count": 10,
   "id": "df2aed15",
   "metadata": {},
   "outputs": [],
   "source": [
    "html = browser.html\n",
    "soup = BeautifulSoup(html, 'html.parser')"
   ]
  },
  {
   "cell_type": "code",
   "execution_count": 11,
   "id": "c94a30f9",
   "metadata": {},
   "outputs": [],
   "source": [
    "# Stack Overflow URL to scrape\n",
    "gar_url = 'https://www.mydallashomefinder.com/listing?utm_campaign=SNDTX%3A%20Dallas%20County%20-%20Zip%20Codes&utm_medium=cpc&pageSize=24&zoom=12&pageNum=2&utm_term=homes%20sale%2075220%20Dallas%20Texas&page=1&msclkid=9653aafd9dd215d71837c9942c264c70&utm_source=bing&utm_content=75220&key=Garland%2C%20TX&keywordType=city&purchaseType-For-Sale-Rent=1'\n",
    "# Retrieve page with the requests module\n",
    "browser.visit(gar_url)"
   ]
  },
  {
   "cell_type": "code",
   "execution_count": 12,
   "id": "09737b41",
   "metadata": {},
   "outputs": [],
   "source": [
    "for x in range (2):\n",
    "    #x = 1\n",
    "    html = browser.html\n",
    "    soup = BeautifulSoup(html, 'html.parser')\n",
    "    location  = soup.find_all('p', class_='house-address')\n",
    "    cost = soup.find_all('p', class_='house-price')\n",
    "    #list names \n",
    "    addresses = []\n",
    "    price = []\n",
    "    #append lists\n",
    "    for i, y in zip(location, cost):\n",
    "        addresses.append(i.text)\n",
    "        price.append(y.text)"
   ]
  },
  {
   "cell_type": "code",
   "execution_count": 13,
   "id": "0cd93943",
   "metadata": {},
   "outputs": [
    {
     "name": "stdout",
     "output_type": "stream",
     "text": [
      "[<p class=\"house-address\">1314 Wendell Way, Garland, TX 75043</p>, <p class=\"house-address\">1414 Resistol Road, Garland, TX 75042</p>, <p class=\"house-address\">601 Colonial Drive, Garland, TX 75043</p>, <p class=\"house-address\">3210 Kingswood Drive, Garland, TX 75040</p>, <p class=\"house-address\">1321 Linden Lane, Garland, TX 75040</p>, <p class=\"house-address\">1909 Wyndemere Lane, Garland, TX 75042</p>, <p class=\"house-address\">1710 Running River Road, Garland, TX 75044</p>, <p class=\"house-address\">2609 Silver Creek Court, Garland, TX 75040</p>, <p class=\"house-address\">3510 University Drive, Garland, TX 75043</p>, <p class=\"house-address\">5202 Fairway Lakes Court, Garland, TX 75044</p>, <p class=\"house-address\">1404 Iroquois Drive, Garland, TX 75043</p>, <p class=\"house-address\">3017 Club Country Drive, Garland, TX 75043</p>, <p class=\"house-address\">3410 Morning Star Lane, Garland, TX 75043</p>, <p class=\"house-address\">314 Ridgegate Drive, Garland, TX 75040</p>, <p class=\"house-address\">2205 Harvest Run, Garland, TX 75040</p>, <p class=\"house-address\">5419 Castleview Lane, Garland, TX 75044</p>, <p class=\"house-address\">3930 Classic Drive, Garland, TX 75042</p>, <p class=\"house-address\">1809 Angelina Drive, Garland, TX 75040</p>, <p class=\"house-address\">3437 Castle Rock Lane, Garland, TX 75044</p>, <p class=\"house-address\">5203 Welbeck Court, Garland, TX 75043</p>, <p class=\"house-address\">3025 Waterfront Circle, Garland, TX 75042</p>, <p class=\"house-address\">1234 Goldenrod Drive, Garland, TX 75043</p>, <p class=\"house-address\">2014 Valley Creek Drive, Garland, TX 75040</p>, <p class=\"house-address\">2914 Branch Oaks Drive, Garland, TX 75043</p>]\n"
     ]
    }
   ],
   "source": [
    "print(location)"
   ]
  },
  {
   "cell_type": "code",
   "execution_count": 14,
   "id": "4d1c2dea",
   "metadata": {},
   "outputs": [
    {
     "name": "stdout",
     "output_type": "stream",
     "text": [
      "[<p class=\"house-price\">\n",
      "                $369,900\n",
      "            </p>, <p class=\"house-price\">\n",
      "                $224,999\n",
      "            </p>, <p class=\"house-price\">\n",
      "                $325,000\n",
      "            </p>, <p class=\"house-price\">\n",
      "                $360,000\n",
      "            </p>, <p class=\"house-price\">\n",
      "                $325,000\n",
      "            </p>, <p class=\"house-price\">\n",
      "                $235,000\n",
      "            </p>, <p class=\"house-price\">\n",
      "                $310,000\n",
      "            </p>, <p class=\"house-price\">\n",
      "                $300,000\n",
      "            </p>, <p class=\"house-price\">\n",
      "                $390,000\n",
      "            </p>, <p class=\"house-price\">\n",
      "                $565,000\n",
      "            </p>, <p class=\"house-price\">\n",
      "                $384,900\n",
      "            </p>, <p class=\"house-price\">\n",
      "                $385,000\n",
      "            </p>, <p class=\"house-price\">\n",
      "                $395,000\n",
      "            </p>, <p class=\"house-price\">\n",
      "                $388,000\n",
      "            </p>, <p class=\"house-price\">\n",
      "                $539,000\n",
      "            </p>, <p class=\"house-price\">\n",
      "                $346,000\n",
      "            </p>, <p class=\"house-price\">\n",
      "                $275,000\n",
      "            </p>, <p class=\"house-price\">\n",
      "                $266,000\n",
      "            </p>, <p class=\"house-price\">\n",
      "                $358,000\n",
      "            </p>, <p class=\"house-price\">\n",
      "                $269,000\n",
      "            </p>, <p class=\"house-price\">\n",
      "                $312,000\n",
      "            </p>, <p class=\"house-price\">\n",
      "                $333,000\n",
      "            </p>, <p class=\"house-price\">\n",
      "                $335,000\n",
      "            </p>, <p class=\"house-price\">\n",
      "                $310,000\n",
      "            </p>]\n"
     ]
    }
   ],
   "source": [
    "print(cost)"
   ]
  },
  {
   "cell_type": "code",
   "execution_count": null,
   "id": "343a8856",
   "metadata": {},
   "outputs": [],
   "source": []
  }
 ],
 "metadata": {
  "kernelspec": {
   "display_name": "Python 3 (ipykernel)",
   "language": "python",
   "name": "python3"
  },
  "language_info": {
   "codemirror_mode": {
    "name": "ipython",
    "version": 3
   },
   "file_extension": ".py",
   "mimetype": "text/x-python",
   "name": "python",
   "nbconvert_exporter": "python",
   "pygments_lexer": "ipython3",
   "version": "3.9.12"
  }
 },
 "nbformat": 4,
 "nbformat_minor": 5
}
