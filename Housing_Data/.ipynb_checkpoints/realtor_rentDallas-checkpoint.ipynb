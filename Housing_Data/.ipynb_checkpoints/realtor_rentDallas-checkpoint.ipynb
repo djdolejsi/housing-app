{
 "cells": [
  {
   "cell_type": "code",
   "execution_count": 1,
   "id": "88af4014",
   "metadata": {},
   "outputs": [],
   "source": [
    "from splinter import Browser\n",
    "from bs4 import BeautifulSoup\n",
    "from webdriver_manager.chrome import ChromeDriverManager\n",
    "import os \n",
    "import time "
   ]
  },
  {
   "cell_type": "code",
   "execution_count": 2,
   "id": "087f5093",
   "metadata": {},
   "outputs": [],
   "source": [
    "executable_path = {'executable_path': ChromeDriverManager().install()}\n",
    "browser = Browser('chrome', **executable_path, headless=False)"
   ]
  },
  {
   "cell_type": "code",
   "execution_count": 3,
   "id": "eb469637",
   "metadata": {},
   "outputs": [],
   "source": [
    "url = 'https://www.realtor.com/apartments/Dallas_TX'\n",
    "\n",
    "browser.visit(url)"
   ]
  },
  {
   "cell_type": "code",
   "execution_count": 4,
   "id": "82fc2bb3",
   "metadata": {},
   "outputs": [],
   "source": [
    "html = browser.html\n",
    "soup = BeautifulSoup(html, 'html.parser')"
   ]
  },
  {
   "cell_type": "code",
   "execution_count": 5,
   "id": "2409c005",
   "metadata": {},
   "outputs": [],
   "source": [
    "property_cards = soup.find_all('div', class_='CardContent__StyledCardContent-rui__sc-7ptz1z-0 echMdB card-content')"
   ]
  },
  {
   "cell_type": "code",
   "execution_count": 6,
   "id": "3e76aafe",
   "metadata": {},
   "outputs": [
    {
     "name": "stdout",
     "output_type": "stream",
     "text": [
      "Not available\n",
      "Not available\n"
     ]
    }
   ],
   "source": [
    "street_addresses = []\n",
    "city_zips = []\n",
    "list_prices = []\n",
    "property_types = []\n",
    "bedrooms = []\n",
    "baths = []\n",
    "for card in property_cards: \n",
    "  \n",
    "        street_address = card.find('div', attrs={'data-testid':'card-address-1','class':'truncate-line'})\n",
    "        street_addresses.append(street_address.text)\n",
    "        \n",
    "        city_zip = card.find('div', attrs={'data-testid':'card-address-2','class':'truncate-line'})\n",
    "        city_zips.append(city_zip.text)\n",
    "\n",
    "        prop_type = card.find('div', class_='styles__StyledStatusBadge-rui__hewb9n-0 eiNeel')\n",
    "        property_types.append(prop_type.text)\n",
    "    \n",
    "        beds = card.find('li', class_='styles__StyledPropertyBedMeta-rui__jbdr1y-0 gUHOjr')\n",
    "        bedrooms.append(beds.text)\n",
    "        try: \n",
    "            bath = card.find('li', class_='styles__StyledPropertyBathMeta-rui__sc-6egb6z-0 dqxXcq')\n",
    "            baths.append(bath.text)\n",
    "    \n",
    "            price = card.find('div', class_='Price__Component-rui__x3geed-0 ibnFqH card-price')\n",
    "            list_prices.append(price.text)\n",
    "        except AttributeError as e:\n",
    "                print('Not available')"
   ]
  },
  {
   "cell_type": "code",
   "execution_count": 7,
   "id": "4b457063",
   "metadata": {},
   "outputs": [
    {
     "name": "stdout",
     "output_type": "stream",
     "text": [
      "['736 W 7th St Apt 4', '2936 Sundial Dr-2936 Sundial Dr', '9670 Forest Ln', '13270 Noel Rd', '7421 Frankford Rd', '1A Unit Bedroom', '3592 Lampasas 1B Ave Unit Bedroom', '3427 Cedar Springs Rd Unit 7207-2', '3592 Lampasas 1D Ave Unit Bedroom', '4822 Baldwin St', '3627 Reese Dr', '10248 Regal Oaks Bldg Dr E Ste A', '17812 River Chase Dr', '7475 Brentcove Cir', '9696 Walnut St Apt 1902', '2715 Southland St', '4040 Avondale Ave Apt 206', '11334 Park Central Pl Apt C', '9696 Walnut St Apt 1512', '9696 Walnut St Apt 1503', '9696 Walnut St Apt 1506', '2851 Frost Ave', '6140 Rincon Way', '8775 Halstead Ct', '2425 Victory Ave', '1955 Market Center Blvd', '1210 Botham Jean Blvd', '18959 Lina St', '18800 Lina 942928 St Unit 1702', '4300 Horizon North Pkwy Apt 522', '4300 Horizon North Pkwy Apt 736', '3637 Trinity Mills Rd', '5902 Preston Oaks Rd', '14222 Dallas Pkwy', '2600 Highland Rd', '6431 Ridgecrest Rd', '14601 Montfort Dr', '18949 Marsh Ln', '10570 Stone Canyon Rd', '4912 Haverwood Ln', '12250 Abrams Rd', '9010 Markville Dr']\n"
     ]
    }
   ],
   "source": [
    "print(street_addresses)"
   ]
  },
  {
   "cell_type": "code",
   "execution_count": 8,
   "id": "53e1195f",
   "metadata": {},
   "outputs": [
    {
     "name": "stdout",
     "output_type": "stream",
     "text": [
      "['Dallas, TX 75208', 'Dallas, TX 75229', 'Dallas, TX 75243', 'Dallas, TX 75240', 'Dallas, TX 75252', 'Dallas, TX 75233', 'Dallas, TX 75233', 'Dallas, TX 75219', 'Dallas, TX 75233', 'Dallas, TX 75210', 'Dallas, TX 75210', 'Dallas, TX 75230', 'Dallas, TX 75287', 'Dallas, TX 75214', 'Dallas, TX 75243', 'Dallas, TX 75215', 'Dallas, TX 75219', 'Dallas, TX 75230', 'Dallas, TX 75243', 'Dallas, TX 75243', 'Dallas, TX 75243', 'Dallas, TX 75215', 'Dallas, TX 75214', 'Dallas, TX 75243', 'Dallas, TX 75219', 'Dallas, TX 75207', 'Dallas, TX 75215', 'Dallas, TX 75287', 'Dallas, TX 75287', 'Dallas, TX 75287', 'Dallas, TX 75287', 'Dallas, TX 75287', 'Dallas, TX 75254', 'Dallas, TX 75254', 'Dallas, TX 75228', 'Dallas, TX 75231', 'Dallas, TX 75254', 'Dallas, TX 75287', 'Dallas, TX 75230', 'Dallas, TX 75287', 'Dallas, TX 75243', 'Dallas, TX 75243']\n"
     ]
    }
   ],
   "source": [
    "print(city_zips)"
   ]
  },
  {
   "cell_type": "code",
   "execution_count": 9,
   "id": "2f2f754c",
   "metadata": {},
   "outputs": [
    {
     "name": "stdout",
     "output_type": "stream",
     "text": [
      "['$900', '$795 - $1,479', '$1,552 - $2,740', '$550', '$575', '$2,340', '$600', '$950', '$950', '$995', '$3,200', '$2,300', '$895', '$1,100', '$2,000', '$1,700', '$895', '$895', '$895', '$950', '$2,350', '$2,750', '$1,725 - $2,540', '$1,421 - $2,272', '$1,120 - $1,960', '$955 - $1,375', '$1,972', '$1,749', '$1,759', '$1,232 - $1,820', '$1,302 - $1,635', '$1,216 - $1,794', '$920 - $1,170', '$899 - $1,199', '$1,180 - $1,810', '$1,111 - $1,718', '$995 - $1,275', '$1,236 - $1,547', '$1,080 - $1,230', '$1,175 - $1,705']\n"
     ]
    }
   ],
   "source": [
    "print(list_prices)"
   ]
  },
  {
   "cell_type": "code",
   "execution_count": 10,
   "id": "173976f1",
   "metadata": {},
   "outputs": [
    {
     "name": "stdout",
     "output_type": "stream",
     "text": [
      "['For Rent - House', 'For Rent - House', 'For Rent - Apartment', 'For Rent - Apartment', 'For Rent - Apartment', 'For Rent - House', 'For Rent - House', 'For Rent - Apartment', 'For Rent - House', 'For Rent - House', 'For Rent - House', 'For Rent - House', 'For Rent - House', 'For Rent - House', 'For Rent - House', 'For Rent - House', 'For Rent - House', 'For Rent - House', 'For Rent - House', 'For Rent - House', 'For Rent - House', 'For Rent - House', 'For Rent - House', 'For Rent - House', 'For Rent - Apartment', 'For Rent - Apartment', 'For Rent - Apartment', 'For Rent - Apartment', 'For Rent - Apartment', 'For Rent - Apartment', 'For Rent - Apartment', 'For Rent - Apartment', 'For Rent - Apartment', 'For Rent - Apartment', 'For Rent - Apartment', 'For Rent - Apartment', 'For Rent - Apartment', 'For Rent - Apartment', 'For Rent - Apartment', 'For Rent - Apartment', 'For Rent - Apartment', 'For Rent - Apartment']\n"
     ]
    }
   ],
   "source": [
    "print(property_types)"
   ]
  },
  {
   "cell_type": "code",
   "execution_count": 11,
   "id": "09451633",
   "metadata": {},
   "outputs": [
    {
     "name": "stdout",
     "output_type": "stream",
     "text": [
      "['Studio', 'Studio', '1 - 2bed', 'Studio', '1 - 3bed', '1bed', '1bed', '2bed', '1bed', '2bed', '2bed', '1bed', '5bed', '2bed', '1bed', '3bed', '2bed', '2bed', '1bed', '1bed', '1bed', '2bed', '2bed', '3bed', 'Studio - 2bed', '1 - 2bed', 'Studio - 2bed', 'Studio - 2bed', '1bed', '1bed', '1bed', '1 - 2bed', '1 - 2bed', '1 - 2bed', '1 - 2bed', '1 - 2bed', '1 - 2bed', '1 - 2bed', '1 - 2bed', '1 - 2bed', '1 - 2bed', '1 - 3bed']\n"
     ]
    }
   ],
   "source": [
    "print(bedrooms)"
   ]
  },
  {
   "cell_type": "code",
   "execution_count": 12,
   "id": "1d7f8abb",
   "metadata": {},
   "outputs": [
    {
     "name": "stdout",
     "output_type": "stream",
     "text": [
      "['1bath', '1 - 2.5bath', '1 - 2bath', '1bath', '1bath', '2bath', '1bath', '1bath', '1bath', '1bath', '3.5+bath', '2bath', '1bath', '2bath', '2.5bath', '2bath', '1bath', '1bath', '1bath', '1bath', '2bath', '3.5bath', '1 - 2bath', '1 - 2bath', '1 - 2bath', '1 - 2bath', '1bath', '1bath', '1bath', '1 - 2bath', '1 - 2bath', '1 - 2bath', '1 - 2bath', '1 - 2bath', '1 - 2bath', '1 - 2bath', '1 - 2bath', '1 - 2bath', '1bath', '1 - 2bath']\n"
     ]
    }
   ],
   "source": [
    "print(baths)"
   ]
  },
  {
   "cell_type": "code",
   "execution_count": null,
   "id": "e6b2c57c",
   "metadata": {},
   "outputs": [],
   "source": []
  }
 ],
 "metadata": {
  "kernelspec": {
   "display_name": "Python 3 (ipykernel)",
   "language": "python",
   "name": "python3"
  },
  "language_info": {
   "codemirror_mode": {
    "name": "ipython",
    "version": 3
   },
   "file_extension": ".py",
   "mimetype": "text/x-python",
   "name": "python",
   "nbconvert_exporter": "python",
   "pygments_lexer": "ipython3",
   "version": "3.9.12"
  }
 },
 "nbformat": 4,
 "nbformat_minor": 5
}
