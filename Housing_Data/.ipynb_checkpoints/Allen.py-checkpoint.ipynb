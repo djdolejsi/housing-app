{
 "cells": [
  {
   "cell_type": "code",
   "execution_count": 1,
   "id": "01eb5cd2",
   "metadata": {},
   "outputs": [],
   "source": [
    "from splinter import Browser\n",
    "from bs4 import BeautifulSoup\n",
    "from webdriver_manager.chrome import ChromeDriverManager"
   ]
  },
  {
   "cell_type": "code",
   "execution_count": 2,
   "id": "5372defd",
   "metadata": {},
   "outputs": [],
   "source": [
    "# Setup splinter\n",
    "executable_path = {'executable_path': ChromeDriverManager().install()}\n",
    "browser = Browser('chrome', **executable_path, headless=False)"
   ]
  },
  {
   "cell_type": "code",
   "execution_count": 3,
   "id": "0d94c02d",
   "metadata": {},
   "outputs": [],
   "source": [
    "html = browser.html\n",
    "soup = BeautifulSoup(html, 'html.parser')"
   ]
  },
  {
   "cell_type": "code",
   "execution_count": 4,
   "id": "0a0a7930",
   "metadata": {},
   "outputs": [],
   "source": [
    "# Stack Overflow URL to scrape\n",
    "allen_url = 'https://www.mydallashomefinder.com/listing?utm_campaign=SNDTX%3A%20Dallas%20County%20-%20Zip%20Codes&utm_medium=cpc&pageSize=24&zoom=12&pageNum=2&utm_term=homes%20sale%2075220%20Dallas%20Texas&page=1&msclkid=9653aafd9dd215d71837c9942c264c70&utm_source=bing&utm_content=75220&key=Allen%2C%20TX&keywordType=city&purchaseType-For-Sale-Rent=1'\n",
    "# Retrieve page with the requests module\n",
    "browser.visit(allen_url)"
   ]
  },
  {
   "cell_type": "code",
   "execution_count": 5,
   "id": "0d9a4a42",
   "metadata": {
    "scrolled": true
   },
   "outputs": [],
   "source": [
    "for x in range (2):\n",
    "    #x = 1\n",
    "    html = browser.html\n",
    "    soup = BeautifulSoup(html, 'html.parser')\n",
    "    location  = soup.find_all('p', class_='house-address')\n",
    "    cost = soup.find_all('p', class_='house-price')\n",
    "    bbsq = soup.find_all('span' class_='vertical-line')\n",
    "    #list names \n",
    "    addresses = []\n",
    "    price = []\n",
    "    bbsq = []\n",
    "    #append lists\n",
    "    for i, y, x in zip(location, cost, bbsq):\n",
    "        addresses.append(i.text)\n",
    "        price.append(y.text)\n",
    "        bbsq.append(x)\n",
    "\n",
    "            #print('next page')\n",
    "    \n",
    "    #browser.links.find_by_partial_text(\" 2 \").click()"
   ]
  },
  {
   "cell_type": "code",
   "execution_count": 6,
   "id": "df2c90f8",
   "metadata": {},
   "outputs": [
    {
     "name": "stdout",
     "output_type": "stream",
     "text": [
      "[<p class=\"house-address\">1045 Bandelier Drive, Allen, TX 75013</p>, <p class=\"house-address\">402 Ola Lane, Allen, TX 75013</p>, <p class=\"house-address\">1613 Ponderosa Drive, Allen, TX 75002</p>, <p class=\"house-address\">602 Huntington Lane, Allen, TX 75002</p>, <p class=\"house-address\">1507 Winterbrook Court, Allen, TX 75002</p>, <p class=\"house-address\">1433 Glendover Drive, Allen, TX 75013</p>, <p class=\"house-address\">1322 Crestview Drive, Allen, TX 75002</p>, <p class=\"house-address\">1001 Roaring Springs Drive, Allen, TX 75002</p>, <p class=\"house-address\">918 Blackstone Drive, Allen, TX 75002</p>, <p class=\"house-address\">1002 Pin Oak Lane, Allen, TX 75002</p>, <p class=\"house-address\">822 Weeping Willow Court, Allen, TX 75002</p>, <p class=\"house-address\">912 Fairlawn Street, Allen, TX 75002</p>, <p class=\"house-address\">1615 Georgetown Drive, Allen, TX 75013</p>, <p class=\"house-address\">11 Oxford Way, Allen, TX 75002</p>, <p class=\"house-address\">1408 Country Lane, Allen, TX 75002</p>, <p class=\"house-address\">1960 Sweetwater Lane, Allen, TX 75013</p>, <p class=\"house-address\">1121 Shady Oaks Court, Allen, TX 75002</p>, <p class=\"house-address\">1525 Winding Trail Drive, Allen, TX 75002</p>, <p class=\"house-address\">805 Green Brook Drive, Allen, TX 75002</p>, <p class=\"house-address\">1000 Navarro Drive, Allen, TX 75013</p>, <p class=\"house-address\">872 Starcreek Parkway, Allen, TX 75013</p>, <p class=\"house-address\">924 Rosemoor Drive, Allen, TX 75013</p>, <p class=\"house-address\">701 Chandler Court, Allen, TX 75002</p>, <p class=\"house-address\">2048 Palace Way, Allen, TX 75013</p>]\n"
     ]
    }
   ],
   "source": [
    "print(location)"
   ]
  },
  {
   "cell_type": "code",
   "execution_count": null,
   "id": "397592b2",
   "metadata": {},
   "outputs": [],
   "source": []
  },
  {
   "cell_type": "code",
   "execution_count": null,
   "id": "c0fc71d5",
   "metadata": {},
   "outputs": [],
   "source": []
  }
 ],
 "metadata": {
  "kernelspec": {
   "display_name": "Python 3 (ipykernel)",
   "language": "python",
   "name": "python3"
  },
  "language_info": {
   "codemirror_mode": {
    "name": "ipython",
    "version": 3
   },
   "file_extension": ".py",
   "mimetype": "text/x-python",
   "name": "python",
   "nbconvert_exporter": "python",
   "pygments_lexer": "ipython3",
   "version": "3.9.12"
  }
 },
 "nbformat": 4,
 "nbformat_minor": 5
}
