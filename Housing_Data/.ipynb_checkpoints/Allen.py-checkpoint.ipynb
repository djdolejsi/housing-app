{
 "cells": [
  {
   "cell_type": "code",
   "execution_count": 22,
   "id": "01eb5cd2",
   "metadata": {},
   "outputs": [],
   "source": [
    "from splinter import Browser\n",
    "from bs4 import BeautifulSoup\n",
    "from webdriver_manager.chrome import ChromeDriverManager\n",
    "from geopy.geocoders import Nominatim\n",
    "geolocator = Nominatim(user_agent=\"allenbuy app\")\n",
    "import pandas as pd"
   ]
  },
  {
   "cell_type": "code",
   "execution_count": 2,
   "id": "5372defd",
   "metadata": {},
   "outputs": [
    {
     "name": "stderr",
     "output_type": "stream",
     "text": [
      "[WDM] - Downloading: 100%|█████████████████| 8.41M/8.41M [00:01<00:00, 7.38MB/s]\n"
     ]
    }
   ],
   "source": [
    "# Setup splinter\n",
    "executable_path = {'executable_path': ChromeDriverManager().install()}\n",
    "browser = Browser('chrome', **executable_path, headless=False)"
   ]
  },
  {
   "cell_type": "code",
   "execution_count": 3,
   "id": "0d94c02d",
   "metadata": {},
   "outputs": [],
   "source": [
    "html = browser.html\n",
    "soup = BeautifulSoup(html, 'html.parser')"
   ]
  },
  {
   "cell_type": "code",
   "execution_count": 4,
   "id": "0a0a7930",
   "metadata": {},
   "outputs": [],
   "source": [
    "# Stack Overflow URL to scrape\n",
    "allen_url = 'https://www.mydallashomefinder.com/listing?utm_campaign=SNDTX%3A%20Dallas%20County%20-%20Zip%20Codes&utm_medium=cpc&pageSize=24&zoom=12&pageNum=2&utm_term=homes%20sale%2075220%20Dallas%20Texas&page=1&msclkid=9653aafd9dd215d71837c9942c264c70&utm_source=bing&utm_content=75220&key=Allen%2C%20TX&keywordType=city&purchaseType-For-Sale-Rent=1'\n",
    "# Retrieve page with the requests module\n",
    "browser.visit(allen_url)"
   ]
  },
  {
   "cell_type": "code",
   "execution_count": 5,
   "id": "0d9a4a42",
   "metadata": {
    "scrolled": true
   },
   "outputs": [],
   "source": [
    "for x in range (2):\n",
    "    #x = 1\n",
    "    html = browser.html\n",
    "    soup = BeautifulSoup(html, 'html.parser')\n",
    "    location  = soup.find_all('p', class_='house-address')\n",
    "    cost = soup.find_all('p', class_='house-price')\n",
    "    #bbsq = soup.find_all('span', class_='vertical-line')\n",
    "    #list names \n",
    "    addresses = []\n",
    "    price = []\n",
    "    #bbsq = []\n",
    "    #append lists\n",
    "    for i, y in zip(location, cost):\n",
    "        addresses.append(i.text)\n",
    "        price.append(y.text)\n",
    "        #bbsq.append(x.text)\n",
    "\n",
    "            #print('next page')\n",
    "    \n",
    "    #browser.links.find_by_partial_text(\" 2 \").click()"
   ]
  },
  {
   "cell_type": "code",
   "execution_count": 6,
   "id": "df2c90f8",
   "metadata": {},
   "outputs": [
    {
     "name": "stdout",
     "output_type": "stream",
     "text": [
      "['1635 Lakeside Drive, Allen, TX 75002', '728 Fawn Valley Drive, Allen, TX 75002', '1710 Clarke Springs Drive, Allen, TX 75002', '1502 N Crossing Drive, Allen, TX 75002', '806 Lake Highlands Drive, Allen, TX 75002', '1507 Winterbrook Court, Allen, TX 75002', '1433 Glendover Drive, Allen, TX 75013', '1322 Crestview Drive, Allen, TX 75002', '1807 Baltimore Drive, Allen, TX 75002', '1905 Rising Star Drive, Allen, TX 75013', '918 Blackstone Drive, Allen, TX 75002', '1002 Pin Oak Lane, Allen, TX 75002', '822 Weeping Willow Court, Allen, TX 75002', '912 Fairlawn Street, Allen, TX 75002', '1905 Bordeaux Court, Allen, TX 75002', '1968 Sweetwater Lane, Allen, TX 75013', '1960 Sweetwater Lane, Allen, TX 75013', '810 Shallowater Drive, Allen, TX 75013', '918 Green Brook Drive, Allen, TX 75002', '904 Panther Lane, Allen, TX 75013', '706 S Jupiter Road #1303, Allen, TX 75002', '405 Woodlake Drive, Allen, TX 75013', '2038 Wimbledon Drive, Allen, TX 75013', '5 Valleycrest Court, Allen, TX 75002']\n"
     ]
    }
   ],
   "source": [
    "print(addresses)"
   ]
  },
  {
   "cell_type": "code",
   "execution_count": 7,
   "id": "397592b2",
   "metadata": {},
   "outputs": [
    {
     "name": "stdout",
     "output_type": "stream",
     "text": [
      "['\\n                $425,000\\n            ', '\\n                $439,900\\n            ', '\\n                $575,000\\n            ', '\\n                $710,000\\n            ', '\\n                $399,999\\n            ', '\\n                $785,000\\n            ', '\\n                $514,000\\n            ', '\\n                $343,000\\n            ', '\\n                $775,000\\n            ', '\\n                $799,000\\n            ', '\\n                $578,000\\n            ', '\\n                $409,000\\n            ', '\\n                $409,000\\n            ', '\\n                $396,000\\n            ', '\\n                $899,990\\n            ', '\\n                $519,990\\n            ', '\\n                $519,990\\n            ', '\\n                $1,000,000\\n            ', '\\n                $460,000\\n            ', '\\n                $599,000\\n            ', '\\n                $340,000\\n            ', '\\n                $3,395,000\\n            ', '\\n                $439,000\\n            ', '\\n                $425,000\\n            ']\n"
     ]
    }
   ],
   "source": [
    "print(price)"
   ]
  },
  {
   "cell_type": "code",
   "execution_count": 8,
   "id": "c0fc71d5",
   "metadata": {},
   "outputs": [],
   "source": [
    "bbsq = soup.find_all('span', class_='vertical-line')\n",
    "bed_bath_sq = []\n",
    "for x in bbsq:\n",
    "    bed_bath_sq.append(x.text)"
   ]
  },
  {
   "cell_type": "code",
   "execution_count": 9,
   "id": "45740229",
   "metadata": {},
   "outputs": [
    {
     "name": "stdout",
     "output_type": "stream",
     "text": [
      "['3 Beds', '2 Baths', '1,499 SqFt', '4 Beds', '3 Baths', '2,612 SqFt', '5 Beds', '3 Baths', '3,346 SqFt', '5 Beds', '4 Baths', '3,606 SqFt', '5 Beds', '3 Baths', '2,945 SqFt', '5 Beds', '4 Baths', '4,070 SqFt', '4 Beds', '3 Baths', '2,499 SqFt', '3 Beds', '2 Baths', '1,404 SqFt', '4 Beds', '4 Baths', '3,568 SqFt', '4 Beds', '4 Baths', '4,124 SqFt', '5 Beds', '4 Baths', '3,370 SqFt', '4 Beds', '2 Baths', '2,274 SqFt', '3 Beds', '2 Baths', '1,825 SqFt', '4 Beds', '2 Baths', '1,836 SqFt', '6 Beds', '5 Baths', '5,008 SqFt', '3 Beds', '3 Baths', '1,971 SqFt', '3 Beds', '3 Baths', '1,971 SqFt', '4 Beds', '5 Baths', '4,439 SqFt', '3 Beds', '2 Baths', '2,109 SqFt', '4 Beds', '3 Baths', '2,829 SqFt', '4 Beds', '4 Baths', '1,821 SqFt', '5 Beds', '7 Baths', '8,595 SqFt', '4 Beds', '2 Baths', '2,000 SqFt', '3 Beds', '2 Baths', '2,169 SqFt']\n"
     ]
    }
   ],
   "source": [
    "print(bed_bath_sq)"
   ]
  },
  {
   "cell_type": "code",
   "execution_count": 10,
   "id": "a179a62b",
   "metadata": {},
   "outputs": [
    {
     "name": "stdout",
     "output_type": "stream",
     "text": [
      "[['3 Beds'], ['2 Baths'], ['1', '499 SqFt'], ['4 Beds'], ['3 Baths'], ['2', '612 SqFt'], ['5 Beds'], ['3 Baths'], ['3', '346 SqFt'], ['5 Beds'], ['4 Baths'], ['3', '606 SqFt'], ['5 Beds'], ['3 Baths'], ['2', '945 SqFt'], ['5 Beds'], ['4 Baths'], ['4', '070 SqFt'], ['4 Beds'], ['3 Baths'], ['2', '499 SqFt'], ['3 Beds'], ['2 Baths'], ['1', '404 SqFt'], ['4 Beds'], ['4 Baths'], ['3', '568 SqFt'], ['4 Beds'], ['4 Baths'], ['4', '124 SqFt'], ['5 Beds'], ['4 Baths'], ['3', '370 SqFt'], ['4 Beds'], ['2 Baths'], ['2', '274 SqFt'], ['3 Beds'], ['2 Baths'], ['1', '825 SqFt'], ['4 Beds'], ['2 Baths'], ['1', '836 SqFt'], ['6 Beds'], ['5 Baths'], ['5', '008 SqFt'], ['3 Beds'], ['3 Baths'], ['1', '971 SqFt'], ['3 Beds'], ['3 Baths'], ['1', '971 SqFt'], ['4 Beds'], ['5 Baths'], ['4', '439 SqFt'], ['3 Beds'], ['2 Baths'], ['2', '109 SqFt'], ['4 Beds'], ['3 Baths'], ['2', '829 SqFt'], ['4 Beds'], ['4 Baths'], ['1', '821 SqFt'], ['5 Beds'], ['7 Baths'], ['8', '595 SqFt'], ['4 Beds'], ['2 Baths'], ['2', '000 SqFt'], ['3 Beds'], ['2 Baths'], ['2', '169 SqFt']]\n"
     ]
    }
   ],
   "source": [
    "bbsq_results = [item.split(',', 3) for item in bed_bath_sq]\n",
    "print(bbsq_results)"
   ]
  },
  {
   "cell_type": "code",
   "execution_count": 11,
   "id": "6c32e23e",
   "metadata": {},
   "outputs": [],
   "source": [
    "sub = bbsq_results[::3]   "
   ]
  },
  {
   "cell_type": "code",
   "execution_count": 12,
   "id": "e75e0663",
   "metadata": {},
   "outputs": [
    {
     "name": "stdout",
     "output_type": "stream",
     "text": [
      "[['3 Beds'], ['4 Beds'], ['5 Beds'], ['5 Beds'], ['5 Beds'], ['5 Beds'], ['4 Beds'], ['3 Beds'], ['4 Beds'], ['4 Beds'], ['5 Beds'], ['4 Beds'], ['3 Beds'], ['4 Beds'], ['6 Beds'], ['3 Beds'], ['3 Beds'], ['4 Beds'], ['3 Beds'], ['4 Beds'], ['4 Beds'], ['5 Beds'], ['4 Beds'], ['3 Beds']]\n"
     ]
    }
   ],
   "source": [
    "print(sub)"
   ]
  },
  {
   "cell_type": "code",
   "execution_count": 13,
   "id": "4c773a8c",
   "metadata": {},
   "outputs": [],
   "source": [
    "beds = []\n",
    "for x in sub:\n",
    "    beds.append(x)"
   ]
  },
  {
   "cell_type": "code",
   "execution_count": 14,
   "id": "d8337a0a",
   "metadata": {},
   "outputs": [
    {
     "name": "stdout",
     "output_type": "stream",
     "text": [
      "[['3 Beds'], ['4 Beds'], ['5 Beds'], ['5 Beds'], ['5 Beds'], ['5 Beds'], ['4 Beds'], ['3 Beds'], ['4 Beds'], ['4 Beds'], ['5 Beds'], ['4 Beds'], ['3 Beds'], ['4 Beds'], ['6 Beds'], ['3 Beds'], ['3 Beds'], ['4 Beds'], ['3 Beds'], ['4 Beds'], ['4 Beds'], ['5 Beds'], ['4 Beds'], ['3 Beds']]\n"
     ]
    }
   ],
   "source": [
    "print (beds)"
   ]
  },
  {
   "cell_type": "code",
   "execution_count": 15,
   "id": "b4907788",
   "metadata": {},
   "outputs": [
    {
     "name": "stdout",
     "output_type": "stream",
     "text": [
      "[['2 Baths'], ['3 Baths'], ['3 Baths'], ['4 Baths'], ['3 Baths'], ['4 Baths'], ['3 Baths'], ['2 Baths'], ['4 Baths'], ['4 Baths'], ['4 Baths'], ['2 Baths'], ['2 Baths'], ['2 Baths'], ['5 Baths'], ['3 Baths'], ['3 Baths'], ['5 Baths'], ['2 Baths'], ['3 Baths'], ['4 Baths'], ['7 Baths'], ['2 Baths'], ['2 Baths']]\n"
     ]
    }
   ],
   "source": [
    "sub1 = bbsq_results[1::3]\n",
    "print(sub1)"
   ]
  },
  {
   "cell_type": "code",
   "execution_count": 16,
   "id": "9031c2fe",
   "metadata": {},
   "outputs": [],
   "source": [
    "baths = []\n",
    "for y in sub1:\n",
    "    baths.append(y)"
   ]
  },
  {
   "cell_type": "code",
   "execution_count": 17,
   "id": "02f72c4d",
   "metadata": {},
   "outputs": [
    {
     "name": "stdout",
     "output_type": "stream",
     "text": [
      "[['2 Baths'], ['3 Baths'], ['3 Baths'], ['4 Baths'], ['3 Baths'], ['4 Baths'], ['3 Baths'], ['2 Baths'], ['4 Baths'], ['4 Baths'], ['4 Baths'], ['2 Baths'], ['2 Baths'], ['2 Baths'], ['5 Baths'], ['3 Baths'], ['3 Baths'], ['5 Baths'], ['2 Baths'], ['3 Baths'], ['4 Baths'], ['7 Baths'], ['2 Baths'], ['2 Baths']]\n"
     ]
    }
   ],
   "source": [
    "print(baths)"
   ]
  },
  {
   "cell_type": "code",
   "execution_count": 18,
   "id": "61ebcd26",
   "metadata": {},
   "outputs": [
    {
     "name": "stdout",
     "output_type": "stream",
     "text": [
      "[['1', '499 SqFt'], ['2', '612 SqFt'], ['3', '346 SqFt'], ['3', '606 SqFt'], ['2', '945 SqFt'], ['4', '070 SqFt'], ['2', '499 SqFt'], ['1', '404 SqFt'], ['3', '568 SqFt'], ['4', '124 SqFt'], ['3', '370 SqFt'], ['2', '274 SqFt'], ['1', '825 SqFt'], ['1', '836 SqFt'], ['5', '008 SqFt'], ['1', '971 SqFt'], ['1', '971 SqFt'], ['4', '439 SqFt'], ['2', '109 SqFt'], ['2', '829 SqFt'], ['1', '821 SqFt'], ['8', '595 SqFt'], ['2', '000 SqFt'], ['2', '169 SqFt']]\n"
     ]
    }
   ],
   "source": [
    "sub2 = bbsq_results[2::3]\n",
    "print(sub2)"
   ]
  },
  {
   "cell_type": "code",
   "execution_count": 19,
   "id": "623aad78",
   "metadata": {},
   "outputs": [],
   "source": [
    "sqft = []\n",
    "for z in sub2:\n",
    "    sqft.append(z)"
   ]
  },
  {
   "cell_type": "code",
   "execution_count": 23,
   "id": "f69992a0",
   "metadata": {},
   "outputs": [],
   "source": [
    "allen_buy = pd.DataFrame({\n",
    "    \"Address\": addresses,\n",
    "    \"Price\": price,\n",
    "    \"Number of Bedrooms\": beds,\n",
    "    \"Number of Bathrooms\": baths,\n",
    "    \"Square Feet\": sqft\n",
    "})"
   ]
  },
  {
   "cell_type": "code",
   "execution_count": 24,
   "id": "dd54a7c6",
   "metadata": {},
   "outputs": [],
   "source": [
    "allen_buy[\"loc\"] = allen_buy[\"Address\"].apply(geolocator.geocode)\n",
    "allen_buy[\"point\"]= allen_buy[\"loc\"].apply(lambda loc: tuple(loc.point) if loc else None)"
   ]
  },
  {
   "cell_type": "code",
   "execution_count": 25,
   "id": "c2e6b8f4",
   "metadata": {},
   "outputs": [
    {
     "name": "stdout",
     "output_type": "stream",
     "text": [
      "                                       Address  \\\n",
      "0         1635 Lakeside Drive, Allen, TX 75002   \n",
      "1       728 Fawn Valley Drive, Allen, TX 75002   \n",
      "2   1710 Clarke Springs Drive, Allen, TX 75002   \n",
      "3       1502 N Crossing Drive, Allen, TX 75002   \n",
      "4    806 Lake Highlands Drive, Allen, TX 75002   \n",
      "5      1507 Winterbrook Court, Allen, TX 75002   \n",
      "6        1433 Glendover Drive, Allen, TX 75013   \n",
      "7        1322 Crestview Drive, Allen, TX 75002   \n",
      "8        1807 Baltimore Drive, Allen, TX 75002   \n",
      "9      1905 Rising Star Drive, Allen, TX 75013   \n",
      "10       918 Blackstone Drive, Allen, TX 75002   \n",
      "11          1002 Pin Oak Lane, Allen, TX 75002   \n",
      "12   822 Weeping Willow Court, Allen, TX 75002   \n",
      "13        912 Fairlawn Street, Allen, TX 75002   \n",
      "14        1905 Bordeaux Court, Allen, TX 75002   \n",
      "15       1968 Sweetwater Lane, Allen, TX 75013   \n",
      "16       1960 Sweetwater Lane, Allen, TX 75013   \n",
      "17      810 Shallowater Drive, Allen, TX 75013   \n",
      "18      918 Green Brook Drive, Allen, TX 75002   \n",
      "19           904 Panther Lane, Allen, TX 75013   \n",
      "20   706 S Jupiter Road #1303, Allen, TX 75002   \n",
      "21         405 Woodlake Drive, Allen, TX 75013   \n",
      "22       2038 Wimbledon Drive, Allen, TX 75013   \n",
      "23        5 Valleycrest Court, Allen, TX 75002   \n",
      "\n",
      "                                         Price Number of Bedrooms  \\\n",
      "0     \\n                $425,000\\n                       [3 Beds]   \n",
      "1     \\n                $439,900\\n                       [4 Beds]   \n",
      "2     \\n                $575,000\\n                       [5 Beds]   \n",
      "3     \\n                $710,000\\n                       [5 Beds]   \n",
      "4     \\n                $399,999\\n                       [5 Beds]   \n",
      "5     \\n                $785,000\\n                       [5 Beds]   \n",
      "6     \\n                $514,000\\n                       [4 Beds]   \n",
      "7     \\n                $343,000\\n                       [3 Beds]   \n",
      "8     \\n                $775,000\\n                       [4 Beds]   \n",
      "9     \\n                $799,000\\n                       [4 Beds]   \n",
      "10    \\n                $578,000\\n                       [5 Beds]   \n",
      "11    \\n                $409,000\\n                       [4 Beds]   \n",
      "12    \\n                $409,000\\n                       [3 Beds]   \n",
      "13    \\n                $396,000\\n                       [4 Beds]   \n",
      "14    \\n                $899,990\\n                       [6 Beds]   \n",
      "15    \\n                $519,990\\n                       [3 Beds]   \n",
      "16    \\n                $519,990\\n                       [3 Beds]   \n",
      "17  \\n                $1,000,000\\n                       [4 Beds]   \n",
      "18    \\n                $460,000\\n                       [3 Beds]   \n",
      "19    \\n                $599,000\\n                       [4 Beds]   \n",
      "20    \\n                $340,000\\n                       [4 Beds]   \n",
      "21  \\n                $3,395,000\\n                       [5 Beds]   \n",
      "22    \\n                $439,000\\n                       [4 Beds]   \n",
      "23    \\n                $425,000\\n                       [3 Beds]   \n",
      "\n",
      "   Number of Bathrooms    Square Feet  \\\n",
      "0            [2 Baths]  [1, 499 SqFt]   \n",
      "1            [3 Baths]  [2, 612 SqFt]   \n",
      "2            [3 Baths]  [3, 346 SqFt]   \n",
      "3            [4 Baths]  [3, 606 SqFt]   \n",
      "4            [3 Baths]  [2, 945 SqFt]   \n",
      "5            [4 Baths]  [4, 070 SqFt]   \n",
      "6            [3 Baths]  [2, 499 SqFt]   \n",
      "7            [2 Baths]  [1, 404 SqFt]   \n",
      "8            [4 Baths]  [3, 568 SqFt]   \n",
      "9            [4 Baths]  [4, 124 SqFt]   \n",
      "10           [4 Baths]  [3, 370 SqFt]   \n",
      "11           [2 Baths]  [2, 274 SqFt]   \n",
      "12           [2 Baths]  [1, 825 SqFt]   \n",
      "13           [2 Baths]  [1, 836 SqFt]   \n",
      "14           [5 Baths]  [5, 008 SqFt]   \n",
      "15           [3 Baths]  [1, 971 SqFt]   \n",
      "16           [3 Baths]  [1, 971 SqFt]   \n",
      "17           [5 Baths]  [4, 439 SqFt]   \n",
      "18           [2 Baths]  [2, 109 SqFt]   \n",
      "19           [3 Baths]  [2, 829 SqFt]   \n",
      "20           [4 Baths]  [1, 821 SqFt]   \n",
      "21           [7 Baths]  [8, 595 SqFt]   \n",
      "22           [2 Baths]  [2, 000 SqFt]   \n",
      "23           [2 Baths]  [2, 169 SqFt]   \n",
      "\n",
      "                                                  loc  \\\n",
      "0   (1635, Lakeside Drive, Allen, Collin County, T...   \n",
      "1   (728, Fawn Valley Drive, Allen, Collin County,...   \n",
      "2   (1710, Clarke Springs Drive, Auburn Springs, A...   \n",
      "3   (1502, North Crossing Drive, Beacon Hill, Alle...   \n",
      "4   (806, Lake Highlands Drive, Fountain Park, All...   \n",
      "5   (1507, Winterbrook Court, Allen, Collin County...   \n",
      "6   (1433, Glendover Drive, Glendover Park, Allen,...   \n",
      "7   (1322, Crestview Drive, Allen, Collin County, ...   \n",
      "8   (1807, Baltimore Drive, Allen, Collin County, ...   \n",
      "9   (1905, Rising Star Drive, Allen, Collin County...   \n",
      "10  (918, Blackstone Drive, Allen, Collin County, ...   \n",
      "11  (1002, Pin Oak Lane, Oak Ridge, Allen, Collin ...   \n",
      "12  (822, Weeping Willow Court, Allen, Collin Coun...   \n",
      "13  (912, Fairlawn Street, Allen, Collin County, T...   \n",
      "14  (1905, Bordeaux Court, Allen, Collin County, T...   \n",
      "15  (Sweetwater Lane, Cottonwood Creek, Allen, Col...   \n",
      "16  (Sweetwater Lane, Cottonwood Creek, Allen, Col...   \n",
      "17  (810, Shallowater Drive, Allen, Collin County,...   \n",
      "18  (918, Green Brook Drive, Fountain Park, Allen,...   \n",
      "19  (904, Panther Lane, Quail Run, Cottonwood Cree...   \n",
      "20                                               None   \n",
      "21  (405, Woodlake Drive, Wimberley Place, Allen, ...   \n",
      "22  (2038, Wimbledon Drive, Custer Hill Estates, A...   \n",
      "23  (5, Valleycrest Court, Fountain Park, Allen, C...   \n",
      "\n",
      "                                            point  \n",
      "0   (33.127024649999996, -96.62958516377714, 0.0)  \n",
      "1    (33.08754920836843, -96.66225524592741, 0.0)  \n",
      "2          (33.10367255, -96.62354027419086, 0.0)  \n",
      "3    (33.10709102040816, -96.70582489795919, 0.0)  \n",
      "4          (33.10848885, -96.65099068030241, 0.0)  \n",
      "5           (33.1214438, -96.61179619508836, 0.0)  \n",
      "6            (33.1204466, -96.7067572464255, 0.0)  \n",
      "7          (33.10795775, -96.63832180109515, 0.0)  \n",
      "8    (33.125284050000005, -96.6209924708086, 0.0)  \n",
      "9     (33.1125151158645, -96.72657505258043, 0.0)  \n",
      "10  (33.082872755389246, -96.65921832859719, 0.0)  \n",
      "11         (33.11333285, -96.63198593974423, 0.0)  \n",
      "12    (33.07767812244898, -96.6594033877551, 0.0)  \n",
      "13   (33.08253257040929, -96.66389521361589, 0.0)  \n",
      "14         (33.12777145, -96.61959012774437, 0.0)  \n",
      "15                 (33.1299473, -96.6679201, 0.0)  \n",
      "16                 (33.1299473, -96.6679201, 0.0)  \n",
      "17                    (33.11168, -96.726852, 0.0)  \n",
      "18  (33.104439884441355, -96.64873114073634, 0.0)  \n",
      "19  (33.124018750000005, -96.67381621658794, 0.0)  \n",
      "20                                           None  \n",
      "21   (33.10560463836279, -96.72123131492312, 0.0)  \n",
      "22    (33.0896706082214, -96.73037751744842, 0.0)  \n",
      "23   (33.109132849999995, -96.6428601906081, 0.0)  \n"
     ]
    }
   ],
   "source": [
    "print(allen_buy)"
   ]
  },
  {
   "cell_type": "code",
   "execution_count": 26,
   "id": "0c19142e",
   "metadata": {},
   "outputs": [],
   "source": [
    "allen_buy.to_csv(r'../Resources/allen_buy.csv', index = False)"
   ]
  },
  {
   "cell_type": "code",
   "execution_count": null,
   "id": "a2bf2fdc",
   "metadata": {},
   "outputs": [],
   "source": []
  }
 ],
 "metadata": {
  "kernelspec": {
   "display_name": "Python 3 (ipykernel)",
   "language": "python",
   "name": "python3"
  },
  "language_info": {
   "codemirror_mode": {
    "name": "ipython",
    "version": 3
   },
   "file_extension": ".py",
   "mimetype": "text/x-python",
   "name": "python",
   "nbconvert_exporter": "python",
   "pygments_lexer": "ipython3",
   "version": "3.9.12"
  }
 },
 "nbformat": 4,
 "nbformat_minor": 5
}
