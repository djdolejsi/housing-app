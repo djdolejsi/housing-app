{
 "cells": [
  {
   "cell_type": "code",
   "execution_count": 1,
   "id": "88af4014",
   "metadata": {},
   "outputs": [],
   "source": [
    "from splinter import Browser\n",
    "from bs4 import BeautifulSoup\n",
    "from webdriver_manager.chrome import ChromeDriverManager\n",
    "import os \n",
    "import time "
   ]
  },
  {
   "cell_type": "code",
   "execution_count": 2,
   "id": "087f5093",
   "metadata": {},
   "outputs": [],
   "source": [
    "executable_path = {'executable_path': ChromeDriverManager().install()}\n",
    "browser = Browser('chrome', **executable_path, headless=False)"
   ]
  },
  {
   "cell_type": "code",
   "execution_count": 3,
   "id": "eb469637",
   "metadata": {},
   "outputs": [],
   "source": [
    "url = 'https://www.realtor.com/apartments/Garland_TX'\n",
    "\n",
    "browser.visit(url)"
   ]
  },
  {
   "cell_type": "code",
   "execution_count": 4,
   "id": "82fc2bb3",
   "metadata": {},
   "outputs": [],
   "source": [
    "html = browser.html\n",
    "soup = BeautifulSoup(html, 'html.parser')"
   ]
  },
  {
   "cell_type": "code",
   "execution_count": 5,
   "id": "2409c005",
   "metadata": {},
   "outputs": [],
   "source": [
    "property_cards = soup.find_all('div', class_='CardContent__StyledCardContent-rui__sc-7ptz1z-0 echMdB card-content')"
   ]
  },
  {
   "cell_type": "code",
   "execution_count": 6,
   "id": "3e76aafe",
   "metadata": {},
   "outputs": [],
   "source": [
    "street_addresses = []\n",
    "city_zips = []\n",
    "list_prices = []\n",
    "property_types = []\n",
    "bedrooms = []\n",
    "baths = []\n",
    "for card in property_cards: \n",
    "  \n",
    "        street_address = card.find('div', attrs={'data-testid':'card-address-1','class':'truncate-line'})\n",
    "        street_addresses.append(street_address.text)\n",
    "        \n",
    "        city_zip = card.find('div', attrs={'data-testid':'card-address-2','class':'truncate-line'})\n",
    "        city_zips.append(city_zip.text)\n",
    "\n",
    "        prop_type = card.find('div', class_='styles__StyledStatusBadge-rui__hewb9n-0 eiNeel')\n",
    "        property_types.append(prop_type.text)\n",
    "    \n",
    "        beds = card.find('li', class_='styles__StyledPropertyBedMeta-rui__jbdr1y-0 gUHOjr')\n",
    "        bedrooms.append(beds.text)\n",
    "        try: \n",
    "            bath = card.find('li', class_='styles__StyledPropertyBathMeta-rui__sc-6egb6z-0 dqxXcq')\n",
    "            baths.append(bath.text)\n",
    "    \n",
    "            price = card.find('div', class_='Price__Component-rui__x3geed-0 ibnFqH card-price')\n",
    "            list_prices.append(price.text)\n",
    "        except AttributeError as e:\n",
    "                print('Not available')"
   ]
  },
  {
   "cell_type": "code",
   "execution_count": 7,
   "id": "4b457063",
   "metadata": {},
   "outputs": [
    {
     "name": "stdout",
     "output_type": "stream",
     "text": [
      "['5722 Marvin Loving Dr', '2806 Poplar Trl', '2735 N Garland Ave', '2701 Lookout Dr', '3232 N Garland Ave', '2201 Woodglen Dr', '2914 W Walnut St', '5710 Galaxie Rd', '7017 Jack Franzen Dr', '711 Meadowcreek Ct', '4705 Cliffwood Dr', '5322 Brookport Dr', '116 Kings Row', '406 San Maria Dr', '1206 Mayapple Dr', '638 W Ridgewood Dr', '2414 Highdale Dr', '2009 Sage Dr', '2379 Apollo Rd # 1123', '6421 Briar Knoll Dr', '914 Eden Crest Dr', '717 Middle Glen Dr', '3941 Queens Ct', '518 Northwind Ln', '4501 N Garland Ave', '6202 Duck Creek Dr', '3401 Bobtown Rd', '782 Gatewood Dr', '305 River Fern Ave', '4901 Peninsula Way', '1759 W Campbell Rd', '1675 W Campbell Rd', '3100 W Walnut St', '1702-1802 Edgefield Dr', '801 LA Prada Dr', '351 N 5th St', '202 N Beltline Rd', '4301 W Walnut St', '2802-2822 Guthrie Rd', '6337 Duck Creek Dr', '6310 Naaman Forest Blvd', '3400 Firewheel Pkwy']\n"
     ]
    }
   ],
   "source": [
    "print(street_addresses)"
   ]
  },
  {
   "cell_type": "code",
   "execution_count": 8,
   "id": "185094ef",
   "metadata": {},
   "outputs": [
    {
     "name": "stdout",
     "output_type": "stream",
     "text": [
      "['Garland, TX 75043', 'Garland, TX 75042', 'Garland, TX 75040', 'Garland, TX 75044', 'Garland, TX 75040', 'Garland, TX 75040', 'Garland, TX 75042', 'Garland, TX 75044', 'Garland, TX 75043', 'Garland, TX 75043', 'Garland, TX 75043', 'Garland, TX 75043', 'Garland, TX 75043', 'Garland, TX 75043', 'Garland, TX 75043', 'Garland, TX 75041', 'Garland, TX 75041', 'Garland, TX 75040', 'Garland, TX 75044', 'Garland, TX 75043', 'Garland, TX 75042', 'Garland, TX 75043', 'Garland, TX 75043', 'Garland, TX 75040', 'Garland, TX 75040', 'Garland, TX 75043', 'Garland, TX 75043', 'Garland, TX 75043', 'Garland, TX 75040', 'Garland, TX 75043', 'Garland, TX 75044', 'Garland, TX 75044', 'Garland, TX 75042', 'Garland, TX 75040', 'Garland, TX 75043', 'Garland, TX 75040', 'Garland, TX 75040', 'Garland, TX 75042', 'Garland, TX 75043', 'Garland, TX 75043', 'Garland, TX 75044', 'Garland, TX 75040']\n"
     ]
    }
   ],
   "source": [
    "print(city_zips)"
   ]
  },
  {
   "cell_type": "code",
   "execution_count": 9,
   "id": "2f2f754c",
   "metadata": {},
   "outputs": [
    {
     "name": "stdout",
     "output_type": "stream",
     "text": [
      "['$1,200', '$1,720', '$1,943 - $2,115', '$1,515 - $1,762', '$1,340 - $1,975', '$2,455', '$822 - $1,257', '$2,000', '$1,980', '$2,390', '$1,795', '$2,120', '$1,500', '$1,795', '$2,195', '$2,200', '$2,415', '$1,975', '$1,617', '$2,100', '$2,400', '$2,230', '$1,700', '$2,200', '$1,371 - $2,436', '$1,378 - $2,139', '$1,322 - $1,940', '$1,370 - $1,630', '$1,215 - $2,090', '$1,384 - $2,077', '$1,547 - $3,263', '$1,499 - $2,199', '$812 - $1,094', '$600 - $1,000', '$1,095 - $1,525', '$1,274 - $1,981', '$1,085 - $1,302', '$765 - $1,250', '$919 - $1,169', '$975 - $1,620', '$1,435 - $2,348', '$1,255 - $2,335']\n"
     ]
    }
   ],
   "source": [
    "print(list_prices)"
   ]
  },
  {
   "cell_type": "code",
   "execution_count": 10,
   "id": "173976f1",
   "metadata": {},
   "outputs": [
    {
     "name": "stdout",
     "output_type": "stream",
     "text": [
      "['For Rent - House', 'For Rent - House', 'For Rent - Apartment', 'For Rent - Apartment', 'For Rent - Apartment', 'For Rent - House', 'For Rent - Other', 'For Rent - House', 'For Rent - House', 'For Rent - House', 'For Rent - House', 'For Rent - House', 'For Rent - House', 'For Rent - House', 'For Rent - House', 'For Rent - House', 'For Rent - House', 'For Rent - House', 'For Rent - Apartment', 'For Rent - House', 'For Rent - House', 'For Rent - House', 'For Rent - House', 'For Rent - House', 'For Rent - Apartment', 'For Rent - Apartment', 'For Rent - Apartment', 'For Rent - Apartment', 'For Rent - Apartment', 'For Rent - Apartment', 'For Rent - Apartment', 'For Rent - Apartment', 'For Rent - Apartment', 'For Rent - Apartment', 'For Rent - Apartment', 'For Rent - Apartment', 'For Rent - Apartment', 'For Rent - Apartment', 'For Rent - Apartment', 'For Rent - Apartment', 'For Rent - Apartment', 'For Rent - Apartment']\n"
     ]
    }
   ],
   "source": [
    "print(property_types)"
   ]
  },
  {
   "cell_type": "code",
   "execution_count": 11,
   "id": "09451633",
   "metadata": {},
   "outputs": [
    {
     "name": "stdout",
     "output_type": "stream",
     "text": [
      "['1bed', '2bed', '2bed', '1 - 2bed', '1 - 2bed', '3bed', 'Studio - 2bed', '3bed', '3bed', '3bed', '3bed', '3bed', '3bed', '3bed', '3bed', '3bed', '4bed', '3bed', 'Studio', '3bed', '4bed', '4bed', '2bed', '4bed', '1 - 3bed', '1 - 3bed', '1 - 2bed', '1 - 3bed', 'Studio - 3bed', '1 - 3bed', '1 - 3bed', '1 - 3bed', 'Studio - 1bed', 'Studio - 2bed', 'Studio - 2bed', 'Studio - 2bed', '1 - 2bed', 'Studio - 2bed', 'Studio - 2bed', 'Studio - 3bed', 'Studio - 3bed', 'Studio - 3bed']\n"
     ]
    }
   ],
   "source": [
    "print(bedrooms)"
   ]
  },
  {
   "cell_type": "code",
   "execution_count": 12,
   "id": "1d7f8abb",
   "metadata": {},
   "outputs": [
    {
     "name": "stdout",
     "output_type": "stream",
     "text": [
      "['1bath', '1bath', '2 - 2.5bath', '1 - 2bath', '1 - 2bath', '2bath', '1bath', '2bath', '2bath', '2bath', '2bath', '2bath', '2bath', '2bath', '2bath', '2bath', '2.5bath', '2bath', '1bath', '2bath', '2bath', '2.5bath', '2bath', '2bath', '1 - 2bath', '1 - 2bath', '1 - 2bath', '1 - 2bath', '1 - 2bath', '1 - 2bath', '1 - 3.5bath', '1 - 2bath', '1bath', '1 - 2bath', '1 - 2bath', '1 - 2bath', '1 - 2bath', '1bath', '1 - 2bath', '1 - 2bath', '1 - 2bath', '1 - 2bath']\n"
     ]
    }
   ],
   "source": [
    "print(baths)"
   ]
  },
  {
   "cell_type": "code",
   "execution_count": null,
   "id": "e6b2c57c",
   "metadata": {},
   "outputs": [],
   "source": []
  }
 ],
 "metadata": {
  "kernelspec": {
   "display_name": "Python 3 (ipykernel)",
   "language": "python",
   "name": "python3"
  },
  "language_info": {
   "codemirror_mode": {
    "name": "ipython",
    "version": 3
   },
   "file_extension": ".py",
   "mimetype": "text/x-python",
   "name": "python",
   "nbconvert_exporter": "python",
   "pygments_lexer": "ipython3",
   "version": "3.9.12"
  }
 },
 "nbformat": 4,
 "nbformat_minor": 5
}
