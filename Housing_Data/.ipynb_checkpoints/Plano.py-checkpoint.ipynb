{
 "cells": [
  {
   "cell_type": "code",
   "execution_count": 1,
   "id": "83fe6178",
   "metadata": {},
   "outputs": [],
   "source": [
    "from splinter import Browser\n",
    "from bs4 import BeautifulSoup\n",
    "from webdriver_manager.chrome import ChromeDriverManager\n",
    "from geopy.geocoders import Nominatim\n",
    "geolocator = Nominatim(user_agent=\"planobuy app\")\n",
    "import pandas as pd"
   ]
  },
  {
   "cell_type": "code",
   "execution_count": 2,
   "id": "80cba3ae",
   "metadata": {},
   "outputs": [],
   "source": [
    "# Setup splinter\n",
    "executable_path = {'executable_path': ChromeDriverManager().install()}\n",
    "browser = Browser('chrome', **executable_path, headless=False)"
   ]
  },
  {
   "cell_type": "code",
   "execution_count": 3,
   "id": "56577cc1",
   "metadata": {},
   "outputs": [],
   "source": [
    "html = browser.html\n",
    "soup = BeautifulSoup(html, 'html.parser')"
   ]
  },
  {
   "cell_type": "code",
   "execution_count": 4,
   "id": "87378aee",
   "metadata": {},
   "outputs": [],
   "source": [
    "# Stack Overflow URL to scrape\n",
    "plano_url = 'https://www.mydallashomefinder.com/listing?utm_campaign=SNDTX%3A%20Dallas%20County%20-%20Zip%20Codes&utm_medium=cpc&pageSize=24&zoom=11&pageNum=2&utm_term=homes%20sale%2075220%20Dallas%20Texas&page=1&msclkid=9653aafd9dd215d71837c9942c264c70&utm_source=bing&utm_content=75220&key=Plano%2C%20TX&keywordType=city&purchaseType-For-Sale-Rent=1'\n",
    "# Retrieve page with the requests module\n",
    "browser.visit(plano_url)"
   ]
  },
  {
   "cell_type": "code",
   "execution_count": 5,
   "id": "0f3b7cec",
   "metadata": {},
   "outputs": [],
   "source": [
    "for x in range (2):\n",
    "    #x = 1\n",
    "    html = browser.html\n",
    "    soup = BeautifulSoup(html, 'html.parser')\n",
    "    location  = soup.find_all('p', class_='house-address')\n",
    "    cost = soup.find_all('p', class_='house-price')\n",
    "    #list names \n",
    "    addresses = []\n",
    "    price = []\n",
    "    #append lists\n",
    "    for i, y in zip(location, cost):\n",
    "        addresses.append(i.text)\n",
    "        price.append(y.text)"
   ]
  },
  {
   "cell_type": "code",
   "execution_count": 6,
   "id": "2fb0aa53",
   "metadata": {},
   "outputs": [
    {
     "name": "stdout",
     "output_type": "stream",
     "text": [
      "['2301 Tamarisk Lane, Plano, TX 75023', '4501 Salerno Circle, Plano, TX 75093', '1209 Quaint Drive, Plano, TX 75094', '5000 Latham Drive, Plano, TX 75023', '7305 Royal Crest Lane, Plano, TX 75025', '3052 Galveston Street, Plano, TX 75075', '2705 Fall Dale Circle, Plano, TX 75075', '3220 Mason Drive, Plano, TX 75025', '2101 Trellis Lane, Plano, TX 75075', '3601 Plymouth Drive, Plano, TX 75023', '2620 Wheeler Bend, Plano, TX 75025', '4509 Lancelot Drive, Plano, TX 75024', '3800 Kite Meadow Drive, Plano, TX 75074', '9832 Sota Grande Drive, Plano, TX 75025', '2213 Vickers Drive, Plano, TX 75075', '4140 Kite Meadow Drive, Plano, TX 75074', '7862 Element Avenue, Plano, TX 75024', '1217 Gannon Drive, Plano, TX 75025', '504 Carmack Drive, Plano, TX 75075', '3513 Twin Lakes Way, Plano, TX 75093', '2804 Oates Drive, Plano, TX 75093', '5913 Sandhills Circle, Plano, TX 75093', '3216 Brewton Drive, Plano, TX 75074', '4308 Cornell Drive, Plano, TX 75093']\n"
     ]
    }
   ],
   "source": [
    "print(addresses)"
   ]
  },
  {
   "cell_type": "code",
   "execution_count": 7,
   "id": "ad167af1",
   "metadata": {},
   "outputs": [],
   "source": [
    "bbsq = soup.find_all('span', class_='vertical-line')\n",
    "bed_bath_sq = []\n",
    "for x in bbsq:\n",
    "    bed_bath_sq.append(x.text)"
   ]
  },
  {
   "cell_type": "code",
   "execution_count": 8,
   "id": "4292de0b",
   "metadata": {},
   "outputs": [
    {
     "name": "stdout",
     "output_type": "stream",
     "text": [
      "['4 Beds', '4 Beds', '4 Beds', '3 Beds', '4 Beds', '3 Beds', '4 Beds', '5 Beds', '4 Beds', '4 Beds', '5 Beds', '4 Beds', '5 Beds', '4 Beds', '4 Beds', '3 Beds', '4 Beds', '3 Beds', '3 Beds', '5 Beds', '3 Beds', '5 Beds', '4 Beds', '4 Beds']\n"
     ]
    }
   ],
   "source": [
    "sub = bed_bath_sq[::3]\n",
    "print(sub)"
   ]
  },
  {
   "cell_type": "code",
   "execution_count": 9,
   "id": "8b7fadf7",
   "metadata": {},
   "outputs": [],
   "source": [
    "beds = []\n",
    "for x in sub:\n",
    "    beds.append(x)"
   ]
  },
  {
   "cell_type": "code",
   "execution_count": 10,
   "id": "02acd46b",
   "metadata": {},
   "outputs": [
    {
     "name": "stdout",
     "output_type": "stream",
     "text": [
      "['3 Baths', '5 Baths', '4 Baths', '2 Baths', '4 Baths', '3 Baths', '2 Baths', '4 Baths', '3 Baths', '3 Baths', '4 Baths', '4 Baths', '4 Baths', '3 Baths', '2 Baths', '3 Baths', '4 Baths', '2 Baths', '3 Baths', '7 Baths', '3 Baths', '4 Baths', '3 Baths', '2 Baths']\n"
     ]
    }
   ],
   "source": [
    "sub1 = bed_bath_sq[1::3]\n",
    "print(sub1)"
   ]
  },
  {
   "cell_type": "code",
   "execution_count": 11,
   "id": "b7c94bea",
   "metadata": {},
   "outputs": [],
   "source": [
    "baths = []\n",
    "for y in sub1:\n",
    "    baths.append(y)"
   ]
  },
  {
   "cell_type": "code",
   "execution_count": 12,
   "id": "7adfe4d4",
   "metadata": {},
   "outputs": [
    {
     "name": "stdout",
     "output_type": "stream",
     "text": [
      "['2,677 SqFt', '3,842 SqFt', '3,251 SqFt', '1,941 SqFt', '3,145 SqFt', '1,867 SqFt', '1,854 SqFt', '4,444 SqFt', '2,483 SqFt', '2,726 SqFt', '3,596 SqFt', '3,977 SqFt', '3,967 SqFt', '3,421 SqFt', '2,039 SqFt', '2,618 SqFt', '2,841 SqFt', '1,846 SqFt', '1,800 SqFt', '8,138 SqFt', '2,636 SqFt', '3,500 SqFt', '2,764 SqFt', '2,189 SqFt']\n"
     ]
    }
   ],
   "source": [
    "sub2 = bed_bath_sq[2::3]\n",
    "print(sub2)"
   ]
  },
  {
   "cell_type": "code",
   "execution_count": 13,
   "id": "9924162f",
   "metadata": {},
   "outputs": [],
   "source": [
    "sqft = []\n",
    "for z in sub2:\n",
    "    sqft.append(z)"
   ]
  },
  {
   "cell_type": "code",
   "execution_count": 14,
   "id": "5d69aea6",
   "metadata": {},
   "outputs": [],
   "source": [
    "plano_buy = pd.DataFrame({\n",
    "    \"Address\": addresses,\n",
    "    \"Price\": price,\n",
    "    \"Number of Bedrooms\": beds,\n",
    "    \"Number of Bathrooms\": baths,\n",
    "    \"Square Feet\": sqft\n",
    "})"
   ]
  },
  {
   "cell_type": "code",
   "execution_count": 15,
   "id": "7680beea",
   "metadata": {},
   "outputs": [],
   "source": [
    "plano_buy[\"loc\"] = plano_buy[\"Address\"].apply(geolocator.geocode)\n",
    "plano_buy[\"point\"]= plano_buy[\"loc\"].apply(lambda loc: tuple(loc.point) if loc else None)"
   ]
  },
  {
   "cell_type": "code",
   "execution_count": 16,
   "id": "e626ef26",
   "metadata": {},
   "outputs": [
    {
     "name": "stdout",
     "output_type": "stream",
     "text": [
      "                                    Address  \\\n",
      "0       2301 Tamarisk Lane, Plano, TX 75023   \n",
      "1      4501 Salerno Circle, Plano, TX 75093   \n",
      "2        1209 Quaint Drive, Plano, TX 75094   \n",
      "3        5000 Latham Drive, Plano, TX 75023   \n",
      "4    7305 Royal Crest Lane, Plano, TX 75025   \n",
      "5    3052 Galveston Street, Plano, TX 75075   \n",
      "6    2705 Fall Dale Circle, Plano, TX 75075   \n",
      "7         3220 Mason Drive, Plano, TX 75025   \n",
      "8        2101 Trellis Lane, Plano, TX 75075   \n",
      "9      3601 Plymouth Drive, Plano, TX 75023   \n",
      "10       2620 Wheeler Bend, Plano, TX 75025   \n",
      "11     4509 Lancelot Drive, Plano, TX 75024   \n",
      "12  3800 Kite Meadow Drive, Plano, TX 75074   \n",
      "13  9832 Sota Grande Drive, Plano, TX 75025   \n",
      "14      2213 Vickers Drive, Plano, TX 75075   \n",
      "15  4140 Kite Meadow Drive, Plano, TX 75074   \n",
      "16     7862 Element Avenue, Plano, TX 75024   \n",
      "17       1217 Gannon Drive, Plano, TX 75025   \n",
      "18       504 Carmack Drive, Plano, TX 75075   \n",
      "19     3513 Twin Lakes Way, Plano, TX 75093   \n",
      "20        2804 Oates Drive, Plano, TX 75093   \n",
      "21   5913 Sandhills Circle, Plano, TX 75093   \n",
      "22      3216 Brewton Drive, Plano, TX 75074   \n",
      "23      4308 Cornell Drive, Plano, TX 75093   \n",
      "\n",
      "                                         Price Number of Bedrooms  \\\n",
      "0     \\n                $615,000\\n                         4 Beds   \n",
      "1     \\n                $850,000\\n                         4 Beds   \n",
      "2     \\n                $868,000\\n                         4 Beds   \n",
      "3     \\n                $375,000\\n                         3 Beds   \n",
      "4     \\n                $629,999\\n                         4 Beds   \n",
      "5     \\n                $460,000\\n                         3 Beds   \n",
      "6     \\n                $427,000\\n                         4 Beds   \n",
      "7   \\n                $1,049,999\\n                         5 Beds   \n",
      "8     \\n                $575,000\\n                         4 Beds   \n",
      "9     \\n                $599,000\\n                         4 Beds   \n",
      "10    \\n                $680,000\\n                         5 Beds   \n",
      "11    \\n                $725,000\\n                         4 Beds   \n",
      "12    \\n                $650,000\\n                         5 Beds   \n",
      "13    \\n                $725,000\\n                         4 Beds   \n",
      "14    \\n                $474,900\\n                         4 Beds   \n",
      "15    \\n                $550,000\\n                         3 Beds   \n",
      "16  \\n                $1,050,000\\n                         4 Beds   \n",
      "17    \\n                $395,000\\n                         3 Beds   \n",
      "18    \\n                $510,000\\n                         3 Beds   \n",
      "19  \\n                $2,699,500\\n                         5 Beds   \n",
      "20    \\n                $655,000\\n                         3 Beds   \n",
      "21    \\n                $839,500\\n                         5 Beds   \n",
      "22    \\n                $518,000\\n                         4 Beds   \n",
      "23    \\n                $420,000\\n                         4 Beds   \n",
      "\n",
      "   Number of Bathrooms Square Feet  \\\n",
      "0              3 Baths  2,677 SqFt   \n",
      "1              5 Baths  3,842 SqFt   \n",
      "2              4 Baths  3,251 SqFt   \n",
      "3              2 Baths  1,941 SqFt   \n",
      "4              4 Baths  3,145 SqFt   \n",
      "5              3 Baths  1,867 SqFt   \n",
      "6              2 Baths  1,854 SqFt   \n",
      "7              4 Baths  4,444 SqFt   \n",
      "8              3 Baths  2,483 SqFt   \n",
      "9              3 Baths  2,726 SqFt   \n",
      "10             4 Baths  3,596 SqFt   \n",
      "11             4 Baths  3,977 SqFt   \n",
      "12             4 Baths  3,967 SqFt   \n",
      "13             3 Baths  3,421 SqFt   \n",
      "14             2 Baths  2,039 SqFt   \n",
      "15             3 Baths  2,618 SqFt   \n",
      "16             4 Baths  2,841 SqFt   \n",
      "17             2 Baths  1,846 SqFt   \n",
      "18             3 Baths  1,800 SqFt   \n",
      "19             7 Baths  8,138 SqFt   \n",
      "20             3 Baths  2,636 SqFt   \n",
      "21             4 Baths  3,500 SqFt   \n",
      "22             3 Baths  2,764 SqFt   \n",
      "23             2 Baths  2,189 SqFt   \n",
      "\n",
      "                                                  loc  \\\n",
      "0                                                None   \n",
      "1   (4501, Salerno Circle, Plano, Collin County, T...   \n",
      "2   (Quaint Drive, Plano, Collin County, Texas, 75...   \n",
      "3   (5000, Latham Drive, Plano, Collin County, Tex...   \n",
      "4   (7305, Royal Crest Lane, Plano, Collin County,...   \n",
      "5                                                None   \n",
      "6   (2705, Fall Dale Circle, Plano, Collin County,...   \n",
      "7   (3220, Mason Drive, Plano, Collin County, Texa...   \n",
      "8   (2101, Trellis Lane, Plano, Collin County, Tex...   \n",
      "9   (3601, Plymouth Drive, Plano, Collin County, T...   \n",
      "10  (2620, Wheeler Bend, Plano, Collin County, Tex...   \n",
      "11  (4509, Lancelot Drive, Plano, Collin County, T...   \n",
      "12  (3800, Kite Meadow Drive, Plano, Collin County...   \n",
      "13  (9832, Sota Grande Drive, Plano, Collin County...   \n",
      "14  (2213, Vickers Drive, Plano, Collin County, Te...   \n",
      "15  (4140, Kite Meadow Drive, Plano, Collin County...   \n",
      "16                                               None   \n",
      "17  (1217, Gannon Drive, Plano, Collin County, Tex...   \n",
      "18                                               None   \n",
      "19  (3513, Twin Lakes Way, Plano, Collin County, T...   \n",
      "20  (2804, Oates Drive, Plano, Collin County, Texa...   \n",
      "21  (5913, Sandhills Circle, Plano, Collin County,...   \n",
      "22  (3216, Brewton Drive, Plano, Collin County, Te...   \n",
      "23  (4308, Cornell Drive, Highlands North #5, Plan...   \n",
      "\n",
      "                                            point  \n",
      "0                                            None  \n",
      "1                    (33.054166, -96.782405, 0.0)  \n",
      "2                   (33.009433, -96.6294082, 0.0)  \n",
      "3    (33.05317600253166, -96.71927009539301, 0.0)  \n",
      "4    (33.07481585201784, -96.72785459273378, 0.0)  \n",
      "5                                            None  \n",
      "6    (33.03771767183581, -96.74512670157122, 0.0)  \n",
      "7     (33.10342955448988, -96.7541541623922, 0.0)  \n",
      "8                    (33.027468, -96.766637, 0.0)  \n",
      "9                    (33.046872, -96.769824, 0.0)  \n",
      "10  (33.097651372093026, -96.74393118604651, 0.0)  \n",
      "11    (33.0769498647649, -96.78034383714783, 0.0)  \n",
      "12                    (33.046395, -96.65713, 0.0)  \n",
      "13   (33.11267435836484, -96.73709227443005, 0.0)  \n",
      "14   (33.03869922448979, -96.73687563265307, 0.0)  \n",
      "15   (33.04602639538465, -96.64656027773043, 0.0)  \n",
      "16                                           None  \n",
      "17   (33.08063717544859, -96.71417112266164, 0.0)  \n",
      "18                                           None  \n",
      "19  (33.045179063290405, -96.80189992029328, 0.0)  \n",
      "20  (33.036887821144624, -96.78319811361995, 0.0)  \n",
      "21         (33.048672999999994, -96.8240954, 0.0)  \n",
      "22   (33.06962029398478, -96.66967499774118, 0.0)  \n",
      "23  (33.021295510204084, -96.77786485714286, 0.0)  \n"
     ]
    }
   ],
   "source": [
    "print(plano_buy)"
   ]
  },
  {
   "cell_type": "code",
   "execution_count": 18,
   "id": "3f409dd2",
   "metadata": {},
   "outputs": [],
   "source": [
    "plano_buy.to_csv(r'../Resources/garland_buy.csv', index = False)"
   ]
  },
  {
   "cell_type": "code",
   "execution_count": null,
   "id": "bf8d45ee",
   "metadata": {},
   "outputs": [],
   "source": []
  }
 ],
 "metadata": {
  "kernelspec": {
   "display_name": "Python 3 (ipykernel)",
   "language": "python",
   "name": "python3"
  },
  "language_info": {
   "codemirror_mode": {
    "name": "ipython",
    "version": 3
   },
   "file_extension": ".py",
   "mimetype": "text/x-python",
   "name": "python",
   "nbconvert_exporter": "python",
   "pygments_lexer": "ipython3",
   "version": "3.9.12"
  }
 },
 "nbformat": 4,
 "nbformat_minor": 5
}
