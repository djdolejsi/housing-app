{
 "cells": [
  {
   "cell_type": "code",
   "execution_count": 1,
   "id": "83fe6178",
   "metadata": {},
   "outputs": [],
   "source": [
    "from splinter import Browser\n",
    "from bs4 import BeautifulSoup\n",
    "from webdriver_manager.chrome import ChromeDriverManager\n",
    "import pandas as pd"
   ]
  },
  {
   "cell_type": "code",
   "execution_count": 2,
   "id": "80cba3ae",
   "metadata": {},
   "outputs": [],
   "source": [
    "# Setup splinter\n",
    "executable_path = {'executable_path': ChromeDriverManager().install()}\n",
    "browser = Browser('chrome', **executable_path, headless=False)"
   ]
  },
  {
   "cell_type": "code",
   "execution_count": 3,
   "id": "56577cc1",
   "metadata": {},
   "outputs": [],
   "source": [
    "html = browser.html\n",
    "soup = BeautifulSoup(html, 'html.parser')"
   ]
  },
  {
   "cell_type": "code",
   "execution_count": 4,
   "id": "87378aee",
   "metadata": {},
   "outputs": [],
   "source": [
    "# Stack Overflow URL to scrape\n",
    "plano_url = 'https://www.mydallashomefinder.com/listing?utm_campaign=SNDTX%3A%20Dallas%20County%20-%20Zip%20Codes&utm_medium=cpc&pageSize=24&zoom=11&pageNum=2&utm_term=homes%20sale%2075220%20Dallas%20Texas&page=1&msclkid=9653aafd9dd215d71837c9942c264c70&utm_source=bing&utm_content=75220&key=Plano%2C%20TX&keywordType=city&purchaseType-For-Sale-Rent=1'\n",
    "# Retrieve page with the requests module\n",
    "browser.visit(plano_url)"
   ]
  },
  {
   "cell_type": "code",
   "execution_count": 5,
   "id": "0f3b7cec",
   "metadata": {},
   "outputs": [],
   "source": [
    "for x in range (2):\n",
    "    #x = 1\n",
    "    html = browser.html\n",
    "    soup = BeautifulSoup(html, 'html.parser')\n",
    "    location  = soup.find_all('p', class_='house-address')\n",
    "    cost = soup.find_all('p', class_='house-price')\n",
    "    #list names \n",
    "    addresses = []\n",
    "    price = []\n",
    "    #append lists\n",
    "    for i, y in zip(location, cost):\n",
    "        addresses.append(i.text)\n",
    "        price.append(y.text)"
   ]
  },
  {
   "cell_type": "code",
   "execution_count": 6,
   "id": "2fb0aa53",
   "metadata": {},
   "outputs": [
    {
     "name": "stdout",
     "output_type": "stream",
     "text": [
      "['920 Ledgemont Drive, Plano, TX 75025', '3101 Townbluff Drive #322, Plano, TX 75075', '2804 Knollwood Drive, Plano, TX 75075', '2308 Flanders Lane, Plano, TX 75025', '3601 Plymouth Drive, Plano, TX 75023', '2620 Wheeler Bend, Plano, TX 75025', '2044 Cannes Drive, Plano, TX 75025', '4509 Lancelot Drive, Plano, TX 75024', '3013 Prestonwood Drive, Plano, TX 75093', '6817 Barbican Drive, Plano, TX 75023', '3042 Montego Place, Plano, TX 75023', '3800 Kite Meadow Drive, Plano, TX 75074', '1912 Jasmine Lane, Plano, TX 75074', '1412 Jabbet Drive, Plano, TX 75025', '5762 Baltic Boulevard, Plano, TX 75024', '2213 Vickers Drive, Plano, TX 75075', '4608 Glenrose Way, Plano, TX 75093', '3416 Snidow Drive, Plano, TX 75025', '6776 Manitowoc Drive, Plano, TX 75023', '7417 Angel Fire Drive, Plano, TX 75025', '3241 Candlewood Trail, Plano, TX 75023', '7709 Cap Rock Drive, Plano, TX 75025', '2416 Raintree Court, Plano, TX 75074', '7604 Zurich Drive, Plano, TX 75025']\n"
     ]
    }
   ],
   "source": [
    "print(addresses)"
   ]
  },
  {
   "cell_type": "code",
   "execution_count": 7,
   "id": "ad167af1",
   "metadata": {},
   "outputs": [],
   "source": [
    "bbsq = soup.find_all('span', class_='vertical-line')\n",
    "bed_bath_sq = []\n",
    "for x in bbsq:\n",
    "    bed_bath_sq.append(x.text)"
   ]
  },
  {
   "cell_type": "code",
   "execution_count": 8,
   "id": "4292de0b",
   "metadata": {},
   "outputs": [
    {
     "name": "stdout",
     "output_type": "stream",
     "text": [
      "['3 Beds', '2 Beds', '4 Beds', '4 Beds', '4 Beds', '5 Beds', '4 Beds', '4 Beds', '3 Beds', '3 Beds', '4 Beds', '4 Beds', '4 Beds', '4 Beds', '3 Beds', '4 Beds', '3 Beds', '5 Beds', '3 Beds', '3 Beds', '4 Beds', '4 Beds', '3 Beds', '4 Beds']\n"
     ]
    }
   ],
   "source": [
    "sub = bed_bath_sq[::3]\n",
    "print(sub)"
   ]
  },
  {
   "cell_type": "code",
   "execution_count": 9,
   "id": "8b7fadf7",
   "metadata": {},
   "outputs": [],
   "source": [
    "beds = []\n",
    "for x in sub:\n",
    "    beds.append(x)"
   ]
  },
  {
   "cell_type": "code",
   "execution_count": 10,
   "id": "02acd46b",
   "metadata": {},
   "outputs": [
    {
     "name": "stdout",
     "output_type": "stream",
     "text": [
      "['2 Baths', '2 Baths', '3 Baths', '3 Baths', '3 Baths', '4 Baths', '3 Baths', '4 Baths', '3 Baths', '3 Baths', '5 Baths', '4 Baths', '3 Baths', '2 Baths', '4 Baths', '2 Baths', '2 Baths', '4 Baths', '3 Baths', '3 Baths', '3 Baths', '3 Baths', '2 Baths', '3 Baths']\n"
     ]
    }
   ],
   "source": [
    "sub1 = bed_bath_sq[1::3]\n",
    "print(sub1)"
   ]
  },
  {
   "cell_type": "code",
   "execution_count": 11,
   "id": "b7c94bea",
   "metadata": {},
   "outputs": [],
   "source": [
    "baths = []\n",
    "for y in sub1:\n",
    "    baths.append(y)"
   ]
  },
  {
   "cell_type": "code",
   "execution_count": 12,
   "id": "7adfe4d4",
   "metadata": {},
   "outputs": [
    {
     "name": "stdout",
     "output_type": "stream",
     "text": [
      "['1,658 SqFt', '1,044 SqFt', '2,583 SqFt', '2,644 SqFt', '2,726 SqFt', '3,596 SqFt', '3,275 SqFt', '3,977 SqFt', '3,359 SqFt', '2,117 SqFt', '3,606 SqFt', '3,967 SqFt', '1,698 SqFt', '2,088 SqFt', '2,301 SqFt', '2,039 SqFt', '2,076 SqFt', '4,168 SqFt', '1,814 SqFt', '2,674 SqFt', '1,981 SqFt', '3,762 SqFt', '1,770 SqFt', '2,459 SqFt']\n"
     ]
    }
   ],
   "source": [
    "sub2 = bed_bath_sq[2::3]\n",
    "print(sub2)"
   ]
  },
  {
   "cell_type": "code",
   "execution_count": 13,
   "id": "9924162f",
   "metadata": {},
   "outputs": [],
   "source": [
    "sqft = []\n",
    "for z in sub2:\n",
    "    sqft.append(z)"
   ]
  },
  {
   "cell_type": "code",
   "execution_count": 14,
   "id": "5d69aea6",
   "metadata": {},
   "outputs": [],
   "source": [
    "plano_buy = pd.DataFrame({\n",
    "    \"Address\": addresses,\n",
    "    \"Price\": price,\n",
    "    \"Number of Bedrooms\": beds,\n",
    "    \"Number of Bathrooms\": baths,\n",
    "    \"Square Feet\": sqft\n",
    "})"
   ]
  },
  {
   "cell_type": "code",
   "execution_count": null,
   "id": "7680beea",
   "metadata": {},
   "outputs": [],
   "source": []
  }
 ],
 "metadata": {
  "kernelspec": {
   "display_name": "Python 3 (ipykernel)",
   "language": "python",
   "name": "python3"
  },
  "language_info": {
   "codemirror_mode": {
    "name": "ipython",
    "version": 3
   },
   "file_extension": ".py",
   "mimetype": "text/x-python",
   "name": "python",
   "nbconvert_exporter": "python",
   "pygments_lexer": "ipython3",
   "version": "3.9.12"
  }
 },
 "nbformat": 4,
 "nbformat_minor": 5
}
