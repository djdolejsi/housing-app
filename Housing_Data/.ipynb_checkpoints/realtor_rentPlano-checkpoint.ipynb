{
 "cells": [
  {
   "cell_type": "code",
   "execution_count": 1,
   "id": "88af4014",
   "metadata": {},
   "outputs": [],
   "source": [
    "from splinter import Browser\n",
    "from bs4 import BeautifulSoup\n",
    "from webdriver_manager.chrome import ChromeDriverManager\n",
    "import os \n",
    "import time "
   ]
  },
  {
   "cell_type": "code",
   "execution_count": 2,
   "id": "087f5093",
   "metadata": {},
   "outputs": [],
   "source": [
    "executable_path = {'executable_path': ChromeDriverManager().install()}\n",
    "browser = Browser('chrome', **executable_path, headless=False)"
   ]
  },
  {
   "cell_type": "code",
   "execution_count": 3,
   "id": "eb469637",
   "metadata": {},
   "outputs": [],
   "source": [
    "url = 'https://www.realtor.com/apartments/Plano_TX'\n",
    "\n",
    "browser.visit(url)"
   ]
  },
  {
   "cell_type": "code",
   "execution_count": 4,
   "id": "82fc2bb3",
   "metadata": {},
   "outputs": [],
   "source": [
    "html = browser.html\n",
    "soup = BeautifulSoup(html, 'html.parser')"
   ]
  },
  {
   "cell_type": "code",
   "execution_count": 5,
   "id": "2409c005",
   "metadata": {},
   "outputs": [],
   "source": [
    "property_cards = soup.find_all('div', class_='CardContent__StyledCardContent-rui__sc-7ptz1z-0 echMdB card-content')"
   ]
  },
  {
   "cell_type": "code",
   "execution_count": 6,
   "id": "3e76aafe",
   "metadata": {},
   "outputs": [],
   "source": [
    "street_addresses = []\n",
    "city_zips = []\n",
    "list_prices = []\n",
    "property_types = []\n",
    "bedrooms = []\n",
    "baths = []\n",
    "for card in property_cards: \n",
    "  \n",
    "        street_address = card.find('div', attrs={'data-testid':'card-address-1','class':'truncate-line'})\n",
    "        street_addresses.append(street_address.text)\n",
    "        \n",
    "        city_zip = card.find('div', attrs={'data-testid':'card-address-2','class':'truncate-line'})\n",
    "        city_zips.append(city_zip.text)\n",
    "\n",
    "        prop_type = card.find('div', class_='styles__StyledStatusBadge-rui__hewb9n-0 eiNeel')\n",
    "        property_types.append(prop_type.text)\n",
    "    \n",
    "        beds = card.find('li', class_='styles__StyledPropertyBedMeta-rui__jbdr1y-0 gUHOjr')\n",
    "        bedrooms.append(beds.text)\n",
    "        try: \n",
    "            bath = card.find('li', class_='styles__StyledPropertyBathMeta-rui__sc-6egb6z-0 dqxXcq')\n",
    "            baths.append(bath.text)\n",
    "    \n",
    "            price = card.find('div', class_='Price__Component-rui__x3geed-0 ibnFqH card-price')\n",
    "            list_prices.append(price.text)\n",
    "        except AttributeError as e:\n",
    "                print('Not available')"
   ]
  },
  {
   "cell_type": "code",
   "execution_count": 7,
   "id": "4b457063",
   "metadata": {},
   "outputs": [
    {
     "name": "stdout",
     "output_type": "stream",
     "text": [
      "['1421 Alberti Ave', '3357 Canyon Valley Trl', '1520 Preston Rd', '3700 Mapleshade Ln Unit 11351947', '3700 Mapleshade Ln Unit 41351785', '3205 Broken Bow Way', '1112 Kit Ln', '1017 Clinton Dr', '4033 Aladdin Dr', '7612 Jerome Dr', '4523 Hawkhurst Dr', '6725 Grant Ln', '904 20th St', '3105 Verbena Dr', '3101 Canterbury Dr', '5765 Bozeman Dr # 4-1107', '5765 Bozeman Dr # 5-8311', '5765 Bozeman Dr # 3-3408', '5765 Bozeman Dr # 5-8195', '5765 Bozeman Dr # 2-06105', '1920 Liverpool Dr', '7200 Dallas Pkwy Apt 2424', '2900 Dallas Pkwy', '7200 Dallas Pkwy Apt 2127', '801 Legacy 37638 Dr Unit 2026', '3700 Mapleshade Ln Unit 11171787', '6300 Roundrock Trl', '7101 Chase Oaks 234519 Blvd Unit 527', '3700 Mapleshade 45537 Ln Unit 3063', '801 Legacy 37640 Dr Unit 2124', '7101 Chase Oaks 822954 Blvd Unit 525', '3700 Mapleshade 45535 Ln Unit 2106', '1100 Meredith Ln', '6100 Ohio Dr', '3700 Mapleshade Ln Unit 31233125', '9300 Coit Rd', '2501 Ohio Dr', '3700 Mapleshade Ln Unit 21231784', '3640 Mapleshade Ln', '6300 Windcrest Dr', '5741 Martin Rd', '4925 Rasor Blvd']\n"
     ]
    }
   ],
   "source": [
    "print(street_addresses)"
   ]
  },
  {
   "cell_type": "code",
   "execution_count": 8,
   "id": "b1d1763e",
   "metadata": {},
   "outputs": [
    {
     "name": "stdout",
     "output_type": "stream",
     "text": [
      "['Plano, TX 75075', 'Plano, TX 75023', 'Plano, TX 75093', 'Plano, TX 75075', 'Plano, TX 75075', 'Plano, TX 75093', 'Plano, TX 75023', 'Plano, TX 75075', 'Plano, TX 75093', 'Plano, TX 75025', 'Plano, TX 75024', 'Plano, TX 75024', 'Plano, TX 75074', 'Plano, TX 75075', 'Plano, TX 75075', 'Plano, TX 75024', 'Plano, TX 75024', 'Plano, TX 75024', 'Plano, TX 75024', 'Plano, TX 75024', 'Plano, TX 75025', 'Plano, TX 75024', 'Plano, TX 75093', 'Plano, TX 75024', 'Plano, TX 75023', 'Plano, TX 75075', 'Plano, TX 75023', 'Plano, TX 75025', 'Plano, TX 75075', 'Plano, TX 75023', 'Plano, TX 75025', 'Plano, TX 75075', 'Plano, TX 75093', 'Plano, TX 75024', 'Plano, TX 75075', 'Plano, TX 75025', 'Plano, TX 75093', 'Plano, TX 75075', 'Plano, TX 75075', 'Plano, TX 75024', 'Plano, TX 75024', 'Plano, TX 75024']\n"
     ]
    }
   ],
   "source": [
    "print(city_zips)"
   ]
  },
  {
   "cell_type": "code",
   "execution_count": 9,
   "id": "2f2f754c",
   "metadata": {},
   "outputs": [
    {
     "name": "stdout",
     "output_type": "stream",
     "text": [
      "['$2,700', '$2,570', 'Contact For Price', '$1,705', '$1,915', '$6,500', '$2,350', '$2,450', '$2,585', '$2,250', '$2,995', '$2,900', '$1,995', '$2,200', '$2,250', '$1,363', '$1,302', '$1,328', '$1,383', '$1,433', '$2,800', '$15,410', '$1,860', '$13,020', '$1,715', '$1,917', '$1,510 - $2,290', '$1,834', '$1,905', '$1,919', '$1,967', '$1,905', '$1,534 - $2,587', '$1,105 - $2,109', '$1,698', '$1,451 - $2,765', '$1,310 - $2,295', '$1,698', '$1,885 - $2,663', '$1,820 - $3,300', '$1,240 - $1,885', '$1,410 - $2,265']\n"
     ]
    }
   ],
   "source": [
    "print(list_prices)"
   ]
  },
  {
   "cell_type": "code",
   "execution_count": 10,
   "id": "173976f1",
   "metadata": {},
   "outputs": [
    {
     "name": "stdout",
     "output_type": "stream",
     "text": [
      "['For Rent - House', 'For Rent - House', 'For Rent - Apartment', 'For Rent - Apartment', 'For Rent - Apartment', 'For Rent - House', 'For Rent - House', 'For Rent - House', 'For Rent - House', 'For Rent - House', 'For Rent - House', 'For Rent - House', 'For Rent - House', 'For Rent - House', 'For Rent - House', 'For Rent - Apartment', 'For Rent - Apartment', 'For Rent - Apartment', 'For Rent - Apartment', 'For Rent - Apartment', 'For Rent - House', 'For Rent - Apartment', 'For Rent - Apartment', 'For Rent - Apartment', 'For Rent - Apartment', 'For Rent - Apartment', 'For Rent - Apartment', 'For Rent - Apartment', 'For Rent - Apartment', 'For Rent - Apartment', 'For Rent - Apartment', 'For Rent - Apartment', 'For Rent - Apartment', 'For Rent - Apartment', 'For Rent - Apartment', 'For Rent - Apartment', 'For Rent - Apartment', 'For Rent - Apartment', 'For Rent - Apartment', 'For Rent - Apartment', 'For Rent - Apartment', 'For Rent - Apartment']\n"
     ]
    }
   ],
   "source": [
    "print(property_types)"
   ]
  },
  {
   "cell_type": "code",
   "execution_count": 11,
   "id": "09451633",
   "metadata": {},
   "outputs": [
    {
     "name": "stdout",
     "output_type": "stream",
     "text": [
      "['2bed', '3bed', '1 - 2bed', 'Studio', 'Studio', '4bed', '3bed', '3bed', '3bed', '3bed', '4bed', '4bed', '3bed', '3bed', '4bed', 'Studio', 'Studio', 'Studio', 'Studio', 'Studio', '3bed', 'Studio', 'Studio', 'Studio', '1bed', '1bed', '1 - 2bed', '1bed', '1bed', '1bed', '1bed', '1bed', '1 - 3bed', '1 - 2bed', 'Studio', '1 - 2bed', '1 - 2bed', 'Studio', '1 - 2bed', '1 - 3bed', 'Studio - 2bed', 'Studio - 2bed']\n"
     ]
    }
   ],
   "source": [
    "print(bedrooms)"
   ]
  },
  {
   "cell_type": "code",
   "execution_count": 12,
   "id": "1d7f8abb",
   "metadata": {},
   "outputs": [
    {
     "name": "stdout",
     "output_type": "stream",
     "text": [
      "['2.5bath', '3bath', '1 - 2bath', '1bath', '1bath', '4.5+bath', '2bath', '2.5bath', '2bath', '2bath', '3.5bath', '3.5bath', '2bath', '2bath', '3bath', '1bath', '1bath', '1bath', '1bath', '1bath', '2bath', '4bath', '1bath', '3bath', '1bath', '1bath', '1 - 2.5bath', '1bath', '1bath', '1bath', '1bath', '1bath', '1 - 2bath', '1 - 2bath', '1bath', '1 - 2.5bath', '1 - 2bath', '1bath', '1 - 2bath', '1 - 2bath', '1 - 2bath', '1 - 2bath']\n"
     ]
    }
   ],
   "source": [
    "print(baths)"
   ]
  },
  {
   "cell_type": "code",
   "execution_count": null,
   "id": "e6b2c57c",
   "metadata": {},
   "outputs": [],
   "source": []
  }
 ],
 "metadata": {
  "kernelspec": {
   "display_name": "Python 3 (ipykernel)",
   "language": "python",
   "name": "python3"
  },
  "language_info": {
   "codemirror_mode": {
    "name": "ipython",
    "version": 3
   },
   "file_extension": ".py",
   "mimetype": "text/x-python",
   "name": "python",
   "nbconvert_exporter": "python",
   "pygments_lexer": "ipython3",
   "version": "3.9.12"
  }
 },
 "nbformat": 4,
 "nbformat_minor": 5
}
