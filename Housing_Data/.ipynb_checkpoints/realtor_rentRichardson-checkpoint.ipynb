{
 "cells": [
  {
   "cell_type": "code",
   "execution_count": 1,
   "id": "88af4014",
   "metadata": {},
   "outputs": [],
   "source": [
    "from splinter import Browser\n",
    "from bs4 import BeautifulSoup\n",
    "from webdriver_manager.chrome import ChromeDriverManager\n",
    "import os \n",
    "import time "
   ]
  },
  {
   "cell_type": "code",
   "execution_count": 2,
   "id": "087f5093",
   "metadata": {},
   "outputs": [],
   "source": [
    "executable_path = {'executable_path': ChromeDriverManager().install()}\n",
    "browser = Browser('chrome', **executable_path, headless=False)"
   ]
  },
  {
   "cell_type": "code",
   "execution_count": 3,
   "id": "eb469637",
   "metadata": {},
   "outputs": [],
   "source": [
    "url = 'https://www.realtor.com/apartments/Richardson_TX'\n",
    "\n",
    "browser.visit(url)"
   ]
  },
  {
   "cell_type": "code",
   "execution_count": 4,
   "id": "82fc2bb3",
   "metadata": {},
   "outputs": [],
   "source": [
    "html = browser.html\n",
    "soup = BeautifulSoup(html, 'html.parser')"
   ]
  },
  {
   "cell_type": "code",
   "execution_count": 5,
   "id": "2409c005",
   "metadata": {},
   "outputs": [],
   "source": [
    "property_cards = soup.find_all('div', class_='CardContent__StyledCardContent-rui__sc-7ptz1z-0 echMdB card-content')"
   ]
  },
  {
   "cell_type": "code",
   "execution_count": 6,
   "id": "3e76aafe",
   "metadata": {},
   "outputs": [],
   "source": [
    "street_addresses = []\n",
    "city_zips = []\n",
    "list_prices = []\n",
    "property_types = []\n",
    "bedrooms = []\n",
    "baths = []\n",
    "for card in property_cards: \n",
    "  \n",
    "        street_address = card.find('div', attrs={'data-testid':'card-address-1','class':'truncate-line'})\n",
    "        street_addresses.append(street_address.text)\n",
    "        \n",
    "        city_zip = card.find('div', attrs={'data-testid':'card-address-2','class':'truncate-line'})\n",
    "        city_zips.append(city_zip.text)\n",
    "\n",
    "        prop_type = card.find('div', class_='styles__StyledStatusBadge-rui__hewb9n-0 eiNeel')\n",
    "        property_types.append(prop_type.text)\n",
    "    \n",
    "        beds = card.find('li', class_='styles__StyledPropertyBedMeta-rui__jbdr1y-0 gUHOjr')\n",
    "        bedrooms.append(beds.text)\n",
    "        try: \n",
    "            bath = card.find('li', class_='styles__StyledPropertyBathMeta-rui__sc-6egb6z-0 dqxXcq')\n",
    "            baths.append(bath.text)\n",
    "    \n",
    "            price = card.find('div', class_='Price__Component-rui__x3geed-0 ibnFqH card-price')\n",
    "            list_prices.append(price.text)\n",
    "        except AttributeError as e:\n",
    "                print('Not available')"
   ]
  },
  {
   "cell_type": "code",
   "execution_count": 7,
   "id": "4b457063",
   "metadata": {},
   "outputs": [
    {
     "name": "stdout",
     "output_type": "stream",
     "text": [
      "['415 Jolee St', '891 Dublin Dr Apt A', '110 W Cityline Dr Unit 10411798', '110 W Cityline 195857 Dr Unit 3041', '110 W Cityline 316406 Dr Unit 5014', '823 Saint Paul Ct', '6 Briarcrest Ct', '3211 Foxcreek Dr', '10000 S Sherman St', '2507 Valley Frg', '411 E Polk St Apt 4', '744 Brick Row Dr Apt 2362', '744 Brick Row Dr # 1455', '744 Brick Row Dr # 1325', '744 Brick Row Dr Apt 2463', '744 Brick Row Dr # 1230', '744 Brick Row Dr Apt 2232', '333 Melrose Dr Apt 27D', '901 E Campbell Rd', '411 E Polk St Apt 2', '914 S Waterview Dr', '418 Fairview Dr', '2017 Cap Rock Cir', '5802 Edinburg Dr', '2811 Custer Pkwy', '2525 Empire Dr', '110 W Cityline 507064 Dr Unit 5030', '1050 Galatyn Pkwy', '613 Clearwood Dr', '1125 E Renner Rd', '1330 W Spring Valley Rd', '535 E Buckingham Rd', '411 Buckingham 658872 Rd Unit 415', '939 Allegheny Ct', '411 Buckingham 515577 Rd Unit 716', '3521 Wilshire Way', '951 Abrams Rd', '1520 Richardson Dr', '2220 N Glenville Ave', '110 W Cityline 46959 Dr Unit 3066', '925 S Waterview Dr', '601 W Renner Rd']\n"
     ]
    }
   ],
   "source": [
    "print(street_addresses)"
   ]
  },
  {
   "cell_type": "code",
   "execution_count": 8,
   "id": "35776e2c",
   "metadata": {},
   "outputs": [
    {
     "name": "stdout",
     "output_type": "stream",
     "text": [
      "['Richardson, TX 75080', 'Richardson, TX 75080', 'Richardson, TX 75082', 'Richardson, TX 75082', 'Richardson, TX 75082', 'Richardson, TX 75080', 'Richardson, TX 75081', 'Richardson, TX 75082', 'Richardson, TX 75081', 'Richardson, TX 75080', 'Richardson, TX 75081', 'Richardson, TX 75081', 'Richardson, TX 75081', 'Richardson, TX 75081', 'Richardson, TX 75081', 'Richardson, TX 75081', 'Richardson, TX 75081', 'Richardson, TX 75080', 'Richardson, TX 75081', 'Richardson, TX 75081', 'Richardson, TX 75080', 'Richardson, TX 75081', 'Richardson, TX 75080', 'Richardson, TX 75082', 'Richardson, TX 75080', 'Richardson, TX 75080', 'Richardson, TX 75082', 'Richardson, TX 75082', 'Richardson, TX 75081', 'Richardson, TX 75082', 'Richardson, TX 75080', 'Richardson, TX 75081', 'Richardson, TX 75081', 'Richardson, TX 75080', 'Richardson, TX 75081', 'Richardson, TX 75082', 'Richardson, TX 75081', 'Richardson, TX 75080', 'Richardson, TX 75082', 'Richardson, TX 75082', 'Richardson, TX 75080', 'Richardson, TX 75080']\n"
     ]
    }
   ],
   "source": [
    "print(city_zips)"
   ]
  },
  {
   "cell_type": "code",
   "execution_count": 9,
   "id": "2f2f754c",
   "metadata": {},
   "outputs": [
    {
     "name": "stdout",
     "output_type": "stream",
     "text": [
      "['$1,800', '$1,650', '$1,869', '$1,797', '$1,906', '$2,400', '$2,500', '$2,850', '$845', '$2,650', '$1,100', '$1,310', '$1,345', '$1,355', '$1,380', '$1,390', '$1,310', '$1,700', '$1,800', '$1,250', '$2,600', '$2,699', '$2,300', '$2,800', '$1,000 - $1,475', '$1,352 - $2,136', '$1,995', '$1,468 - $3,221', '$1,190', '$1,477 - $2,816', '$1,460 - $1,920', '$1,298 - $1,798', '$1,896', '$1,360 - $2,065', '$1,950', '$1,594 - $3,824', '$1,499 - $2,416', '$1,519 - $2,471', '$1,625 - $2,450', '$1,830', '$850 - $1,699', '$1,235 - $1,395']\n"
     ]
    }
   ],
   "source": [
    "print(list_prices)"
   ]
  },
  {
   "cell_type": "code",
   "execution_count": 10,
   "id": "173976f1",
   "metadata": {},
   "outputs": [
    {
     "name": "stdout",
     "output_type": "stream",
     "text": [
      "['For Rent - House', 'For Rent - House', 'For Rent - Apartment', 'For Rent - Apartment', 'For Rent - Apartment', 'For Rent - House', 'For Rent - House', 'For Rent - House', 'For Rent - Other', 'For Rent - House', 'For Rent - Condo', 'For Rent - Apartment', 'For Rent - Apartment', 'For Rent - Apartment', 'For Rent - Apartment', 'For Rent - Apartment', 'For Rent - Apartment', 'For Rent - House', 'For Rent - Apartment', 'For Rent - Condo', 'For Rent - House', 'For Rent - House', 'For Rent - House', 'For Rent - House', 'For Rent - Apartment', 'For Rent - Apartment', 'For Rent - Apartment', 'For Rent - Apartment', 'For Rent - Apartment', 'For Rent - Apartment', 'For Rent - Apartment', 'For Rent - Apartment', 'For Rent - Apartment', 'For Rent - Apartment', 'For Rent - Apartment', 'For Rent - Apartment', 'For Rent - Apartment', 'For Rent - Apartment', 'For Rent - Apartment', 'For Rent - Apartment', 'For Rent - Apartment', 'For Rent - Apartment']\n"
     ]
    }
   ],
   "source": [
    "print(property_types)"
   ]
  },
  {
   "cell_type": "code",
   "execution_count": 11,
   "id": "09451633",
   "metadata": {},
   "outputs": [
    {
     "name": "stdout",
     "output_type": "stream",
     "text": [
      "['3bed', '1bed', 'Studio', 'Studio', 'Studio', '3bed', '3bed', '3bed', '1bed', '4bed', '1bed', 'Studio', 'Studio', 'Studio', 'Studio', 'Studio', 'Studio', '2bed', 'Studio', '2bed', '3bed', '3bed', '3bed', '4bed', '1 - 3bed', 'Studio - 3bed', 'Studio', '1 - 3bed', '1bed', '1 - 2bed', '2 - 3bed', '1 - 2bed', '1bed', '1 - 3bed', '1bed', '1 - 3bed', '1 - 3bed', '1 - 3bed', '1 - 3bed', 'Studio', 'Studio - 3bed', '1 - 2bed']\n"
     ]
    }
   ],
   "source": [
    "print(bedrooms)"
   ]
  },
  {
   "cell_type": "code",
   "execution_count": 12,
   "id": "1d7f8abb",
   "metadata": {},
   "outputs": [
    {
     "name": "stdout",
     "output_type": "stream",
     "text": [
      "['1bath', '1.5bath', '1bath', '1bath', '1bath', '2bath', '2.5bath', '2.5bath', '1bath', '3bath', '1bath', '1bath', '1bath', '1bath', '1bath', '1bath', '1bath', '1.5bath', '1bath', '1bath', '2bath', '2bath', '2bath', '2bath', '1 - 2bath', '1 - 2bath', '1bath', '1 - 2bath', '1bath', '1 - 4bath', '1 - 2.5bath', '1 - 2bath', '1bath', '1 - 2bath', '1bath', '1 - 3bath', '1 - 2bath', '1 - 2bath', '1 - 2bath', '1bath', '1 - 2bath', '1 - 2bath']\n"
     ]
    }
   ],
   "source": [
    "print(baths)"
   ]
  },
  {
   "cell_type": "code",
   "execution_count": null,
   "id": "e6b2c57c",
   "metadata": {},
   "outputs": [],
   "source": []
  }
 ],
 "metadata": {
  "kernelspec": {
   "display_name": "Python 3 (ipykernel)",
   "language": "python",
   "name": "python3"
  },
  "language_info": {
   "codemirror_mode": {
    "name": "ipython",
    "version": 3
   },
   "file_extension": ".py",
   "mimetype": "text/x-python",
   "name": "python",
   "nbconvert_exporter": "python",
   "pygments_lexer": "ipython3",
   "version": "3.9.12"
  }
 },
 "nbformat": 4,
 "nbformat_minor": 5
}
