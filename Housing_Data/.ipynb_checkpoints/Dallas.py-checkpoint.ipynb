{
 "cells": [
  {
   "cell_type": "code",
   "execution_count": 1,
   "id": "01eb5cd2",
   "metadata": {},
   "outputs": [],
   "source": [
    "from splinter import Browser\n",
    "from bs4 import BeautifulSoup\n",
    "from webdriver_manager.chrome import ChromeDriverManager\n",
    "from geopy.geocoders import Nominatim\n",
    "geolocator = Nominatim(user_agent=\"dallsbuy app\")\n",
    "import pandas as pd"
   ]
  },
  {
   "cell_type": "code",
   "execution_count": 2,
   "id": "5372defd",
   "metadata": {},
   "outputs": [],
   "source": [
    "# Setup splinter\n",
    "executable_path = {'executable_path': ChromeDriverManager().install()}\n",
    "browser = Browser('chrome', **executable_path, headless=False)"
   ]
  },
  {
   "cell_type": "code",
   "execution_count": 3,
   "id": "0d94c02d",
   "metadata": {},
   "outputs": [],
   "source": [
    "html = browser.html\n",
    "soup = BeautifulSoup(html, 'html.parser')"
   ]
  },
  {
   "cell_type": "code",
   "execution_count": 4,
   "id": "0a0a7930",
   "metadata": {},
   "outputs": [],
   "source": [
    "# Stack Overflow URL to scrape\n",
    "dallas_url = 'https://www.mydallashomefinder.com/listing?utm_campaign=SNDTX%3A%20Dallas%20County%20-%20Zip%20Codes&utm_medium=cpc&pageSize=24&pageNum=2&utm_term=homes%20sale%2075220%20Dallas%20Texas&page=1&msclkid=9653aafd9dd215d71837c9942c264c70&utm_source=bing&utm_content=75220&key=Dallas%2C%20TX&keywordType=city&purchaseType-For-Sale-Rent=1&zoom=12'\n",
    "# Retrieve page with the requests module\n",
    "browser.visit(dallas_url)"
   ]
  },
  {
   "cell_type": "code",
   "execution_count": 5,
   "id": "0d9a4a42",
   "metadata": {
    "scrolled": true
   },
   "outputs": [],
   "source": [
    "for x in range (2):\n",
    "    #x = 1\n",
    "    html = browser.html\n",
    "    soup = BeautifulSoup(html, 'html.parser')\n",
    "    location  = soup.find_all('p', class_='house-address')\n",
    "    cost = soup.find_all('p', class_='house-price')\n",
    "    #list names \n",
    "    addresses = []\n",
    "    price = []\n",
    "    #append lists\n",
    "    for i, y in zip(location, cost):\n",
    "        addresses.append(i.text)\n",
    "        price.append(y.text)\n",
    "\n",
    "            #print('next page')\n",
    "    \n",
    "    #browser.links.find_by_partial_text(\" 2 \").click()"
   ]
  },
  {
   "cell_type": "code",
   "execution_count": 6,
   "id": "df2c90f8",
   "metadata": {},
   "outputs": [
    {
     "name": "stdout",
     "output_type": "stream",
     "text": [
      "['2628 Lawrence Street, Dallas, TX 75215', '162 S Cisco Street, Dallas, TX 75246', '9250 Meadowbrook Drive, Dallas, TX 75220', '8032 EAGLE Trail, Dallas, TX 75238', '9315 Leaside Drive, Dallas, TX 75238', '6706 Duffield Drive, Dallas, TX 75248', '2743 Tranquil Way, Dallas, TX 75237', '901 Elsbeth Avenue, Dallas, TX 75208', '4418 Stigall Drive, Dallas, TX 75209', '6921 Gateridge Drive, Dallas, TX 75254', '15910 Coolwood Drive #1046, Dallas, TX 75248', '9324 Stratford Way, Dallas, TX 75220', '8420 Little Fawn Lane, Dallas, TX 75249', '2559 Globe Avenue, Dallas, TX 75228', '5436 Martel, Dallas, TX 75206', '732 W 7th Street, Dallas, TX 75208', '7442 Woodthrush Drive, Dallas, TX 75230', '2118 Fordham Road, Dallas, TX 75216', '4342 Margate Drive, Dallas, TX 75220', '2512 E Illinois Avenue, Dallas, TX 75216', '2925 Sharon Street, Dallas, TX 75211', '8708 Stanwood Drive, Dallas, TX 75228', '7340 Skillman Street #902, Dallas, TX 75231', '5807 Winding Woods Trail, Dallas, TX 75227']\n"
     ]
    }
   ],
   "source": [
    "print(addresses)"
   ]
  },
  {
   "cell_type": "code",
   "execution_count": null,
   "id": "dc0f0d37",
   "metadata": {},
   "outputs": [],
   "source": [
    "print(addresses)"
   ]
  },
  {
   "cell_type": "code",
   "execution_count": 7,
   "id": "b24ca436",
   "metadata": {},
   "outputs": [
    {
     "name": "stdout",
     "output_type": "stream",
     "text": [
      "['\\n                $399,000\\n            ', '\\n                $525,000\\n            ', '\\n                $15,850,000\\n            ', '\\n                $899,000\\n            ', '\\n                $515,000\\n            ', '\\n                $724,999\\n            ', '\\n                $300,000\\n            ', '\\n                $649,000\\n            ', '\\n                $1,149,000\\n            ', '\\n                $917,000\\n            ', '\\n                $195,000\\n            ', '\\n                $850,000\\n            ', '\\n                $389,000\\n            ', '\\n                $225,000\\n            ', '\\n                $835,000\\n            ', '\\n                $669,900\\n            ', '\\n                $650,000\\n            ', '\\n                $250,000\\n            ', '\\n                $2,850,000\\n            ', '\\n                $225,000\\n            ', '\\n                $299,000\\n            ', '\\n                $479,900\\n            ', '\\n                $229,900\\n            ', '\\n                $354,000\\n            ']\n"
     ]
    }
   ],
   "source": [
    "print(price)"
   ]
  },
  {
   "cell_type": "code",
   "execution_count": 8,
   "id": "c0fc71d5",
   "metadata": {},
   "outputs": [],
   "source": [
    "bbsq = soup.find_all('span', class_='vertical-line')\n",
    "bed_bath_sq = []\n",
    "for x in bbsq:\n",
    "    bed_bath_sq.append(x.text)"
   ]
  },
  {
   "cell_type": "code",
   "execution_count": 9,
   "id": "172f6d4e",
   "metadata": {},
   "outputs": [
    {
     "name": "stdout",
     "output_type": "stream",
     "text": [
      "['4 Beds', '2 Baths', '1,800 SqFt', '3 Beds', '3 Baths', '1,836 SqFt', '5 Beds', '8 Baths', '12,470 SqFt', '5 Beds', '3 Baths', '4,157 SqFt', '3 Beds', '2 Baths', '1,348 SqFt', '4 Beds', '3 Baths', '2,452 SqFt', '3 Beds', '2 Baths', '1,591 SqFt', '3 Beds', '4 Baths', '2,124 SqFt', '4 Beds', '3 Baths', '3,179 SqFt', '3 Beds', '4 Baths', '3,562 SqFt', '2 Beds', '3 Baths', '1,363 SqFt', '3 Beds', '3 Baths', '3,154 SqFt', '4 Beds', '2 Baths', '2,529 SqFt', '3 Beds', '1 Bath', '1,104 SqFt', '3 Beds', '4 Baths', '2,552 SqFt', '3 Beds', '3 Baths', '2,020 SqFt', '3 Beds', '3 Baths', '2,750 SqFt', '4 Beds', '2 Baths', '1,436 SqFt', '4 Beds', '7 Baths', '5,631 SqFt', '3 Beds', '2 Baths', '936 SqFt', '2 Beds', '2 Baths', '1,054 SqFt', '3 Beds', '2 Baths', '1,678 SqFt', '3 Beds', '2 Baths', '1,156 SqFt', '3 Beds', '3 Baths', '2,277 SqFt']\n"
     ]
    }
   ],
   "source": [
    "print(bed_bath_sq)"
   ]
  },
  {
   "cell_type": "code",
   "execution_count": 10,
   "id": "81289851",
   "metadata": {},
   "outputs": [
    {
     "name": "stdout",
     "output_type": "stream",
     "text": [
      "['4 Beds', '2 Baths', '1,800 SqFt', '3 Beds', '3 Baths', '1,836 SqFt', '5 Beds', '8 Baths', '12,470 SqFt', '5 Beds', '3 Baths', '4,157 SqFt', '3 Beds', '2 Baths', '1,348 SqFt', '4 Beds', '3 Baths', '2,452 SqFt', '3 Beds', '2 Baths', '1,591 SqFt', '3 Beds', '4 Baths', '2,124 SqFt', '4 Beds', '3 Baths', '3,179 SqFt', '3 Beds', '4 Baths', '3,562 SqFt', '2 Beds', '3 Baths', '1,363 SqFt', '3 Beds', '3 Baths', '3,154 SqFt', '4 Beds', '2 Baths', '2,529 SqFt', '3 Beds', '1 Bath', '1,104 SqFt', '3 Beds', '4 Baths', '2,552 SqFt', '3 Beds', '3 Baths', '2,020 SqFt', '3 Beds', '3 Baths', '2,750 SqFt', '4 Beds', '2 Baths', '1,436 SqFt', '4 Beds', '7 Baths', '5,631 SqFt', '3 Beds', '2 Baths', '936 SqFt', '2 Beds', '2 Baths', '1,054 SqFt', '3 Beds', '2 Baths', '1,678 SqFt', '3 Beds', '2 Baths', '1,156 SqFt', '3 Beds', '3 Baths', '2,277 SqFt']\n"
     ]
    }
   ],
   "source": [
    "print(bed_bath_sq)"
   ]
  },
  {
   "cell_type": "code",
   "execution_count": 11,
   "id": "6f0dd0ef",
   "metadata": {},
   "outputs": [
    {
     "name": "stdout",
     "output_type": "stream",
     "text": [
      "[['4 Beds'], ['2 Baths'], ['1', '800 SqFt'], ['3 Beds'], ['3 Baths'], ['1', '836 SqFt'], ['5 Beds'], ['8 Baths'], ['12', '470 SqFt'], ['5 Beds'], ['3 Baths'], ['4', '157 SqFt'], ['3 Beds'], ['2 Baths'], ['1', '348 SqFt'], ['4 Beds'], ['3 Baths'], ['2', '452 SqFt'], ['3 Beds'], ['2 Baths'], ['1', '591 SqFt'], ['3 Beds'], ['4 Baths'], ['2', '124 SqFt'], ['4 Beds'], ['3 Baths'], ['3', '179 SqFt'], ['3 Beds'], ['4 Baths'], ['3', '562 SqFt'], ['2 Beds'], ['3 Baths'], ['1', '363 SqFt'], ['3 Beds'], ['3 Baths'], ['3', '154 SqFt'], ['4 Beds'], ['2 Baths'], ['2', '529 SqFt'], ['3 Beds'], ['1 Bath'], ['1', '104 SqFt'], ['3 Beds'], ['4 Baths'], ['2', '552 SqFt'], ['3 Beds'], ['3 Baths'], ['2', '020 SqFt'], ['3 Beds'], ['3 Baths'], ['2', '750 SqFt'], ['4 Beds'], ['2 Baths'], ['1', '436 SqFt'], ['4 Beds'], ['7 Baths'], ['5', '631 SqFt'], ['3 Beds'], ['2 Baths'], ['936 SqFt'], ['2 Beds'], ['2 Baths'], ['1', '054 SqFt'], ['3 Beds'], ['2 Baths'], ['1', '678 SqFt'], ['3 Beds'], ['2 Baths'], ['1', '156 SqFt'], ['3 Beds'], ['3 Baths'], ['2', '277 SqFt']]\n"
     ]
    }
   ],
   "source": [
    "bbsq_results = [item.split(',', 3) for item in bed_bath_sq]\n",
    "print(bbsq_results)"
   ]
  },
  {
   "cell_type": "code",
   "execution_count": 12,
   "id": "78c58d5f",
   "metadata": {},
   "outputs": [],
   "source": [
    "sub = bbsq_results[::3] "
   ]
  },
  {
   "cell_type": "code",
   "execution_count": 13,
   "id": "56649acd",
   "metadata": {},
   "outputs": [
    {
     "name": "stdout",
     "output_type": "stream",
     "text": [
      "[['4 Beds'], ['3 Beds'], ['5 Beds'], ['5 Beds'], ['3 Beds'], ['4 Beds'], ['3 Beds'], ['3 Beds'], ['4 Beds'], ['3 Beds'], ['2 Beds'], ['3 Beds'], ['4 Beds'], ['3 Beds'], ['3 Beds'], ['3 Beds'], ['3 Beds'], ['4 Beds'], ['4 Beds'], ['3 Beds'], ['2 Beds'], ['3 Beds'], ['3 Beds'], ['3 Beds']]\n"
     ]
    }
   ],
   "source": [
    "print(sub)"
   ]
  },
  {
   "cell_type": "code",
   "execution_count": 14,
   "id": "e96f702a",
   "metadata": {},
   "outputs": [],
   "source": [
    "beds = []\n",
    "for x in sub:\n",
    "    beds.append(x)"
   ]
  },
  {
   "cell_type": "code",
   "execution_count": 15,
   "id": "b1a55654",
   "metadata": {},
   "outputs": [
    {
     "name": "stdout",
     "output_type": "stream",
     "text": [
      "[['4 Beds'], ['3 Beds'], ['5 Beds'], ['5 Beds'], ['3 Beds'], ['4 Beds'], ['3 Beds'], ['3 Beds'], ['4 Beds'], ['3 Beds'], ['2 Beds'], ['3 Beds'], ['4 Beds'], ['3 Beds'], ['3 Beds'], ['3 Beds'], ['3 Beds'], ['4 Beds'], ['4 Beds'], ['3 Beds'], ['2 Beds'], ['3 Beds'], ['3 Beds'], ['3 Beds']]\n"
     ]
    }
   ],
   "source": [
    "print(beds)"
   ]
  },
  {
   "cell_type": "code",
   "execution_count": 16,
   "id": "59c2c281",
   "metadata": {},
   "outputs": [
    {
     "name": "stdout",
     "output_type": "stream",
     "text": [
      "[['2 Baths'], ['3 Baths'], ['8 Baths'], ['3 Baths'], ['2 Baths'], ['3 Baths'], ['2 Baths'], ['4 Baths'], ['3 Baths'], ['4 Baths'], ['3 Baths'], ['3 Baths'], ['2 Baths'], ['1 Bath'], ['4 Baths'], ['3 Baths'], ['3 Baths'], ['2 Baths'], ['7 Baths'], ['2 Baths'], ['2 Baths'], ['2 Baths'], ['2 Baths'], ['3 Baths']]\n"
     ]
    }
   ],
   "source": [
    "sub1 = bbsq_results[1::3]\n",
    "print(sub1)"
   ]
  },
  {
   "cell_type": "code",
   "execution_count": 17,
   "id": "452b3cf6",
   "metadata": {},
   "outputs": [],
   "source": [
    "baths = []\n",
    "for y in sub1:\n",
    "    baths.append(y)"
   ]
  },
  {
   "cell_type": "code",
   "execution_count": 18,
   "id": "478af6b9",
   "metadata": {},
   "outputs": [
    {
     "name": "stdout",
     "output_type": "stream",
     "text": [
      "[['2 Baths'], ['3 Baths'], ['8 Baths'], ['3 Baths'], ['2 Baths'], ['3 Baths'], ['2 Baths'], ['4 Baths'], ['3 Baths'], ['4 Baths'], ['3 Baths'], ['3 Baths'], ['2 Baths'], ['1 Bath'], ['4 Baths'], ['3 Baths'], ['3 Baths'], ['2 Baths'], ['7 Baths'], ['2 Baths'], ['2 Baths'], ['2 Baths'], ['2 Baths'], ['3 Baths']]\n"
     ]
    }
   ],
   "source": [
    "print(baths)"
   ]
  },
  {
   "cell_type": "code",
   "execution_count": 19,
   "id": "6df844c6",
   "metadata": {},
   "outputs": [
    {
     "name": "stdout",
     "output_type": "stream",
     "text": [
      "[['1', '800 SqFt'], ['1', '836 SqFt'], ['12', '470 SqFt'], ['4', '157 SqFt'], ['1', '348 SqFt'], ['2', '452 SqFt'], ['1', '591 SqFt'], ['2', '124 SqFt'], ['3', '179 SqFt'], ['3', '562 SqFt'], ['1', '363 SqFt'], ['3', '154 SqFt'], ['2', '529 SqFt'], ['1', '104 SqFt'], ['2', '552 SqFt'], ['2', '020 SqFt'], ['2', '750 SqFt'], ['1', '436 SqFt'], ['5', '631 SqFt'], ['936 SqFt'], ['1', '054 SqFt'], ['1', '678 SqFt'], ['1', '156 SqFt'], ['2', '277 SqFt']]\n"
     ]
    }
   ],
   "source": [
    "sub2 = bbsq_results[2::3]\n",
    "print(sub2)"
   ]
  },
  {
   "cell_type": "code",
   "execution_count": 20,
   "id": "b703ee1d",
   "metadata": {},
   "outputs": [],
   "source": [
    "sqft = []\n",
    "for z in sub2:\n",
    "    sqft.append(z)"
   ]
  },
  {
   "cell_type": "code",
   "execution_count": 21,
   "id": "89fb9205",
   "metadata": {},
   "outputs": [],
   "source": [
    "dallas_buy = pd.DataFrame({\n",
    "    \"Address\": addresses,\n",
    "    \"Price\": price,\n",
    "    \"Number of Bedrooms\": beds,\n",
    "    \"Number of Bathrooms\": baths,\n",
    "    \"Square Feet\": sqft\n",
    "})"
   ]
  },
  {
   "cell_type": "code",
   "execution_count": 22,
   "id": "50ca7183",
   "metadata": {},
   "outputs": [],
   "source": [
    "dallas_buy[\"loc\"] = dallas_buy[\"Address\"].apply(geolocator.geocode)\n",
    "dallas_buy[\"point\"]= dallas_buy[\"loc\"].apply(lambda loc: tuple(loc.point) if loc else None)"
   ]
  },
  {
   "cell_type": "code",
   "execution_count": 23,
   "id": "39fc372e",
   "metadata": {},
   "outputs": [
    {
     "name": "stdout",
     "output_type": "stream",
     "text": [
      "                                         Address  \\\n",
      "0         2628 Lawrence Street, Dallas, TX 75215   \n",
      "1           162 S Cisco Street, Dallas, TX 75246   \n",
      "2       9250 Meadowbrook Drive, Dallas, TX 75220   \n",
      "3             8032 EAGLE Trail, Dallas, TX 75238   \n",
      "4           9315 Leaside Drive, Dallas, TX 75238   \n",
      "5          6706 Duffield Drive, Dallas, TX 75248   \n",
      "6            2743 Tranquil Way, Dallas, TX 75237   \n",
      "7           901 Elsbeth Avenue, Dallas, TX 75208   \n",
      "8           4418 Stigall Drive, Dallas, TX 75209   \n",
      "9         6921 Gateridge Drive, Dallas, TX 75254   \n",
      "10  15910 Coolwood Drive #1046, Dallas, TX 75248   \n",
      "11          9324 Stratford Way, Dallas, TX 75220   \n",
      "12       8420 Little Fawn Lane, Dallas, TX 75249   \n",
      "13           2559 Globe Avenue, Dallas, TX 75228   \n",
      "14                 5436 Martel, Dallas, TX 75206   \n",
      "15            732 W 7th Street, Dallas, TX 75208   \n",
      "16       7442 Woodthrush Drive, Dallas, TX 75230   \n",
      "17           2118 Fordham Road, Dallas, TX 75216   \n",
      "18          4342 Margate Drive, Dallas, TX 75220   \n",
      "19      2512 E Illinois Avenue, Dallas, TX 75216   \n",
      "20          2925 Sharon Street, Dallas, TX 75211   \n",
      "21         8708 Stanwood Drive, Dallas, TX 75228   \n",
      "22   7340 Skillman Street #902, Dallas, TX 75231   \n",
      "23    5807 Winding Woods Trail, Dallas, TX 75227   \n",
      "\n",
      "                                          Price Number of Bedrooms  \\\n",
      "0      \\n                $399,000\\n                       [4 Beds]   \n",
      "1      \\n                $525,000\\n                       [3 Beds]   \n",
      "2   \\n                $15,850,000\\n                       [5 Beds]   \n",
      "3      \\n                $899,000\\n                       [5 Beds]   \n",
      "4      \\n                $515,000\\n                       [3 Beds]   \n",
      "5      \\n                $724,999\\n                       [4 Beds]   \n",
      "6      \\n                $300,000\\n                       [3 Beds]   \n",
      "7      \\n                $649,000\\n                       [3 Beds]   \n",
      "8    \\n                $1,149,000\\n                       [4 Beds]   \n",
      "9      \\n                $917,000\\n                       [3 Beds]   \n",
      "10     \\n                $195,000\\n                       [2 Beds]   \n",
      "11     \\n                $850,000\\n                       [3 Beds]   \n",
      "12     \\n                $389,000\\n                       [4 Beds]   \n",
      "13     \\n                $225,000\\n                       [3 Beds]   \n",
      "14     \\n                $835,000\\n                       [3 Beds]   \n",
      "15     \\n                $669,900\\n                       [3 Beds]   \n",
      "16     \\n                $650,000\\n                       [3 Beds]   \n",
      "17     \\n                $250,000\\n                       [4 Beds]   \n",
      "18   \\n                $2,850,000\\n                       [4 Beds]   \n",
      "19     \\n                $225,000\\n                       [3 Beds]   \n",
      "20     \\n                $299,000\\n                       [2 Beds]   \n",
      "21     \\n                $479,900\\n                       [3 Beds]   \n",
      "22     \\n                $229,900\\n                       [3 Beds]   \n",
      "23     \\n                $354,000\\n                       [3 Beds]   \n",
      "\n",
      "   Number of Bathrooms     Square Feet  \\\n",
      "0            [2 Baths]   [1, 800 SqFt]   \n",
      "1            [3 Baths]   [1, 836 SqFt]   \n",
      "2            [8 Baths]  [12, 470 SqFt]   \n",
      "3            [3 Baths]   [4, 157 SqFt]   \n",
      "4            [2 Baths]   [1, 348 SqFt]   \n",
      "5            [3 Baths]   [2, 452 SqFt]   \n",
      "6            [2 Baths]   [1, 591 SqFt]   \n",
      "7            [4 Baths]   [2, 124 SqFt]   \n",
      "8            [3 Baths]   [3, 179 SqFt]   \n",
      "9            [4 Baths]   [3, 562 SqFt]   \n",
      "10           [3 Baths]   [1, 363 SqFt]   \n",
      "11           [3 Baths]   [3, 154 SqFt]   \n",
      "12           [2 Baths]   [2, 529 SqFt]   \n",
      "13            [1 Bath]   [1, 104 SqFt]   \n",
      "14           [4 Baths]   [2, 552 SqFt]   \n",
      "15           [3 Baths]   [2, 020 SqFt]   \n",
      "16           [3 Baths]   [2, 750 SqFt]   \n",
      "17           [2 Baths]   [1, 436 SqFt]   \n",
      "18           [7 Baths]   [5, 631 SqFt]   \n",
      "19           [2 Baths]      [936 SqFt]   \n",
      "20           [2 Baths]   [1, 054 SqFt]   \n",
      "21           [2 Baths]   [1, 678 SqFt]   \n",
      "22           [2 Baths]   [1, 156 SqFt]   \n",
      "23           [3 Baths]   [2, 277 SqFt]   \n",
      "\n",
      "                                                  loc  \\\n",
      "0   (2628, Lawrence Street, Bonton, Dallas, Dallas...   \n",
      "1   (162, South Cisco Street, Dallas, Dallas Count...   \n",
      "2   (9250, Meadowbrook Drive, Dallas, Dallas Count...   \n",
      "3   (8032, Eagle Trail, Lake Highlands, Dallas, Da...   \n",
      "4   (9315, Leaside Drive, Lake Highlands, Dallas, ...   \n",
      "5   (6706, Duffield Drive, Dallas, Dallas County, ...   \n",
      "6   (2743, Tranquil Way, Unity Estates, Dallas, Da...   \n",
      "7                                                None   \n",
      "8   (4418, Stigall Drive, Dallas, Dallas County, T...   \n",
      "9   (6921, Gateridge Drive, Dallas, Dallas County,...   \n",
      "10                                               None   \n",
      "11  (9324, Stratford Way, Wellington on the Creek,...   \n",
      "12  (8420, Little Fawn Lane, Dallas, Dallas County...   \n",
      "13  (2559, Globe Avenue, Dallas, Dallas County, Te...   \n",
      "14  (5436, Martel Avenue, Dallas, Dallas County, T...   \n",
      "15  (732, West 7th Street, Bishop Arts District, D...   \n",
      "16  (7442, Woodthrush Drive, Dallas, Dallas County...   \n",
      "17  (2118, Fordham Road, Dallas, Dallas County, Te...   \n",
      "18  (4342, Margate Drive, Dallas, Dallas County, T...   \n",
      "19  (2512, East Illinois Avenue, Dallas, Dallas Co...   \n",
      "20  (2925, Sharon Street, Oak Cliff, Dallas, Dalla...   \n",
      "21  (8708, Stanwood Drive, Dallas, Dallas County, ...   \n",
      "22                                               None   \n",
      "23  (5807, Winding Woods Trail, Dallas, Dallas Cou...   \n",
      "\n",
      "                                            point  \n",
      "0   (32.753275714285714, -96.75473757142856, 0.0)  \n",
      "1    (32.79280086299306, -96.76473863583902, 0.0)  \n",
      "2     (32.8672309520521, -96.81864791418126, 0.0)  \n",
      "3     (32.8672838355292, -96.72567190037698, 0.0)  \n",
      "4   (32.874353150000005, -96.70563069424385, 0.0)  \n",
      "5                    (32.984727, -96.789622, 0.0)  \n",
      "6   (32.653147142857144, -96.86307014285714, 0.0)  \n",
      "7                                            None  \n",
      "8    (32.84846089231078, -96.83501988098786, 0.0)  \n",
      "9         (32.945947149999995, -96.78505475, 0.0)  \n",
      "10                                           None  \n",
      "11    (32.86527602905594, -96.8434641725007, 0.0)  \n",
      "12   (32.641369100000006, -96.9679043527724, 0.0)  \n",
      "13   (32.81519136363636, -96.67178278787878, 0.0)  \n",
      "14      (32.8316953913786, -96.776209347178, 0.0)  \n",
      "15           (32.748725, -96.83540425944923, 0.0)  \n",
      "16   (32.889321686457414, -96.7777329925406, 0.0)  \n",
      "17   (32.70242331707317, -96.79072736585366, 0.0)  \n",
      "18   (32.86461825039389, -96.83411732400864, 0.0)  \n",
      "19  (32.717511633028195, -96.78503893219238, 0.0)  \n",
      "20           (32.7299887, -96.8699587944061, 0.0)  \n",
      "21          (32.8137075, -96.70163198978989, 0.0)  \n",
      "22                                           None  \n",
      "23         (32.78413045, -96.70440525292366, 0.0)  \n"
     ]
    }
   ],
   "source": [
    "print(dallas_buy)"
   ]
  },
  {
   "cell_type": "code",
   "execution_count": 24,
   "id": "1802b2d8",
   "metadata": {},
   "outputs": [],
   "source": [
    "dallas_buy.to_csv(r'../Resources/dallas_buy.csv', index = False)"
   ]
  },
  {
   "cell_type": "code",
   "execution_count": null,
   "id": "b61347f5",
   "metadata": {},
   "outputs": [],
   "source": []
  }
 ],
 "metadata": {
  "kernelspec": {
   "display_name": "Python 3 (ipykernel)",
   "language": "python",
   "name": "python3"
  },
  "language_info": {
   "codemirror_mode": {
    "name": "ipython",
    "version": 3
   },
   "file_extension": ".py",
   "mimetype": "text/x-python",
   "name": "python",
   "nbconvert_exporter": "python",
   "pygments_lexer": "ipython3",
   "version": "3.9.12"
  }
 },
 "nbformat": 4,
 "nbformat_minor": 5
}
