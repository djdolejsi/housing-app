{
 "cells": [
  {
   "cell_type": "code",
   "execution_count": 1,
   "id": "01eb5cd2",
   "metadata": {},
   "outputs": [],
   "source": [
    "from splinter import Browser\n",
    "from bs4 import BeautifulSoup\n",
    "from webdriver_manager.chrome import ChromeDriverManager\n",
    "import pandas as pd"
   ]
  },
  {
   "cell_type": "code",
   "execution_count": 2,
   "id": "5372defd",
   "metadata": {},
   "outputs": [],
   "source": [
    "# Setup splinter\n",
    "executable_path = {'executable_path': ChromeDriverManager().install()}\n",
    "browser = Browser('chrome', **executable_path, headless=False)"
   ]
  },
  {
   "cell_type": "code",
   "execution_count": 3,
   "id": "0d94c02d",
   "metadata": {},
   "outputs": [],
   "source": [
    "html = browser.html\n",
    "soup = BeautifulSoup(html, 'html.parser')"
   ]
  },
  {
   "cell_type": "code",
   "execution_count": 4,
   "id": "0a0a7930",
   "metadata": {},
   "outputs": [],
   "source": [
    "# Stack Overflow URL to scrape\n",
    "dallas_url = 'https://www.mydallashomefinder.com/listing?utm_campaign=SNDTX%3A%20Dallas%20County%20-%20Zip%20Codes&utm_medium=cpc&pageSize=24&pageNum=2&utm_term=homes%20sale%2075220%20Dallas%20Texas&page=1&msclkid=9653aafd9dd215d71837c9942c264c70&utm_source=bing&utm_content=75220&key=Dallas%2C%20TX&keywordType=city&purchaseType-For-Sale-Rent=1&zoom=12'\n",
    "# Retrieve page with the requests module\n",
    "browser.visit(dallas_url)"
   ]
  },
  {
   "cell_type": "code",
   "execution_count": 5,
   "id": "0d9a4a42",
   "metadata": {
    "scrolled": true
   },
   "outputs": [],
   "source": [
    "for x in range (2):\n",
    "    #x = 1\n",
    "    html = browser.html\n",
    "    soup = BeautifulSoup(html, 'html.parser')\n",
    "    location  = soup.find_all('p', class_='house-address')\n",
    "    cost = soup.find_all('p', class_='house-price')\n",
    "    #list names \n",
    "    addresses = []\n",
    "    price = []\n",
    "    #append lists\n",
    "    for i, y in zip(location, cost):\n",
    "        addresses.append(i.text)\n",
    "        price.append(y.text)\n",
    "\n",
    "            #print('next page')\n",
    "    \n",
    "    #browser.links.find_by_partial_text(\" 2 \").click()"
   ]
  },
  {
   "cell_type": "code",
   "execution_count": 6,
   "id": "df2c90f8",
   "metadata": {},
   "outputs": [
    {
     "name": "stdout",
     "output_type": "stream",
     "text": [
      "['9815 Airline Road, Dallas, TX 75230', '3527 Schuster Drive, Dallas, TX 75212', '3505 Turtle Creek Boulevard #10B, Dallas, TX 75219', '4215 Skillman Street, Dallas, TX 75206', '9243 Marilyn Place, Dallas, TX 75227', '4040 Shady Hollow Lane, Dallas, TX 75233', '6003 Belgrade Avenue, Dallas, TX 75227', '2472 Thatcher Drive, Dallas, TX 75206', '4808 Mexico Court, Dallas, TX 75236', '5615 Preston Fairways Drive, Dallas, TX 75252', '11480 Audelia Road #348, Dallas, TX 75243', '9704 Vista Oaks Drive, Dallas, TX 75243', '1460 Glencliff Drive, Dallas, TX 75217', '1519 Cedar Hill Avenue, Dallas, TX 75208', '3050 Sundial Drive, Dallas, TX 75229', '4046 Odessa Street, Dallas, TX 75212', '4042 Odessa Street, Dallas, TX 75212', '5546 Goodwin Avenue, Dallas, TX 75206', '2614 Ghent Street, Dallas, TX 75215', '6042 Lakehurst Avenue, Dallas, TX 75230', '6323 Vickery Boulevard, Dallas, TX 75214', '5007 Junius Street, Dallas, TX 75214', '17905 Carrollwood Drive, Dallas, TX 75252', '2235 Lovedale Avenue #103, Dallas, TX 75235']\n"
     ]
    }
   ],
   "source": [
    "print(addresses)"
   ]
  },
  {
   "cell_type": "code",
   "execution_count": 7,
   "id": "c0fc71d5",
   "metadata": {},
   "outputs": [],
   "source": [
    "bbsq = soup.find_all('span', class_='vertical-line')\n",
    "bed_bath_sq = []\n",
    "for x in bbsq:\n",
    "    bed_bath_sq.append(x.text)"
   ]
  },
  {
   "cell_type": "code",
   "execution_count": 8,
   "id": "3c032ed5",
   "metadata": {},
   "outputs": [
    {
     "name": "stdout",
     "output_type": "stream",
     "text": [
      "['4 Beds', '4 Baths', '3,832 SqFt', '0.35 Acres', '3 Beds', '5 Baths', '3,439 SqFt', '3 Beds', '2 Baths', '1,458 SqFt', '2 Beds', '1 Bath', '1,056 SqFt', '6 Beds', '3 Baths', '2,286 SqFt', '2 Beds', '2 Baths', '1,284 SqFt', '3 Beds', '4 Baths', '2,015 SqFt', '3 Beds', '2 Baths', '1,494 SqFt', '3 Beds', '3 Baths', '2,724 SqFt', '1 Bed', '1 Bath', '730 SqFt', '4 Beds', '3 Baths', '3,221 SqFt', '4 Beds', '2 Baths', '1,799 SqFt', '4 Beds', '5 Baths', '4,277 SqFt', '3 Beds', '2 Baths', '1,656 SqFt', '2 Beds', '1 Bath', '732 SqFt', '3 Beds', '2 Baths', '1,700 SqFt', '3 Beds', '3 Baths', '2,400 SqFt', '4 Beds', '3 Baths', '1,724 SqFt', '5 Beds', '7 Baths', '6,628 SqFt', '2 Beds', '3 Baths', '1,962 SqFt', '3 Beds', '3 Baths', '2,480 SqFt', '4 Beds', '3 Baths', '2,590 SqFt', '3 Beds', '3 Baths', '1,878 SqFt']\n"
     ]
    }
   ],
   "source": [
    "print(bed_bath_sq)"
   ]
  },
  {
   "cell_type": "code",
   "execution_count": 9,
   "id": "65b0ce34",
   "metadata": {},
   "outputs": [
    {
     "name": "stdout",
     "output_type": "stream",
     "text": [
      "[['4 Beds'], ['4 Baths'], ['3', '832 SqFt'], ['0.35 Acres'], ['3 Beds'], ['5 Baths'], ['3', '439 SqFt'], ['3 Beds'], ['2 Baths'], ['1', '458 SqFt'], ['2 Beds'], ['1 Bath'], ['1', '056 SqFt'], ['6 Beds'], ['3 Baths'], ['2', '286 SqFt'], ['2 Beds'], ['2 Baths'], ['1', '284 SqFt'], ['3 Beds'], ['4 Baths'], ['2', '015 SqFt'], ['3 Beds'], ['2 Baths'], ['1', '494 SqFt'], ['3 Beds'], ['3 Baths'], ['2', '724 SqFt'], ['1 Bed'], ['1 Bath'], ['730 SqFt'], ['4 Beds'], ['3 Baths'], ['3', '221 SqFt'], ['4 Beds'], ['2 Baths'], ['1', '799 SqFt'], ['4 Beds'], ['5 Baths'], ['4', '277 SqFt'], ['3 Beds'], ['2 Baths'], ['1', '656 SqFt'], ['2 Beds'], ['1 Bath'], ['732 SqFt'], ['3 Beds'], ['2 Baths'], ['1', '700 SqFt'], ['3 Beds'], ['3 Baths'], ['2', '400 SqFt'], ['4 Beds'], ['3 Baths'], ['1', '724 SqFt'], ['5 Beds'], ['7 Baths'], ['6', '628 SqFt'], ['2 Beds'], ['3 Baths'], ['1', '962 SqFt'], ['3 Beds'], ['3 Baths'], ['2', '480 SqFt'], ['4 Beds'], ['3 Baths'], ['2', '590 SqFt'], ['3 Beds'], ['3 Baths'], ['1', '878 SqFt']]\n"
     ]
    }
   ],
   "source": [
    "bbsq_results = [item.split(',', 3) for item in bed_bath_sq]\n",
    "print(bbsq_results)"
   ]
  },
  {
   "cell_type": "code",
   "execution_count": 10,
   "id": "c02887fb",
   "metadata": {},
   "outputs": [],
   "source": [
    "sub = bbsq_results[::3] "
   ]
  },
  {
   "cell_type": "code",
   "execution_count": 11,
   "id": "7009b76b",
   "metadata": {},
   "outputs": [
    {
     "name": "stdout",
     "output_type": "stream",
     "text": [
      "[['4 Beds'], ['0.35 Acres'], ['3', '439 SqFt'], ['1', '458 SqFt'], ['1', '056 SqFt'], ['2', '286 SqFt'], ['1', '284 SqFt'], ['2', '015 SqFt'], ['1', '494 SqFt'], ['2', '724 SqFt'], ['730 SqFt'], ['3', '221 SqFt'], ['1', '799 SqFt'], ['4', '277 SqFt'], ['1', '656 SqFt'], ['732 SqFt'], ['1', '700 SqFt'], ['2', '400 SqFt'], ['1', '724 SqFt'], ['6', '628 SqFt'], ['1', '962 SqFt'], ['2', '480 SqFt'], ['2', '590 SqFt'], ['1', '878 SqFt']]\n"
     ]
    }
   ],
   "source": [
    "print(sub)"
   ]
  },
  {
   "cell_type": "code",
   "execution_count": null,
   "id": "fafa76db",
   "metadata": {},
   "outputs": [],
   "source": []
  }
 ],
 "metadata": {
  "kernelspec": {
   "display_name": "Python 3 (ipykernel)",
   "language": "python",
   "name": "python3"
  },
  "language_info": {
   "codemirror_mode": {
    "name": "ipython",
    "version": 3
   },
   "file_extension": ".py",
   "mimetype": "text/x-python",
   "name": "python",
   "nbconvert_exporter": "python",
   "pygments_lexer": "ipython3",
   "version": "3.9.12"
  }
 },
 "nbformat": 4,
 "nbformat_minor": 5
}
