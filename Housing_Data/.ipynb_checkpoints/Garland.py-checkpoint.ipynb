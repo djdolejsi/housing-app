{
 "cells": [
  {
   "cell_type": "code",
   "execution_count": 1,
   "id": "31e9b218",
   "metadata": {},
   "outputs": [],
   "source": [
    "from splinter import Browser\n",
    "from bs4 import BeautifulSoup\n",
    "from webdriver_manager.chrome import ChromeDriverManager\n",
    "import pandas as pd"
   ]
  },
  {
   "cell_type": "code",
   "execution_count": 2,
   "id": "33bb065c",
   "metadata": {},
   "outputs": [],
   "source": [
    "# Setup splinter\n",
    "executable_path = {'executable_path': ChromeDriverManager().install()}\n",
    "browser = Browser('chrome', **executable_path, headless=False)"
   ]
  },
  {
   "cell_type": "code",
   "execution_count": 3,
   "id": "df2aed15",
   "metadata": {},
   "outputs": [],
   "source": [
    "html = browser.html\n",
    "soup = BeautifulSoup(html, 'html.parser')"
   ]
  },
  {
   "cell_type": "code",
   "execution_count": 4,
   "id": "c94a30f9",
   "metadata": {},
   "outputs": [],
   "source": [
    "# Stack Overflow URL to scrape\n",
    "gar_url = 'https://www.mydallashomefinder.com/listing?utm_campaign=SNDTX%3A%20Dallas%20County%20-%20Zip%20Codes&utm_medium=cpc&pageSize=24&zoom=12&pageNum=2&utm_term=homes%20sale%2075220%20Dallas%20Texas&page=1&msclkid=9653aafd9dd215d71837c9942c264c70&utm_source=bing&utm_content=75220&key=Garland%2C%20TX&keywordType=city&purchaseType-For-Sale-Rent=1'\n",
    "# Retrieve page with the requests module\n",
    "browser.visit(gar_url)"
   ]
  },
  {
   "cell_type": "code",
   "execution_count": 5,
   "id": "09737b41",
   "metadata": {},
   "outputs": [],
   "source": [
    "for x in range (2):\n",
    "    #x = 1\n",
    "    html = browser.html\n",
    "    soup = BeautifulSoup(html, 'html.parser')\n",
    "    location  = soup.find_all('p', class_='house-address')\n",
    "    cost = soup.find_all('p', class_='house-price')\n",
    "    #list names \n",
    "    addresses = []\n",
    "    price = []\n",
    "    #append lists\n",
    "    for i, y in zip(location, cost):\n",
    "        addresses.append(i.text)\n",
    "        price.append(y.text)"
   ]
  },
  {
   "cell_type": "code",
   "execution_count": 6,
   "id": "0cd93943",
   "metadata": {},
   "outputs": [
    {
     "name": "stdout",
     "output_type": "stream",
     "text": [
      "['1314 Wendell Way, Garland, TX 75043', '322 Saddlebrook Drive, Garland, TX 75044', '1014 Seminary Ridge, Garland, TX 75043', '3213 Cross Timbers Lane, Garland, TX 75044', '601 Colonial Drive, Garland, TX 75043', '3210 Kingswood Drive, Garland, TX 75040', '2113 Lansdowne Drive, Garland, TX 75040', '5406 Sundown Lane, Garland, TX 75043', '4206 Lauren Lane, Garland, TX 75043', '1321 Linden Lane, Garland, TX 75040', '1909 Wyndemere Lane, Garland, TX 75042', '1710 Running River Road, Garland, TX 75044', '2817 Meadow Park Drive, Garland, TX 75040', '3910 Mayflower Drive, Garland, TX 75043', '3510 University Drive, Garland, TX 75043', '5202 Fairway Lakes Court, Garland, TX 75044', '2105 Tiehack Lane, Garland, TX 75044', '1717 E Oates Road, Garland, TX 75043', '1404 Iroquois Drive, Garland, TX 75043', '1857 Mcclary Street, Garland, TX 75040', '3017 Club Country Drive, Garland, TX 75043', '3410 Morning Star Lane, Garland, TX 75043', '314 Ridgegate Drive, Garland, TX 75040', '2205 Harvest Run, Garland, TX 75040']\n"
     ]
    }
   ],
   "source": [
    "print(addresses)"
   ]
  },
  {
   "cell_type": "code",
   "execution_count": 7,
   "id": "4d1c2dea",
   "metadata": {},
   "outputs": [
    {
     "name": "stdout",
     "output_type": "stream",
     "text": [
      "['\\n                $369,900\\n            ', '\\n                $465,000\\n            ', '\\n                $388,000\\n            ', '\\n                $578,000\\n            ', '\\n                $325,000\\n            ', '\\n                $360,000\\n            ', '\\n                $449,800\\n            ', '\\n                $314,999\\n            ', '\\n                $624,900\\n            ', '\\n                $325,000\\n            ', '\\n                $235,000\\n            ', '\\n                $305,000\\n            ', '\\n                $380,000\\n            ', '\\n                $275,000\\n            ', '\\n                $390,000\\n            ', '\\n                $565,000\\n            ', '\\n                $330,000\\n            ', '\\n                $664,999\\n            ', '\\n                $384,900\\n            ', '\\n                $619,000\\n            ', '\\n                $385,000\\n            ', '\\n                $395,000\\n            ', '\\n                $388,000\\n            ', '\\n                $539,000\\n            ']\n"
     ]
    }
   ],
   "source": [
    "print(price)"
   ]
  },
  {
   "cell_type": "code",
   "execution_count": 8,
   "id": "343a8856",
   "metadata": {},
   "outputs": [],
   "source": [
    "bbsq = soup.find_all('span', class_='vertical-line')\n",
    "bed_bath_sq = []\n",
    "for x in bbsq:\n",
    "    bed_bath_sq.append(x.text)"
   ]
  },
  {
   "cell_type": "code",
   "execution_count": 9,
   "id": "b67a14c4",
   "metadata": {},
   "outputs": [
    {
     "name": "stdout",
     "output_type": "stream",
     "text": [
      "['4 Beds', '3 Beds', '3 Beds', '4 Beds', '4 Beds', '3 Beds', '3 Beds', '3 Beds', '4 Beds', '3 Beds', '2 Beds', '4 Beds', '4 Beds', '3 Beds', '4 Beds', '5 Beds', '3 Beds', '5 Beds', '4 Beds', '4 Beds', '3 Beds', '3 Beds', '3 Beds', '4 Beds']\n"
     ]
    }
   ],
   "source": [
    "sub = bed_bath_sq[::3]\n",
    "print(sub)"
   ]
  },
  {
   "cell_type": "code",
   "execution_count": 10,
   "id": "5b18f44f",
   "metadata": {},
   "outputs": [],
   "source": [
    "beds = []\n",
    "for x in sub:\n",
    "    beds.append(x)"
   ]
  },
  {
   "cell_type": "code",
   "execution_count": 11,
   "id": "66b64307",
   "metadata": {},
   "outputs": [
    {
     "name": "stdout",
     "output_type": "stream",
     "text": [
      "['3 Baths', '2 Baths', '2 Baths', '3 Baths', '2 Baths', '2 Baths', '3 Baths', '2 Baths', '4 Baths', '2 Baths', '2 Baths', '3 Baths', '2 Baths', '2 Baths', '3 Baths', '4 Baths', '2 Baths', '5 Baths', '3 Baths', '4 Baths', '3 Baths', '3 Baths', '2 Baths', '4 Baths']\n"
     ]
    }
   ],
   "source": [
    "sub1 = bed_bath_sq[1::3]\n",
    "print(sub1)"
   ]
  },
  {
   "cell_type": "code",
   "execution_count": 12,
   "id": "fd1c13e6",
   "metadata": {},
   "outputs": [],
   "source": [
    "baths = []\n",
    "for y in sub1:\n",
    "    baths.append(y)"
   ]
  },
  {
   "cell_type": "code",
   "execution_count": 13,
   "id": "6ee1e461",
   "metadata": {},
   "outputs": [
    {
     "name": "stdout",
     "output_type": "stream",
     "text": [
      "['2,498 SqFt', '2,020 SqFt', '2,292 SqFt', '2,667 SqFt', '1,915 SqFt', '1,917 SqFt', '1,719 SqFt', '1,568 SqFt', '4,223 SqFt', '1,737 SqFt', '1,290 SqFt', '1,277 SqFt', '1,716 SqFt', '1,519 SqFt', '2,566 SqFt', '3,379 SqFt', '1,424 SqFt', '3,682 SqFt', '2,225 SqFt', '3,507 SqFt', '2,085 SqFt', '2,073 SqFt', '1,636 SqFt', '3,384 SqFt']\n"
     ]
    }
   ],
   "source": [
    "sub2 = bed_bath_sq[2::3]\n",
    "print(sub2)"
   ]
  },
  {
   "cell_type": "code",
   "execution_count": 14,
   "id": "88dba3a7",
   "metadata": {},
   "outputs": [],
   "source": [
    "sqft = []\n",
    "for z in sub2:\n",
    "    sqft.append(z)"
   ]
  },
  {
   "cell_type": "code",
   "execution_count": 15,
   "id": "35936693",
   "metadata": {},
   "outputs": [],
   "source": [
    "garland_buy = pd.DataFrame({\n",
    "    \"Address\": addresses,\n",
    "    \"Price\": price,\n",
    "    \"Number of Bedrooms\": beds,\n",
    "    \"Number of Bathrooms\": baths,\n",
    "    \"Square Feet\": sqft\n",
    "})"
   ]
  },
  {
   "cell_type": "code",
   "execution_count": 16,
   "id": "5115c273",
   "metadata": {},
   "outputs": [],
   "source": [
    "garland_buy.to_csv(r'../Resources/garland_buy.csv', index = False)"
   ]
  },
  {
   "cell_type": "code",
   "execution_count": null,
   "id": "e6148ae8",
   "metadata": {},
   "outputs": [],
   "source": []
  }
 ],
 "metadata": {
  "kernelspec": {
   "display_name": "Python 3 (ipykernel)",
   "language": "python",
   "name": "python3"
  },
  "language_info": {
   "codemirror_mode": {
    "name": "ipython",
    "version": 3
   },
   "file_extension": ".py",
   "mimetype": "text/x-python",
   "name": "python",
   "nbconvert_exporter": "python",
   "pygments_lexer": "ipython3",
   "version": "3.9.12"
  }
 },
 "nbformat": 4,
 "nbformat_minor": 5
}
