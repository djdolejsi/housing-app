{
 "cells": [
  {
   "cell_type": "code",
   "execution_count": 1,
   "id": "6156b74e",
   "metadata": {},
   "outputs": [],
   "source": [
    "from splinter import Browser\n",
    "from bs4 import BeautifulSoup\n",
    "from webdriver_manager.chrome import ChromeDriverManager\n",
    "import pandas as pd"
   ]
  },
  {
   "cell_type": "code",
   "execution_count": 2,
   "id": "9d2e7fef",
   "metadata": {},
   "outputs": [],
   "source": [
    "# Setup splinter\n",
    "executable_path = {'executable_path': ChromeDriverManager().install()}\n",
    "browser = Browser('chrome', **executable_path, headless=False)"
   ]
  },
  {
   "cell_type": "code",
   "execution_count": 3,
   "id": "efdf0b87",
   "metadata": {},
   "outputs": [],
   "source": [
    "html = browser.html\n",
    "soup = BeautifulSoup(html, 'html.parser')"
   ]
  },
  {
   "cell_type": "code",
   "execution_count": 4,
   "id": "1d9f6177",
   "metadata": {},
   "outputs": [],
   "source": [
    "# Stack Overflow URL to scrape\n",
    "frisco_url = 'https://www.mydallashomefinder.com/listing?utm_campaign=SNDTX%3A%20Dallas%20County%20-%20Zip%20Codes&utm_medium=cpc&pageSize=24&zoom=12&pageNum=2&utm_term=homes%20sale%2075220%20Dallas%20Texas&page=1&msclkid=9653aafd9dd215d71837c9942c264c70&utm_source=bing&utm_content=75220&key=Frisco%2C%20TX&keywordType=city&purchaseType-For-Sale-Rent=1'\n",
    "# Retrieve page with the requests module\n",
    "browser.visit(frisco_url)"
   ]
  },
  {
   "cell_type": "code",
   "execution_count": 5,
   "id": "4d6a687c",
   "metadata": {},
   "outputs": [],
   "source": [
    "for x in range (2):\n",
    "    #x = 1\n",
    "    html = browser.html\n",
    "    soup = BeautifulSoup(html, 'html.parser')\n",
    "    location  = soup.find_all('p', class_='house-address')\n",
    "    cost = soup.find_all('p', class_='house-price')\n",
    "    #list names \n",
    "    addresses = []\n",
    "    price = []\n",
    "    #append lists\n",
    "    for i, y in zip(location, cost):\n",
    "        addresses.append(i.text)\n",
    "        price.append(y.text)"
   ]
  },
  {
   "cell_type": "code",
   "execution_count": 6,
   "id": "bd7e8fa0",
   "metadata": {},
   "outputs": [
    {
     "name": "stdout",
     "output_type": "stream",
     "text": [
      "[<p class=\"house-address\">6024 Norwood Drive, Frisco, TX 75034</p>, <p class=\"house-address\">12003 Lante Circle, Frisco, TX 75033</p>, <p class=\"house-address\">10908 Jeffreys Bay, Frisco, TX 75035</p>, <p class=\"house-address\">8762 Fisher Drive, Frisco, TX 75033</p>, <p class=\"house-address\">16542 Moss Haven Lane, Frisco, TX 75068</p>, <p class=\"house-address\">12109 Wind Surf Drive, Frisco, TX 75036</p>, <p class=\"house-address\">4285 Cedar Bluff Lane, Frisco, TX 75033</p>, <p class=\"house-address\">12566 Loxley Drive, Frisco, TX 75035</p>, <p class=\"house-address\">9663 Lance Drive, Frisco, TX 75035</p>, <p class=\"house-address\">9322 Middle Ground Place, Frisco, TX 75035</p>, <p class=\"house-address\">5073 Livingston Drive, Frisco, TX 75033</p>, <p class=\"house-address\">661 Bannock Road, Frisco, TX 75036</p>, <p class=\"house-address\">11760 Orange Court, Frisco, TX 75035</p>, <p class=\"house-address\">5167 Burkett Drive, Frisco, TX 75034</p>, <p class=\"house-address\">6703 Winston Drive, Frisco, TX 75035</p>, <p class=\"house-address\">5713 Wilmington Drive, Frisco, TX 75035</p>, <p class=\"house-address\">15788 Foliage Road, Frisco, TX 75035</p>, <p class=\"house-address\">5144 Lake Creek Court, Frisco, TX 75035</p>, <p class=\"house-address\">4801 Ray Roberts Drive, Frisco, TX 75036</p>, <p class=\"house-address\">5453 Quail Run, Frisco, TX 75034</p>, <p class=\"house-address\">3026 Briarwood Lane, Frisco, TX 75034</p>, <p class=\"house-address\">12269 Bethel Drive, Frisco, TX 75033</p>, <p class=\"house-address\">5450 Travis Drive, Frisco, TX 75034</p>, <p class=\"house-address\">48 Emerald Pond Drive, Frisco, TX 75034</p>]\n"
     ]
    }
   ],
   "source": [
    "print(location)"
   ]
  },
  {
   "cell_type": "code",
   "execution_count": 6,
   "id": "369a679c",
   "metadata": {},
   "outputs": [],
   "source": [
    "bbsq = soup.find_all('span', class_='vertical-line')\n",
    "bed_bath_sq = []\n",
    "for x in bbsq:\n",
    "    bed_bath_sq.append(x.text)"
   ]
  },
  {
   "cell_type": "code",
   "execution_count": 7,
   "id": "53bc7652",
   "metadata": {},
   "outputs": [
    {
     "name": "stdout",
     "output_type": "stream",
     "text": [
      "['2 Beds', '3 Baths', '1,670 SqFt', '3 Beds', '2 Baths', '1,904 SqFt', '4 Beds', '4 Baths', '3,531 SqFt', '2 Beds', '2 Baths', '1,700 SqFt', '5 Beds', '5 Baths', '4,034 SqFt', '4 Beds', '3 Baths', '3,277 SqFt', '4 Beds', '2 Baths', '2,027 SqFt', '4 Beds', '3 Baths', '3,757 SqFt', '5 Beds', '5 Baths', '4,194 SqFt', '4 Beds', '4 Baths', '2,823 SqFt', '5 Beds', '5 Baths', '4,935 SqFt', '4 Beds', '2 Baths', '2,111 SqFt', '4 Beds', '3 Baths', '3,236 SqFt', '4 Beds', '5 Baths', '3,624 SqFt', '5 Beds', '4 Baths', '4,176 SqFt', '5 Beds', '6 Baths', '4,759 SqFt', '3 Beds', '2 Baths', '3,092 SqFt', '5 Beds', '4 Baths', '4,507 SqFt', '5 Beds', '7 Baths', '3,213 SqFt', '4 Beds', '3 Baths', '2,752 SqFt', '4 Beds', '4 Baths', '3,550 SqFt', '5 Beds', '7 Baths', '5,844 SqFt', '3 Beds', '3 Baths', '3,041 SqFt', '4 Beds', '5 Baths', '3,922 SqFt']\n"
     ]
    }
   ],
   "source": [
    "print(bed_bath_sq)"
   ]
  },
  {
   "cell_type": "code",
   "execution_count": 9,
   "id": "18745843",
   "metadata": {},
   "outputs": [
    {
     "name": "stdout",
     "output_type": "stream",
     "text": [
      "['2 Beds', '3 Beds', '4 Beds', '2 Beds', '5 Beds', '4 Beds', '4 Beds', '4 Beds', '5 Beds', '4 Beds', '5 Beds', '4 Beds', '4 Beds', '4 Beds', '5 Beds', '5 Beds', '3 Beds', '5 Beds', '5 Beds', '4 Beds', '4 Beds', '5 Beds', '3 Beds', '4 Beds']\n"
     ]
    }
   ],
   "source": [
    "sub = bed_bath_sq[::3]\n",
    "print(sub)"
   ]
  },
  {
   "cell_type": "code",
   "execution_count": 10,
   "id": "367653cf",
   "metadata": {},
   "outputs": [],
   "source": [
    "beds = []\n",
    "for x in sub:\n",
    "    beds.append(x)"
   ]
  },
  {
   "cell_type": "code",
   "execution_count": 11,
   "id": "49513c0a",
   "metadata": {},
   "outputs": [
    {
     "name": "stdout",
     "output_type": "stream",
     "text": [
      "['3 Baths', '2 Baths', '4 Baths', '2 Baths', '5 Baths', '3 Baths', '2 Baths', '3 Baths', '5 Baths', '4 Baths', '5 Baths', '2 Baths', '3 Baths', '5 Baths', '4 Baths', '6 Baths', '2 Baths', '4 Baths', '7 Baths', '3 Baths', '4 Baths', '7 Baths', '3 Baths', '5 Baths']\n"
     ]
    }
   ],
   "source": [
    "sub1 = bed_bath_sq[1::3]\n",
    "print(sub1)"
   ]
  },
  {
   "cell_type": "code",
   "execution_count": null,
   "id": "74822965",
   "metadata": {},
   "outputs": [],
   "source": []
  }
 ],
 "metadata": {
  "kernelspec": {
   "display_name": "Python 3 (ipykernel)",
   "language": "python",
   "name": "python3"
  },
  "language_info": {
   "codemirror_mode": {
    "name": "ipython",
    "version": 3
   },
   "file_extension": ".py",
   "mimetype": "text/x-python",
   "name": "python",
   "nbconvert_exporter": "python",
   "pygments_lexer": "ipython3",
   "version": "3.9.12"
  }
 },
 "nbformat": 4,
 "nbformat_minor": 5
}
