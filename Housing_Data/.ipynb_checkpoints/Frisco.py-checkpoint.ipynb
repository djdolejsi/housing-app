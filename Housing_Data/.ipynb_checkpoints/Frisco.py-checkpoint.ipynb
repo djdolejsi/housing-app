{
 "cells": [
  {
   "cell_type": "code",
   "execution_count": 1,
   "id": "6156b74e",
   "metadata": {},
   "outputs": [],
   "source": [
    "from splinter import Browser\n",
    "from bs4 import BeautifulSoup\n",
    "from webdriver_manager.chrome import ChromeDriverManager\n",
    "from geopy.geocoders import Nominatim\n",
    "geolocator = Nominatim(user_agent=\"friscobuy app\")\n",
    "import pandas as pd"
   ]
  },
  {
   "cell_type": "code",
   "execution_count": 2,
   "id": "9d2e7fef",
   "metadata": {},
   "outputs": [],
   "source": [
    "# Setup splinter\n",
    "executable_path = {'executable_path': ChromeDriverManager().install()}\n",
    "browser = Browser('chrome', **executable_path, headless=False)"
   ]
  },
  {
   "cell_type": "code",
   "execution_count": 3,
   "id": "efdf0b87",
   "metadata": {},
   "outputs": [],
   "source": [
    "html = browser.html\n",
    "soup = BeautifulSoup(html, 'html.parser')"
   ]
  },
  {
   "cell_type": "code",
   "execution_count": 4,
   "id": "1d9f6177",
   "metadata": {},
   "outputs": [],
   "source": [
    "# Stack Overflow URL to scrape\n",
    "frisco_url = 'https://www.mydallashomefinder.com/listing?utm_campaign=SNDTX%3A%20Dallas%20County%20-%20Zip%20Codes&utm_medium=cpc&pageSize=24&zoom=12&pageNum=2&utm_term=homes%20sale%2075220%20Dallas%20Texas&page=1&msclkid=9653aafd9dd215d71837c9942c264c70&utm_source=bing&utm_content=75220&key=Frisco%2C%20TX&keywordType=city&purchaseType-For-Sale-Rent=1'\n",
    "# Retrieve page with the requests module\n",
    "browser.visit(frisco_url)"
   ]
  },
  {
   "cell_type": "code",
   "execution_count": 5,
   "id": "4d6a687c",
   "metadata": {},
   "outputs": [],
   "source": [
    "for x in range (2):\n",
    "    #x = 1\n",
    "    html = browser.html\n",
    "    soup = BeautifulSoup(html, 'html.parser')\n",
    "    location  = soup.find_all('p', class_='house-address')\n",
    "    cost = soup.find_all('p', class_='house-price')\n",
    "    #list names \n",
    "    addresses = []\n",
    "    price = []\n",
    "    #append lists\n",
    "    for i, y in zip(location, cost):\n",
    "        addresses.append(i.text)\n",
    "        price.append(y.text)"
   ]
  },
  {
   "cell_type": "code",
   "execution_count": 6,
   "id": "bd7e8fa0",
   "metadata": {},
   "outputs": [
    {
     "name": "stdout",
     "output_type": "stream",
     "text": [
      "[<p class=\"house-address\">6024 Norwood Drive, Frisco, TX 75034</p>, <p class=\"house-address\">12003 Lante Circle, Frisco, TX 75033</p>, <p class=\"house-address\">10908 Jeffreys Bay, Frisco, TX 75035</p>, <p class=\"house-address\">8762 Fisher Drive, Frisco, TX 75033</p>, <p class=\"house-address\">16542 Moss Haven Lane, Frisco, TX 75068</p>, <p class=\"house-address\">12109 Wind Surf Drive, Frisco, TX 75036</p>, <p class=\"house-address\">4285 Cedar Bluff Lane, Frisco, TX 75033</p>, <p class=\"house-address\">12566 Loxley Drive, Frisco, TX 75035</p>, <p class=\"house-address\">9663 Lance Drive, Frisco, TX 75035</p>, <p class=\"house-address\">9322 Middle Ground Place, Frisco, TX 75035</p>, <p class=\"house-address\">5073 Livingston Drive, Frisco, TX 75033</p>, <p class=\"house-address\">661 Bannock Road, Frisco, TX 75036</p>, <p class=\"house-address\">11760 Orange Court, Frisco, TX 75035</p>, <p class=\"house-address\">5167 Burkett Drive, Frisco, TX 75034</p>, <p class=\"house-address\">6703 Winston Drive, Frisco, TX 75035</p>, <p class=\"house-address\">5713 Wilmington Drive, Frisco, TX 75035</p>, <p class=\"house-address\">15788 Foliage Road, Frisco, TX 75035</p>, <p class=\"house-address\">5144 Lake Creek Court, Frisco, TX 75035</p>, <p class=\"house-address\">4801 Ray Roberts Drive, Frisco, TX 75036</p>, <p class=\"house-address\">5453 Quail Run, Frisco, TX 75034</p>, <p class=\"house-address\">3026 Briarwood Lane, Frisco, TX 75034</p>, <p class=\"house-address\">12269 Bethel Drive, Frisco, TX 75033</p>, <p class=\"house-address\">5450 Travis Drive, Frisco, TX 75034</p>, <p class=\"house-address\">48 Emerald Pond Drive, Frisco, TX 75034</p>]\n"
     ]
    }
   ],
   "source": [
    "print(location)"
   ]
  },
  {
   "cell_type": "code",
   "execution_count": 6,
   "id": "369a679c",
   "metadata": {},
   "outputs": [],
   "source": [
    "bbsq = soup.find_all('span', class_='vertical-line')\n",
    "bed_bath_sq = []\n",
    "for x in bbsq:\n",
    "    bed_bath_sq.append(x.text)"
   ]
  },
  {
   "cell_type": "code",
   "execution_count": 7,
   "id": "b892abb0",
   "metadata": {},
   "outputs": [
    {
     "name": "stdout",
     "output_type": "stream",
     "text": [
      "['2 Beds', '3 Baths', '1,670 SqFt', '3 Beds', '2 Baths', '1,904 SqFt', '4 Beds', '4 Baths', '3,531 SqFt', '2 Beds', '2 Baths', '1,700 SqFt', '5 Beds', '5 Baths', '4,034 SqFt', '4 Beds', '3 Baths', '3,277 SqFt', '4 Beds', '2 Baths', '2,027 SqFt', '4 Beds', '3 Baths', '3,757 SqFt', '5 Beds', '5 Baths', '4,194 SqFt', '4 Beds', '4 Baths', '2,823 SqFt', '5 Beds', '5 Baths', '4,935 SqFt', '4 Beds', '2 Baths', '2,111 SqFt', '4 Beds', '3 Baths', '3,236 SqFt', '4 Beds', '5 Baths', '3,624 SqFt', '5 Beds', '4 Baths', '4,176 SqFt', '5 Beds', '6 Baths', '4,759 SqFt', '3 Beds', '2 Baths', '3,092 SqFt', '5 Beds', '4 Baths', '4,507 SqFt', '5 Beds', '7 Baths', '3,213 SqFt', '4 Beds', '3 Baths', '2,752 SqFt', '4 Beds', '4 Baths', '3,550 SqFt', '5 Beds', '7 Baths', '5,844 SqFt', '3 Beds', '3 Baths', '3,041 SqFt', '4 Beds', '5 Baths', '3,922 SqFt']\n"
     ]
    }
   ],
   "source": [
    "print(bed_bath_sq)"
   ]
  },
  {
   "cell_type": "code",
   "execution_count": 9,
   "id": "f14e543f",
   "metadata": {},
   "outputs": [
    {
     "name": "stdout",
     "output_type": "stream",
     "text": [
      "['2 Beds', '3 Beds', '4 Beds', '2 Beds', '5 Beds', '4 Beds', '4 Beds', '4 Beds', '5 Beds', '4 Beds', '5 Beds', '4 Beds', '4 Beds', '4 Beds', '5 Beds', '5 Beds', '3 Beds', '5 Beds', '5 Beds', '4 Beds', '4 Beds', '5 Beds', '3 Beds', '4 Beds']\n"
     ]
    }
   ],
   "source": [
    "sub = bed_bath_sq[::3]\n",
    "print(sub)"
   ]
  },
  {
   "cell_type": "code",
   "execution_count": 10,
   "id": "eaae1637",
   "metadata": {},
   "outputs": [],
   "source": [
    "beds = []\n",
    "for x in sub:\n",
    "    beds.append(x)"
   ]
  },
  {
   "cell_type": "code",
   "execution_count": 11,
   "id": "e3a42385",
   "metadata": {},
   "outputs": [
    {
     "name": "stdout",
     "output_type": "stream",
     "text": [
      "['3 Baths', '2 Baths', '4 Baths', '2 Baths', '5 Baths', '3 Baths', '2 Baths', '3 Baths', '5 Baths', '4 Baths', '5 Baths', '2 Baths', '3 Baths', '5 Baths', '4 Baths', '6 Baths', '2 Baths', '4 Baths', '7 Baths', '3 Baths', '4 Baths', '7 Baths', '3 Baths', '5 Baths']\n"
     ]
    }
   ],
   "source": [
    "sub1 = bed_bath_sq[1::3]\n",
    "print(sub1)"
   ]
  },
  {
   "cell_type": "code",
   "execution_count": 12,
   "id": "ea8d17df",
   "metadata": {},
   "outputs": [],
   "source": [
    "baths = []\n",
    "for y in sub1:\n",
    "    baths.append(y)"
   ]
  },
  {
   "cell_type": "code",
   "execution_count": 13,
   "id": "1e602b16",
   "metadata": {},
   "outputs": [
    {
     "name": "stdout",
     "output_type": "stream",
     "text": [
      "['3 Baths', '2 Baths', '4 Baths', '2 Baths', '5 Baths', '3 Baths', '2 Baths', '3 Baths', '5 Baths', '4 Baths', '5 Baths', '2 Baths', '3 Baths', '5 Baths', '4 Baths', '6 Baths', '2 Baths', '4 Baths', '7 Baths', '3 Baths', '4 Baths', '7 Baths', '3 Baths', '5 Baths']\n"
     ]
    }
   ],
   "source": [
    "print(baths)"
   ]
  },
  {
   "cell_type": "code",
   "execution_count": 14,
   "id": "578f0a9b",
   "metadata": {},
   "outputs": [
    {
     "name": "stdout",
     "output_type": "stream",
     "text": [
      "['1,670 SqFt', '1,904 SqFt', '3,531 SqFt', '1,700 SqFt', '4,034 SqFt', '3,277 SqFt', '2,027 SqFt', '3,757 SqFt', '4,194 SqFt', '2,823 SqFt', '4,935 SqFt', '2,111 SqFt', '3,236 SqFt', '3,624 SqFt', '4,176 SqFt', '4,759 SqFt', '3,092 SqFt', '4,507 SqFt', '3,213 SqFt', '2,752 SqFt', '3,550 SqFt', '5,844 SqFt', '3,041 SqFt', '3,922 SqFt']\n"
     ]
    }
   ],
   "source": [
    "sub2 = bed_bath_sq[2::3]\n",
    "print(sub2)"
   ]
  },
  {
   "cell_type": "code",
   "execution_count": 15,
   "id": "1b5036f7",
   "metadata": {},
   "outputs": [],
   "source": [
    "sqft = []\n",
    "for z in sub2:\n",
    "    sqft.append(z)"
   ]
  },
  {
   "cell_type": "code",
   "execution_count": 16,
   "id": "3d9e7e09",
   "metadata": {},
   "outputs": [],
   "source": [
    "frisco_buy = pd.DataFrame({\n",
    "    \"Address\": addresses,\n",
    "    \"Price\": price,\n",
    "    \"Number of Bedrooms\": beds,\n",
    "    \"Number of Bathrooms\": baths,\n",
    "    \"Square Feet\": sqft\n",
    "})"
   ]
  },
  {
   "cell_type": "code",
   "execution_count": 17,
   "id": "5a02f021",
   "metadata": {},
   "outputs": [
    {
     "name": "stdout",
     "output_type": "stream",
     "text": [
      "                                        Address  \\\n",
      "0           6836 Livorno Lane, Frisco, TX 75034   \n",
      "1       7981 Kings Ridge Road, Frisco, TX 75035   \n",
      "2       2016 Crowbridge Drive, Frisco, TX 75033   \n",
      "3       2233 Beachfront Drive, Frisco, TX 75036   \n",
      "4        5100 Lago Vista Lane, Frisco, TX 75034   \n",
      "5       15751 Fox Meadow Lane, Frisco, TX 75035   \n",
      "6       5709 Charleston Drive, Frisco, TX 75035   \n",
      "7    1888 Prairie Creek Trail, Frisco, TX 75033   \n",
      "8          6024 Norwood Drive, Frisco, TX 75034   \n",
      "9          12003 Lante Circle, Frisco, TX 75033   \n",
      "10           2236 Hague Drive, Frisco, TX 75033   \n",
      "11         10908 Jeffreys Bay, Frisco, TX 75035   \n",
      "12          8762 Fisher Drive, Frisco, TX 75033   \n",
      "13          12394 Privet Lane, Frisco, TX 75035   \n",
      "14     12210 Alexandria Drive, Frisco, TX 75035   \n",
      "15       8060 Splitbeard Road, Frisco, TX 75035   \n",
      "16  9831 Bradford Grove Drive, Frisco, TX 75035   \n",
      "17        1430 Leg Iron Drive, Frisco, TX 75036   \n",
      "18    15536 Crape Myrtle Road, Frisco, TX 75035   \n",
      "19      16542 Moss Haven Lane, Frisco, TX 75068   \n",
      "20      12109 Wind Surf Drive, Frisco, TX 75036   \n",
      "21      4285 Cedar Bluff Lane, Frisco, TX 75033   \n",
      "22     2294 Fox Crossing Lane, Frisco, TX 75036   \n",
      "23         12566 Loxley Drive, Frisco, TX 75035   \n",
      "\n",
      "                                         Price Number of Bedrooms  \\\n",
      "0     \\n                $450,000\\n                         2 Beds   \n",
      "1     \\n                $435,000\\n                         3 Beds   \n",
      "2     \\n                $725,000\\n                         4 Beds   \n",
      "3     \\n                $460,000\\n                         2 Beds   \n",
      "4   \\n                $1,299,000\\n                         5 Beds   \n",
      "5     \\n                $735,000\\n                         4 Beds   \n",
      "6     \\n                $550,000\\n                         4 Beds   \n",
      "7     \\n                $870,000\\n                         4 Beds   \n",
      "8   \\n                $1,425,000\\n                         5 Beds   \n",
      "9     \\n                $565,000\\n                         4 Beds   \n",
      "10    \\n                $925,000\\n                         5 Beds   \n",
      "11    \\n                $469,000\\n                         4 Beds   \n",
      "12    \\n                $624,900\\n                         4 Beds   \n",
      "13    \\n                $847,000\\n                         4 Beds   \n",
      "14    \\n                $699,000\\n                         5 Beds   \n",
      "15  \\n                $1,350,000\\n                         5 Beds   \n",
      "16    \\n                $585,000\\n                         3 Beds   \n",
      "17  \\n                $1,100,000\\n                         5 Beds   \n",
      "18    \\n                $825,000\\n                         5 Beds   \n",
      "19    \\n                $599,999\\n                         4 Beds   \n",
      "20    \\n                $680,000\\n                         4 Beds   \n",
      "21  \\n                $1,549,900\\n                         5 Beds   \n",
      "22    \\n                $575,000\\n                         3 Beds   \n",
      "23    \\n                $885,000\\n                         4 Beds   \n",
      "\n",
      "   Number of Bathrooms Square Feet  \n",
      "0              3 Baths  1,670 SqFt  \n",
      "1              2 Baths  1,904 SqFt  \n",
      "2              4 Baths  3,531 SqFt  \n",
      "3              2 Baths  1,700 SqFt  \n",
      "4              5 Baths  4,034 SqFt  \n",
      "5              3 Baths  3,277 SqFt  \n",
      "6              2 Baths  2,027 SqFt  \n",
      "7              3 Baths  3,757 SqFt  \n",
      "8              5 Baths  4,194 SqFt  \n",
      "9              4 Baths  2,823 SqFt  \n",
      "10             5 Baths  4,935 SqFt  \n",
      "11             2 Baths  2,111 SqFt  \n",
      "12             3 Baths  3,236 SqFt  \n",
      "13             5 Baths  3,624 SqFt  \n",
      "14             4 Baths  4,176 SqFt  \n",
      "15             6 Baths  4,759 SqFt  \n",
      "16             2 Baths  3,092 SqFt  \n",
      "17             4 Baths  4,507 SqFt  \n",
      "18             7 Baths  3,213 SqFt  \n",
      "19             3 Baths  2,752 SqFt  \n",
      "20             4 Baths  3,550 SqFt  \n",
      "21             7 Baths  5,844 SqFt  \n",
      "22             3 Baths  3,041 SqFt  \n",
      "23             5 Baths  3,922 SqFt  \n"
     ]
    }
   ],
   "source": [
    "print(frisco_buy)"
   ]
  },
  {
   "cell_type": "code",
   "execution_count": 18,
   "id": "a7f5d75f",
   "metadata": {},
   "outputs": [],
   "source": [
    "frisco_buy.to_csv(r'../Resources/frisco_buy.csv', index = False)"
   ]
  },
  {
   "cell_type": "code",
   "execution_count": null,
   "id": "75ba6a94",
   "metadata": {},
   "outputs": [],
   "source": []
  }
 ],
 "metadata": {
  "kernelspec": {
   "display_name": "Python 3 (ipykernel)",
   "language": "python",
   "name": "python3"
  },
  "language_info": {
   "codemirror_mode": {
    "name": "ipython",
    "version": 3
   },
   "file_extension": ".py",
   "mimetype": "text/x-python",
   "name": "python",
   "nbconvert_exporter": "python",
   "pygments_lexer": "ipython3",
   "version": "3.9.12"
  }
 },
 "nbformat": 4,
 "nbformat_minor": 5
}
