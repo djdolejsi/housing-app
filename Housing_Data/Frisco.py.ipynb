{
 "cells": [
  {
   "cell_type": "code",
   "execution_count": 1,
   "id": "6156b74e",
   "metadata": {},
   "outputs": [],
   "source": [
    "from splinter import Browser\n",
    "from bs4 import BeautifulSoup\n",
    "from webdriver_manager.chrome import ChromeDriverManager\n",
    "from geopy.geocoders import Nominatim\n",
    "geolocator = Nominatim(user_agent=\"friscobuy app\")\n",
    "import pandas as pd"
   ]
  },
  {
   "cell_type": "code",
   "execution_count": 2,
   "id": "9d2e7fef",
   "metadata": {},
   "outputs": [],
   "source": [
    "# Setup splinter\n",
    "executable_path = {'executable_path': ChromeDriverManager().install()}\n",
    "browser = Browser('chrome', **executable_path, headless=False)"
   ]
  },
  {
   "cell_type": "code",
   "execution_count": 3,
   "id": "efdf0b87",
   "metadata": {},
   "outputs": [],
   "source": [
    "html = browser.html\n",
    "soup = BeautifulSoup(html, 'html.parser')"
   ]
  },
  {
   "cell_type": "code",
   "execution_count": 4,
   "id": "1d9f6177",
   "metadata": {},
   "outputs": [],
   "source": [
    "# Stack Overflow URL to scrape\n",
    "frisco_url = 'https://www.mydallashomefinder.com/listing?utm_campaign=SNDTX%3A%20Dallas%20County%20-%20Zip%20Codes&utm_medium=cpc&pageSize=24&zoom=12&pageNum=2&utm_term=homes%20sale%2075220%20Dallas%20Texas&page=1&msclkid=9653aafd9dd215d71837c9942c264c70&utm_source=bing&utm_content=75220&key=Frisco%2C%20TX&keywordType=city&purchaseType-For-Sale-Rent=1'\n",
    "# Retrieve page with the requests module\n",
    "browser.visit(frisco_url)"
   ]
  },
  {
   "cell_type": "code",
   "execution_count": 5,
   "id": "4d6a687c",
   "metadata": {},
   "outputs": [],
   "source": [
    "for x in range (2):\n",
    "    #x = 1\n",
    "    html = browser.html\n",
    "    soup = BeautifulSoup(html, 'html.parser')\n",
    "    location  = soup.find_all('p', class_='house-address')\n",
    "    cost = soup.find_all('p', class_='house-price')\n",
    "    #list names \n",
    "    addresses = []\n",
    "    price = []\n",
    "    #append lists\n",
    "    for i, y in zip(location, cost):\n",
    "        addresses.append(i.text)\n",
    "        price.append(y.text)"
   ]
  },
  {
   "cell_type": "code",
   "execution_count": 6,
   "id": "bd7e8fa0",
   "metadata": {},
   "outputs": [
    {
     "name": "stdout",
     "output_type": "stream",
     "text": [
      "['3311 Harvest Glen Drive, Frisco, TX 75034', '12927 Ignatius Drive, Frisco, TX 75035', '5208 Buena Vista Drive, Frisco, TX 75034', '4251 Brittany Court, Frisco, TX 75034', '9805 Gristmill Lane, Frisco, TX 75035', '2233 Beachfront Drive, Frisco, TX 75036', '9322 Middle Ground Place, Frisco, TX 75035', '6405 Silver Stream Lane, Frisco, TX 75036', '3384 Thistle Road, Frisco, TX 75035', '9707 Derbyshire Drive, Frisco, TX 75035', '3473 Furrow Road, Frisco, TX 75035', '5167 Burkett Drive, Frisco, TX 75034', '15208 Christopher Lane, Frisco, TX 75035', '4801 Ray Roberts Drive, Frisco, TX 75036', '7851 Armor Lane, Frisco, TX 75035', '1383 Royal Oaks Drive, Frisco, TX 75036', '3409 Collingham Street, Frisco, TX 75036', '9712 Preston Vineyard Drive, Frisco, TX 75035', '9571 Knight Lane, Frisco, TX 75035', '4313 Coney Island Drive, Frisco, TX 75036', '768 W Talon Drive, Frisco, TX 75033', '9602 Enmore Lane, Frisco, TX 75035', '3312 Thistle Road, Frisco, TX 75035', '2982 La Vista Lane, Frisco, TX 75033']\n"
     ]
    }
   ],
   "source": [
    "print(addresses)"
   ]
  },
  {
   "cell_type": "code",
   "execution_count": 7,
   "id": "b49e8bd6",
   "metadata": {},
   "outputs": [
    {
     "name": "stdout",
     "output_type": "stream",
     "text": [
      "['\\n                $1,099,990\\n            ', '\\n                $1,289,000\\n            ', '\\n                $2,695,000\\n            ', '\\n                $1,375,000\\n            ', '\\n                $899,995\\n            ', '\\n                $460,000\\n            ', '\\n                $915,000\\n            ', '\\n                $1,525,000\\n            ', '\\n                $875,990\\n            ', '\\n                $799,990\\n            ', '\\n                $899,990\\n            ', '\\n                $2,200,000\\n            ', '\\n                $995,000\\n            ', '\\n                $529,000\\n            ', '\\n                $396,000\\n            ', '\\n                $452,000\\n            ', '\\n                $440,000\\n            ', '\\n                $423,000\\n            ', '\\n                $625,000\\n            ', '\\n                $414,000\\n            ', '\\n                $620,000\\n            ', '\\n                $525,000\\n            ', '\\n                $820,990\\n            ', '\\n                $565,000\\n            ']\n"
     ]
    }
   ],
   "source": [
    "print(price)"
   ]
  },
  {
   "cell_type": "code",
   "execution_count": 8,
   "id": "369a679c",
   "metadata": {},
   "outputs": [],
   "source": [
    "bbsq = soup.find_all('span', class_='vertical-line')\n",
    "bed_bath_sq = []\n",
    "for x in bbsq:\n",
    "    bed_bath_sq.append(x.text)"
   ]
  },
  {
   "cell_type": "code",
   "execution_count": 9,
   "id": "b892abb0",
   "metadata": {},
   "outputs": [
    {
     "name": "stdout",
     "output_type": "stream",
     "text": [
      "['4 Beds', '4 Baths', '4,527 SqFt', '5 Beds', '6 Baths', '4,617 SqFt', '5 Beds', '6 Baths', '6,954 SqFt', '5 Beds', '5 Baths', '5,163 SqFt', '4 Beds', '4 Baths', '3,799 SqFt', '2 Beds', '2 Baths', '1,700 SqFt', '5 Beds', '4 Baths', '2,842 SqFt', '5 Beds', '7 Baths', '4,894 SqFt', '5 Beds', '4 Baths', '3,381 SqFt', '4 Beds', '4 Baths', '2,820 SqFt', '5 Beds', '4 Baths', '3,799 SqFt', '5 Beds', '6 Baths', '6,168 SqFt', '4 Beds', '6 Baths', '4,220 SqFt', '4 Beds', '4 Baths', '2,423 SqFt', '3 Beds', '3 Baths', '1,736 SqFt', '3 Beds', '2 Baths', '1,876 SqFt', '3 Beds', '2 Baths', '1,862 SqFt', '3 Beds', '2 Baths', '1,685 SqFt', '4 Beds', '3 Baths', '2,503 SqFt', '4 Beds', '2 Baths', '1,777 SqFt', '4 Beds', '4 Baths', '3,469 SqFt', '4 Beds', '3 Baths', '2,655 SqFt', '5 Beds', '4 Baths', '3,149 SqFt', '4 Beds', '3 Baths', '2,830 SqFt']\n"
     ]
    }
   ],
   "source": [
    "print(bed_bath_sq)"
   ]
  },
  {
   "cell_type": "code",
   "execution_count": 10,
   "id": "f14e543f",
   "metadata": {},
   "outputs": [
    {
     "name": "stdout",
     "output_type": "stream",
     "text": [
      "['4 Beds', '5 Beds', '5 Beds', '5 Beds', '4 Beds', '2 Beds', '5 Beds', '5 Beds', '5 Beds', '4 Beds', '5 Beds', '5 Beds', '4 Beds', '4 Beds', '3 Beds', '3 Beds', '3 Beds', '3 Beds', '4 Beds', '4 Beds', '4 Beds', '4 Beds', '5 Beds', '4 Beds']\n"
     ]
    }
   ],
   "source": [
    "sub = bed_bath_sq[::3]\n",
    "print(sub)"
   ]
  },
  {
   "cell_type": "code",
   "execution_count": 11,
   "id": "eaae1637",
   "metadata": {},
   "outputs": [],
   "source": [
    "beds = []\n",
    "for x in sub:\n",
    "    beds.append(x)"
   ]
  },
  {
   "cell_type": "code",
   "execution_count": 12,
   "id": "e3a42385",
   "metadata": {},
   "outputs": [
    {
     "name": "stdout",
     "output_type": "stream",
     "text": [
      "['4 Baths', '6 Baths', '6 Baths', '5 Baths', '4 Baths', '2 Baths', '4 Baths', '7 Baths', '4 Baths', '4 Baths', '4 Baths', '6 Baths', '6 Baths', '4 Baths', '3 Baths', '2 Baths', '2 Baths', '2 Baths', '3 Baths', '2 Baths', '4 Baths', '3 Baths', '4 Baths', '3 Baths']\n"
     ]
    }
   ],
   "source": [
    "sub1 = bed_bath_sq[1::3]\n",
    "print(sub1)"
   ]
  },
  {
   "cell_type": "code",
   "execution_count": 13,
   "id": "ea8d17df",
   "metadata": {},
   "outputs": [],
   "source": [
    "baths = []\n",
    "for y in sub1:\n",
    "    baths.append(y)"
   ]
  },
  {
   "cell_type": "code",
   "execution_count": 14,
   "id": "1e602b16",
   "metadata": {},
   "outputs": [
    {
     "name": "stdout",
     "output_type": "stream",
     "text": [
      "['4 Baths', '6 Baths', '6 Baths', '5 Baths', '4 Baths', '2 Baths', '4 Baths', '7 Baths', '4 Baths', '4 Baths', '4 Baths', '6 Baths', '6 Baths', '4 Baths', '3 Baths', '2 Baths', '2 Baths', '2 Baths', '3 Baths', '2 Baths', '4 Baths', '3 Baths', '4 Baths', '3 Baths']\n"
     ]
    }
   ],
   "source": [
    "print(baths)"
   ]
  },
  {
   "cell_type": "code",
   "execution_count": 15,
   "id": "578f0a9b",
   "metadata": {},
   "outputs": [
    {
     "name": "stdout",
     "output_type": "stream",
     "text": [
      "['4,527 SqFt', '4,617 SqFt', '6,954 SqFt', '5,163 SqFt', '3,799 SqFt', '1,700 SqFt', '2,842 SqFt', '4,894 SqFt', '3,381 SqFt', '2,820 SqFt', '3,799 SqFt', '6,168 SqFt', '4,220 SqFt', '2,423 SqFt', '1,736 SqFt', '1,876 SqFt', '1,862 SqFt', '1,685 SqFt', '2,503 SqFt', '1,777 SqFt', '3,469 SqFt', '2,655 SqFt', '3,149 SqFt', '2,830 SqFt']\n"
     ]
    }
   ],
   "source": [
    "sub2 = bed_bath_sq[2::3]\n",
    "print(sub2)"
   ]
  },
  {
   "cell_type": "code",
   "execution_count": 16,
   "id": "1b5036f7",
   "metadata": {},
   "outputs": [],
   "source": [
    "sqft = []\n",
    "for z in sub2:\n",
    "    sqft.append(z)"
   ]
  },
  {
   "cell_type": "code",
   "execution_count": 17,
   "id": "3d9e7e09",
   "metadata": {},
   "outputs": [],
   "source": [
    "frisco_buy = pd.DataFrame({\n",
    "    \"Address\": addresses,\n",
    "    \"Price\": price,\n",
    "    \"Number of Bedrooms\": beds,\n",
    "    \"Number of Bathrooms\": baths,\n",
    "    \"Square Feet\": sqft\n",
    "})"
   ]
  },
  {
   "cell_type": "code",
   "execution_count": 18,
   "id": "befcf12c",
   "metadata": {},
   "outputs": [],
   "source": [
    "frisco_buy[\"loc\"] = frisco_buy[\"Address\"].apply(geolocator.geocode)\n",
    "frisco_buy[\"point\"]= frisco_buy[\"loc\"].apply(lambda loc: tuple(loc.point) if loc else None)"
   ]
  },
  {
   "cell_type": "code",
   "execution_count": 19,
   "id": "5a02f021",
   "metadata": {},
   "outputs": [
    {
     "name": "stdout",
     "output_type": "stream",
     "text": [
      "                                          Address  \\\n",
      "0       3311 Harvest Glen Drive, Frisco, TX 75034   \n",
      "1          12927 Ignatius Drive, Frisco, TX 75035   \n",
      "2        5208 Buena Vista Drive, Frisco, TX 75034   \n",
      "3           4251 Brittany Court, Frisco, TX 75034   \n",
      "4           9805 Gristmill Lane, Frisco, TX 75035   \n",
      "5         2233 Beachfront Drive, Frisco, TX 75036   \n",
      "6      9322 Middle Ground Place, Frisco, TX 75035   \n",
      "7       6405 Silver Stream Lane, Frisco, TX 75036   \n",
      "8             3384 Thistle Road, Frisco, TX 75035   \n",
      "9         9707 Derbyshire Drive, Frisco, TX 75035   \n",
      "10             3473 Furrow Road, Frisco, TX 75035   \n",
      "11           5167 Burkett Drive, Frisco, TX 75034   \n",
      "12       15208 Christopher Lane, Frisco, TX 75035   \n",
      "13       4801 Ray Roberts Drive, Frisco, TX 75036   \n",
      "14              7851 Armor Lane, Frisco, TX 75035   \n",
      "15        1383 Royal Oaks Drive, Frisco, TX 75036   \n",
      "16       3409 Collingham Street, Frisco, TX 75036   \n",
      "17  9712 Preston Vineyard Drive, Frisco, TX 75035   \n",
      "18             9571 Knight Lane, Frisco, TX 75035   \n",
      "19      4313 Coney Island Drive, Frisco, TX 75036   \n",
      "20            768 W Talon Drive, Frisco, TX 75033   \n",
      "21             9602 Enmore Lane, Frisco, TX 75035   \n",
      "22            3312 Thistle Road, Frisco, TX 75035   \n",
      "23           2982 La Vista Lane, Frisco, TX 75033   \n",
      "\n",
      "                                         Price Number of Bedrooms  \\\n",
      "0   \\n                $1,099,990\\n                         4 Beds   \n",
      "1   \\n                $1,289,000\\n                         5 Beds   \n",
      "2   \\n                $2,695,000\\n                         5 Beds   \n",
      "3   \\n                $1,375,000\\n                         5 Beds   \n",
      "4     \\n                $899,995\\n                         4 Beds   \n",
      "5     \\n                $460,000\\n                         2 Beds   \n",
      "6     \\n                $915,000\\n                         5 Beds   \n",
      "7   \\n                $1,525,000\\n                         5 Beds   \n",
      "8     \\n                $875,990\\n                         5 Beds   \n",
      "9     \\n                $799,990\\n                         4 Beds   \n",
      "10    \\n                $899,990\\n                         5 Beds   \n",
      "11  \\n                $2,200,000\\n                         5 Beds   \n",
      "12    \\n                $995,000\\n                         4 Beds   \n",
      "13    \\n                $529,000\\n                         4 Beds   \n",
      "14    \\n                $396,000\\n                         3 Beds   \n",
      "15    \\n                $452,000\\n                         3 Beds   \n",
      "16    \\n                $440,000\\n                         3 Beds   \n",
      "17    \\n                $423,000\\n                         3 Beds   \n",
      "18    \\n                $625,000\\n                         4 Beds   \n",
      "19    \\n                $414,000\\n                         4 Beds   \n",
      "20    \\n                $620,000\\n                         4 Beds   \n",
      "21    \\n                $525,000\\n                         4 Beds   \n",
      "22    \\n                $820,990\\n                         5 Beds   \n",
      "23    \\n                $565,000\\n                         4 Beds   \n",
      "\n",
      "   Number of Bathrooms Square Feet  \\\n",
      "0              4 Baths  4,527 SqFt   \n",
      "1              6 Baths  4,617 SqFt   \n",
      "2              6 Baths  6,954 SqFt   \n",
      "3              5 Baths  5,163 SqFt   \n",
      "4              4 Baths  3,799 SqFt   \n",
      "5              2 Baths  1,700 SqFt   \n",
      "6              4 Baths  2,842 SqFt   \n",
      "7              7 Baths  4,894 SqFt   \n",
      "8              4 Baths  3,381 SqFt   \n",
      "9              4 Baths  2,820 SqFt   \n",
      "10             4 Baths  3,799 SqFt   \n",
      "11             6 Baths  6,168 SqFt   \n",
      "12             6 Baths  4,220 SqFt   \n",
      "13             4 Baths  2,423 SqFt   \n",
      "14             3 Baths  1,736 SqFt   \n",
      "15             2 Baths  1,876 SqFt   \n",
      "16             2 Baths  1,862 SqFt   \n",
      "17             2 Baths  1,685 SqFt   \n",
      "18             3 Baths  2,503 SqFt   \n",
      "19             2 Baths  1,777 SqFt   \n",
      "20             4 Baths  3,469 SqFt   \n",
      "21             3 Baths  2,655 SqFt   \n",
      "22             4 Baths  3,149 SqFt   \n",
      "23             3 Baths  2,830 SqFt   \n",
      "\n",
      "                                                  loc  \\\n",
      "0   (3311, Harvest Glen Drive, Frisco, Denton Coun...   \n",
      "1   (12927, Ignatius Drive, Richwoods, Frisco, Col...   \n",
      "2   (5208, Buena Vista Drive, Starwood, Frisco, Co...   \n",
      "3   (4251, Brittany Court, The Lakes on Legacy Dri...   \n",
      "4   (9805, Gristmill Lane, Frisco, Collin County, ...   \n",
      "5   (2233, Beachfront Drive, Frisco, Denton County...   \n",
      "6                                                None   \n",
      "7   (6405, Silver Stream Lane, Sheridan at Phillip...   \n",
      "8   (3384, Thistle Road, Frisco, Collin County, Te...   \n",
      "9   (9707, Derbyshire Drive, Frisco, Collin County...   \n",
      "10  (3473, Furrow Road, Frisco, Collin County, Tex...   \n",
      "11  (5167, Burkett Drive, Starwood, Frisco, Collin...   \n",
      "12  (15208, Christopher Lane, Frisco, Collin Count...   \n",
      "13                                               None   \n",
      "14  (7851, Armor Lane, Frisco, Collin County, Texa...   \n",
      "15  (1383, Royal Oaks Drive, Watherford Falls, Fri...   \n",
      "16                                               None   \n",
      "17  (9712, Preston Vineyard Drive, Frisco, Collin ...   \n",
      "18  (9571, Knight Lane, Frisco, Collin County, Tex...   \n",
      "19                                               None   \n",
      "20  (768, West Talon Drive, Frisco, Denton County,...   \n",
      "21  (9602, Enmore Lane, Frisco, Collin County, Tex...   \n",
      "22  (3312, Thistle Road, Frisco, Collin County, Te...   \n",
      "23  (2982, La Vista Lane, The Fairways at the Trai...   \n",
      "\n",
      "                                            point  \n",
      "0    (33.10677676767676, -96.87379035353534, 0.0)  \n",
      "1   (33.136920552237555, -96.76437668426817, 0.0)  \n",
      "2            (33.1215934, -96.8364488849779, 0.0)  \n",
      "3            (33.114748, -96.84376432169812, 0.0)  \n",
      "4   (33.107354448639626, -96.79750303188291, 0.0)  \n",
      "5   (33.142186038443526, -96.91178127899498, 0.0)  \n",
      "6                                            None  \n",
      "7           (33.1320034, -96.88035493430098, 0.0)  \n",
      "8    (33.10632497784301, -96.79355301664954, 0.0)  \n",
      "9   (33.105772776456554, -96.79805676473147, 0.0)  \n",
      "10   (33.10673564567108, -96.79446899548633, 0.0)  \n",
      "11          (33.1214249, -96.83829024454015, 0.0)  \n",
      "12   (33.17047203406403, -96.74285804620702, 0.0)  \n",
      "13                                           None  \n",
      "14          (33.143946400000004, -96.785438, 0.0)  \n",
      "15   (33.15172321738617, -96.88027352178042, 0.0)  \n",
      "16                                           None  \n",
      "17                (33.1356625, -96.79781555, 0.0)  \n",
      "18   (33.19176364525341, -96.79822100128361, 0.0)  \n",
      "19                                           None  \n",
      "20  (33.185899454545456, -96.88463775757576, 0.0)  \n",
      "21         (33.112331999999995, -96.7986659, 0.0)  \n",
      "22  (33.105692825332255, -96.79312508912913, 0.0)  \n",
      "23                  (33.171818, -96.8643897, 0.0)  \n"
     ]
    }
   ],
   "source": [
    "print(frisco_buy)"
   ]
  },
  {
   "cell_type": "code",
   "execution_count": 20,
   "id": "a7f5d75f",
   "metadata": {},
   "outputs": [],
   "source": [
    "frisco_buy.to_csv(r'../Resources/frisco_buy.csv', index = False)"
   ]
  },
  {
   "cell_type": "code",
   "execution_count": null,
   "id": "75ba6a94",
   "metadata": {},
   "outputs": [],
   "source": []
  }
 ],
 "metadata": {
  "kernelspec": {
   "display_name": "Python 3 (ipykernel)",
   "language": "python",
   "name": "python3"
  },
  "language_info": {
   "codemirror_mode": {
    "name": "ipython",
    "version": 3
   },
   "file_extension": ".py",
   "mimetype": "text/x-python",
   "name": "python",
   "nbconvert_exporter": "python",
   "pygments_lexer": "ipython3",
   "version": "3.9.12"
  }
 },
 "nbformat": 4,
 "nbformat_minor": 5
}
