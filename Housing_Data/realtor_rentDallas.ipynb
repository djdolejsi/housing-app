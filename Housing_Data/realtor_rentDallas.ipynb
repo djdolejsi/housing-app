{
 "cells": [
  {
   "cell_type": "code",
   "execution_count": 20,
   "id": "88af4014",
   "metadata": {},
   "outputs": [],
   "source": [
    "from splinter import Browser\n",
    "from bs4 import BeautifulSoup\n",
    "from webdriver_manager.chrome import ChromeDriverManager\n",
    "import os \n",
    "import time\n",
    "import pandas as pd"
   ]
  },
  {
   "cell_type": "code",
   "execution_count": 21,
   "id": "087f5093",
   "metadata": {},
   "outputs": [],
   "source": [
    "executable_path = {'executable_path': ChromeDriverManager().install()}\n",
    "browser = Browser('chrome', **executable_path, headless=False)"
   ]
  },
  {
   "cell_type": "code",
   "execution_count": 22,
   "id": "eb469637",
   "metadata": {},
   "outputs": [],
   "source": [
    "url = 'https://www.realtor.com/apartments/Dallas_TX'\n",
    "\n",
    "browser.visit(url)"
   ]
  },
  {
   "cell_type": "code",
   "execution_count": 23,
   "id": "82fc2bb3",
   "metadata": {},
   "outputs": [],
   "source": [
    "html = browser.html\n",
    "soup = BeautifulSoup(html, 'html.parser')"
   ]
  },
  {
   "cell_type": "code",
   "execution_count": 24,
   "id": "2409c005",
   "metadata": {},
   "outputs": [],
   "source": [
    "property_cards = soup.find_all('div', class_='CardContent__StyledCardContent-rui__sc-7ptz1z-0 echMdB card-content')"
   ]
  },
  {
   "cell_type": "code",
   "execution_count": 25,
   "id": "3e76aafe",
   "metadata": {},
   "outputs": [
    {
     "name": "stdout",
     "output_type": "stream",
     "text": [
      "Not available\n"
     ]
    }
   ],
   "source": [
    "street_addresses = []\n",
    "city_zips = []\n",
    "list_prices = []\n",
    "property_types = []\n",
    "bedrooms = []\n",
    "baths = []\n",
    "for card in property_cards: \n",
    "  \n",
    "        street_address = card.find('div', attrs={'data-testid':'card-address-1','class':'truncate-line'})\n",
    "        street_addresses.append(street_address.text)\n",
    "        \n",
    "        city_zip = card.find('div', attrs={'data-testid':'card-address-2','class':'truncate-line'})\n",
    "        city_zips.append(city_zip.text)\n",
    "\n",
    "        prop_type = card.find('div', class_='styles__StyledStatusBadge-rui__hewb9n-0 eiNeel')\n",
    "        property_types.append(prop_type.text)\n",
    "    \n",
    "        beds = card.find('li', class_='styles__StyledPropertyBedMeta-rui__jbdr1y-0 gUHOjr')\n",
    "        bedrooms.append(beds.text)\n",
    "        try: \n",
    "            bath = card.find('li', class_='styles__StyledPropertyBathMeta-rui__sc-6egb6z-0 dqxXcq')\n",
    "            baths.append(bath.text)\n",
    "    \n",
    "            price = card.find('div', class_='Price__Component-rui__x3geed-0 ibnFqH card-price')\n",
    "            list_prices.append(price.text)\n",
    "        except AttributeError as e:\n",
    "                print('Not available')"
   ]
  },
  {
   "cell_type": "code",
   "execution_count": 26,
   "id": "4b457063",
   "metadata": {},
   "outputs": [
    {
     "name": "stdout",
     "output_type": "stream",
     "text": [
      "['736 W 7th St Apt 4', '2936 Sundial Dr-2936 Sundial Dr', '7421 Frankford Rd', '1955 Market Center Blvd', '11330 Amanda Ln', '1A Unit Bedroom', '3592 Lampasas 1B Ave Unit Bedroom', '3427 Cedar Springs Rd Unit 7207-2', '3592 Lampasas 1D Ave Unit Bedroom', '4822 Baldwin St', '3627 Reese Dr', '10248 Regal Oaks Bldg Dr E Ste A', '17812 River Chase Dr', '7475 Brentcove Cir', '9696 Walnut St Apt 1902', '2715 Southland St', '4040 Avondale Ave Apt 206', '11334 Park Central Pl Apt C', '9696 Walnut St Apt 1512', '9696 Walnut St Apt 1503', '9696 Walnut St Apt 1506', '2851 Frost Ave', '6140 Rincon Way', '8775 Halstead Ct', '18081 Midway Rd', '18331 Roehampton Dr', '14041 Preston Rd', '9877 Brockbank Dr', '609 N Lancaster Ave', '10570 Stone Canyon Rd', '800 Ross Ave', '9191 Garland Rd', '3663 Cedar Springs Rd', '5140 Willis Ave', '12800 Jupiter Rd', '18800 Lina St', '5704 Spring Valley Rd', '13030 Audelia Rd', '3750 Rosemeade Pkwy', '5940 Forest Park Rd', '1500 N Fitzhugh Ave', '4055 Frankford Rd']\n"
     ]
    }
   ],
   "source": [
    "print(street_addresses)"
   ]
  },
  {
   "cell_type": "code",
   "execution_count": 27,
   "id": "53e1195f",
   "metadata": {},
   "outputs": [
    {
     "name": "stdout",
     "output_type": "stream",
     "text": [
      "['Dallas, TX 75208', 'Dallas, TX 75229', 'Dallas, TX 75252', 'Dallas, TX 75207', 'Dallas, TX 75238', 'Dallas, TX 75233', 'Dallas, TX 75233', 'Dallas, TX 75219', 'Dallas, TX 75233', 'Dallas, TX 75210', 'Dallas, TX 75210', 'Dallas, TX 75230', 'Dallas, TX 75287', 'Dallas, TX 75214', 'Dallas, TX 75243', 'Dallas, TX 75215', 'Dallas, TX 75219', 'Dallas, TX 75230', 'Dallas, TX 75243', 'Dallas, TX 75243', 'Dallas, TX 75243', 'Dallas, TX 75215', 'Dallas, TX 75214', 'Dallas, TX 75243', 'Dallas, TX 75287', 'Dallas, TX 75252', 'Dallas, TX 75254', 'Dallas, TX 75220', 'Dallas, TX 75203', 'Dallas, TX 75230', 'Dallas, TX 75202', 'Dallas, TX 75218', 'Dallas, TX 75219', 'Dallas, TX 75206', 'Dallas, TX 75238', 'Dallas, TX 75287', 'Dallas, TX 75254', 'Dallas, TX 75243', 'Dallas, TX 75287', 'Dallas, TX 75235', 'Dallas, TX 75204', 'Dallas, TX 75287']\n"
     ]
    }
   ],
   "source": [
    "print(city_zips)"
   ]
  },
  {
   "cell_type": "code",
   "execution_count": 28,
   "id": "2f2f754c",
   "metadata": {},
   "outputs": [
    {
     "name": "stdout",
     "output_type": "stream",
     "text": [
      "['$900', '$1,257 - $2,740', '$1,413 - $2,272', '$865 - $1,364', '$550', '$575', '$2,340', '$600', '$950', '$950', '$995', '$3,200', '$2,300', '$895', '$1,100', '$2,000', '$1,700', '$895', '$895', '$895', '$950', '$2,350', '$2,750', '$1,165 - $1,576', '$1,231 - $1,855', '$1,095 - $1,501', '$1,158 - $1,254', '$1,193 - $1,828', '$995 - $1,195', '$1,615 - $2,105', '$1,455 - $2,215', '$1,725 - $2,605', '$1,673 - $2,779', '$982 - $1,548', '$1,096 - $1,655', '$1,084 - $1,454', '$1,215', '$1,015 - $1,355', '$1,460 - $2,395', '$1,270 - $1,657', '$1,233 - $1,587']\n"
     ]
    }
   ],
   "source": [
    "print(list_prices)"
   ]
  },
  {
   "cell_type": "code",
   "execution_count": 29,
   "id": "173976f1",
   "metadata": {},
   "outputs": [
    {
     "name": "stdout",
     "output_type": "stream",
     "text": [
      "['For Rent - House', 'For Rent - House', 'For Rent - Other', 'For Rent - Other', 'For Rent - Other', 'For Rent - House', 'For Rent - House', 'For Rent - Apartment', 'For Rent - House', 'For Rent - House', 'For Rent - House', 'For Rent - House', 'For Rent - House', 'For Rent - House', 'For Rent - House', 'For Rent - House', 'For Rent - House', 'For Rent - House', 'For Rent - House', 'For Rent - House', 'For Rent - House', 'For Rent - House', 'For Rent - House', 'For Rent - House', 'For Rent - Other', 'For Rent - Other', 'For Rent - Other', 'For Rent - Other', 'For Rent - Other', 'For Rent - Other', 'For Rent - Other', 'For Rent - Other', 'For Rent - Other', 'For Rent - Other', 'For Rent - Other', 'For Rent - Other', 'For Rent - Apartment', 'For Rent - Other', 'For Rent - Other', 'For Rent - Other', 'For Rent - Other', 'For Rent - Other']\n"
     ]
    }
   ],
   "source": [
    "print(property_types)"
   ]
  },
  {
   "cell_type": "code",
   "execution_count": 30,
   "id": "09451633",
   "metadata": {},
   "outputs": [
    {
     "name": "stdout",
     "output_type": "stream",
     "text": [
      "['Studio', 'Studio', '1 - 3bed', '1 - 2bed', '1 - 2bed', '1bed', '1bed', '2bed', '1bed', '2bed', '2bed', '1bed', '5bed', '2bed', '1bed', '3bed', '2bed', '2bed', '1bed', '1bed', '1bed', '2bed', '2bed', '3bed', '1 - 2bed', '1 - 2bed', '1 - 2bed', '1 - 3bed', '1 - 2bed', '1 - 2bed', '1 - 2bed', '1 - 2bed', 'Studio - 2bed', '1 - 2bed', '1 - 2bed', '1 - 2bed', 'Studio - 3bed', '1bed', '1 - 2bed', 'Studio - 2bed', '1bed', '1 - 2bed']\n"
     ]
    }
   ],
   "source": [
    "print(bedrooms)"
   ]
  },
  {
   "cell_type": "code",
   "execution_count": 31,
   "id": "1d7f8abb",
   "metadata": {},
   "outputs": [
    {
     "name": "stdout",
     "output_type": "stream",
     "text": [
      "['1bath', '1 - 2bath', '1 - 2bath', '1 - 2bath', '1bath', '1bath', '2bath', '1bath', '1bath', '1bath', '1bath', '3.5+bath', '2bath', '1bath', '2bath', '2.5bath', '2bath', '1bath', '1bath', '1bath', '1bath', '2bath', '3.5bath', '1 - 2bath', '1 - 2bath', '1 - 2bath', '1 - 2bath', '1bath', '1 - 2bath', '1 - 2bath', '1 - 2bath', '1 - 2bath', '1 - 2bath', '1 - 2bath', '1 - 2bath', '1 - 2bath', '1bath', '1 - 2bath', '1 - 2bath', '1bath', '1 - 2bath']\n"
     ]
    }
   ],
   "source": [
    "print(baths)"
   ]
  },
  {
   "cell_type": "code",
   "execution_count": 38,
   "id": "e6b2c57c",
   "metadata": {},
   "outputs": [
    {
     "data": {
      "text/plain": [
       "41"
      ]
     },
     "execution_count": 38,
     "metadata": {},
     "output_type": "execute_result"
    }
   ],
   "source": [
    "len(baths)"
   ]
  },
  {
   "cell_type": "code",
   "execution_count": 39,
   "id": "9b37126b",
   "metadata": {},
   "outputs": [
    {
     "name": "stdout",
     "output_type": "stream",
     "text": [
      "2936 Sundial Dr-2936 Sundial Dr\n"
     ]
    }
   ],
   "source": [
    "print(street_addresses.pop(1))"
   ]
  },
  {
   "cell_type": "code",
   "execution_count": 40,
   "id": "b67363cc",
   "metadata": {},
   "outputs": [
    {
     "name": "stdout",
     "output_type": "stream",
     "text": [
      "['736 W 7th St Apt 4', '7421 Frankford Rd', '1955 Market Center Blvd', '11330 Amanda Ln', '1A Unit Bedroom', '3592 Lampasas 1B Ave Unit Bedroom', '3427 Cedar Springs Rd Unit 7207-2', '3592 Lampasas 1D Ave Unit Bedroom', '4822 Baldwin St', '3627 Reese Dr', '10248 Regal Oaks Bldg Dr E Ste A', '17812 River Chase Dr', '7475 Brentcove Cir', '9696 Walnut St Apt 1902', '2715 Southland St', '4040 Avondale Ave Apt 206', '11334 Park Central Pl Apt C', '9696 Walnut St Apt 1512', '9696 Walnut St Apt 1503', '9696 Walnut St Apt 1506', '2851 Frost Ave', '6140 Rincon Way', '8775 Halstead Ct', '18081 Midway Rd', '18331 Roehampton Dr', '14041 Preston Rd', '9877 Brockbank Dr', '609 N Lancaster Ave', '10570 Stone Canyon Rd', '800 Ross Ave', '9191 Garland Rd', '3663 Cedar Springs Rd', '5140 Willis Ave', '12800 Jupiter Rd', '18800 Lina St', '5704 Spring Valley Rd', '13030 Audelia Rd', '3750 Rosemeade Pkwy', '5940 Forest Park Rd', '1500 N Fitzhugh Ave', '4055 Frankford Rd']\n"
     ]
    }
   ],
   "source": [
    "print(street_addresses)"
   ]
  },
  {
   "cell_type": "code",
   "execution_count": 41,
   "id": "1c6d511d",
   "metadata": {},
   "outputs": [
    {
     "name": "stdout",
     "output_type": "stream",
     "text": [
      "Dallas, TX 75229\n"
     ]
    }
   ],
   "source": [
    "print(city_zips.pop(1))"
   ]
  },
  {
   "cell_type": "code",
   "execution_count": 42,
   "id": "f308d627",
   "metadata": {},
   "outputs": [
    {
     "name": "stdout",
     "output_type": "stream",
     "text": [
      "['Dallas, TX 75208', 'Dallas, TX 75252', 'Dallas, TX 75207', 'Dallas, TX 75238', 'Dallas, TX 75233', 'Dallas, TX 75233', 'Dallas, TX 75219', 'Dallas, TX 75233', 'Dallas, TX 75210', 'Dallas, TX 75210', 'Dallas, TX 75230', 'Dallas, TX 75287', 'Dallas, TX 75214', 'Dallas, TX 75243', 'Dallas, TX 75215', 'Dallas, TX 75219', 'Dallas, TX 75230', 'Dallas, TX 75243', 'Dallas, TX 75243', 'Dallas, TX 75243', 'Dallas, TX 75215', 'Dallas, TX 75214', 'Dallas, TX 75243', 'Dallas, TX 75287', 'Dallas, TX 75252', 'Dallas, TX 75254', 'Dallas, TX 75220', 'Dallas, TX 75203', 'Dallas, TX 75230', 'Dallas, TX 75202', 'Dallas, TX 75218', 'Dallas, TX 75219', 'Dallas, TX 75206', 'Dallas, TX 75238', 'Dallas, TX 75287', 'Dallas, TX 75254', 'Dallas, TX 75243', 'Dallas, TX 75287', 'Dallas, TX 75235', 'Dallas, TX 75204', 'Dallas, TX 75287']\n"
     ]
    }
   ],
   "source": [
    "print(city_zips)"
   ]
  },
  {
   "cell_type": "code",
   "execution_count": 45,
   "id": "b0ac63e4",
   "metadata": {},
   "outputs": [
    {
     "name": "stdout",
     "output_type": "stream",
     "text": [
      "For Rent - House\n"
     ]
    }
   ],
   "source": [
    "print(property_types.pop(1))"
   ]
  },
  {
   "cell_type": "code",
   "execution_count": 46,
   "id": "da07d6c2",
   "metadata": {},
   "outputs": [
    {
     "name": "stdout",
     "output_type": "stream",
     "text": [
      "['For Rent - House', 'For Rent - Other', 'For Rent - Other', 'For Rent - Other', 'For Rent - House', 'For Rent - House', 'For Rent - Apartment', 'For Rent - House', 'For Rent - House', 'For Rent - House', 'For Rent - House', 'For Rent - House', 'For Rent - House', 'For Rent - House', 'For Rent - House', 'For Rent - House', 'For Rent - House', 'For Rent - House', 'For Rent - House', 'For Rent - House', 'For Rent - House', 'For Rent - House', 'For Rent - House', 'For Rent - Other', 'For Rent - Other', 'For Rent - Other', 'For Rent - Other', 'For Rent - Other', 'For Rent - Other', 'For Rent - Other', 'For Rent - Other', 'For Rent - Other', 'For Rent - Other', 'For Rent - Other', 'For Rent - Other', 'For Rent - Apartment', 'For Rent - Other', 'For Rent - Other', 'For Rent - Other', 'For Rent - Other', 'For Rent - Other']\n"
     ]
    }
   ],
   "source": [
    "print(property_types)"
   ]
  },
  {
   "cell_type": "code",
   "execution_count": 47,
   "id": "f266504d",
   "metadata": {},
   "outputs": [
    {
     "name": "stdout",
     "output_type": "stream",
     "text": [
      "Studio\n"
     ]
    }
   ],
   "source": [
    "print(bedrooms.pop(1))"
   ]
  },
  {
   "cell_type": "code",
   "execution_count": 48,
   "id": "cd9a3a36",
   "metadata": {},
   "outputs": [
    {
     "name": "stdout",
     "output_type": "stream",
     "text": [
      "['Studio', '1 - 3bed', '1 - 2bed', '1 - 2bed', '1bed', '1bed', '2bed', '1bed', '2bed', '2bed', '1bed', '5bed', '2bed', '1bed', '3bed', '2bed', '2bed', '1bed', '1bed', '1bed', '2bed', '2bed', '3bed', '1 - 2bed', '1 - 2bed', '1 - 2bed', '1 - 3bed', '1 - 2bed', '1 - 2bed', '1 - 2bed', '1 - 2bed', 'Studio - 2bed', '1 - 2bed', '1 - 2bed', '1 - 2bed', 'Studio - 3bed', '1bed', '1 - 2bed', 'Studio - 2bed', '1bed', '1 - 2bed']\n"
     ]
    }
   ],
   "source": [
    "print(bedrooms)"
   ]
  },
  {
   "cell_type": "code",
   "execution_count": 49,
   "id": "67664537",
   "metadata": {},
   "outputs": [],
   "source": [
    "Dallas_rent = pd.DataFrame({\n",
    "    \"Street Address\": street_addresses,\n",
    "    \"CSZ\": city_zips,\n",
    "    \"Price\": list_prices,\n",
    "    \"Property Type\": property_types,\n",
    "    \"Number of Bedrooms\": bedrooms,\n",
    "    \"Number of Bathrooms\": baths\n",
    "})"
   ]
  },
  {
   "cell_type": "code",
   "execution_count": 50,
   "id": "fa4c20b1",
   "metadata": {},
   "outputs": [],
   "source": [
    "Dallas_rent.to_csv(r'../Resources/dallas_rent.csv', index = False)"
   ]
  },
  {
   "cell_type": "code",
   "execution_count": null,
   "id": "802bcc06",
   "metadata": {},
   "outputs": [],
   "source": []
  }
 ],
 "metadata": {
  "kernelspec": {
   "display_name": "Python 3 (ipykernel)",
   "language": "python",
   "name": "python3"
  },
  "language_info": {
   "codemirror_mode": {
    "name": "ipython",
    "version": 3
   },
   "file_extension": ".py",
   "mimetype": "text/x-python",
   "name": "python",
   "nbconvert_exporter": "python",
   "pygments_lexer": "ipython3",
   "version": "3.9.12"
  }
 },
 "nbformat": 4,
 "nbformat_minor": 5
}
