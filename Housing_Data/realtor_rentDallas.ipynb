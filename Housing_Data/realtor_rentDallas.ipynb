{
 "cells": [
  {
   "cell_type": "code",
   "execution_count": 1,
   "id": "88af4014",
   "metadata": {},
   "outputs": [],
   "source": [
    "from splinter import Browser\n",
    "from bs4 import BeautifulSoup\n",
    "from webdriver_manager.chrome import ChromeDriverManager\n",
    "import os \n",
    "import time "
   ]
  },
  {
   "cell_type": "code",
   "execution_count": 2,
   "id": "087f5093",
   "metadata": {},
   "outputs": [],
   "source": [
    "executable_path = {'executable_path': ChromeDriverManager().install()}\n",
    "browser = Browser('chrome', **executable_path, headless=False)"
   ]
  },
  {
   "cell_type": "code",
   "execution_count": 3,
   "id": "eb469637",
   "metadata": {},
   "outputs": [],
   "source": [
    "url = 'https://www.realtor.com/apartments/Dallas_TX'\n",
    "\n",
    "browser.visit(url)"
   ]
  },
  {
   "cell_type": "code",
   "execution_count": 4,
   "id": "82fc2bb3",
   "metadata": {},
   "outputs": [],
   "source": [
    "html = browser.html\n",
    "soup = BeautifulSoup(html, 'html.parser')"
   ]
  },
  {
   "cell_type": "code",
   "execution_count": 5,
   "id": "2409c005",
   "metadata": {},
   "outputs": [],
   "source": [
    "property_cards = soup.find_all('div', class_='CardContent__StyledCardContent-rui__sc-7ptz1z-0 echMdB card-content')"
   ]
  },
  {
   "cell_type": "code",
   "execution_count": 19,
   "id": "3e76aafe",
   "metadata": {},
   "outputs": [
    {
     "name": "stdout",
     "output_type": "stream",
     "text": [
      "Not available\n",
      "Not available\n"
     ]
    }
   ],
   "source": [
    "addresses = []\n",
    "list_prices = []\n",
    "property_types = []\n",
    "bedrooms = []\n",
    "baths = []\n",
    "for card in property_cards: \n",
    "  \n",
    "        address = card.find('div', class_='content-col-left')\n",
    "        addresses.append(address.text)\n",
    "\n",
    "        prop_type = card.find('div', class_='styles__StyledStatusBadge-rui__hewb9n-0 eiNeel')\n",
    "        property_types.append(prop_type.text)\n",
    "    \n",
    "        beds = card.find('li', class_='styles__StyledPropertyBedMeta-rui__jbdr1y-0 gUHOjr')\n",
    "        bedrooms.append(beds.text)\n",
    "        try: \n",
    "            bath = card.find('li', class_='styles__StyledPropertyBathMeta-rui__sc-6egb6z-0 dqxXcq')\n",
    "            baths.append(bath.text)\n",
    "    \n",
    "            price = card.find('div', class_='Price__Component-rui__x3geed-0 ibnFqH card-price')\n",
    "            list_prices.append(price.text)\n",
    "        except AttributeError as e:\n",
    "            print('Not available')"
   ]
  },
  {
   "cell_type": "code",
   "execution_count": 7,
   "id": "4b457063",
   "metadata": {},
   "outputs": [
    {
     "name": "stdout",
     "output_type": "stream",
     "text": [
      "['736 W 7th St Apt 4Dallas, TX 75208', '2936 Sundial Dr-2936 Sundial DrDallas, TX 75229', '2423 N Prairie AveDallas, TX 75204', '5827 E University Blvd Apt BDallas, TX 75206', '4929 Reiger AveDallas, TX 75214', '1A Unit BedroomDallas, TX 75233', '3592 Lampasas 1B Ave Unit BedroomDallas, TX 75233', '3592 Lampasas 1D Ave Unit BedroomDallas, TX 75233', '4822 Baldwin StDallas, TX 75210', '3627 Reese DrDallas, TX 75210', '10248 Regal Oaks Bldg Dr E Ste ADallas, TX 75230', '17812 River Chase DrDallas, TX 75287', '7475 Brentcove CirDallas, TX 75214', '9696 Walnut St Apt 1902Dallas, TX 75243', '2715 Southland StDallas, TX 75215', '4040 Avondale Ave Apt 206Dallas, TX 75219', '11334 Park Central Pl Apt CDallas, TX 75230', '9696 Walnut St Apt 1503Dallas, TX 75243', '9696 Walnut St Apt 1506Dallas, TX 75243', '9696 Walnut St Apt 1512Dallas, TX 75243', '2417 Hondo AveDallas, TX 75219', '2851 Frost AveDallas, TX 75215', '6140 Rincon WayDallas, TX 75214', '8775 Halstead CtDallas, TX 75243', '2101 Taylor StDallas, TX 75201', '2425 Victory AveDallas, TX 75219', '13270 Noel RdDallas, TX 75240', '10501 Steppington DrDallas, TX 75230', '1210 Botham Jean BlvdDallas, TX 75215', '5902 Preston Oaks RdDallas, TX 75254', '1955 Market Center BlvdDallas, TX 75207', '2600 Highland RdDallas, TX 75228', '5801-5803 Preston Oaks RdDallas, TX 75254', '4300 Horizon North Pkwy Apt 731Dallas, TX 75287', '18800 Lina 942928 St Unit 1702Dallas, TX 75287', '4300 Horizon North Pkwy Apt 522Dallas, TX 75287', '12250 Abrams RdDallas, TX 75243', '4300 Horizon North Pkwy Apt 736Dallas, TX 75287', '3637 Trinity Mills RdDallas, TX 75287', '7272 Marvin D Love FwyDallas, TX 75237', '4200 Horizon North PkwyDallas, TX 75287', '14222 Dallas PkwyDallas, TX 75254']\n"
     ]
    }
   ],
   "source": [
    "print(addresses)"
   ]
  },
  {
   "cell_type": "code",
   "execution_count": 8,
   "id": "2f2f754c",
   "metadata": {},
   "outputs": [
    {
     "name": "stdout",
     "output_type": "stream",
     "text": [
      "['$900', '$2,345', '$2,000', '$2,600', '$950', '$550', '$575', '$600', '$950', '$950', '$995', '$3,200', '$2,300', '$895', '$1,100', '$2,000', '$1,700', '$895', '$895', '$895', '$1,200', '$950', '$2,350', '$2,750', '$1,316 - $3,106', '$1,735 - $2,540', 'Contact For Price', '$1,065 - $1,605', '$1,120 - $1,960', '$1,133 - $1,635', '$1,436 - $2,272', '$920 - $1,170', '$935 - $1,809', '$2,039', '$1,973', '$1,749', '$1,080 - $1,230', '$1,759', '$1,232 - $1,820', '$930 - $1,495', '$1,361 - $1,838', '$1,211 - $1,806']\n"
     ]
    }
   ],
   "source": [
    "print(list_prices)"
   ]
  },
  {
   "cell_type": "code",
   "execution_count": 10,
   "id": "173976f1",
   "metadata": {},
   "outputs": [
    {
     "name": "stdout",
     "output_type": "stream",
     "text": [
      "['For Rent - House', 'For Rent - House', 'For Rent - House', 'For Rent - Condo', 'For Rent - Apartment', 'For Rent - House', 'For Rent - House', 'For Rent - House', 'For Rent - House', 'For Rent - House', 'For Rent - House', 'For Rent - House', 'For Rent - House', 'For Rent - House', 'For Rent - House', 'For Rent - House', 'For Rent - House', 'For Rent - House', 'For Rent - House', 'For Rent - House', 'For Rent - House', 'For Rent - House', 'For Rent - House', 'For Rent - House', 'For Rent - Apartment', 'For Rent - Apartment', 'For Rent - Apartment', 'For Rent - Apartment', 'For Rent - Apartment', 'For Rent - Apartment', 'For Rent - Apartment', 'For Rent - Apartment', 'For Rent - Apartment', 'For Rent - Apartment', 'For Rent - Apartment', 'For Rent - Apartment', 'For Rent - Apartment', 'For Rent - Apartment', 'For Rent - Apartment', 'For Rent - Apartment', 'For Rent - Apartment', 'For Rent - Apartment']\n"
     ]
    }
   ],
   "source": [
    "print(property_types)"
   ]
  },
  {
   "cell_type": "code",
   "execution_count": 14,
   "id": "09451633",
   "metadata": {},
   "outputs": [
    {
     "name": "stdout",
     "output_type": "stream",
     "text": [
      "['Studio', 'Studio', '3bed', '3bed', '1bed', '1bed', '1bed', '1bed', '2bed', '2bed', '1bed', '5bed', '2bed', '1bed', '3bed', '2bed', '2bed', '1bed', '1bed', '1bed', '1bed', '2bed', '2bed', '3bed', 'Studio - 2bed', 'Studio - 2bed', 'Studio', '1 - 2bed', 'Studio - 2bed', '1 - 2bed', '1 - 2bed', '1 - 2bed', '1 - 2bed', '1bed', '1bed', '1bed', '1 - 2bed', '1bed', '1 - 2bed', '1 - 3bed', '1 - 2bed', '1 - 2bed']\n"
     ]
    }
   ],
   "source": [
    "print(bedrooms)"
   ]
  },
  {
   "cell_type": "code",
   "execution_count": 21,
   "id": "1d7f8abb",
   "metadata": {},
   "outputs": [
    {
     "name": "stdout",
     "output_type": "stream",
     "text": [
      "['1bath', '2bath', '2bath', '1bath', '1bath', '1bath', '1bath', '1bath', '1bath', '1bath', '3.5+bath', '2bath', '1bath', '2bath', '2.5bath', '2bath', '1bath', '1bath', '1bath', '1bath', '1bath', '2bath', '3.5bath', '1 - 2bath', '1 - 2bath', '1 - 2bath', '1 - 2bath', '1 - 2bath', '1 - 2bath', '1 - 2bath', '1 - 2bath', '1bath', '1bath', '1bath', '1bath', '1bath', '1 - 2bath', '1 - 2bath', '1 - 2bath', '1 - 2bath']\n"
     ]
    }
   ],
   "source": [
    "print(baths)"
   ]
  },
  {
   "cell_type": "code",
   "execution_count": null,
   "id": "e6b2c57c",
   "metadata": {},
   "outputs": [],
   "source": []
  }
 ],
 "metadata": {
  "kernelspec": {
   "display_name": "Python 3 (ipykernel)",
   "language": "python",
   "name": "python3"
  },
  "language_info": {
   "codemirror_mode": {
    "name": "ipython",
    "version": 3
   },
   "file_extension": ".py",
   "mimetype": "text/x-python",
   "name": "python",
   "nbconvert_exporter": "python",
   "pygments_lexer": "ipython3",
   "version": "3.9.12"
  }
 },
 "nbformat": 4,
 "nbformat_minor": 5
}
